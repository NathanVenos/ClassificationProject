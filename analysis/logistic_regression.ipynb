{
 "cells": [
  {
   "cell_type": "markdown",
   "metadata": {},
   "source": [
    "# Analysis: Logistic Regression for AfterMarket\n",
    "\n",
    "Goal: Use logistic regression to create a model for the aftermarket feature."
   ]
  },
  {
   "cell_type": "code",
   "execution_count": 1,
   "metadata": {},
   "outputs": [],
   "source": [
    "import pandas as PD\n",
    "import numpy as NP\n",
    "import sklearn.preprocessing as PP\n",
    "import sklearn.model_selection as MS\n",
    "import sklearn.linear_model as LM\n",
    "import statsmodels.stats as ST  # .outliers_influence.variance_inflation_factor\n",
    "#from statsmodels.stats.outliers_influence import variance_inflation_factor\n",
    "from statsmodels.stats.outliers_influence import variance_inflation_factor as VIF\n",
    "\n",
    "import matplotlib.pyplot as MP\n",
    "import seaborn as SB\n",
    "%matplotlib inline"
   ]
  },
  {
   "cell_type": "code",
   "execution_count": 2,
   "metadata": {},
   "outputs": [],
   "source": [
    "from IPython.core.interactiveshell import InteractiveShell\n",
    "InteractiveShell.ast_node_interactivity = 'all'"
   ]
  },
  {
   "cell_type": "markdown",
   "metadata": {},
   "source": [
    "## Prepare Target & Features"
   ]
  },
  {
   "cell_type": "code",
   "execution_count": 3,
   "metadata": {},
   "outputs": [
    {
     "data": {
      "text/html": [
       "<div>\n",
       "<style scoped>\n",
       "    .dataframe tbody tr th:only-of-type {\n",
       "        vertical-align: middle;\n",
       "    }\n",
       "\n",
       "    .dataframe tbody tr th {\n",
       "        vertical-align: top;\n",
       "    }\n",
       "\n",
       "    .dataframe thead th {\n",
       "        text-align: right;\n",
       "    }\n",
       "</style>\n",
       "<table border=\"1\" class=\"dataframe\">\n",
       "  <thead>\n",
       "    <tr style=\"text-align: right;\">\n",
       "      <th></th>\n",
       "      <th>set_no</th>\n",
       "      <th>name</th>\n",
       "      <th>price_store</th>\n",
       "      <th>price_used</th>\n",
       "      <th>aftermarket</th>\n",
       "      <th>popularity</th>\n",
       "      <th>category</th>\n",
       "      <th>year</th>\n",
       "      <th>volume</th>\n",
       "      <th>weight</th>\n",
       "      <th>total_parts</th>\n",
       "      <th>number_parts</th>\n",
       "      <th>number_colors</th>\n",
       "      <th>scolor_1st</th>\n",
       "      <th>scolor_2nd</th>\n",
       "    </tr>\n",
       "  </thead>\n",
       "  <tbody>\n",
       "    <tr>\n",
       "      <th>0</th>\n",
       "      <td>858-1</td>\n",
       "      <td>Auto Engines</td>\n",
       "      <td>NaN</td>\n",
       "      <td>51.0</td>\n",
       "      <td>NaN</td>\n",
       "      <td>9.0</td>\n",
       "      <td>Technical</td>\n",
       "      <td>1980.0</td>\n",
       "      <td>NaN</td>\n",
       "      <td>NaN</td>\n",
       "      <td>242</td>\n",
       "      <td>46</td>\n",
       "      <td>5</td>\n",
       "      <td>Blue</td>\n",
       "      <td>Gray</td>\n",
       "    </tr>\n",
       "    <tr>\n",
       "      <th>1</th>\n",
       "      <td>1591-1</td>\n",
       "      <td>Danone Delivery Truck</td>\n",
       "      <td>NaN</td>\n",
       "      <td>28.0</td>\n",
       "      <td>NaN</td>\n",
       "      <td>NaN</td>\n",
       "      <td>Modern-Town</td>\n",
       "      <td>1980.0</td>\n",
       "      <td>NaN</td>\n",
       "      <td>NaN</td>\n",
       "      <td>40</td>\n",
       "      <td>19</td>\n",
       "      <td>4</td>\n",
       "      <td>White</td>\n",
       "      <td>Blue</td>\n",
       "    </tr>\n",
       "    <tr>\n",
       "      <th>2</th>\n",
       "      <td>1592-1</td>\n",
       "      <td>Town Square - Castle Scene</td>\n",
       "      <td>NaN</td>\n",
       "      <td>191.0</td>\n",
       "      <td>NaN</td>\n",
       "      <td>19.2</td>\n",
       "      <td>Modern-Town</td>\n",
       "      <td>1980.0</td>\n",
       "      <td>NaN</td>\n",
       "      <td>NaN</td>\n",
       "      <td>495</td>\n",
       "      <td>133</td>\n",
       "      <td>10</td>\n",
       "      <td>Black</td>\n",
       "      <td>Yellow</td>\n",
       "    </tr>\n",
       "    <tr>\n",
       "      <th>3</th>\n",
       "      <td>1651-2</td>\n",
       "      <td>Maersk Line Container Lorry</td>\n",
       "      <td>NaN</td>\n",
       "      <td>444.0</td>\n",
       "      <td>NaN</td>\n",
       "      <td>5.0</td>\n",
       "      <td>Modern-Town</td>\n",
       "      <td>1980.0</td>\n",
       "      <td>NaN</td>\n",
       "      <td>NaN</td>\n",
       "      <td>305</td>\n",
       "      <td>66</td>\n",
       "      <td>9</td>\n",
       "      <td>Blue</td>\n",
       "      <td>Gray</td>\n",
       "    </tr>\n",
       "    <tr>\n",
       "      <th>4</th>\n",
       "      <td>3634-1</td>\n",
       "      <td>Charlie Crow's Carry-All</td>\n",
       "      <td>NaN</td>\n",
       "      <td>13.0</td>\n",
       "      <td>NaN</td>\n",
       "      <td>3.0</td>\n",
       "      <td>Bigfig-Junior</td>\n",
       "      <td>1980.0</td>\n",
       "      <td>NaN</td>\n",
       "      <td>NaN</td>\n",
       "      <td>18</td>\n",
       "      <td>15</td>\n",
       "      <td>7</td>\n",
       "      <td>Yellow</td>\n",
       "      <td>Green</td>\n",
       "    </tr>\n",
       "  </tbody>\n",
       "</table>\n",
       "</div>"
      ],
      "text/plain": [
       "   set_no                         name  price_store  price_used  aftermarket  \\\n",
       "0   858-1                 Auto Engines          NaN        51.0          NaN   \n",
       "1  1591-1        Danone Delivery Truck          NaN        28.0          NaN   \n",
       "2  1592-1   Town Square - Castle Scene          NaN       191.0          NaN   \n",
       "3  1651-2  Maersk Line Container Lorry          NaN       444.0          NaN   \n",
       "4  3634-1     Charlie Crow's Carry-All          NaN        13.0          NaN   \n",
       "\n",
       "   popularity       category    year  volume  weight  total_parts  \\\n",
       "0         9.0      Technical  1980.0     NaN     NaN          242   \n",
       "1         NaN    Modern-Town  1980.0     NaN     NaN           40   \n",
       "2        19.2    Modern-Town  1980.0     NaN     NaN          495   \n",
       "3         5.0    Modern-Town  1980.0     NaN     NaN          305   \n",
       "4         3.0  Bigfig-Junior  1980.0     NaN     NaN           18   \n",
       "\n",
       "   number_parts  number_colors scolor_1st scolor_2nd  \n",
       "0            46              5       Blue       Gray  \n",
       "1            19              4      White       Blue  \n",
       "2           133             10      Black     Yellow  \n",
       "3            66              9       Blue       Gray  \n",
       "4            15              7     Yellow      Green  "
      ]
     },
     "execution_count": 3,
     "metadata": {},
     "output_type": "execute_result"
    },
    {
     "name": "stdout",
     "output_type": "stream",
     "text": [
      "<class 'pandas.core.frame.DataFrame'>\n",
      "RangeIndex: 5303 entries, 0 to 5302\n",
      "Data columns (total 15 columns):\n",
      "set_no           5303 non-null object\n",
      "name             5303 non-null object\n",
      "price_store      4178 non-null float64\n",
      "price_used       4972 non-null float64\n",
      "aftermarket      4035 non-null float64\n",
      "popularity       4560 non-null float64\n",
      "category         5303 non-null object\n",
      "year             5303 non-null float64\n",
      "volume           2143 non-null float64\n",
      "weight           2154 non-null float64\n",
      "total_parts      5303 non-null int64\n",
      "number_parts     5303 non-null int64\n",
      "number_colors    5303 non-null int64\n",
      "scolor_1st       5294 non-null object\n",
      "scolor_2nd       5301 non-null object\n",
      "dtypes: float64(7), int64(3), object(5)\n",
      "memory usage: 621.5+ KB\n"
     ]
    }
   ],
   "source": [
    "FEATURE_FILE = '../data/merge_feature.csv'\n",
    "full_df = PD.read_csv(FEATURE_FILE)\n",
    "full_df.head()\n",
    "full_df.info()"
   ]
  },
  {
   "cell_type": "code",
   "execution_count": 4,
   "metadata": {},
   "outputs": [],
   "source": [
    "# drop volume and weight since they are sparse and colinear\n",
    "\n",
    "full_df = full_df.drop(columns=['volume', 'weight'])"
   ]
  },
  {
   "cell_type": "code",
   "execution_count": 5,
   "metadata": {},
   "outputs": [
    {
     "data": {
      "text/plain": [
       "(4035, 13)"
      ]
     },
     "execution_count": 5,
     "metadata": {},
     "output_type": "execute_result"
    }
   ],
   "source": [
    "# filter out rows without aftermarket\n",
    "\n",
    "full_df = full_df.loc[full_df['aftermarket'].isna()==False]\n",
    "full_df.shape"
   ]
  },
  {
   "cell_type": "code",
   "execution_count": 6,
   "metadata": {},
   "outputs": [
    {
     "data": {
      "text/plain": [
       "(4035,)"
      ]
     },
     "execution_count": 6,
     "metadata": {},
     "output_type": "execute_result"
    }
   ],
   "source": [
    "# target series\n",
    "\n",
    "target_sr = full_df['aftermarket'].apply(lambda f: 1 if f > 0 else 0)\n",
    "target_sr.shape"
   ]
  },
  {
   "cell_type": "code",
   "execution_count": 7,
   "metadata": {
    "scrolled": true
   },
   "outputs": [
    {
     "data": {
      "text/plain": [
       "(4035, 35)"
      ]
     },
     "execution_count": 7,
     "metadata": {},
     "output_type": "execute_result"
    },
    {
     "data": {
      "text/plain": [
       "Index(['number_parts', 'number_colors', 'year', 'total_parts',\n",
       "       'category_Bigfig-Girls', 'category_Bigfig-Junior',\n",
       "       'category_Constraction', 'category_Historical', 'category_Lego-Brand',\n",
       "       'category_Licensed-Movie', 'category_Licensed-Other',\n",
       "       'category_Licensed-StarWars', 'category_Modern-City',\n",
       "       'category_Modern-Town', 'category_Space', 'category_Sports',\n",
       "       'category_Technical', 'scolor_1st_Blue', 'scolor_1st_Brown',\n",
       "       'scolor_1st_Gray', 'scolor_1st_Green', 'scolor_1st_Red',\n",
       "       'scolor_1st_Tan', 'scolor_1st_Transparent', 'scolor_1st_White',\n",
       "       'scolor_1st_Yellow', 'scolor_2nd_Blue', 'scolor_2nd_Brown',\n",
       "       'scolor_2nd_Gray', 'scolor_2nd_Green', 'scolor_2nd_Red',\n",
       "       'scolor_2nd_Tan', 'scolor_2nd_Transparent', 'scolor_2nd_White',\n",
       "       'scolor_2nd_Yellow'],\n",
       "      dtype='object')"
      ]
     },
     "execution_count": 7,
     "metadata": {},
     "output_type": "execute_result"
    }
   ],
   "source": [
    "# feature dataframe with one-hot encoding\n",
    "\n",
    "columns_st = set(full_df.columns)\n",
    "drop_st = set(['set_no', 'name', 'price_store', 'price_used', 'aftermarket', 'popularity'])\n",
    "feature_st = columns_st.difference(drop_st)\n",
    "\n",
    "feature_cat_df = full_df[list(feature_st)]\n",
    "\n",
    "feature_df = PD.get_dummies(feature_cat_df, drop_first= True, \n",
    "               columns=['category', 'scolor_1st', 'scolor_2nd'])\n",
    "feature_df.shape\n",
    "feature_df.columns"
   ]
  },
  {
   "cell_type": "markdown",
   "metadata": {},
   "source": [
    "## Split Test & Standardize"
   ]
  },
  {
   "cell_type": "code",
   "execution_count": 8,
   "metadata": {},
   "outputs": [],
   "source": [
    "TEST_SPLIT = 0.2\n",
    "SEED = 1"
   ]
  },
  {
   "cell_type": "code",
   "execution_count": 9,
   "metadata": {
    "scrolled": false
   },
   "outputs": [
    {
     "data": {
      "text/plain": [
       "(3228,)"
      ]
     },
     "execution_count": 9,
     "metadata": {},
     "output_type": "execute_result"
    },
    {
     "data": {
      "text/plain": [
       "(807,)"
      ]
     },
     "execution_count": 9,
     "metadata": {},
     "output_type": "execute_result"
    },
    {
     "data": {
      "text/plain": [
       "(3228, 35)"
      ]
     },
     "execution_count": 9,
     "metadata": {},
     "output_type": "execute_result"
    },
    {
     "data": {
      "text/plain": [
       "(807, 35)"
      ]
     },
     "execution_count": 9,
     "metadata": {},
     "output_type": "execute_result"
    }
   ],
   "source": [
    "y_train, y_test, X_train, X_test = MS.train_test_split(target_sr, feature_df, \n",
    "                                                       stratify=feature_df['year'], \n",
    "                                                       test_size=TEST_SPLIT, random_state=SEED)\n",
    "\n",
    "y_train.shape\n",
    "y_test.shape \n",
    "X_train.shape\n",
    "X_test.shape"
   ]
  },
  {
   "cell_type": "code",
   "execution_count": 10,
   "metadata": {},
   "outputs": [
    {
     "data": {
      "text/plain": [
       "StandardScaler(copy=True, with_mean=True, with_std=True)"
      ]
     },
     "execution_count": 10,
     "metadata": {},
     "output_type": "execute_result"
    },
    {
     "data": {
      "text/plain": [
       "(35,)"
      ]
     },
     "execution_count": 10,
     "metadata": {},
     "output_type": "execute_result"
    }
   ],
   "source": [
    "# fit the scalers based on the training set\n",
    "# must include all features, including one-hot encoded ones\n",
    "# target variable does not need to be transformed\n",
    "\n",
    "scaler = PP.StandardScaler()\n",
    "scaler.fit(X_train)\n",
    "scaler.mean_.shape"
   ]
  },
  {
   "cell_type": "code",
   "execution_count": 11,
   "metadata": {},
   "outputs": [
    {
     "data": {
      "text/plain": [
       "(3228, 35)"
      ]
     },
     "execution_count": 11,
     "metadata": {},
     "output_type": "execute_result"
    }
   ],
   "source": [
    "# create standardized feature sets\n",
    "\n",
    "X_train_std = scaler.transform(X_train)\n",
    "X_test_std = scaler.transform(X_test)\n",
    "\n",
    "X_train_std.shape"
   ]
  },
  {
   "cell_type": "code",
   "execution_count": 12,
   "metadata": {},
   "outputs": [],
   "source": [
    "InteractiveShell.ast_node_interactivity = 'last'"
   ]
  },
  {
   "cell_type": "code",
   "execution_count": 13,
   "metadata": {},
   "outputs": [
    {
     "data": {
      "image/png": "[encoded data removed]",
      "text/plain": [
       "<Figure size 1152x432 with 2 Axes>"
      ]
     },
     "metadata": {
      "needs_background": "light"
     },
     "output_type": "display_data"
    }
   ],
   "source": [
    "fig, axs = MP.subplots(1, 2, figsize=(16, 6))\n",
    "parts_idx = X_train.columns.get_loc('total_parts')\n",
    "\n",
    "SB.distplot(X_train['total_parts'], ax=axs[0], kde=False, bins=100)\n",
    "axs[0].set(xlabel='Total Parts', ylabel='Number of Sets')\n",
    "\n",
    "SB.distplot(X_train_std[:, parts_idx], ax=axs[1], kde=False, bins=100)\n",
    "axs[1].set(xlabel='Standard Total Parts', ylabel='Number of Sets')\n",
    "\n",
    "MP.show()"
   ]
  },
  {
   "cell_type": "markdown",
   "metadata": {},
   "source": [
    "## Logistic Regression"
   ]
  },
  {
   "cell_type": "code",
   "execution_count": 14,
   "metadata": {},
   "outputs": [],
   "source": [
    "# setup for several algorithms\n",
    "\n",
    "algorithm_ls = []\n",
    "alpha_ls = [1e-3, 1e-2, 1e-1, 1, 1e1, 1e2]"
   ]
  },
  {
   "cell_type": "code",
   "execution_count": 15,
   "metadata": {},
   "outputs": [
    {
     "data": {
      "text/plain": [
       "0.7307930607187113"
      ]
     },
     "execution_count": 15,
     "metadata": {},
     "output_type": "execute_result"
    }
   ],
   "source": [
    "# lbfgs standalone \n",
    "\n",
    "logreg = LM.LogisticRegression(solver='lbfgs', penalty='none')\n",
    "logreg.fit(X_train_std, y_train)\n",
    "logreg.score(X_train_std, y_train)"
   ]
  },
  {
   "cell_type": "code",
   "execution_count": 16,
   "metadata": {},
   "outputs": [
    {
     "data": {
      "text/plain": [
       "{'fit_time': array([0.03215003, 0.02008581, 0.013726  , 0.01221108, 0.01139522]),\n",
       " 'score_time': array([0.00114679, 0.00063634, 0.00064206, 0.00052404, 0.00096178]),\n",
       " 'test_score': array([0.73570325, 0.74303406, 0.70542636, 0.75503876, 0.68992248]),\n",
       " 'train_score': array([0.73111197, 0.73044152, 0.73674022, 0.72512582, 0.74216028])}"
      ]
     },
     "execution_count": 16,
     "metadata": {},
     "output_type": "execute_result"
    }
   ],
   "source": [
    "# use cross validation to evaluate algorithm\n",
    "\n",
    "cv_results = MS.cross_validate(LM.LogisticRegression(solver='lbfgs', penalty='none'), X_train_std, y_train,\n",
    "                               cv=5, return_train_score=True)\n",
    "cv_results"
   ]
  },
  {
   "cell_type": "code",
   "execution_count": 17,
   "metadata": {},
   "outputs": [
    {
     "data": {
      "text/plain": [
       "{'type': 'lbfgs',\n",
       " 'lambda': 0.0005,\n",
       " 'cvtrain_score': 0.7331159632568649,\n",
       " 'cvtrain_error': 0.00583002394100209,\n",
       " 'cvtest_score': 0.7258249796752785,\n",
       " 'cvtest_error': 0.02429926189893664}"
      ]
     },
     "execution_count": 17,
     "metadata": {},
     "output_type": "execute_result"
    }
   ],
   "source": [
    "# compile algorithm results\n",
    "# ok to use non-adjusted r-sq, use adjusted just for final test\n",
    "\n",
    "new_dx = {\n",
    "    'type': 'lbfgs',\n",
    "    'lambda': NP.min(alpha_ls) - 0.5 *NP.min(alpha_ls), \n",
    "    'cvtrain_score': cv_results['train_score'].mean(),\n",
    "    'cvtrain_error': cv_results['train_score'].std(),\n",
    "    'cvtest_score': cv_results['test_score'].mean(),\n",
    "    'cvtest_error': cv_results['test_score'].std(),\n",
    "}\n",
    "algorithm_ls.append(new_dx)\n",
    "new_dx"
   ]
  },
  {
   "cell_type": "code",
   "execution_count": 18,
   "metadata": {},
   "outputs": [
    {
     "data": {
      "text/plain": [
       "0.7317224287484511"
      ]
     },
     "execution_count": 18,
     "metadata": {},
     "output_type": "execute_result"
    }
   ],
   "source": [
    "# liblinear with L1 standalone \n",
    "\n",
    "logreg = LM.LogisticRegression(solver='liblinear', penalty='l1', C=.1)\n",
    "logreg.fit(X_train_std, y_train)\n",
    "logreg.score(X_train_std, y_train)"
   ]
  },
  {
   "cell_type": "code",
   "execution_count": 19,
   "metadata": {},
   "outputs": [
    {
     "data": {
      "text/plain": [
       "0.7304832713754646"
      ]
     },
     "execution_count": 19,
     "metadata": {},
     "output_type": "execute_result"
    }
   ],
   "source": [
    "# saga with L1 standalone \n",
    "# it's nearly identical to liblinear\n",
    "\n",
    "logreg = LM.LogisticRegression(solver='saga', penalty='l1', C=.1)\n",
    "logreg.fit(X_train_std, y_train)\n",
    "logreg.score(X_train_std, y_train)"
   ]
  },
  {
   "cell_type": "code",
   "execution_count": 20,
   "metadata": {},
   "outputs": [],
   "source": [
    "# liblinear with L1\n",
    "\n",
    "for alpha in alpha_ls:\n",
    "    \n",
    "    logreg_cv = LM.LogisticRegression(solver='liblinear', penalty='l1', C=1/alpha)\n",
    "    cv_results = MS.cross_validate(logreg_cv, X_train_std, y_train, cv=5, return_train_score=True)\n",
    "    \n",
    "    new_dx = {\n",
    "        'type': 'liblinear-L1',\n",
    "        'lambda': alpha,\n",
    "        'cvtrain_score': cv_results['train_score'].mean(),\n",
    "        'cvtrain_error': cv_results['train_score'].std(),\n",
    "        'cvtest_score': cv_results['test_score'].mean(),\n",
    "        'cvtest_error': cv_results['test_score'].std(),\n",
    "    }\n",
    "    algorithm_ls.append(new_dx)"
   ]
  },
  {
   "cell_type": "code",
   "execution_count": 21,
   "metadata": {},
   "outputs": [],
   "source": [
    "# saga with L1\n",
    "\n",
    "for alpha in alpha_ls:\n",
    "    \n",
    "    logreg_cv = LM.LogisticRegression(solver='saga', penalty='l1', C=1/alpha)\n",
    "    cv_results = MS.cross_validate(logreg_cv, X_train_std, y_train, cv=5, return_train_score=True)\n",
    "    \n",
    "    new_dx = {\n",
    "        'type': 'saga-L1',\n",
    "        'lambda': alpha,\n",
    "        'cvtrain_score': cv_results['train_score'].mean(),\n",
    "        'cvtrain_error': cv_results['train_score'].std(),\n",
    "        'cvtest_score': cv_results['test_score'].mean(),\n",
    "        'cvtest_error': cv_results['test_score'].std(),\n",
    "    }\n",
    "    algorithm_ls.append(new_dx)"
   ]
  },
  {
   "cell_type": "code",
   "execution_count": 22,
   "metadata": {},
   "outputs": [],
   "source": [
    "# liblinear with L2\n",
    "\n",
    "for alpha in alpha_ls:\n",
    "    \n",
    "    logreg_cv = LM.LogisticRegression(solver='liblinear', penalty='l2', C=1/alpha)\n",
    "    cv_results = MS.cross_validate(logreg_cv, X_train_std, y_train, cv=5, return_train_score=True)\n",
    "    \n",
    "    new_dx = {\n",
    "        'type': 'liblinear-L2',\n",
    "        'lambda': alpha,\n",
    "        'cvtrain_score': cv_results['train_score'].mean(),\n",
    "        'cvtrain_error': cv_results['train_score'].std(),\n",
    "        'cvtest_score': cv_results['test_score'].mean(),\n",
    "        'cvtest_error': cv_results['test_score'].std(),\n",
    "    }\n",
    "    algorithm_ls.append(new_dx)"
   ]
  },
  {
   "cell_type": "code",
   "execution_count": 23,
   "metadata": {},
   "outputs": [],
   "source": [
    "# newton with L2\n",
    "# this is exactly the same as saga with L2\n",
    "\n",
    "for alpha in alpha_ls:\n",
    "    \n",
    "    logreg_cv = LM.LogisticRegression(solver='newton-cg', penalty='l2', C=1/alpha)\n",
    "    cv_results = MS.cross_validate(logreg_cv, X_train_std, y_train, cv=5, return_train_score=True)\n",
    "    \n",
    "    new_dx = {\n",
    "        'type': 'newtoncg-L2',\n",
    "        'lambda': alpha,\n",
    "        'cvtrain_score': cv_results['train_score'].mean(),\n",
    "        'cvtrain_error': cv_results['train_score'].std(),\n",
    "        'cvtest_score': cv_results['test_score'].mean(),\n",
    "        'cvtest_error': cv_results['test_score'].std(),\n",
    "    }\n",
    "    algorithm_ls.append(new_dx)"
   ]
  },
  {
   "cell_type": "code",
   "execution_count": 24,
   "metadata": {},
   "outputs": [],
   "source": [
    "# sag with L2\n",
    "\n",
    "for alpha in alpha_ls:\n",
    "    \n",
    "    logreg_cv = LM.LogisticRegression(solver='sag', penalty='l2', C=1/alpha)\n",
    "    cv_results = MS.cross_validate(logreg_cv, X_train_std, y_train, cv=5, return_train_score=True)\n",
    "    \n",
    "    new_dx = {\n",
    "        'type': 'sag-L2',\n",
    "        'lambda': alpha,\n",
    "        'cvtrain_score': cv_results['train_score'].mean(),\n",
    "        'cvtrain_error': cv_results['train_score'].std(),\n",
    "        'cvtest_score': cv_results['test_score'].mean(),\n",
    "        'cvtest_error': cv_results['test_score'].std(),\n",
    "    }\n",
    "    algorithm_ls.append(new_dx)"
   ]
  },
  {
   "cell_type": "code",
   "execution_count": 25,
   "metadata": {},
   "outputs": [],
   "source": [
    "# saga with L2\n",
    "\n",
    "for alpha in alpha_ls:\n",
    "    \n",
    "    logreg_cv = LM.LogisticRegression(solver='saga', penalty='l2', C=1/alpha)\n",
    "    cv_results = MS.cross_validate(logreg_cv, X_train_std, y_train, cv=5, return_train_score=True)\n",
    "    \n",
    "    new_dx = {\n",
    "        'type': 'saga-L2',\n",
    "        'lambda': alpha,\n",
    "        'cvtrain_score': cv_results['train_score'].mean(),\n",
    "        'cvtrain_error': cv_results['train_score'].std(),\n",
    "        'cvtest_score': cv_results['test_score'].mean(),\n",
    "        'cvtest_error': cv_results['test_score'].std(),\n",
    "    }\n",
    "    algorithm_ls.append(new_dx)"
   ]
  },
  {
   "cell_type": "markdown",
   "metadata": {},
   "source": [
    "## Compare Algorithms"
   ]
  },
  {
   "cell_type": "code",
   "execution_count": 26,
   "metadata": {},
   "outputs": [
    {
     "data": {
      "text/html": [
       "<div>\n",
       "<style scoped>\n",
       "    .dataframe tbody tr th:only-of-type {\n",
       "        vertical-align: middle;\n",
       "    }\n",
       "\n",
       "    .dataframe tbody tr th {\n",
       "        vertical-align: top;\n",
       "    }\n",
       "\n",
       "    .dataframe thead th {\n",
       "        text-align: right;\n",
       "    }\n",
       "</style>\n",
       "<table border=\"1\" class=\"dataframe\">\n",
       "  <thead>\n",
       "    <tr style=\"text-align: right;\">\n",
       "      <th></th>\n",
       "      <th>cvtest_error</th>\n",
       "      <th>cvtest_score</th>\n",
       "      <th>cvtrain_error</th>\n",
       "      <th>cvtrain_score</th>\n",
       "      <th>lambda</th>\n",
       "      <th>type</th>\n",
       "    </tr>\n",
       "  </thead>\n",
       "  <tbody>\n",
       "    <tr>\n",
       "      <th>0</th>\n",
       "      <td>0.024299</td>\n",
       "      <td>0.725825</td>\n",
       "      <td>0.005830</td>\n",
       "      <td>0.733116</td>\n",
       "      <td>0.0005</td>\n",
       "      <td>lbfgs</td>\n",
       "    </tr>\n",
       "    <tr>\n",
       "      <th>1</th>\n",
       "      <td>0.024299</td>\n",
       "      <td>0.725825</td>\n",
       "      <td>0.005830</td>\n",
       "      <td>0.733116</td>\n",
       "      <td>0.0010</td>\n",
       "      <td>liblinear-L1</td>\n",
       "    </tr>\n",
       "    <tr>\n",
       "      <th>2</th>\n",
       "      <td>0.024299</td>\n",
       "      <td>0.725825</td>\n",
       "      <td>0.005830</td>\n",
       "      <td>0.733116</td>\n",
       "      <td>0.0100</td>\n",
       "      <td>liblinear-L1</td>\n",
       "    </tr>\n",
       "    <tr>\n",
       "      <th>3</th>\n",
       "      <td>0.024299</td>\n",
       "      <td>0.725825</td>\n",
       "      <td>0.005696</td>\n",
       "      <td>0.733116</td>\n",
       "      <td>0.1000</td>\n",
       "      <td>liblinear-L1</td>\n",
       "    </tr>\n",
       "    <tr>\n",
       "      <th>4</th>\n",
       "      <td>0.024198</td>\n",
       "      <td>0.725205</td>\n",
       "      <td>0.006061</td>\n",
       "      <td>0.733193</td>\n",
       "      <td>1.0000</td>\n",
       "      <td>liblinear-L1</td>\n",
       "    </tr>\n",
       "  </tbody>\n",
       "</table>\n",
       "</div>"
      ],
      "text/plain": [
       "   cvtest_error  cvtest_score  cvtrain_error  cvtrain_score  lambda  \\\n",
       "0      0.024299      0.725825       0.005830       0.733116  0.0005   \n",
       "1      0.024299      0.725825       0.005830       0.733116  0.0010   \n",
       "2      0.024299      0.725825       0.005830       0.733116  0.0100   \n",
       "3      0.024299      0.725825       0.005696       0.733116  0.1000   \n",
       "4      0.024198      0.725205       0.006061       0.733193  1.0000   \n",
       "\n",
       "           type  \n",
       "0         lbfgs  \n",
       "1  liblinear-L1  \n",
       "2  liblinear-L1  \n",
       "3  liblinear-L1  \n",
       "4  liblinear-L1  "
      ]
     },
     "execution_count": 26,
     "metadata": {},
     "output_type": "execute_result"
    }
   ],
   "source": [
    "algorithm_df = PD.DataFrame(algorithm_ls)\n",
    "algorithm_df.head()"
   ]
  },
  {
   "cell_type": "code",
   "execution_count": 33,
   "metadata": {},
   "outputs": [
    {
     "data": {
      "image/png": "[encoded data removed]",
      "text/plain": [
       "<Figure size 792x504 with 1 Axes>"
      ]
     },
     "metadata": {},
     "output_type": "display_data"
    }
   ],
   "source": [
    "fig, axs = MP.subplots(1, 1, figsize=(11, 7), facecolor='white')\n",
    "\n",
    "\n",
    "baseline_df = algorithm_df.loc[algorithm_df['type']=='lbfgs']\n",
    "SB.lineplot(data=baseline_df, x='lambda', y='cvtest_score', marker='o', ax=axs, \n",
    "            label='lbfgs', markersize=10)\n",
    "\n",
    "regular11_df = algorithm_df.loc[algorithm_df['type']=='liblinear-L1']\n",
    "SB.lineplot(data=regular11_df, x='lambda', y='cvtest_score', marker='o', ax=axs,\n",
    "           label='liblinear-L1')\n",
    "\n",
    "regular12_df = algorithm_df.loc[algorithm_df['type']=='saga-L1']\n",
    "SB.lineplot(data=regular12_df, x='lambda', y='cvtest_score', marker='o', ax=axs,\n",
    "           label='saga-L1')\n",
    "\n",
    "regular21_df = algorithm_df.loc[algorithm_df['type']=='liblinear-L2']\n",
    "SB.lineplot(data=regular21_df, x='lambda', y='cvtest_score', marker='o', ax=axs,\n",
    "           label='liblinear-L2')\n",
    "\n",
    "regular23_df = algorithm_df.loc[algorithm_df['type']=='sag-L2']\n",
    "SB.lineplot(data=regular23_df, x='lambda', y='cvtest_score', marker='o', ax=axs,\n",
    "           label='sag-L2')\n",
    "\n",
    "regular24_df = algorithm_df.loc[algorithm_df['type']=='saga-L2']\n",
    "SB.lineplot(data=regular24_df, x='lambda', y='cvtest_score', marker='o', ax=axs,\n",
    "           label='saga-L2')\n",
    "\n",
    "\n",
    "axs.set(title='Logistic Regression Solvers', xlabel='lambda', ylabel='CV Test Accuracy', \n",
    "        xscale='log', ylim=(0.724, 0.728) )\n",
    "axs.set_xticks(alpha_ls)\n",
    "\n",
    "MP.show()"
   ]
  },
  {
   "cell_type": "code",
   "execution_count": null,
   "metadata": {},
   "outputs": [],
   "source": []
  }
 ],
 "metadata": {
  "kernelspec": {
   "display_name": "Python 3",
   "language": "python",
   "name": "python3"
  },
  "language_info": {
   "codemirror_mode": {
    "name": "ipython",
    "version": 3
   },
   "file_extension": ".py",
   "mimetype": "text/x-python",
   "name": "python",
   "nbconvert_exporter": "python",
   "pygments_lexer": "ipython3",
   "version": "3.7.3"
  }
 },
 "nbformat": 4,
 "nbformat_minor": 2
}
