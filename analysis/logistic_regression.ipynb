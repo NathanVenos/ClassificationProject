{
 "cells": [
  {
   "cell_type": "markdown",
   "metadata": {},
   "source": [
    "# Analysis: Logistic Regression for Profitability\n",
    "\n",
    "Goal: Use logistic regression to create a model for the profitability feature."
   ]
  },
  {
   "cell_type": "code",
   "execution_count": 35,
   "metadata": {},
   "outputs": [],
   "source": [
    "import pandas as PD\n",
    "import numpy as NP\n",
    "\n",
    "import sklearn.preprocessing as PP\n",
    "import imblearn.pipeline as PL\n",
    "import sklearn.model_selection as MS\n",
    "import imblearn.under_sampling as US\n",
    "import imblearn.over_sampling as OS\n",
    "\n",
    "import sklearn.linear_model as LM\n",
    "import sklearn.metrics as MT     # roc_auc_score, roc_curve, auc\n",
    "\n",
    "import matplotlib.pyplot as MP\n",
    "import seaborn as SB\n",
    "%matplotlib inline"
   ]
  },
  {
   "cell_type": "code",
   "execution_count": 2,
   "metadata": {},
   "outputs": [],
   "source": [
    "from IPython.core.interactiveshell import InteractiveShell\n",
    "InteractiveShell.ast_node_interactivity = 'all'"
   ]
  },
  {
   "cell_type": "markdown",
   "metadata": {},
   "source": [
    "## Prepare Target & Features"
   ]
  },
  {
   "cell_type": "code",
   "execution_count": 3,
   "metadata": {},
   "outputs": [
    {
     "data": {
      "text/html": [
       "<div>\n",
       "<style scoped>\n",
       "    .dataframe tbody tr th:only-of-type {\n",
       "        vertical-align: middle;\n",
       "    }\n",
       "\n",
       "    .dataframe tbody tr th {\n",
       "        vertical-align: top;\n",
       "    }\n",
       "\n",
       "    .dataframe thead th {\n",
       "        text-align: right;\n",
       "    }\n",
       "</style>\n",
       "<table border=\"1\" class=\"dataframe\">\n",
       "  <thead>\n",
       "    <tr style=\"text-align: right;\">\n",
       "      <th></th>\n",
       "      <th>set_no</th>\n",
       "      <th>name</th>\n",
       "      <th>price_store</th>\n",
       "      <th>price_used</th>\n",
       "      <th>year</th>\n",
       "      <th>volume</th>\n",
       "      <th>weight</th>\n",
       "      <th>number_parts</th>\n",
       "      <th>total_parts</th>\n",
       "      <th>number_spare_parts</th>\n",
       "      <th>...</th>\n",
       "      <th>windscreens_and_fuselage_tot_prts</th>\n",
       "      <th>znap_tot_prts</th>\n",
       "      <th>category</th>\n",
       "      <th>scolor_1st</th>\n",
       "      <th>scolor_2nd</th>\n",
       "      <th>popularity</th>\n",
       "      <th>aftermarket</th>\n",
       "      <th>adj_store_price</th>\n",
       "      <th>adj_aftermarket</th>\n",
       "      <th>profitable</th>\n",
       "    </tr>\n",
       "  </thead>\n",
       "  <tbody>\n",
       "    <tr>\n",
       "      <th>0</th>\n",
       "      <td>15-1</td>\n",
       "      <td>Castle Minifigures</td>\n",
       "      <td>NaN</td>\n",
       "      <td>63.0</td>\n",
       "      <td>1984</td>\n",
       "      <td>NaN</td>\n",
       "      <td>NaN</td>\n",
       "      <td>16</td>\n",
       "      <td>38</td>\n",
       "      <td>0</td>\n",
       "      <td>...</td>\n",
       "      <td>0</td>\n",
       "      <td>0</td>\n",
       "      <td>Historical</td>\n",
       "      <td>Gray</td>\n",
       "      <td>Black</td>\n",
       "      <td>NaN</td>\n",
       "      <td>NaN</td>\n",
       "      <td>NaN</td>\n",
       "      <td>NaN</td>\n",
       "      <td>NaN</td>\n",
       "    </tr>\n",
       "    <tr>\n",
       "      <th>1</th>\n",
       "      <td>105-1</td>\n",
       "      <td>Mail Van</td>\n",
       "      <td>NaN</td>\n",
       "      <td>102.0</td>\n",
       "      <td>1984</td>\n",
       "      <td>NaN</td>\n",
       "      <td>NaN</td>\n",
       "      <td>34</td>\n",
       "      <td>65</td>\n",
       "      <td>0</td>\n",
       "      <td>...</td>\n",
       "      <td>1</td>\n",
       "      <td>0</td>\n",
       "      <td>Modern-Town</td>\n",
       "      <td>Red</td>\n",
       "      <td>White</td>\n",
       "      <td>4.0</td>\n",
       "      <td>NaN</td>\n",
       "      <td>NaN</td>\n",
       "      <td>NaN</td>\n",
       "      <td>NaN</td>\n",
       "    </tr>\n",
       "    <tr>\n",
       "      <th>2</th>\n",
       "      <td>3639-1</td>\n",
       "      <td>Paddy Wagon</td>\n",
       "      <td>NaN</td>\n",
       "      <td>14.0</td>\n",
       "      <td>1984</td>\n",
       "      <td>NaN</td>\n",
       "      <td>NaN</td>\n",
       "      <td>11</td>\n",
       "      <td>12</td>\n",
       "      <td>0</td>\n",
       "      <td>...</td>\n",
       "      <td>0</td>\n",
       "      <td>0</td>\n",
       "      <td>Bigfig-Junior</td>\n",
       "      <td>Blue</td>\n",
       "      <td>Black</td>\n",
       "      <td>NaN</td>\n",
       "      <td>NaN</td>\n",
       "      <td>NaN</td>\n",
       "      <td>NaN</td>\n",
       "      <td>NaN</td>\n",
       "    </tr>\n",
       "    <tr>\n",
       "      <th>3</th>\n",
       "      <td>3664-1</td>\n",
       "      <td>Bertie Bulldog (Police Chief) and Constable Bu...</td>\n",
       "      <td>NaN</td>\n",
       "      <td>31.0</td>\n",
       "      <td>1984</td>\n",
       "      <td>NaN</td>\n",
       "      <td>NaN</td>\n",
       "      <td>24</td>\n",
       "      <td>63</td>\n",
       "      <td>0</td>\n",
       "      <td>...</td>\n",
       "      <td>0</td>\n",
       "      <td>0</td>\n",
       "      <td>Bigfig-Junior</td>\n",
       "      <td>Blue</td>\n",
       "      <td>Red</td>\n",
       "      <td>5.0</td>\n",
       "      <td>NaN</td>\n",
       "      <td>NaN</td>\n",
       "      <td>NaN</td>\n",
       "      <td>NaN</td>\n",
       "    </tr>\n",
       "    <tr>\n",
       "      <th>4</th>\n",
       "      <td>3670-1</td>\n",
       "      <td>Service Station</td>\n",
       "      <td>20.0</td>\n",
       "      <td>54.0</td>\n",
       "      <td>1984</td>\n",
       "      <td>NaN</td>\n",
       "      <td>NaN</td>\n",
       "      <td>30</td>\n",
       "      <td>54</td>\n",
       "      <td>0</td>\n",
       "      <td>...</td>\n",
       "      <td>0</td>\n",
       "      <td>0</td>\n",
       "      <td>Bigfig-Junior</td>\n",
       "      <td>Yellow</td>\n",
       "      <td>Red</td>\n",
       "      <td>NaN</td>\n",
       "      <td>34.0</td>\n",
       "      <td>49.62</td>\n",
       "      <td>4.38</td>\n",
       "      <td>1.0</td>\n",
       "    </tr>\n",
       "  </tbody>\n",
       "</table>\n",
       "<p>5 rows × 134 columns</p>\n",
       "</div>"
      ],
      "text/plain": [
       "   set_no                                               name  price_store  \\\n",
       "0    15-1                                 Castle Minifigures          NaN   \n",
       "1   105-1                                           Mail Van          NaN   \n",
       "2  3639-1                                        Paddy Wagon          NaN   \n",
       "3  3664-1  Bertie Bulldog (Police Chief) and Constable Bu...          NaN   \n",
       "4  3670-1                                    Service Station         20.0   \n",
       "\n",
       "   price_used  year  volume  weight  number_parts  total_parts  \\\n",
       "0        63.0  1984     NaN     NaN            16           38   \n",
       "1       102.0  1984     NaN     NaN            34           65   \n",
       "2        14.0  1984     NaN     NaN            11           12   \n",
       "3        31.0  1984     NaN     NaN            24           63   \n",
       "4        54.0  1984     NaN     NaN            30           54   \n",
       "\n",
       "   number_spare_parts  ...  windscreens_and_fuselage_tot_prts  znap_tot_prts  \\\n",
       "0                   0  ...                                  0              0   \n",
       "1                   0  ...                                  1              0   \n",
       "2                   0  ...                                  0              0   \n",
       "3                   0  ...                                  0              0   \n",
       "4                   0  ...                                  0              0   \n",
       "\n",
       "        category  scolor_1st  scolor_2nd  popularity  aftermarket  \\\n",
       "0     Historical        Gray       Black         NaN          NaN   \n",
       "1    Modern-Town         Red       White         4.0          NaN   \n",
       "2  Bigfig-Junior        Blue       Black         NaN          NaN   \n",
       "3  Bigfig-Junior        Blue         Red         5.0          NaN   \n",
       "4  Bigfig-Junior      Yellow         Red         NaN         34.0   \n",
       "\n",
       "   adj_store_price  adj_aftermarket  profitable  \n",
       "0              NaN              NaN         NaN  \n",
       "1              NaN              NaN         NaN  \n",
       "2              NaN              NaN         NaN  \n",
       "3              NaN              NaN         NaN  \n",
       "4            49.62             4.38         1.0  \n",
       "\n",
       "[5 rows x 134 columns]"
      ]
     },
     "execution_count": 3,
     "metadata": {},
     "output_type": "execute_result"
    },
    {
     "name": "stdout",
     "output_type": "stream",
     "text": [
      "<class 'pandas.core.frame.DataFrame'>\n",
      "RangeIndex: 4922 entries, 0 to 4921\n",
      "Columns: 134 entries, set_no to profitable\n",
      "dtypes: float64(9), int64(120), object(5)\n",
      "memory usage: 5.0+ MB\n"
     ]
    }
   ],
   "source": [
    "FEATURE_FILE = '../data/merge_feature.csv'\n",
    "full_df = PD.read_csv(FEATURE_FILE)\n",
    "full_df.head()\n",
    "full_df.info()"
   ]
  },
  {
   "cell_type": "code",
   "execution_count": 4,
   "metadata": {},
   "outputs": [],
   "source": [
    "# drop volume and weight since they are sparse and colinear\n",
    "\n",
    "full_df = full_df.drop(columns=['volume', 'weight'])"
   ]
  },
  {
   "cell_type": "code",
   "execution_count": 5,
   "metadata": {},
   "outputs": [
    {
     "data": {
      "text/plain": [
       "(3832, 132)"
      ]
     },
     "execution_count": 5,
     "metadata": {},
     "output_type": "execute_result"
    }
   ],
   "source": [
    "# filter out rows without aftermarket\n",
    "\n",
    "full_df = full_df.loc[full_df['profitable'].isna()==False]\n",
    "full_df.shape"
   ]
  },
  {
   "cell_type": "code",
   "execution_count": 6,
   "metadata": {},
   "outputs": [
    {
     "data": {
      "text/plain": [
       "(3832,)"
      ]
     },
     "execution_count": 6,
     "metadata": {},
     "output_type": "execute_result"
    }
   ],
   "source": [
    "# target series\n",
    "\n",
    "target_sr = full_df['profitable']\n",
    "target_sr.shape"
   ]
  },
  {
   "cell_type": "code",
   "execution_count": 7,
   "metadata": {
    "scrolled": true
   },
   "outputs": [
    {
     "data": {
      "text/plain": [
       "(3832, 151)"
      ]
     },
     "execution_count": 7,
     "metadata": {},
     "output_type": "execute_result"
    },
    {
     "data": {
      "text/plain": [
       "Index(['plates_angled_tot_prts', 'pneumatics_cnt_prts', 'non-lego_cnt_prts',\n",
       "       'number_spare_parts', 'technic_gears_cnt_prts',\n",
       "       'plates_special_tot_prts', 'tiles_printed_tot_prts',\n",
       "       'technic_panels_tot_prts', 'non-lego_tot_prts',\n",
       "       'technic_beams_special_cnt_prts',\n",
       "       ...\n",
       "       'scolor_1st_Yellow', 'scolor_2nd_Blue', 'scolor_2nd_Brown',\n",
       "       'scolor_2nd_Gray', 'scolor_2nd_Green', 'scolor_2nd_Red',\n",
       "       'scolor_2nd_Tan', 'scolor_2nd_Transparent', 'scolor_2nd_White',\n",
       "       'scolor_2nd_Yellow'],\n",
       "      dtype='object', length=151)"
      ]
     },
     "execution_count": 7,
     "metadata": {},
     "output_type": "execute_result"
    }
   ],
   "source": [
    "# feature dataframe with one-hot encoding\n",
    "\n",
    "columns_st = set(full_df.columns)\n",
    "drop_st = set(['set_no', 'name', 'price_store', 'price_used', 'aftermarket', 'popularity', \n",
    "               'adj_store_price', 'adj_aftermarket', 'profitable'])\n",
    "feature_st = columns_st.difference(drop_st)\n",
    "\n",
    "feature_cat_df = full_df[list(feature_st)]\n",
    "\n",
    "feature_df = PD.get_dummies(feature_cat_df, drop_first= True, \n",
    "               columns=['category', 'scolor_1st', 'scolor_2nd'])\n",
    "feature_df.shape\n",
    "feature_df.columns"
   ]
  },
  {
   "cell_type": "markdown",
   "metadata": {},
   "source": [
    "## Split Test & Standardize"
   ]
  },
  {
   "cell_type": "code",
   "execution_count": 8,
   "metadata": {},
   "outputs": [],
   "source": [
    "TEST_SPLIT = 0.2\n",
    "SEED = 1"
   ]
  },
  {
   "cell_type": "code",
   "execution_count": 9,
   "metadata": {
    "scrolled": false
   },
   "outputs": [
    {
     "data": {
      "text/plain": [
       "(3065,)"
      ]
     },
     "execution_count": 9,
     "metadata": {},
     "output_type": "execute_result"
    },
    {
     "data": {
      "text/plain": [
       "(767,)"
      ]
     },
     "execution_count": 9,
     "metadata": {},
     "output_type": "execute_result"
    },
    {
     "data": {
      "text/plain": [
       "(3065, 151)"
      ]
     },
     "execution_count": 9,
     "metadata": {},
     "output_type": "execute_result"
    },
    {
     "data": {
      "text/plain": [
       "(767, 151)"
      ]
     },
     "execution_count": 9,
     "metadata": {},
     "output_type": "execute_result"
    }
   ],
   "source": [
    "y_train, y_test, X_train, X_test = MS.train_test_split(target_sr, feature_df, \n",
    "                                                       stratify=feature_df['year'], \n",
    "                                                       test_size=TEST_SPLIT, random_state=SEED)\n",
    "\n",
    "y_train.shape\n",
    "y_test.shape \n",
    "X_train.shape\n",
    "X_test.shape"
   ]
  },
  {
   "cell_type": "code",
   "execution_count": 10,
   "metadata": {},
   "outputs": [
    {
     "data": {
      "text/plain": [
       "StandardScaler(copy=True, with_mean=True, with_std=True)"
      ]
     },
     "execution_count": 10,
     "metadata": {},
     "output_type": "execute_result"
    },
    {
     "data": {
      "text/plain": [
       "(151,)"
      ]
     },
     "execution_count": 10,
     "metadata": {},
     "output_type": "execute_result"
    }
   ],
   "source": [
    "# fit the scalers based on the training set\n",
    "# must include all features, including one-hot encoded ones\n",
    "# target variable does not need to be transformed\n",
    "\n",
    "scaler = PP.StandardScaler()\n",
    "scaler.fit(X_train)\n",
    "scaler.mean_.shape"
   ]
  },
  {
   "cell_type": "code",
   "execution_count": 11,
   "metadata": {},
   "outputs": [
    {
     "data": {
      "text/plain": [
       "(3065, 151)"
      ]
     },
     "execution_count": 11,
     "metadata": {},
     "output_type": "execute_result"
    }
   ],
   "source": [
    "# create standardized feature sets\n",
    "\n",
    "X_train_std = scaler.transform(X_train)\n",
    "X_test_std = scaler.transform(X_test)\n",
    "\n",
    "X_train_std.shape"
   ]
  },
  {
   "cell_type": "code",
   "execution_count": 12,
   "metadata": {},
   "outputs": [],
   "source": [
    "InteractiveShell.ast_node_interactivity = 'last'"
   ]
  },
  {
   "cell_type": "code",
   "execution_count": 13,
   "metadata": {},
   "outputs": [
    {
     "data": {
      "image/png": "[encoded data removed]",
      "text/plain": [
       "<Figure size 1152x432 with 2 Axes>"
      ]
     },
     "metadata": {
      "needs_background": "light"
     },
     "output_type": "display_data"
    }
   ],
   "source": [
    "fig, axs = MP.subplots(1, 2, figsize=(16, 6))\n",
    "parts_idx = X_train.columns.get_loc('total_parts')\n",
    "\n",
    "SB.distplot(X_train['total_parts'], ax=axs[0], kde=False, bins=100)\n",
    "axs[0].set(xlabel='Total Parts', ylabel='Number of Sets')\n",
    "\n",
    "SB.distplot(X_train_std[:, parts_idx], ax=axs[1], kde=False, bins=100)\n",
    "axs[1].set(xlabel='Standard Total Parts', ylabel='Number of Sets')\n",
    "\n",
    "MP.show()"
   ]
  },
  {
   "cell_type": "markdown",
   "metadata": {},
   "source": [
    "## Logistic Regression"
   ]
  },
  {
   "cell_type": "code",
   "execution_count": 14,
   "metadata": {},
   "outputs": [],
   "source": [
    "# setup for several algorithms\n",
    "\n",
    "MAX_ITER = 10000\n",
    "algorithm_ls = []\n",
    "alpha_ls = [1e-3, 1e-2, 1e-1, 1, 1e1, 1e2]"
   ]
  },
  {
   "cell_type": "code",
   "execution_count": 15,
   "metadata": {},
   "outputs": [
    {
     "data": {
      "text/plain": [
       "0.8022838499184339"
      ]
     },
     "execution_count": 15,
     "metadata": {},
     "output_type": "execute_result"
    }
   ],
   "source": [
    "# lbfgs standalone \n",
    "\n",
    "logreg = LM.LogisticRegression(solver='lbfgs', penalty='none', max_iter=MAX_ITER)\n",
    "logreg.fit(X_train_std, y_train)\n",
    "logreg.score(X_train_std, y_train)"
   ]
  },
  {
   "cell_type": "code",
   "execution_count": 16,
   "metadata": {},
   "outputs": [
    {
     "data": {
      "text/plain": [
       "{'fit_time': array([0.38463688, 0.45589709, 0.36346889, 0.3222611 , 0.41892314]),\n",
       " 'score_time': array([0.00075006, 0.00062013, 0.00060892, 0.00095677, 0.00067186]),\n",
       " 'test_score': array([0.79478827, 0.75203915, 0.76508972, 0.76019576, 0.77614379]),\n",
       " 'train_score': array([0.8000816 , 0.8091354 , 0.80750408, 0.80587276, 0.80513657])}"
      ]
     },
     "execution_count": 16,
     "metadata": {},
     "output_type": "execute_result"
    }
   ],
   "source": [
    "# use cross validation to evaluate algorithm\n",
    "\n",
    "logreg_cv = LM.LogisticRegression(solver='lbfgs', penalty='none', max_iter=MAX_ITER)\n",
    "cv_results = MS.cross_validate(logreg_cv, X_train_std, y_train, cv=5, return_train_score=True)\n",
    "cv_results"
   ]
  },
  {
   "cell_type": "code",
   "execution_count": 17,
   "metadata": {},
   "outputs": [
    {
     "data": {
      "text/plain": [
       "{'type': 'lbfgs',\n",
       " 'lambda': 0.0005,\n",
       " 'cvtrain_score': 0.8055460803451776,\n",
       " 'cvtrain_error': 0.003061108956355994,\n",
       " 'cvtest_score': 0.7696513394836,\n",
       " 'cvtest_error': 0.014794748384436463}"
      ]
     },
     "execution_count": 17,
     "metadata": {},
     "output_type": "execute_result"
    }
   ],
   "source": [
    "# compile algorithm results\n",
    "# ok to use non-adjusted r-sq, use adjusted just for final test\n",
    "\n",
    "new_dx = {\n",
    "    'type': 'lbfgs',\n",
    "    'lambda': NP.min(alpha_ls) - 0.5 *NP.min(alpha_ls), \n",
    "    'cvtrain_score': cv_results['train_score'].mean(),\n",
    "    'cvtrain_error': cv_results['train_score'].std(),\n",
    "    'cvtest_score': cv_results['test_score'].mean(),\n",
    "    'cvtest_error': cv_results['test_score'].std(),\n",
    "}\n",
    "algorithm_ls.append(new_dx)\n",
    "new_dx"
   ]
  },
  {
   "cell_type": "code",
   "execution_count": 18,
   "metadata": {},
   "outputs": [
    {
     "data": {
      "text/plain": [
       "0.7918433931484502"
      ]
     },
     "execution_count": 18,
     "metadata": {},
     "output_type": "execute_result"
    }
   ],
   "source": [
    "# liblinear with L1 standalone \n",
    "\n",
    "logreg = LM.LogisticRegression(solver='liblinear', penalty='l1', C=.1, max_iter=MAX_ITER)\n",
    "logreg.fit(X_train_std, y_train)\n",
    "logreg.score(X_train_std, y_train)"
   ]
  },
  {
   "cell_type": "code",
   "execution_count": 19,
   "metadata": {},
   "outputs": [
    {
     "data": {
      "text/plain": [
       "0.7924959216965742"
      ]
     },
     "execution_count": 19,
     "metadata": {},
     "output_type": "execute_result"
    }
   ],
   "source": [
    "# saga with L1 standalone \n",
    "# it's nearly identical to liblinear\n",
    "\n",
    "logreg = LM.LogisticRegression(solver='saga', penalty='l1', C=.1, max_iter=MAX_ITER)\n",
    "logreg.fit(X_train_std, y_train)\n",
    "logreg.score(X_train_std, y_train)"
   ]
  },
  {
   "cell_type": "code",
   "execution_count": 20,
   "metadata": {},
   "outputs": [],
   "source": [
    "# liblinear with L1\n",
    "\n",
    "for alpha in alpha_ls:\n",
    "    \n",
    "    logreg_cv = LM.LogisticRegression(solver='liblinear', penalty='l1', C=1/alpha, max_iter=MAX_ITER)\n",
    "    cv_results = MS.cross_validate(logreg_cv, X_train_std, y_train, cv=5, return_train_score=True)\n",
    "    \n",
    "    new_dx = {\n",
    "        'type': 'liblinear-L1',\n",
    "        'lambda': alpha,\n",
    "        'cvtrain_score': cv_results['train_score'].mean(),\n",
    "        'cvtrain_error': cv_results['train_score'].std(),\n",
    "        'cvtest_score': cv_results['test_score'].mean(),\n",
    "        'cvtest_error': cv_results['test_score'].std(),\n",
    "    }\n",
    "    algorithm_ls.append(new_dx)"
   ]
  },
  {
   "cell_type": "code",
   "execution_count": 21,
   "metadata": {},
   "outputs": [],
   "source": [
    "# saga with L1\n",
    "\n",
    "for alpha in alpha_ls:\n",
    "    \n",
    "    logreg_cv = LM.LogisticRegression(solver='saga', penalty='l1', C=1/alpha, max_iter=MAX_ITER)\n",
    "    cv_results = MS.cross_validate(logreg_cv, X_train_std, y_train, cv=5, return_train_score=True)\n",
    "    \n",
    "    new_dx = {\n",
    "        'type': 'saga-L1',\n",
    "        'lambda': alpha,\n",
    "        'cvtrain_score': cv_results['train_score'].mean(),\n",
    "        'cvtrain_error': cv_results['train_score'].std(),\n",
    "        'cvtest_score': cv_results['test_score'].mean(),\n",
    "        'cvtest_error': cv_results['test_score'].std(),\n",
    "    }\n",
    "    algorithm_ls.append(new_dx)"
   ]
  },
  {
   "cell_type": "code",
   "execution_count": 22,
   "metadata": {},
   "outputs": [],
   "source": [
    "# liblinear with L2\n",
    "\n",
    "for alpha in alpha_ls:\n",
    "    \n",
    "    logreg_cv = LM.LogisticRegression(solver='liblinear', penalty='l2', C=1/alpha, max_iter=MAX_ITER)\n",
    "    cv_results = MS.cross_validate(logreg_cv, X_train_std, y_train, cv=5, return_train_score=True)\n",
    "    \n",
    "    new_dx = {\n",
    "        'type': 'liblinear-L2',\n",
    "        'lambda': alpha,\n",
    "        'cvtrain_score': cv_results['train_score'].mean(),\n",
    "        'cvtrain_error': cv_results['train_score'].std(),\n",
    "        'cvtest_score': cv_results['test_score'].mean(),\n",
    "        'cvtest_error': cv_results['test_score'].std(),\n",
    "    }\n",
    "    algorithm_ls.append(new_dx)"
   ]
  },
  {
   "cell_type": "code",
   "execution_count": 23,
   "metadata": {},
   "outputs": [],
   "source": [
    "# newton with L2\n",
    "# this is exactly the same as saga with L2\n",
    "\n",
    "for alpha in alpha_ls:\n",
    "    \n",
    "    logreg_cv = LM.LogisticRegression(solver='newton-cg', penalty='l2', C=1/alpha, max_iter=MAX_ITER)\n",
    "    cv_results = MS.cross_validate(logreg_cv, X_train_std, y_train, cv=5, return_train_score=True)\n",
    "    \n",
    "    new_dx = {\n",
    "        'type': 'newtoncg-L2',\n",
    "        'lambda': alpha,\n",
    "        'cvtrain_score': cv_results['train_score'].mean(),\n",
    "        'cvtrain_error': cv_results['train_score'].std(),\n",
    "        'cvtest_score': cv_results['test_score'].mean(),\n",
    "        'cvtest_error': cv_results['test_score'].std(),\n",
    "    }\n",
    "    algorithm_ls.append(new_dx)"
   ]
  },
  {
   "cell_type": "code",
   "execution_count": 24,
   "metadata": {},
   "outputs": [],
   "source": [
    "# sag with L2\n",
    "\n",
    "for alpha in alpha_ls:\n",
    "    \n",
    "    logreg_cv = LM.LogisticRegression(solver='sag', penalty='l2', C=1/alpha, max_iter=MAX_ITER)\n",
    "    cv_results = MS.cross_validate(logreg_cv, X_train_std, y_train, cv=5, return_train_score=True)\n",
    "    \n",
    "    new_dx = {\n",
    "        'type': 'sag-L2',\n",
    "        'lambda': alpha,\n",
    "        'cvtrain_score': cv_results['train_score'].mean(),\n",
    "        'cvtrain_error': cv_results['train_score'].std(),\n",
    "        'cvtest_score': cv_results['test_score'].mean(),\n",
    "        'cvtest_error': cv_results['test_score'].std(),\n",
    "    }\n",
    "    algorithm_ls.append(new_dx)"
   ]
  },
  {
   "cell_type": "code",
   "execution_count": 25,
   "metadata": {},
   "outputs": [],
   "source": [
    "# saga with L2\n",
    "\n",
    "for alpha in alpha_ls:\n",
    "    \n",
    "    logreg_cv = LM.LogisticRegression(solver='saga', penalty='l2', C=1/alpha, max_iter=MAX_ITER)\n",
    "    cv_results = MS.cross_validate(logreg_cv, X_train_std, y_train, cv=5, return_train_score=True)\n",
    "    \n",
    "    new_dx = {\n",
    "        'type': 'saga-L2',\n",
    "        'lambda': alpha,\n",
    "        'cvtrain_score': cv_results['train_score'].mean(),\n",
    "        'cvtrain_error': cv_results['train_score'].std(),\n",
    "        'cvtest_score': cv_results['test_score'].mean(),\n",
    "        'cvtest_error': cv_results['test_score'].std(),\n",
    "    }\n",
    "    algorithm_ls.append(new_dx)"
   ]
  },
  {
   "cell_type": "markdown",
   "metadata": {},
   "source": [
    "## Compare Algorithms"
   ]
  },
  {
   "cell_type": "code",
   "execution_count": 26,
   "metadata": {},
   "outputs": [
    {
     "data": {
      "text/html": [
       "<div>\n",
       "<style scoped>\n",
       "    .dataframe tbody tr th:only-of-type {\n",
       "        vertical-align: middle;\n",
       "    }\n",
       "\n",
       "    .dataframe tbody tr th {\n",
       "        vertical-align: top;\n",
       "    }\n",
       "\n",
       "    .dataframe thead th {\n",
       "        text-align: right;\n",
       "    }\n",
       "</style>\n",
       "<table border=\"1\" class=\"dataframe\">\n",
       "  <thead>\n",
       "    <tr style=\"text-align: right;\">\n",
       "      <th></th>\n",
       "      <th>cvtest_error</th>\n",
       "      <th>cvtest_score</th>\n",
       "      <th>cvtrain_error</th>\n",
       "      <th>cvtrain_score</th>\n",
       "      <th>lambda</th>\n",
       "      <th>type</th>\n",
       "    </tr>\n",
       "  </thead>\n",
       "  <tbody>\n",
       "    <tr>\n",
       "      <th>0</th>\n",
       "      <td>0.014795</td>\n",
       "      <td>0.769651</td>\n",
       "      <td>0.003061</td>\n",
       "      <td>0.805546</td>\n",
       "      <td>0.0005</td>\n",
       "      <td>lbfgs</td>\n",
       "    </tr>\n",
       "    <tr>\n",
       "      <th>1</th>\n",
       "      <td>0.014605</td>\n",
       "      <td>0.771611</td>\n",
       "      <td>0.002812</td>\n",
       "      <td>0.805220</td>\n",
       "      <td>0.0010</td>\n",
       "      <td>liblinear-L1</td>\n",
       "    </tr>\n",
       "    <tr>\n",
       "      <th>2</th>\n",
       "      <td>0.013996</td>\n",
       "      <td>0.770959</td>\n",
       "      <td>0.002962</td>\n",
       "      <td>0.805138</td>\n",
       "      <td>0.0100</td>\n",
       "      <td>liblinear-L1</td>\n",
       "    </tr>\n",
       "    <tr>\n",
       "      <th>3</th>\n",
       "      <td>0.014207</td>\n",
       "      <td>0.771611</td>\n",
       "      <td>0.002373</td>\n",
       "      <td>0.805383</td>\n",
       "      <td>0.1000</td>\n",
       "      <td>liblinear-L1</td>\n",
       "    </tr>\n",
       "    <tr>\n",
       "      <th>4</th>\n",
       "      <td>0.012374</td>\n",
       "      <td>0.775197</td>\n",
       "      <td>0.003701</td>\n",
       "      <td>0.804730</td>\n",
       "      <td>1.0000</td>\n",
       "      <td>liblinear-L1</td>\n",
       "    </tr>\n",
       "  </tbody>\n",
       "</table>\n",
       "</div>"
      ],
      "text/plain": [
       "   cvtest_error  cvtest_score  cvtrain_error  cvtrain_score  lambda  \\\n",
       "0      0.014795      0.769651       0.003061       0.805546  0.0005   \n",
       "1      0.014605      0.771611       0.002812       0.805220  0.0010   \n",
       "2      0.013996      0.770959       0.002962       0.805138  0.0100   \n",
       "3      0.014207      0.771611       0.002373       0.805383  0.1000   \n",
       "4      0.012374      0.775197       0.003701       0.804730  1.0000   \n",
       "\n",
       "           type  \n",
       "0         lbfgs  \n",
       "1  liblinear-L1  \n",
       "2  liblinear-L1  \n",
       "3  liblinear-L1  \n",
       "4  liblinear-L1  "
      ]
     },
     "execution_count": 26,
     "metadata": {},
     "output_type": "execute_result"
    }
   ],
   "source": [
    "algorithm_df = PD.DataFrame(algorithm_ls)\n",
    "algorithm_df.head()"
   ]
  },
  {
   "cell_type": "code",
   "execution_count": 29,
   "metadata": {},
   "outputs": [
    {
     "data": {
      "image/png": "[encoded data removed]",
      "text/plain": [
       "<Figure size 792x504 with 1 Axes>"
      ]
     },
     "metadata": {},
     "output_type": "display_data"
    }
   ],
   "source": [
    "fig, axs = MP.subplots(1, 1, figsize=(11, 7), facecolor='white')\n",
    "\n",
    "\n",
    "baseline_df = algorithm_df.loc[algorithm_df['type']=='lbfgs']\n",
    "SB.lineplot(data=baseline_df, x='lambda', y='cvtest_score', marker='o', ax=axs, \n",
    "            label='lbfgs', markersize=10)\n",
    "\n",
    "regular11_df = algorithm_df.loc[algorithm_df['type']=='liblinear-L1']\n",
    "SB.lineplot(data=regular11_df, x='lambda', y='cvtest_score', marker='o', ax=axs,\n",
    "           label='liblinear-L1')\n",
    "\n",
    "regular12_df = algorithm_df.loc[algorithm_df['type']=='saga-L1']\n",
    "SB.lineplot(data=regular12_df, x='lambda', y='cvtest_score', marker='o', ax=axs,\n",
    "           label='saga-L1')\n",
    "\n",
    "regular21_df = algorithm_df.loc[algorithm_df['type']=='liblinear-L2']\n",
    "SB.lineplot(data=regular21_df, x='lambda', y='cvtest_score', marker='o', ax=axs,\n",
    "           label='liblinear-L2')\n",
    "\n",
    "regular23_df = algorithm_df.loc[algorithm_df['type']=='sag-L2']\n",
    "SB.lineplot(data=regular23_df, x='lambda', y='cvtest_score', marker='o', ax=axs,\n",
    "           label='sag-L2')\n",
    "\n",
    "regular24_df = algorithm_df.loc[algorithm_df['type']=='saga-L2']\n",
    "SB.lineplot(data=regular24_df, x='lambda', y='cvtest_score', marker='o', ax=axs,\n",
    "           label='saga-L2')\n",
    "\n",
    "\n",
    "axs.set(title='Logistic Regression Solvers', xlabel='lambda', ylabel='CV Test Accuracy', \n",
    "        xscale='log', ylim=(0.765, 0.78) )\n",
    "axs.set_xticks(alpha_ls)\n",
    "\n",
    "MP.show()"
   ]
  },
  {
   "cell_type": "markdown",
   "metadata": {},
   "source": [
    "## Best Algorithm"
   ]
  },
  {
   "cell_type": "code",
   "execution_count": 31,
   "metadata": {},
   "outputs": [],
   "source": [
    "# redo with grid-search\n",
    "\n",
    "SEED = 666\n",
    "sampler = OS.SMOTE(random_state=SEED)\n",
    "scaler = PP.StandardScaler()\n",
    "logreg_best = LM.LogisticRegression(solver='saga', penalty='l2', max_iter=MAX_ITER, random_state=SEED)\n",
    "pipeline = PL.Pipeline([('sampler', sampler), ('transformer', scaler), ('estimator', logreg_best)])\n",
    "\n",
    "param_dx = {\n",
    "    'estimator__C': [1e-6, 1e-5, 1e-4, 1e-3, 1e-2, 1e-1, 1e0, 1e1, 1e2, 1e3, 1e4, 1e5],\n",
    "    }\n",
    "\n",
    "searcher = MS.GridSearchCV(pipeline, param_dx, scoring='accuracy', cv=5)"
   ]
  },
  {
   "cell_type": "code",
   "execution_count": 32,
   "metadata": {},
   "outputs": [],
   "source": [
    "# run the grid search\n",
    "\n",
    "searcher.fit(X_train, y_train);"
   ]
  },
  {
   "cell_type": "code",
   "execution_count": 36,
   "metadata": {},
   "outputs": [
    {
     "name": "stdout",
     "output_type": "stream",
     "text": [
      "Grid Search found the following optimal parameters: \n",
      "estimator__C: 10000.0\n",
      "\n",
      "Training Accuracy: 78.83%\n",
      "\n",
      "Validation Accuracy: 77.57%\n",
      "\n",
      "Random Guess Accuracy: 74.97%\n"
     ]
    }
   ],
   "source": [
    "# check the best parameters found by grid search\n",
    "\n",
    "best_parameters = searcher.best_params_\n",
    "\n",
    "print(\"Grid Search found the following optimal parameters: \")\n",
    "for param_name in sorted(best_parameters.keys()):\n",
    "    print(\"%s: %r\" % (param_name, best_parameters[param_name]))\n",
    "\n",
    "train_pred = searcher.predict(X_train)\n",
    "train_accuracy = MT.accuracy_score(y_train, train_pred)\n",
    "test_pred = searcher.predict(X_test)\n",
    "test_accuracy = MT.accuracy_score(y_test, test_pred)\n",
    "\n",
    "print(\"\")\n",
    "print(\"Training Accuracy: {:.4}%\".format(train_accuracy * 100))\n",
    "print(\"\")\n",
    "print(\"Validation Accuracy: {:.4}%\".format(test_accuracy * 100))\n",
    "\n",
    "guess_TP = 0\n",
    "guess_TN = len(y_test[y_test==0])\n",
    "guess_FP = 0\n",
    "guess_FN = len(y_test[y_test==1])\n",
    "\n",
    "print(\"\")\n",
    "print(\"Random Guess Accuracy: {:.4}%\".format( \n",
    "    (guess_TP + guess_TN) / (guess_TP + guess_TN + guess_FP + guess_FN) * 100))"
   ]
  },
  {
   "cell_type": "code",
   "execution_count": 37,
   "metadata": {},
   "outputs": [
    {
     "data": {
      "text/plain": [
       "(384,)"
      ]
     },
     "execution_count": 37,
     "metadata": {},
     "output_type": "execute_result"
    }
   ],
   "source": [
    "# now run with balanced test set\n",
    "\n",
    "undersampler = US.RandomUnderSampler()\n",
    "X_test_under, y_test_under = undersampler.fit_resample(X_test, y_test)\n",
    "X_test_under.shape\n",
    "y_test_under.shape"
   ]
  },
  {
   "cell_type": "code",
   "execution_count": 38,
   "metadata": {},
   "outputs": [
    {
     "name": "stdout",
     "output_type": "stream",
     "text": [
      "\n",
      "Training Accuracy: 78.83%\n",
      "\n",
      "Validation Accuracy: 67.71%\n",
      "\n",
      "Random Guess Accuracy: 50.0%\n"
     ]
    }
   ],
   "source": [
    "train_pred = searcher.predict(X_train)\n",
    "train_accuracy = MT.accuracy_score(y_train, train_pred)\n",
    "test_pred = searcher.predict(X_test_under)\n",
    "test_accuracy = MT.accuracy_score(y_test_under, test_pred)\n",
    "\n",
    "print(\"\")\n",
    "print(\"Training Accuracy: {:.4}%\".format(train_accuracy * 100))\n",
    "print(\"\")\n",
    "print(\"Validation Accuracy: {:.4}%\".format(test_accuracy * 100))\n",
    "\n",
    "guess_TP = 0\n",
    "guess_TN = len(y_test_under[y_test_under==0])\n",
    "guess_FP = 0\n",
    "guess_FN = len(y_test_under[y_test_under==1])\n",
    "\n",
    "print(\"\")\n",
    "print(\"Random Guess Accuracy: {:.4}%\".format( \n",
    "    (guess_TP + guess_TN) / (guess_TP + guess_TN + guess_FP + guess_FN) * 100))"
   ]
  },
  {
   "cell_type": "code",
   "execution_count": null,
   "metadata": {},
   "outputs": [],
   "source": []
  }
 ],
 "metadata": {
  "kernelspec": {
   "display_name": "Python 3",
   "language": "python",
   "name": "python3"
  },
  "language_info": {
   "codemirror_mode": {
    "name": "ipython",
    "version": 3
   },
   "file_extension": ".py",
   "mimetype": "text/x-python",
   "name": "python",
   "nbconvert_exporter": "python",
   "pygments_lexer": "ipython3",
   "version": "3.7.3"
  }
 },
 "nbformat": 4,
 "nbformat_minor": 2
}
