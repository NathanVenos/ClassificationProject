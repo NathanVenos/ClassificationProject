{
 "cells": [
  {
   "cell_type": "markdown",
   "metadata": {},
   "source": [
    "# Analysis: Random Forest for Profitability\n",
    "\n",
    "Goal: Use random forest to create a model for the profitability binary-class feature."
   ]
  },
  {
   "cell_type": "code",
   "execution_count": 1,
   "metadata": {},
   "outputs": [],
   "source": [
    "import pandas as PD\n",
    "import numpy as NP\n",
    "\n",
    "import sklearn.preprocessing as PP\n",
    "import imblearn.pipeline as PL\n",
    "import sklearn.model_selection as MS\n",
    "import imblearn.under_sampling as US\n",
    "import imblearn.over_sampling as OS\n",
    "\n",
    "import sklearn.tree as TR\n",
    "import sklearn.ensemble as ES \n",
    "\n",
    "import sklearn.metrics as MT     # roc_auc_score, roc_curve, auc\n",
    "\n",
    "import matplotlib.pyplot as MP\n",
    "import seaborn as SB\n",
    "%matplotlib inline"
   ]
  },
  {
   "cell_type": "code",
   "execution_count": 2,
   "metadata": {},
   "outputs": [],
   "source": [
    "from IPython.core.interactiveshell import InteractiveShell\n",
    "InteractiveShell.ast_node_interactivity = 'all'"
   ]
  },
  {
   "cell_type": "markdown",
   "metadata": {},
   "source": [
    "## Prepare Target & Features"
   ]
  },
  {
   "cell_type": "code",
   "execution_count": 3,
   "metadata": {},
   "outputs": [
    {
     "data": {
      "text/html": [
       "<div>\n",
       "<style scoped>\n",
       "    .dataframe tbody tr th:only-of-type {\n",
       "        vertical-align: middle;\n",
       "    }\n",
       "\n",
       "    .dataframe tbody tr th {\n",
       "        vertical-align: top;\n",
       "    }\n",
       "\n",
       "    .dataframe thead th {\n",
       "        text-align: right;\n",
       "    }\n",
       "</style>\n",
       "<table border=\"1\" class=\"dataframe\">\n",
       "  <thead>\n",
       "    <tr style=\"text-align: right;\">\n",
       "      <th></th>\n",
       "      <th>set_no</th>\n",
       "      <th>name</th>\n",
       "      <th>price_store</th>\n",
       "      <th>price_used</th>\n",
       "      <th>year</th>\n",
       "      <th>volume</th>\n",
       "      <th>weight</th>\n",
       "      <th>number_parts</th>\n",
       "      <th>total_parts</th>\n",
       "      <th>number_spare_parts</th>\n",
       "      <th>...</th>\n",
       "      <th>windscreens_and_fuselage_tot_prts</th>\n",
       "      <th>znap_tot_prts</th>\n",
       "      <th>category</th>\n",
       "      <th>scolor_1st</th>\n",
       "      <th>scolor_2nd</th>\n",
       "      <th>popularity</th>\n",
       "      <th>aftermarket</th>\n",
       "      <th>adj_store_price</th>\n",
       "      <th>adj_aftermarket</th>\n",
       "      <th>profitable</th>\n",
       "    </tr>\n",
       "  </thead>\n",
       "  <tbody>\n",
       "    <tr>\n",
       "      <th>0</th>\n",
       "      <td>15-1</td>\n",
       "      <td>Castle Minifigures</td>\n",
       "      <td>NaN</td>\n",
       "      <td>63.0</td>\n",
       "      <td>1984</td>\n",
       "      <td>NaN</td>\n",
       "      <td>NaN</td>\n",
       "      <td>16</td>\n",
       "      <td>38</td>\n",
       "      <td>0</td>\n",
       "      <td>...</td>\n",
       "      <td>0</td>\n",
       "      <td>0</td>\n",
       "      <td>Historical</td>\n",
       "      <td>Gray</td>\n",
       "      <td>Black</td>\n",
       "      <td>NaN</td>\n",
       "      <td>NaN</td>\n",
       "      <td>NaN</td>\n",
       "      <td>NaN</td>\n",
       "      <td>NaN</td>\n",
       "    </tr>\n",
       "    <tr>\n",
       "      <th>1</th>\n",
       "      <td>105-1</td>\n",
       "      <td>Mail Van</td>\n",
       "      <td>NaN</td>\n",
       "      <td>102.0</td>\n",
       "      <td>1984</td>\n",
       "      <td>NaN</td>\n",
       "      <td>NaN</td>\n",
       "      <td>34</td>\n",
       "      <td>65</td>\n",
       "      <td>0</td>\n",
       "      <td>...</td>\n",
       "      <td>1</td>\n",
       "      <td>0</td>\n",
       "      <td>Modern-Town</td>\n",
       "      <td>Red</td>\n",
       "      <td>White</td>\n",
       "      <td>4.0</td>\n",
       "      <td>NaN</td>\n",
       "      <td>NaN</td>\n",
       "      <td>NaN</td>\n",
       "      <td>NaN</td>\n",
       "    </tr>\n",
       "    <tr>\n",
       "      <th>2</th>\n",
       "      <td>3639-1</td>\n",
       "      <td>Paddy Wagon</td>\n",
       "      <td>NaN</td>\n",
       "      <td>14.0</td>\n",
       "      <td>1984</td>\n",
       "      <td>NaN</td>\n",
       "      <td>NaN</td>\n",
       "      <td>11</td>\n",
       "      <td>12</td>\n",
       "      <td>0</td>\n",
       "      <td>...</td>\n",
       "      <td>0</td>\n",
       "      <td>0</td>\n",
       "      <td>Bigfig-Junior</td>\n",
       "      <td>Blue</td>\n",
       "      <td>Black</td>\n",
       "      <td>NaN</td>\n",
       "      <td>NaN</td>\n",
       "      <td>NaN</td>\n",
       "      <td>NaN</td>\n",
       "      <td>NaN</td>\n",
       "    </tr>\n",
       "    <tr>\n",
       "      <th>3</th>\n",
       "      <td>3664-1</td>\n",
       "      <td>Bertie Bulldog (Police Chief) and Constable Bu...</td>\n",
       "      <td>NaN</td>\n",
       "      <td>31.0</td>\n",
       "      <td>1984</td>\n",
       "      <td>NaN</td>\n",
       "      <td>NaN</td>\n",
       "      <td>24</td>\n",
       "      <td>63</td>\n",
       "      <td>0</td>\n",
       "      <td>...</td>\n",
       "      <td>0</td>\n",
       "      <td>0</td>\n",
       "      <td>Bigfig-Junior</td>\n",
       "      <td>Blue</td>\n",
       "      <td>Red</td>\n",
       "      <td>5.0</td>\n",
       "      <td>NaN</td>\n",
       "      <td>NaN</td>\n",
       "      <td>NaN</td>\n",
       "      <td>NaN</td>\n",
       "    </tr>\n",
       "    <tr>\n",
       "      <th>4</th>\n",
       "      <td>3670-1</td>\n",
       "      <td>Service Station</td>\n",
       "      <td>20.0</td>\n",
       "      <td>54.0</td>\n",
       "      <td>1984</td>\n",
       "      <td>NaN</td>\n",
       "      <td>NaN</td>\n",
       "      <td>30</td>\n",
       "      <td>54</td>\n",
       "      <td>0</td>\n",
       "      <td>...</td>\n",
       "      <td>0</td>\n",
       "      <td>0</td>\n",
       "      <td>Bigfig-Junior</td>\n",
       "      <td>Yellow</td>\n",
       "      <td>Red</td>\n",
       "      <td>NaN</td>\n",
       "      <td>34.0</td>\n",
       "      <td>49.62</td>\n",
       "      <td>4.38</td>\n",
       "      <td>1.0</td>\n",
       "    </tr>\n",
       "  </tbody>\n",
       "</table>\n",
       "<p>5 rows × 134 columns</p>\n",
       "</div>"
      ],
      "text/plain": [
       "   set_no                                               name  price_store  \\\n",
       "0    15-1                                 Castle Minifigures          NaN   \n",
       "1   105-1                                           Mail Van          NaN   \n",
       "2  3639-1                                        Paddy Wagon          NaN   \n",
       "3  3664-1  Bertie Bulldog (Police Chief) and Constable Bu...          NaN   \n",
       "4  3670-1                                    Service Station         20.0   \n",
       "\n",
       "   price_used  year  volume  weight  number_parts  total_parts  \\\n",
       "0        63.0  1984     NaN     NaN            16           38   \n",
       "1       102.0  1984     NaN     NaN            34           65   \n",
       "2        14.0  1984     NaN     NaN            11           12   \n",
       "3        31.0  1984     NaN     NaN            24           63   \n",
       "4        54.0  1984     NaN     NaN            30           54   \n",
       "\n",
       "   number_spare_parts  ...  windscreens_and_fuselage_tot_prts  znap_tot_prts  \\\n",
       "0                   0  ...                                  0              0   \n",
       "1                   0  ...                                  1              0   \n",
       "2                   0  ...                                  0              0   \n",
       "3                   0  ...                                  0              0   \n",
       "4                   0  ...                                  0              0   \n",
       "\n",
       "        category  scolor_1st  scolor_2nd  popularity  aftermarket  \\\n",
       "0     Historical        Gray       Black         NaN          NaN   \n",
       "1    Modern-Town         Red       White         4.0          NaN   \n",
       "2  Bigfig-Junior        Blue       Black         NaN          NaN   \n",
       "3  Bigfig-Junior        Blue         Red         5.0          NaN   \n",
       "4  Bigfig-Junior      Yellow         Red         NaN         34.0   \n",
       "\n",
       "   adj_store_price  adj_aftermarket  profitable  \n",
       "0              NaN              NaN         NaN  \n",
       "1              NaN              NaN         NaN  \n",
       "2              NaN              NaN         NaN  \n",
       "3              NaN              NaN         NaN  \n",
       "4            49.62             4.38         1.0  \n",
       "\n",
       "[5 rows x 134 columns]"
      ]
     },
     "execution_count": 3,
     "metadata": {},
     "output_type": "execute_result"
    },
    {
     "name": "stdout",
     "output_type": "stream",
     "text": [
      "<class 'pandas.core.frame.DataFrame'>\n",
      "RangeIndex: 4922 entries, 0 to 4921\n",
      "Columns: 134 entries, set_no to profitable\n",
      "dtypes: float64(9), int64(120), object(5)\n",
      "memory usage: 5.0+ MB\n"
     ]
    }
   ],
   "source": [
    "FEATURE_FILE = '../data/merge_feature.csv'\n",
    "full_df = PD.read_csv(FEATURE_FILE)\n",
    "full_df.head()\n",
    "full_df.info()"
   ]
  },
  {
   "cell_type": "code",
   "execution_count": 4,
   "metadata": {},
   "outputs": [],
   "source": [
    "# drop volume and weight since they are sparse and colinear\n",
    "\n",
    "full_df = full_df.drop(columns=['volume', 'weight'])"
   ]
  },
  {
   "cell_type": "code",
   "execution_count": 5,
   "metadata": {},
   "outputs": [],
   "source": [
    "# drop total_parts and number_parts since they are colinear with the parts category features\n",
    "\n",
    "full_df = full_df.drop(columns=['total_parts', 'number_parts'])"
   ]
  },
  {
   "cell_type": "code",
   "execution_count": 6,
   "metadata": {},
   "outputs": [
    {
     "data": {
      "text/plain": [
       "(3832, 130)"
      ]
     },
     "execution_count": 6,
     "metadata": {},
     "output_type": "execute_result"
    }
   ],
   "source": [
    "# filter out rows without profitable feature\n",
    "\n",
    "full_df = full_df.loc[full_df['profitable'].isna()==False]\n",
    "full_df.shape"
   ]
  },
  {
   "cell_type": "code",
   "execution_count": 7,
   "metadata": {},
   "outputs": [
    {
     "data": {
      "text/plain": [
       "(3831, 130)"
      ]
     },
     "execution_count": 7,
     "metadata": {},
     "output_type": "execute_result"
    }
   ],
   "source": [
    "# filter out rows without colors\n",
    "\n",
    "full_df = full_df.loc[ (full_df['scolor_1st'].isna()==False) | (full_df['scolor_2nd'].isna()==False) ]\n",
    "full_df.shape"
   ]
  },
  {
   "cell_type": "code",
   "execution_count": 8,
   "metadata": {},
   "outputs": [
    {
     "data": {
      "text/plain": [
       "(3831,)"
      ]
     },
     "execution_count": 8,
     "metadata": {},
     "output_type": "execute_result"
    }
   ],
   "source": [
    "# target series\n",
    "\n",
    "target_sr = full_df['profitable']\n",
    "target_sr.shape"
   ]
  },
  {
   "cell_type": "code",
   "execution_count": 9,
   "metadata": {
    "scrolled": true
   },
   "outputs": [
    {
     "data": {
      "text/plain": [
       "(3831, 149)"
      ]
     },
     "execution_count": 9,
     "metadata": {},
     "output_type": "execute_result"
    },
    {
     "data": {
      "text/plain": [
       "Index(['string_bands_and_reels_cnt_prts',\n",
       "       'flags_signs_plastics_and_cloth_tot_prts', 'pneumatics_tot_prts',\n",
       "       'bricks_special_cnt_prts', 'plates_cnt_prts', 'plates_special_cnt_prts',\n",
       "       'baseplates_cnt_prts', 'ho_scale_cnt_prts', 'rock_tot_prts',\n",
       "       'bricks_curved_tot_prts',\n",
       "       ...\n",
       "       'scolor_1st_Yellow', 'scolor_2nd_Blue', 'scolor_2nd_Brown',\n",
       "       'scolor_2nd_Gray', 'scolor_2nd_Green', 'scolor_2nd_Red',\n",
       "       'scolor_2nd_Tan', 'scolor_2nd_Transparent', 'scolor_2nd_White',\n",
       "       'scolor_2nd_Yellow'],\n",
       "      dtype='object', length=149)"
      ]
     },
     "execution_count": 9,
     "metadata": {},
     "output_type": "execute_result"
    }
   ],
   "source": [
    "# feature dataframe with one-hot encoding\n",
    "\n",
    "columns_st = set(full_df.columns)\n",
    "drop_st = set(['set_no', 'name', 'price_store', 'price_used', 'aftermarket', 'popularity', \n",
    "               'adj_store_price', 'adj_aftermarket', 'profitable'])\n",
    "feature_st = columns_st.difference(drop_st)\n",
    "\n",
    "feature_cat_df = full_df[list(feature_st)]\n",
    "\n",
    "feature_df = PD.get_dummies(feature_cat_df, drop_first= True, \n",
    "               columns=['category', 'scolor_1st', 'scolor_2nd'])\n",
    "feature_df.shape\n",
    "feature_df.columns"
   ]
  },
  {
   "cell_type": "markdown",
   "metadata": {},
   "source": [
    "## Split Test & Standardize"
   ]
  },
  {
   "cell_type": "code",
   "execution_count": 10,
   "metadata": {},
   "outputs": [],
   "source": [
    "TEST_SPLIT = 0.2\n",
    "SEED = 1"
   ]
  },
  {
   "cell_type": "code",
   "execution_count": 11,
   "metadata": {
    "scrolled": false
   },
   "outputs": [
    {
     "data": {
      "text/plain": [
       "(3064,)"
      ]
     },
     "execution_count": 11,
     "metadata": {},
     "output_type": "execute_result"
    },
    {
     "data": {
      "text/plain": [
       "(767,)"
      ]
     },
     "execution_count": 11,
     "metadata": {},
     "output_type": "execute_result"
    },
    {
     "data": {
      "text/plain": [
       "(3064, 149)"
      ]
     },
     "execution_count": 11,
     "metadata": {},
     "output_type": "execute_result"
    },
    {
     "data": {
      "text/plain": [
       "(767, 149)"
      ]
     },
     "execution_count": 11,
     "metadata": {},
     "output_type": "execute_result"
    }
   ],
   "source": [
    "y_train, y_test, X_train, X_test = MS.train_test_split(target_sr, feature_df, \n",
    "                                                       stratify=feature_df['year'], \n",
    "                                                       test_size=TEST_SPLIT, random_state=SEED)\n",
    "\n",
    "y_train.shape\n",
    "y_test.shape \n",
    "X_train.shape\n",
    "X_test.shape"
   ]
  },
  {
   "cell_type": "code",
   "execution_count": 12,
   "metadata": {},
   "outputs": [
    {
     "data": {
      "text/plain": [
       "StandardScaler(copy=True, with_mean=True, with_std=True)"
      ]
     },
     "execution_count": 12,
     "metadata": {},
     "output_type": "execute_result"
    },
    {
     "data": {
      "text/plain": [
       "(149,)"
      ]
     },
     "execution_count": 12,
     "metadata": {},
     "output_type": "execute_result"
    }
   ],
   "source": [
    "# fit the scalers based on the training set\n",
    "# must include all features, including one-hot encoded ones\n",
    "# target variable does not need to be transformed\n",
    "\n",
    "scaler = PP.StandardScaler()\n",
    "scaler.fit(X_train)\n",
    "scaler.mean_.shape"
   ]
  },
  {
   "cell_type": "code",
   "execution_count": 13,
   "metadata": {},
   "outputs": [
    {
     "data": {
      "text/plain": [
       "(3064, 149)"
      ]
     },
     "execution_count": 13,
     "metadata": {},
     "output_type": "execute_result"
    }
   ],
   "source": [
    "# create standardized feature sets\n",
    "\n",
    "X_train_std = scaler.transform(X_train)\n",
    "X_test_std = scaler.transform(X_test)\n",
    "\n",
    "X_train_std.shape"
   ]
  },
  {
   "cell_type": "markdown",
   "metadata": {},
   "source": [
    "## Decision Tree Classifier"
   ]
  },
  {
   "cell_type": "code",
   "execution_count": 14,
   "metadata": {},
   "outputs": [],
   "source": [
    "# setup for several algorithms\n",
    "\n",
    "ESTIMATORS = 1000\n",
    "algorithm_ls = []\n",
    "alpha_ls = [1e-3, 1e-2, 1e-1, 1, 1e1, 1e2]"
   ]
  },
  {
   "cell_type": "code",
   "execution_count": 15,
   "metadata": {},
   "outputs": [
    {
     "data": {
      "text/plain": [
       "DecisionTreeClassifier(class_weight=None, criterion='gini', max_depth=None,\n",
       "                       max_features=None, max_leaf_nodes=None,\n",
       "                       min_impurity_decrease=0.0, min_impurity_split=None,\n",
       "                       min_samples_leaf=1, min_samples_split=2,\n",
       "                       min_weight_fraction_leaf=0.0, presort=False,\n",
       "                       random_state=None, splitter='best')"
      ]
     },
     "execution_count": 15,
     "metadata": {},
     "output_type": "execute_result"
    },
    {
     "data": {
      "text/plain": [
       "0.9983681462140992"
      ]
     },
     "execution_count": 15,
     "metadata": {},
     "output_type": "execute_result"
    }
   ],
   "source": [
    "# standalone \n",
    "\n",
    "dtc = TR.DecisionTreeClassifier()\n",
    "dtc.fit(X_train_std, y_train)\n",
    "dtc.score(X_train_std, y_train)"
   ]
  },
  {
   "cell_type": "code",
   "execution_count": 16,
   "metadata": {},
   "outputs": [
    {
     "data": {
      "text/plain": [
       "{'fit_time': array([0.16243815, 0.10233903, 0.09841204, 0.1056211 , 0.0976932 ]),\n",
       " 'score_time': array([0.00377178, 0.00303984, 0.00271416, 0.00230908, 0.00237489]),\n",
       " 'test_score': array([0.71986971, 0.70309951, 0.73409462, 0.70915033, 0.67810458]),\n",
       " 'train_score': array([0.99877551, 0.99836801, 0.99836801, 0.99877651, 0.99796085])}"
      ]
     },
     "execution_count": 16,
     "metadata": {},
     "output_type": "execute_result"
    }
   ],
   "source": [
    "# use cross validation to evaluate algorithm\n",
    "\n",
    "scaler = PP.StandardScaler()\n",
    "decisiontree = TR.DecisionTreeClassifier()\n",
    "pipeline = PL.Pipeline([('transformer', scaler), ('estimator', decisiontree)])\n",
    "\n",
    "cv_results = MS.cross_validate(pipeline, X_train, y_train, cv=5, return_train_score=True)\n",
    "cv_results"
   ]
  },
  {
   "cell_type": "code",
   "execution_count": 17,
   "metadata": {},
   "outputs": [
    {
     "data": {
      "text/plain": [
       "{'type': 'decision-tree',\n",
       " 'cvtrain_score': 0.9984497787150506,\n",
       " 'cvtrain_error': 0.0003050501182839549,\n",
       " 'cvtest_score': 0.7088637472088484,\n",
       " 'cvtest_error': 0.018639544715792666}"
      ]
     },
     "execution_count": 17,
     "metadata": {},
     "output_type": "execute_result"
    }
   ],
   "source": [
    "new_dx = {\n",
    "    'type': 'decision-tree',\n",
    "    #'lambda': NP.min(alpha_ls) - 0.5 *NP.min(alpha_ls), \n",
    "    'cvtrain_score': cv_results['train_score'].mean(),\n",
    "    'cvtrain_error': cv_results['train_score'].std(),\n",
    "    'cvtest_score': cv_results['test_score'].mean(),\n",
    "    'cvtest_error': cv_results['test_score'].std(),\n",
    "}\n",
    "algorithm_ls.append(new_dx)\n",
    "new_dx"
   ]
  },
  {
   "cell_type": "markdown",
   "metadata": {},
   "source": [
    "## Random Forest with Imbalance"
   ]
  },
  {
   "cell_type": "code",
   "execution_count": 18,
   "metadata": {},
   "outputs": [
    {
     "data": {
      "text/plain": [
       "RandomForestClassifier(bootstrap=True, class_weight=None, criterion='gini',\n",
       "                       max_depth=None, max_features='auto', max_leaf_nodes=None,\n",
       "                       min_impurity_decrease=0.0, min_impurity_split=None,\n",
       "                       min_samples_leaf=1, min_samples_split=2,\n",
       "                       min_weight_fraction_leaf=0.0, n_estimators=1000,\n",
       "                       n_jobs=None, oob_score=False, random_state=None,\n",
       "                       verbose=0, warm_start=False)"
      ]
     },
     "execution_count": 18,
     "metadata": {},
     "output_type": "execute_result"
    },
    {
     "data": {
      "text/plain": [
       "0.9983681462140992"
      ]
     },
     "execution_count": 18,
     "metadata": {},
     "output_type": "execute_result"
    }
   ],
   "source": [
    "# standalone \n",
    "\n",
    "randforest = ES.RandomForestClassifier(n_estimators=ESTIMATORS)\n",
    "randforest.fit(X_train_std, y_train)\n",
    "randforest.score(X_train_std, y_train)"
   ]
  },
  {
   "cell_type": "code",
   "execution_count": 19,
   "metadata": {},
   "outputs": [
    {
     "data": {
      "text/plain": [
       "{'fit_time': array([5.5668869 , 5.32191491, 5.43637609, 5.55535197, 5.26290941]),\n",
       " 'score_time': array([0.185781  , 0.16254497, 0.16439509, 0.17067909, 0.17933488]),\n",
       " 'test_score': array([0.82247557, 0.80424144, 0.78140294, 0.79248366, 0.76797386]),\n",
       " 'train_score': array([0.99877551, 0.99836801, 0.99836801, 0.99877651, 0.99796085])}"
      ]
     },
     "execution_count": 19,
     "metadata": {},
     "output_type": "execute_result"
    }
   ],
   "source": [
    "# use cross validation to evaluate algorithm\n",
    "\n",
    "scaler = PP.StandardScaler()\n",
    "randforest = ES.RandomForestClassifier(n_estimators=ESTIMATORS)\n",
    "pipeline = PL.Pipeline([('transformer', scaler), ('estimator', randforest)])\n",
    "\n",
    "cv_results = MS.cross_validate(pipeline, X_train, y_train, cv=5, return_train_score=True)\n",
    "cv_results"
   ]
  },
  {
   "cell_type": "code",
   "execution_count": 20,
   "metadata": {
    "scrolled": true
   },
   "outputs": [
    {
     "data": {
      "text/plain": [
       "{'type': 'random-f',\n",
       " 'cvtrain_score': 0.9984497787150506,\n",
       " 'cvtrain_error': 0.0003050501182839549,\n",
       " 'cvtest_score': 0.7937154916627429,\n",
       " 'cvtest_error': 0.01872797813541741}"
      ]
     },
     "execution_count": 20,
     "metadata": {},
     "output_type": "execute_result"
    }
   ],
   "source": [
    "new_dx = {\n",
    "    'type': 'random-f',\n",
    "    #'lambda': NP.min(alpha_ls) - 0.5 *NP.min(alpha_ls), \n",
    "    'cvtrain_score': cv_results['train_score'].mean(),\n",
    "    'cvtrain_error': cv_results['train_score'].std(),\n",
    "    'cvtest_score': cv_results['test_score'].mean(),\n",
    "    'cvtest_error': cv_results['test_score'].std(),\n",
    "}\n",
    "new_dx"
   ]
  },
  {
   "cell_type": "code",
   "execution_count": 21,
   "metadata": {},
   "outputs": [
    {
     "data": {
      "text/plain": [
       "array([[0.96      , 0.04      ],\n",
       "       [0.79016667, 0.20983333],\n",
       "       [0.574     , 0.426     ],\n",
       "       ...,\n",
       "       [0.815     , 0.185     ],\n",
       "       [0.697     , 0.303     ],\n",
       "       [0.528     , 0.472     ]])"
      ]
     },
     "execution_count": 21,
     "metadata": {},
     "output_type": "execute_result"
    }
   ],
   "source": [
    "# use cross validation to get test results for ROC curve\n",
    "\n",
    "scaler = PP.StandardScaler()\n",
    "randforest = ES.RandomForestClassifier(n_estimators=ESTIMATORS)\n",
    "pipeline = PL.Pipeline([('transformer', scaler), ('estimator', randforest)])\n",
    "\n",
    "predict_imbal = MS.cross_val_predict(pipeline, X_train, y_train, cv=5, method='predict_proba')\n",
    "predict_imbal"
   ]
  },
  {
   "cell_type": "code",
   "execution_count": 22,
   "metadata": {},
   "outputs": [
    {
     "data": {
      "text/plain": [
       "(877,)"
      ]
     },
     "execution_count": 22,
     "metadata": {},
     "output_type": "execute_result"
    },
    {
     "data": {
      "text/plain": [
       "(877,)"
      ]
     },
     "execution_count": 22,
     "metadata": {},
     "output_type": "execute_result"
    },
    {
     "data": {
      "text/plain": [
       "numpy.ndarray"
      ]
     },
     "execution_count": 22,
     "metadata": {},
     "output_type": "execute_result"
    }
   ],
   "source": [
    "# get the TP, FP, and thresholds rates for ROC \n",
    "\n",
    "fpr_imbal, tpr_imbal, thresh_imbal = MT.roc_curve(y_train, predict_imbal[:,1])\n",
    "tpr_imbal.shape\n",
    "fpr_imbal.shape\n",
    "type(thresh_imbal)"
   ]
  },
  {
   "cell_type": "code",
   "execution_count": 23,
   "metadata": {
    "scrolled": true
   },
   "outputs": [
    {
     "data": {
      "text/plain": [
       "[0.8080194410692588, 0.3754556500607533, 0.0692588092345079]"
      ]
     },
     "execution_count": 23,
     "metadata": {},
     "output_type": "execute_result"
    },
    {
     "data": {
      "text/plain": [
       "[0.32351628737170907, 0.052655064703257475, 0.006693440428380187]"
      ]
     },
     "execution_count": 23,
     "metadata": {},
     "output_type": "execute_result"
    }
   ],
   "source": [
    "# get the Roc values for some benchmark thresholds\n",
    "# use >= to threshold because actual thrshold value may not exist\n",
    "\n",
    "thresh25_idx = NP.where(thresh_imbal >= 0.25)\n",
    "thresh50_idx = NP.where(thresh_imbal >= 0.50)\n",
    "thresh75_idx = NP.where(thresh_imbal >= 0.75)\n",
    "\n",
    "thresh_tpr_imbal = [ tpr_imbal[thresh25_idx][-1], tpr_imbal[thresh50_idx][-1], tpr_imbal[thresh75_idx][-1] ]\n",
    "thresh_fpr_imbal = [ fpr_imbal[thresh25_idx][-1], fpr_imbal[thresh50_idx][-1], fpr_imbal[thresh75_idx][-1] ]\n",
    "\n",
    "thresh_tpr_imbal \n",
    "thresh_fpr_imbal"
   ]
  },
  {
   "cell_type": "markdown",
   "metadata": {},
   "source": [
    "## Random Forest with Undersampling"
   ]
  },
  {
   "cell_type": "code",
   "execution_count": 24,
   "metadata": {},
   "outputs": [
    {
     "data": {
      "text/plain": [
       "(1646, 149)"
      ]
     },
     "execution_count": 24,
     "metadata": {},
     "output_type": "execute_result"
    },
    {
     "data": {
      "text/plain": [
       "(1646,)"
      ]
     },
     "execution_count": 24,
     "metadata": {},
     "output_type": "execute_result"
    }
   ],
   "source": [
    "# after splitting, balance the dataset\n",
    "\n",
    "undersampler = US.RandomUnderSampler()\n",
    "X_under, y_under = undersampler.fit_resample(X_train, y_train)\n",
    "X_under.shape\n",
    "y_under.shape"
   ]
  },
  {
   "cell_type": "code",
   "execution_count": 25,
   "metadata": {},
   "outputs": [
    {
     "data": {
      "text/plain": [
       "array([[0.802, 0.198],\n",
       "       [0.632, 0.368],\n",
       "       [0.368, 0.632],\n",
       "       ...,\n",
       "       [0.603, 0.397],\n",
       "       [0.502, 0.498],\n",
       "       [0.381, 0.619]])"
      ]
     },
     "execution_count": 25,
     "metadata": {},
     "output_type": "execute_result"
    }
   ],
   "source": [
    "# use cross validation to get test results for ROC curve\n",
    "\n",
    "sampler = US.RandomUnderSampler()\n",
    "scaler = PP.StandardScaler()\n",
    "randforest = ES.RandomForestClassifier(n_estimators=ESTIMATORS)\n",
    "pipeline = PL.Pipeline([('sampler', sampler), ('transformer', scaler), ('estimator', randforest)])\n",
    "\n",
    "predict_under = MS.cross_val_predict(pipeline, X_train, y_train, cv=5, method='predict_proba')\n",
    "predict_under"
   ]
  },
  {
   "cell_type": "code",
   "execution_count": 26,
   "metadata": {},
   "outputs": [
    {
     "data": {
      "text/plain": [
       "(876,)"
      ]
     },
     "execution_count": 26,
     "metadata": {},
     "output_type": "execute_result"
    },
    {
     "data": {
      "text/plain": [
       "(876,)"
      ]
     },
     "execution_count": 26,
     "metadata": {},
     "output_type": "execute_result"
    }
   ],
   "source": [
    "# get the TP, FP, and thresholds rates for ROC \n",
    "\n",
    "fpr_under, tpr_under, thresh_under = MT.roc_curve(y_train, predict_under[:,1])\n",
    "tpr_under.shape\n",
    "fpr_under.shape"
   ]
  },
  {
   "cell_type": "code",
   "execution_count": 27,
   "metadata": {},
   "outputs": [
    {
     "data": {
      "text/plain": [
       "[0.9720534629404617, 0.7059538274605103, 0.25273390036452004]"
      ]
     },
     "execution_count": 27,
     "metadata": {},
     "output_type": "execute_result"
    },
    {
     "data": {
      "text/plain": [
       "[0.8063364569388666, 0.2556894243641232, 0.0321285140562249]"
      ]
     },
     "execution_count": 27,
     "metadata": {},
     "output_type": "execute_result"
    }
   ],
   "source": [
    "# get the Roc values for some benchmark thresholds\n",
    "# use >= to threshold because actual thrshold value may not exist\n",
    "\n",
    "thresh25_idx = NP.where(thresh_under >= 0.25)\n",
    "thresh50_idx = NP.where(thresh_under >= 0.50)\n",
    "thresh75_idx = NP.where(thresh_under >= 0.75)\n",
    "\n",
    "thresh_tpr_under = [ tpr_under[thresh25_idx][-1], tpr_under[thresh50_idx][-1], tpr_under[thresh75_idx][-1] ]\n",
    "thresh_fpr_under = [ fpr_under[thresh25_idx][-1], fpr_under[thresh50_idx][-1], fpr_under[thresh75_idx][-1] ]\n",
    "\n",
    "thresh_tpr_under \n",
    "thresh_fpr_under"
   ]
  },
  {
   "cell_type": "markdown",
   "metadata": {},
   "source": [
    "## Random Forest with SMOTE"
   ]
  },
  {
   "cell_type": "code",
   "execution_count": 28,
   "metadata": {},
   "outputs": [
    {
     "data": {
      "text/plain": [
       "array([[0.944 , 0.056 ],\n",
       "       [0.7405, 0.2595],\n",
       "       [0.425 , 0.575 ],\n",
       "       ...,\n",
       "       [0.586 , 0.414 ],\n",
       "       [0.688 , 0.312 ],\n",
       "       [0.451 , 0.549 ]])"
      ]
     },
     "execution_count": 28,
     "metadata": {},
     "output_type": "execute_result"
    }
   ],
   "source": [
    "# use cross validation to get test results for ROC curve\n",
    "\n",
    "sampler = OS.SMOTE()\n",
    "scaler = PP.StandardScaler()\n",
    "randforest = ES.RandomForestClassifier(n_estimators=ESTIMATORS)\n",
    "pipeline = PL.Pipeline([('sampler', sampler), ('transformer', scaler), ('estimator', randforest)])\n",
    "\n",
    "predict_over = MS.cross_val_predict(pipeline, X_train, y_train, cv=5, method='predict_proba')\n",
    "predict_over"
   ]
  },
  {
   "cell_type": "code",
   "execution_count": 29,
   "metadata": {},
   "outputs": [
    {
     "data": {
      "text/plain": [
       "(903,)"
      ]
     },
     "execution_count": 29,
     "metadata": {},
     "output_type": "execute_result"
    },
    {
     "data": {
      "text/plain": [
       "(903,)"
      ]
     },
     "execution_count": 29,
     "metadata": {},
     "output_type": "execute_result"
    }
   ],
   "source": [
    "# get the TP, FP, and thresholds rates for ROC \n",
    "\n",
    "fpr_over, tpr_over, thresh_over = MT.roc_curve(y_train, predict_over[:,1])\n",
    "tpr_over.shape\n",
    "fpr_over.shape"
   ]
  },
  {
   "cell_type": "code",
   "execution_count": 30,
   "metadata": {},
   "outputs": [
    {
     "data": {
      "text/plain": [
       "[0.9125151883353585, 0.5334143377885784, 0.15674362089914945]"
      ]
     },
     "execution_count": 30,
     "metadata": {},
     "output_type": "execute_result"
    },
    {
     "data": {
      "text/plain": [
       "[0.537260151717983, 0.11155734047300313, 0.019187862561356538]"
      ]
     },
     "execution_count": 30,
     "metadata": {},
     "output_type": "execute_result"
    }
   ],
   "source": [
    "# get the Roc values for some benchmark thresholds\n",
    "# use >= to threshold because actual thrshold value may not exist\n",
    "\n",
    "thresh25_idx = NP.where(thresh_over >= 0.25)\n",
    "thresh50_idx = NP.where(thresh_over >= 0.50)\n",
    "thresh75_idx = NP.where(thresh_over >= 0.75)\n",
    "\n",
    "thresh_tpr_over = [ tpr_over[thresh25_idx][-1], tpr_over[thresh50_idx][-1], tpr_over[thresh75_idx][-1] ]\n",
    "thresh_fpr_over = [ fpr_over[thresh25_idx][-1], fpr_over[thresh50_idx][-1], fpr_over[thresh75_idx][-1] ]\n",
    "\n",
    "thresh_tpr_over \n",
    "thresh_fpr_over"
   ]
  },
  {
   "cell_type": "markdown",
   "metadata": {},
   "source": [
    "## Compare Algorithms"
   ]
  },
  {
   "cell_type": "code",
   "execution_count": 31,
   "metadata": {},
   "outputs": [],
   "source": [
    "IMBAL_COLOR = 'green'\n",
    "UNDER_COLOR = 'orange'\n",
    "OVER_COLOR = 'red'\n",
    "SMOTE_COLOR = 'blue'\n",
    "thresh_ls = ['0.25', '0.50', '0.75']\n",
    "\n",
    "def label_point(x, y, labels, ax, color):\n",
    "    x_sr = PD.Series(x)\n",
    "    y_sr = PD.Series(y)\n",
    "    label_sr = PD.Series(labels)\n",
    "    a = PD.concat({'x': x_sr, 'y': y_sr, 'labels': label_sr}, axis=1)\n",
    "    for i, point in a.iterrows():\n",
    "        ax.text(point['x']+.02, point['y'], str(point['labels']), color=color)"
   ]
  },
  {
   "cell_type": "code",
   "execution_count": 32,
   "metadata": {},
   "outputs": [
    {
     "data": {
      "image/png": "[encoded data removed]",
      "text/plain": [
       "<Figure size 792x576 with 1 Axes>"
      ]
     },
     "metadata": {},
     "output_type": "display_data"
    }
   ],
   "source": [
    "fig, axs = MP.subplots(1, 1, figsize=(11, 8), facecolor='white')\n",
    "\n",
    "SB.lineplot(y=tpr_imbal, x=fpr_imbal, ax=axs, label='imbalanced', color=IMBAL_COLOR)\n",
    "SB.scatterplot(y=thresh_tpr_imbal, x=thresh_fpr_imbal, ax=axs, color=IMBAL_COLOR)\n",
    "label_point(thresh_fpr_imbal, thresh_tpr_imbal, thresh_ls, axs, IMBAL_COLOR)\n",
    "\n",
    "# SB.lineplot(y=tpr_under, x=fpr_under, ax=axs, label='undersampled', color=UNDER_COLOR)\n",
    "# SB.scatterplot(y=thresh_tpr_under, x=thresh_fpr_under, ax=axs, color=UNDER_COLOR)\n",
    "# label_point(thresh_fpr_under, thresh_tpr_under, thresh_ls, axs, UNDER_COLOR)\n",
    "\n",
    "SB.lineplot(y=tpr_over, x=fpr_over, ax=axs, label='smote', color=SMOTE_COLOR)\n",
    "SB.scatterplot(y=thresh_tpr_over, x=thresh_fpr_over, ax=axs, color=SMOTE_COLOR)\n",
    "label_point(thresh_fpr_over, thresh_tpr_over, thresh_ls, axs, SMOTE_COLOR)\n",
    "\n",
    "axs.set(title='Random Forest ROC', xlabel='FP Rate', ylabel='TP Rate')\n",
    "\n",
    "MP.show();"
   ]
  },
  {
   "cell_type": "code",
   "execution_count": 33,
   "metadata": {},
   "outputs": [
    {
     "data": {
      "text/plain": [
       "0.8143802427205785"
      ]
     },
     "execution_count": 33,
     "metadata": {},
     "output_type": "execute_result"
    },
    {
     "data": {
      "text/plain": [
       "0.802027334394958"
      ]
     },
     "execution_count": 33,
     "metadata": {},
     "output_type": "execute_result"
    },
    {
     "data": {
      "text/plain": [
       "0.8135241112960008"
      ]
     },
     "execution_count": 33,
     "metadata": {},
     "output_type": "execute_result"
    }
   ],
   "source": [
    "# AUC for all balance-types\n",
    "\n",
    "MT.roc_auc_score(y_train, predict_imbal[:, 1])\n",
    "MT.roc_auc_score(y_train, predict_under[:, 1])\n",
    "MT.roc_auc_score(y_train, predict_over[:, 1])"
   ]
  },
  {
   "cell_type": "markdown",
   "metadata": {},
   "source": [
    "## Fine-Tune the Chosen Algorithm"
   ]
  },
  {
   "cell_type": "code",
   "execution_count": null,
   "metadata": {},
   "outputs": [],
   "source": []
  },
  {
   "cell_type": "code",
   "execution_count": null,
   "metadata": {},
   "outputs": [],
   "source": []
  },
  {
   "cell_type": "code",
   "execution_count": null,
   "metadata": {},
   "outputs": [],
   "source": []
  }
 ],
 "metadata": {
  "kernelspec": {
   "display_name": "Python 3",
   "language": "python",
   "name": "python3"
  },
  "language_info": {
   "codemirror_mode": {
    "name": "ipython",
    "version": 3
   },
   "file_extension": ".py",
   "mimetype": "text/x-python",
   "name": "python",
   "nbconvert_exporter": "python",
   "pygments_lexer": "ipython3",
   "version": "3.7.3"
  }
 },
 "nbformat": 4,
 "nbformat_minor": 2
}
