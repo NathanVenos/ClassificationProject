{
 "cells": [
  {
   "cell_type": "markdown",
   "metadata": {},
   "source": [
    "# Analysis: XGBoost for Profitability\n",
    "\n",
    "Goal: Use XGBoost to create a model classifying the profitable feature."
   ]
  },
  {
   "cell_type": "code",
   "execution_count": 1,
   "metadata": {
    "ExecuteTime": {
     "end_time": "2019-11-06T14:30:47.872324Z",
     "start_time": "2019-11-06T14:30:43.160566Z"
    }
   },
   "outputs": [
    {
     "name": "stderr",
     "output_type": "stream",
     "text": [
      "Using TensorFlow backend.\n"
     ]
    }
   ],
   "source": [
    "import pandas as pd\n",
    "import numpy as np\n",
    "np.random.seed(0)\n",
    "\n",
    "import matplotlib.pyplot as plt\n",
    "import seaborn as sns\n",
    "%matplotlib inline\n",
    "\n",
    "import xgboost as xgb\n",
    "from xgboost import XGBClassifier\n",
    "\n",
    "from sklearn.model_selection import train_test_split\n",
    "from sklearn.metrics import accuracy_score\n",
    "from sklearn.model_selection import GridSearchCV\n",
    "from sklearn.decomposition import PCA\n",
    "from sklearn.preprocessing import StandardScaler\n",
    "\n",
    "from imblearn.over_sampling import SMOTE\n",
    "from imblearn.pipeline import Pipeline;"
   ]
  },
  {
   "cell_type": "code",
   "execution_count": 2,
   "metadata": {
    "ExecuteTime": {
     "end_time": "2019-11-06T14:30:48.184591Z",
     "start_time": "2019-11-06T14:30:47.875284Z"
    }
   },
   "outputs": [],
   "source": [
    "%load_ext autoreload\n",
    "\n",
    "import sys\n",
    "sys.path.append('../')\n",
    "import plot_confusion_matrix as pcm;"
   ]
  },
  {
   "cell_type": "markdown",
   "metadata": {},
   "source": [
    "## Prepare Target & Features"
   ]
  },
  {
   "cell_type": "code",
   "execution_count": 3,
   "metadata": {
    "ExecuteTime": {
     "end_time": "2019-11-06T14:30:48.262851Z",
     "start_time": "2019-11-06T14:30:48.187098Z"
    }
   },
   "outputs": [],
   "source": [
    "FEATURE_FILE = '../data/merge_feature.csv'\n",
    "full_df = pd.read_csv(FEATURE_FILE)"
   ]
  },
  {
   "cell_type": "code",
   "execution_count": 4,
   "metadata": {
    "ExecuteTime": {
     "end_time": "2019-11-06T14:30:48.276695Z",
     "start_time": "2019-11-06T14:30:48.267718Z"
    }
   },
   "outputs": [
    {
     "data": {
      "text/plain": [
       "57"
      ]
     },
     "execution_count": 4,
     "metadata": {},
     "output_type": "execute_result"
    }
   ],
   "source": [
    "drop_category_nmbr_cnts = [s for s in list(full_df.columns) if '_cnt_prts' in s]\n",
    "len(drop_category_nmbr_cnts)"
   ]
  },
  {
   "cell_type": "code",
   "execution_count": 5,
   "metadata": {
    "ExecuteTime": {
     "end_time": "2019-11-06T14:30:48.316620Z",
     "start_time": "2019-11-06T14:30:48.281681Z"
    }
   },
   "outputs": [
    {
     "data": {
      "text/html": [
       "<div>\n",
       "<style scoped>\n",
       "    .dataframe tbody tr th:only-of-type {\n",
       "        vertical-align: middle;\n",
       "    }\n",
       "\n",
       "    .dataframe tbody tr th {\n",
       "        vertical-align: top;\n",
       "    }\n",
       "\n",
       "    .dataframe thead th {\n",
       "        text-align: right;\n",
       "    }\n",
       "</style>\n",
       "<table border=\"1\" class=\"dataframe\">\n",
       "  <thead>\n",
       "    <tr style=\"text-align: right;\">\n",
       "      <th></th>\n",
       "      <th>year</th>\n",
       "      <th>number_parts</th>\n",
       "      <th>total_spare_parts</th>\n",
       "      <th>number_colors</th>\n",
       "      <th>bars_ladders_and_fences_tot_prts</th>\n",
       "      <th>baseplates_tot_prts</th>\n",
       "      <th>belville_scala_and_fabuland_tot_prts</th>\n",
       "      <th>bionicle_hero_factory_and_constraction_tot_prts</th>\n",
       "      <th>bricks_tot_prts</th>\n",
       "      <th>bricks_curved_tot_prts</th>\n",
       "      <th>...</th>\n",
       "      <th>transportation_-_sea_and_air_tot_prts</th>\n",
       "      <th>tubes_and_hoses_tot_prts</th>\n",
       "      <th>wheels_and_tyres_tot_prts</th>\n",
       "      <th>windows_and_doors_tot_prts</th>\n",
       "      <th>windscreens_and_fuselage_tot_prts</th>\n",
       "      <th>znap_tot_prts</th>\n",
       "      <th>category</th>\n",
       "      <th>scolor_1st</th>\n",
       "      <th>scolor_2nd</th>\n",
       "      <th>profitable</th>\n",
       "    </tr>\n",
       "  </thead>\n",
       "  <tbody>\n",
       "    <tr>\n",
       "      <th>4</th>\n",
       "      <td>1984</td>\n",
       "      <td>30</td>\n",
       "      <td>0</td>\n",
       "      <td>7</td>\n",
       "      <td>2</td>\n",
       "      <td>1</td>\n",
       "      <td>8</td>\n",
       "      <td>0</td>\n",
       "      <td>21</td>\n",
       "      <td>2</td>\n",
       "      <td>...</td>\n",
       "      <td>0</td>\n",
       "      <td>0</td>\n",
       "      <td>0</td>\n",
       "      <td>3</td>\n",
       "      <td>0</td>\n",
       "      <td>0</td>\n",
       "      <td>Bigfig-Junior</td>\n",
       "      <td>Yellow</td>\n",
       "      <td>Red</td>\n",
       "      <td>1.0</td>\n",
       "    </tr>\n",
       "    <tr>\n",
       "      <th>5</th>\n",
       "      <td>1984</td>\n",
       "      <td>34</td>\n",
       "      <td>2</td>\n",
       "      <td>8</td>\n",
       "      <td>2</td>\n",
       "      <td>1</td>\n",
       "      <td>6</td>\n",
       "      <td>0</td>\n",
       "      <td>8</td>\n",
       "      <td>0</td>\n",
       "      <td>...</td>\n",
       "      <td>3</td>\n",
       "      <td>0</td>\n",
       "      <td>0</td>\n",
       "      <td>7</td>\n",
       "      <td>0</td>\n",
       "      <td>0</td>\n",
       "      <td>Bigfig-Junior</td>\n",
       "      <td>Yellow</td>\n",
       "      <td>Red</td>\n",
       "      <td>1.0</td>\n",
       "    </tr>\n",
       "    <tr>\n",
       "      <th>8</th>\n",
       "      <td>1984</td>\n",
       "      <td>26</td>\n",
       "      <td>0</td>\n",
       "      <td>8</td>\n",
       "      <td>0</td>\n",
       "      <td>0</td>\n",
       "      <td>0</td>\n",
       "      <td>0</td>\n",
       "      <td>1</td>\n",
       "      <td>0</td>\n",
       "      <td>...</td>\n",
       "      <td>0</td>\n",
       "      <td>0</td>\n",
       "      <td>2</td>\n",
       "      <td>0</td>\n",
       "      <td>0</td>\n",
       "      <td>0</td>\n",
       "      <td>Historical</td>\n",
       "      <td>Black</td>\n",
       "      <td>Red</td>\n",
       "      <td>1.0</td>\n",
       "    </tr>\n",
       "    <tr>\n",
       "      <th>9</th>\n",
       "      <td>1984</td>\n",
       "      <td>30</td>\n",
       "      <td>4</td>\n",
       "      <td>8</td>\n",
       "      <td>0</td>\n",
       "      <td>0</td>\n",
       "      <td>0</td>\n",
       "      <td>0</td>\n",
       "      <td>2</td>\n",
       "      <td>0</td>\n",
       "      <td>...</td>\n",
       "      <td>0</td>\n",
       "      <td>0</td>\n",
       "      <td>0</td>\n",
       "      <td>0</td>\n",
       "      <td>0</td>\n",
       "      <td>0</td>\n",
       "      <td>Historical</td>\n",
       "      <td>Black</td>\n",
       "      <td>Blue</td>\n",
       "      <td>1.0</td>\n",
       "    </tr>\n",
       "    <tr>\n",
       "      <th>10</th>\n",
       "      <td>1984</td>\n",
       "      <td>30</td>\n",
       "      <td>0</td>\n",
       "      <td>7</td>\n",
       "      <td>0</td>\n",
       "      <td>0</td>\n",
       "      <td>0</td>\n",
       "      <td>0</td>\n",
       "      <td>6</td>\n",
       "      <td>0</td>\n",
       "      <td>...</td>\n",
       "      <td>0</td>\n",
       "      <td>0</td>\n",
       "      <td>2</td>\n",
       "      <td>0</td>\n",
       "      <td>0</td>\n",
       "      <td>0</td>\n",
       "      <td>Historical</td>\n",
       "      <td>Black</td>\n",
       "      <td>Red</td>\n",
       "      <td>1.0</td>\n",
       "    </tr>\n",
       "  </tbody>\n",
       "</table>\n",
       "<p>5 rows × 65 columns</p>\n",
       "</div>"
      ],
      "text/plain": [
       "    year  number_parts  total_spare_parts  number_colors  \\\n",
       "4   1984            30                  0              7   \n",
       "5   1984            34                  2              8   \n",
       "8   1984            26                  0              8   \n",
       "9   1984            30                  4              8   \n",
       "10  1984            30                  0              7   \n",
       "\n",
       "    bars_ladders_and_fences_tot_prts  baseplates_tot_prts  \\\n",
       "4                                  2                    1   \n",
       "5                                  2                    1   \n",
       "8                                  0                    0   \n",
       "9                                  0                    0   \n",
       "10                                 0                    0   \n",
       "\n",
       "    belville_scala_and_fabuland_tot_prts  \\\n",
       "4                                      8   \n",
       "5                                      6   \n",
       "8                                      0   \n",
       "9                                      0   \n",
       "10                                     0   \n",
       "\n",
       "    bionicle_hero_factory_and_constraction_tot_prts  bricks_tot_prts  \\\n",
       "4                                                 0               21   \n",
       "5                                                 0                8   \n",
       "8                                                 0                1   \n",
       "9                                                 0                2   \n",
       "10                                                0                6   \n",
       "\n",
       "    bricks_curved_tot_prts  ...  transportation_-_sea_and_air_tot_prts  \\\n",
       "4                        2  ...                                      0   \n",
       "5                        0  ...                                      3   \n",
       "8                        0  ...                                      0   \n",
       "9                        0  ...                                      0   \n",
       "10                       0  ...                                      0   \n",
       "\n",
       "    tubes_and_hoses_tot_prts  wheels_and_tyres_tot_prts  \\\n",
       "4                          0                          0   \n",
       "5                          0                          0   \n",
       "8                          0                          2   \n",
       "9                          0                          0   \n",
       "10                         0                          2   \n",
       "\n",
       "    windows_and_doors_tot_prts  windscreens_and_fuselage_tot_prts  \\\n",
       "4                            3                                  0   \n",
       "5                            7                                  0   \n",
       "8                            0                                  0   \n",
       "9                            0                                  0   \n",
       "10                           0                                  0   \n",
       "\n",
       "    znap_tot_prts       category  scolor_1st  scolor_2nd  profitable  \n",
       "4               0  Bigfig-Junior      Yellow         Red         1.0  \n",
       "5               0  Bigfig-Junior      Yellow         Red         1.0  \n",
       "8               0     Historical       Black         Red         1.0  \n",
       "9               0     Historical       Black        Blue         1.0  \n",
       "10              0     Historical       Black         Red         1.0  \n",
       "\n",
       "[5 rows x 65 columns]"
      ]
     },
     "execution_count": 5,
     "metadata": {},
     "output_type": "execute_result"
    }
   ],
   "source": [
    "# drop volume and weight since they are sparse and colinear,\n",
    "# drop arbitrary details set_no, name,\n",
    "# drop price data used to create the target,\n",
    "# drop popularity because it reflects future perception not time of purchase info.\n",
    "\n",
    "full_df.drop(columns=['set_no', 'name',  'price_store', 'price_used',\n",
    "                      'volume', 'weight', 'total_parts','number_spare_parts',\n",
    "                      'popularity', 'aftermarket', 'adj_store_price',\n",
    "                      'adj_aftermarket']+drop_category_nmbr_cnts,\n",
    "             inplace=True)\n",
    "\n",
    "# filter out rows without profitable (i.e. target), and the few without primary/secondary colors\n",
    "full_df.dropna(axis=0,\n",
    "               subset=['profitable', 'scolor_1st', 'scolor_2nd'],\n",
    "               inplace=True)\n",
    "\n",
    "full_df.head()"
   ]
  },
  {
   "cell_type": "code",
   "execution_count": 6,
   "metadata": {
    "ExecuteTime": {
     "end_time": "2019-11-06T14:30:48.338561Z",
     "start_time": "2019-11-06T14:30:48.319580Z"
    }
   },
   "outputs": [
    {
     "name": "stdout",
     "output_type": "stream",
     "text": [
      "<class 'pandas.core.frame.DataFrame'>\n",
      "Int64Index: 3824 entries, 4 to 4921\n",
      "Data columns (total 65 columns):\n",
      "year                                                3824 non-null int64\n",
      "number_parts                                        3824 non-null int64\n",
      "total_spare_parts                                   3824 non-null int64\n",
      "number_colors                                       3824 non-null int64\n",
      "bars_ladders_and_fences_tot_prts                    3824 non-null int64\n",
      "baseplates_tot_prts                                 3824 non-null int64\n",
      "belville_scala_and_fabuland_tot_prts                3824 non-null int64\n",
      "bionicle_hero_factory_and_constraction_tot_prts     3824 non-null int64\n",
      "bricks_tot_prts                                     3824 non-null int64\n",
      "bricks_curved_tot_prts                              3824 non-null int64\n",
      "bricks_printed_tot_prts                             3824 non-null int64\n",
      "bricks_round_and_cones_tot_prts                     3824 non-null int64\n",
      "bricks_sloped_tot_prts                              3824 non-null int64\n",
      "bricks_special_tot_prts                             3824 non-null int64\n",
      "bricks_wedged_tot_prts                              3824 non-null int64\n",
      "clikits_tot_prts                                    3824 non-null int64\n",
      "containers_tot_prts                                 3824 non-null int64\n",
      "duplo_quatro_and_primo_tot_prts                     3824 non-null int64\n",
      "flags_signs_plastics_and_cloth_tot_prts             3824 non-null int64\n",
      "ho_scale_tot_prts                                   3824 non-null int64\n",
      "hinges_arms_and_turntables_tot_prts                 3824 non-null int64\n",
      "magnets_and_holders_tot_prts                        3824 non-null int64\n",
      "mechanical_tot_prts                                 3824 non-null int64\n",
      "minifig_accessories_tot_prts                        3824 non-null int64\n",
      "minifigs_tot_prts                                   3824 non-null int64\n",
      "non-buildable_figures_tot_prts                      3824 non-null int64\n",
      "non-lego_tot_prts                                   3824 non-null int64\n",
      "other_tot_prts                                      3824 non-null int64\n",
      "panels_tot_prts                                     3824 non-null int64\n",
      "plants_and_animals_tot_prts                         3824 non-null int64\n",
      "plates_tot_prts                                     3824 non-null int64\n",
      "plates_angled_tot_prts                              3824 non-null int64\n",
      "plates_round_and_dishes_tot_prts                    3824 non-null int64\n",
      "plates_special_tot_prts                             3824 non-null int64\n",
      "pneumatics_tot_prts                                 3824 non-null int64\n",
      "power_functions_mindstorms_and_electric_tot_prts    3824 non-null int64\n",
      "rock_tot_prts                                       3824 non-null int64\n",
      "string_bands_and_reels_tot_prts                     3824 non-null int64\n",
      "supports_girders_and_cranes_tot_prts                3824 non-null int64\n",
      "technic_axles_tot_prts                              3824 non-null int64\n",
      "technic_beams_tot_prts                              3824 non-null int64\n",
      "technic_beams_special_tot_prts                      3824 non-null int64\n",
      "technic_bricks_tot_prts                             3824 non-null int64\n",
      "technic_bushes_tot_prts                             3824 non-null int64\n",
      "technic_connectors_tot_prts                         3824 non-null int64\n",
      "technic_gears_tot_prts                              3824 non-null int64\n",
      "technic_panels_tot_prts                             3824 non-null int64\n",
      "technic_pins_tot_prts                               3824 non-null int64\n",
      "technic_special_tot_prts                            3824 non-null int64\n",
      "technic_steering_suspension_and_engine_tot_prts     3824 non-null int64\n",
      "tiles_tot_prts                                      3824 non-null int64\n",
      "tiles_printed_tot_prts                              3824 non-null int64\n",
      "tiles_special_tot_prts                              3824 non-null int64\n",
      "tools_tot_prts                                      3824 non-null int64\n",
      "transportation_-_land_tot_prts                      3824 non-null int64\n",
      "transportation_-_sea_and_air_tot_prts               3824 non-null int64\n",
      "tubes_and_hoses_tot_prts                            3824 non-null int64\n",
      "wheels_and_tyres_tot_prts                           3824 non-null int64\n",
      "windows_and_doors_tot_prts                          3824 non-null int64\n",
      "windscreens_and_fuselage_tot_prts                   3824 non-null int64\n",
      "znap_tot_prts                                       3824 non-null int64\n",
      "category                                            3824 non-null object\n",
      "scolor_1st                                          3824 non-null object\n",
      "scolor_2nd                                          3824 non-null object\n",
      "profitable                                          3824 non-null float64\n",
      "dtypes: float64(1), int64(61), object(3)\n",
      "memory usage: 1.9+ MB\n"
     ]
    }
   ],
   "source": [
    "full_df.info(verbose=True, null_counts=True)"
   ]
  },
  {
   "cell_type": "code",
   "execution_count": 7,
   "metadata": {
    "ExecuteTime": {
     "end_time": "2019-11-06T14:30:48.351495Z",
     "start_time": "2019-11-06T14:30:48.341522Z"
    }
   },
   "outputs": [
    {
     "name": "stdout",
     "output_type": "stream",
     "text": [
      "(3824,)\n",
      "(3824, 64)\n"
     ]
    }
   ],
   "source": [
    "# target series\n",
    "target = full_df['profitable']\n",
    "print(target.shape)\n",
    "\n",
    "# initial features\n",
    "features = full_df.drop(columns=['profitable'])\n",
    "print(features.shape)"
   ]
  },
  {
   "cell_type": "code",
   "execution_count": 8,
   "metadata": {
    "ExecuteTime": {
     "end_time": "2019-11-06T14:30:48.373435Z",
     "start_time": "2019-11-06T14:30:48.354489Z"
    },
    "scrolled": true
   },
   "outputs": [
    {
     "data": {
      "text/plain": [
       "(3824, 92)"
      ]
     },
     "execution_count": 8,
     "metadata": {},
     "output_type": "execute_result"
    }
   ],
   "source": [
    "# feature dataframe with one-hot encoding\n",
    "\n",
    "features = pd.get_dummies(features, drop_first= True,\n",
    "                          columns=['category', 'scolor_1st', 'scolor_2nd'])\n",
    "features.shape"
   ]
  },
  {
   "cell_type": "markdown",
   "metadata": {},
   "source": [
    "## Train-Test Split & Standardize"
   ]
  },
  {
   "cell_type": "code",
   "execution_count": 9,
   "metadata": {
    "ExecuteTime": {
     "end_time": "2019-11-06T14:30:48.381416Z",
     "start_time": "2019-11-06T14:30:48.374437Z"
    }
   },
   "outputs": [],
   "source": [
    "TEST_SPLIT = 0.2\n",
    "SEED = 0"
   ]
  },
  {
   "cell_type": "code",
   "execution_count": 10,
   "metadata": {
    "ExecuteTime": {
     "end_time": "2019-11-06T14:30:48.402358Z",
     "start_time": "2019-11-06T14:30:48.383409Z"
    },
    "scrolled": false
   },
   "outputs": [
    {
     "name": "stdout",
     "output_type": "stream",
     "text": [
      "(3059,)\n",
      "(765,)\n",
      "(3059, 92)\n",
      "(765, 92)\n"
     ]
    }
   ],
   "source": [
    "y_train, y_test, X_train, X_test = train_test_split(target, features,\n",
    "                                                    stratify=features['year'],\n",
    "                                                    test_size=TEST_SPLIT, random_state=SEED)\n",
    "\n",
    "print(y_train.shape)\n",
    "print(y_test.shape)\n",
    "print(X_train.shape)\n",
    "print(X_test.shape)"
   ]
  },
  {
   "cell_type": "code",
   "execution_count": 11,
   "metadata": {
    "ExecuteTime": {
     "end_time": "2019-11-06T14:30:48.431280Z",
     "start_time": "2019-11-06T14:30:48.403355Z"
    }
   },
   "outputs": [],
   "source": [
    "std_scaler = StandardScaler()\n",
    "X_train_std = std_scaler.fit_transform(X_train)\n",
    "X_test_std = std_scaler.transform(X_test)"
   ]
  },
  {
   "cell_type": "markdown",
   "metadata": {},
   "source": [
    "## PCA Analysis"
   ]
  },
  {
   "cell_type": "code",
   "execution_count": 12,
   "metadata": {
    "ExecuteTime": {
     "end_time": "2019-11-06T14:30:48.467184Z",
     "start_time": "2019-11-06T14:30:48.434273Z"
    }
   },
   "outputs": [],
   "source": [
    "# Initial full PCA of features\n",
    "pca = PCA(random_state=SEED)\n",
    "x_pca = pca.fit_transform(X_train_std)"
   ]
  },
  {
   "cell_type": "code",
   "execution_count": 13,
   "metadata": {
    "ExecuteTime": {
     "end_time": "2019-11-06T14:30:48.477159Z",
     "start_time": "2019-11-06T14:30:48.469180Z"
    }
   },
   "outputs": [
    {
     "data": {
      "text/plain": [
       "92"
      ]
     },
     "execution_count": 13,
     "metadata": {},
     "output_type": "execute_result"
    }
   ],
   "source": [
    "# exploring explained variance\n",
    "len(pca.explained_variance_ratio_)"
   ]
  },
  {
   "cell_type": "code",
   "execution_count": 14,
   "metadata": {
    "ExecuteTime": {
     "end_time": "2019-11-06T14:30:48.490124Z",
     "start_time": "2019-11-06T14:30:48.480150Z"
    }
   },
   "outputs": [
    {
     "name": "stdout",
     "output_type": "stream",
     "text": [
      "66\n",
      "0.9522254515489256\n"
     ]
    }
   ],
   "source": [
    "# defining count of PCA features to capture 99% of variance\n",
    "PCA_COUNT = sum(pca.explained_variance_ratio_.cumsum() < .95) + 1\n",
    "print(PCA_COUNT)\n",
    "PCA_EXPLAINED_VAR = pca.explained_variance_ratio_.cumsum()[PCA_COUNT-1]\n",
    "print(PCA_EXPLAINED_VAR)"
   ]
  },
  {
   "cell_type": "code",
   "execution_count": 15,
   "metadata": {
    "ExecuteTime": {
     "end_time": "2019-11-06T14:30:48.728740Z",
     "start_time": "2019-11-06T14:30:48.494113Z"
    }
   },
   "outputs": [
    {
     "data": {
      "image/png": "[encoded data removed]",
      "text/plain": [
       "<Figure size 432x288 with 1 Axes>"
      ]
     },
     "metadata": {
      "needs_background": "light"
     },
     "output_type": "display_data"
    }
   ],
   "source": [
    "# plotting PCA cumulative explained variance.\n",
    "# plenty of dimension reduction will be possible,\n",
    "# which will allow the model to perform more quickly,\n",
    "# particularlly during GridSearchCV\n",
    "feat_cnt = X_train.shape[1]\n",
    "plt.plot(range(1,feat_cnt+1), pca.explained_variance_ratio_.cumsum())\n",
    "\n",
    "ax = plt.gca()\n",
    "ax.set_xlabel(\"PCA Components\")\n",
    "ax.set_ylabel(\"% of Explained Variance\")\n",
    "ax.set_title(\"Cumulative Explained Variance by PCA components\")\n",
    "\n",
    "ax.vlines(x=PCA_COUNT, ymin=ax.get_ylim()[0], ymax=ax.get_ylim()[1])\n",
    "ax.annotate(f'{round(100*PCA_EXPLAINED_VAR,1)}% of variance explained \\n with {PCA_COUNT} of {feat_cnt} components',\n",
    "            xy=[PCA_COUNT, PCA_EXPLAINED_VAR],\n",
    "            xytext=[PCA_COUNT+3, PCA_EXPLAINED_VAR-0.1]);"
   ]
  },
  {
   "cell_type": "markdown",
   "metadata": {},
   "source": [
    "## GridSearchCV with XGBoost and Pipeline of Scaling and PCA"
   ]
  },
  {
   "cell_type": "code",
   "execution_count": 16,
   "metadata": {
    "ExecuteTime": {
     "end_time": "2019-11-06T14:30:48.753673Z",
     "start_time": "2019-11-06T14:30:48.732729Z"
    }
   },
   "outputs": [],
   "source": [
    "pca_pipe = Pipeline([(\"scaler\", StandardScaler()),\n",
    "                     (\"pca\", PCA(n_components=PCA_COUNT, random_state=SEED)),\n",
    "                     (\"xgb\", XGBClassifier(random_state=SEED))])\n",
    "\n",
    "class_pos_rate = y_train.value_counts()[0] / y_train.value_counts()[1]\n",
    "param_grid = {\"xgb__learning_rate\": [0.1],\n",
    "              'xgb__max_depth': [3, 6],\n",
    "              'xgb__min_child_weight': [1, 3],\n",
    "              'xgb__subsample': [0.75, 1],\n",
    "              'xgb__n_estimators': [100, 150, 200]}\n",
    "\n",
    "clf = XGBClassifier(scale_pos_weight=class_pos_rate)\n",
    "grid_clf = GridSearchCV(pca_pipe, param_grid, scoring='accuracy', cv=3)"
   ]
  },
  {
   "cell_type": "code",
   "execution_count": 17,
   "metadata": {
    "ExecuteTime": {
     "end_time": "2019-11-06T14:33:10.985283Z",
     "start_time": "2019-11-06T14:30:48.766924Z"
    }
   },
   "outputs": [],
   "source": [
    "grid_clf.fit(X_train, y_train);"
   ]
  },
  {
   "cell_type": "code",
   "execution_count": 18,
   "metadata": {
    "ExecuteTime": {
     "end_time": "2019-11-06T14:33:10.999645Z",
     "start_time": "2019-11-06T14:33:10.985283Z"
    }
   },
   "outputs": [],
   "source": [
    "grid_clf_results = pd.DataFrame(grid_clf.cv_results_)"
   ]
  },
  {
   "cell_type": "code",
   "execution_count": 19,
   "metadata": {
    "ExecuteTime": {
     "end_time": "2019-11-06T14:33:11.018114Z",
     "start_time": "2019-11-06T14:33:11.003635Z"
    }
   },
   "outputs": [
    {
     "data": {
      "text/plain": [
       "count    24.000000\n",
       "mean      0.768497\n",
       "std       0.002915\n",
       "min       0.763975\n",
       "25%       0.765937\n",
       "50%       0.768388\n",
       "75%       0.770513\n",
       "max       0.775090\n",
       "Name: mean_test_score, dtype: float64"
      ]
     },
     "execution_count": 19,
     "metadata": {},
     "output_type": "execute_result"
    }
   ],
   "source": [
    "grid_clf_results.mean_test_score.describe()"
   ]
  },
  {
   "cell_type": "code",
   "execution_count": 20,
   "metadata": {
    "ExecuteTime": {
     "end_time": "2019-11-06T14:33:11.064858Z",
     "start_time": "2019-11-06T14:33:11.020109Z"
    }
   },
   "outputs": [
    {
     "name": "stdout",
     "output_type": "stream",
     "text": [
      "Grid Search found the following optimal parameters: \n",
      "xgb__learning_rate: 0.1\n",
      "xgb__max_depth: 3\n",
      "xgb__min_child_weight: 1\n",
      "xgb__n_estimators: 200\n",
      "xgb__subsample: 0.75\n",
      "\n",
      "Training Accuracy: 90.13%\n"
     ]
    }
   ],
   "source": [
    "best_parameters = grid_clf.best_params_\n",
    "\n",
    "print(\"Grid Search found the following optimal parameters: \")\n",
    "for param_name in sorted(best_parameters.keys()):\n",
    "    print(\"%s: %r\" % (param_name, best_parameters[param_name]))\n",
    "\n",
    "training_preds = grid_clf.predict(X_train)\n",
    "training_accuracy = accuracy_score(y_train, training_preds)\n",
    "\n",
    "print(\"\")\n",
    "print(\"Training Accuracy: {:.4}%\".format(training_accuracy * 100))"
   ]
  },
  {
   "cell_type": "markdown",
   "metadata": {},
   "source": [
    "## GridSearchCV with XGBoost and Pipeline of Scaling, PCA and SMOTE Oversampling"
   ]
  },
  {
   "cell_type": "code",
   "execution_count": 21,
   "metadata": {
    "ExecuteTime": {
     "end_time": "2019-11-06T14:33:11.088844Z",
     "start_time": "2019-11-06T14:33:11.066851Z"
    }
   },
   "outputs": [],
   "source": [
    "smote_pca_pipe = Pipeline([(\"scaler\", StandardScaler()),\n",
    "                           (\"smote\", SMOTE(random_state=SEED)),\n",
    "                           (\"pca\", PCA(n_components=PCA_COUNT, random_state=SEED)),\n",
    "                           (\"xgb\", XGBClassifier(random_state=SEED))])\n",
    "\n",
    "param_grid = {\"xgb__learning_rate\": [0.1],\n",
    "              'xgb__max_depth': [3, 6],\n",
    "              'xgb__min_child_weight': [1, 3],\n",
    "              'xgb__subsample': [0.75, 1],\n",
    "              'xgb__n_estimators': [100, 150, 200]}\n",
    "\n",
    "smote_grid_clf = GridSearchCV(smote_pca_pipe, param_grid, scoring='accuracy', cv=3)"
   ]
  },
  {
   "cell_type": "code",
   "execution_count": 22,
   "metadata": {
    "ExecuteTime": {
     "end_time": "2019-11-06T14:36:49.498370Z",
     "start_time": "2019-11-06T14:33:11.088844Z"
    }
   },
   "outputs": [],
   "source": [
    "smote_grid_clf.fit(X_train, y_train);"
   ]
  },
  {
   "cell_type": "code",
   "execution_count": 23,
   "metadata": {
    "ExecuteTime": {
     "end_time": "2019-11-06T14:36:49.512586Z",
     "start_time": "2019-11-06T14:36:49.498370Z"
    }
   },
   "outputs": [],
   "source": [
    "smote_grid_clf_results = pd.DataFrame(smote_grid_clf.cv_results_)"
   ]
  },
  {
   "cell_type": "code",
   "execution_count": 24,
   "metadata": {
    "ExecuteTime": {
     "end_time": "2019-11-06T14:36:49.530689Z",
     "start_time": "2019-11-06T14:36:49.515577Z"
    }
   },
   "outputs": [
    {
     "data": {
      "text/plain": [
       "count    24.000000\n",
       "mean      0.739321\n",
       "std       0.011513\n",
       "min       0.719516\n",
       "25%       0.730631\n",
       "50%       0.739784\n",
       "75%       0.750327\n",
       "max       0.753841\n",
       "Name: mean_test_score, dtype: float64"
      ]
     },
     "execution_count": 24,
     "metadata": {},
     "output_type": "execute_result"
    }
   ],
   "source": [
    "smote_grid_clf_results.mean_test_score.describe()"
   ]
  },
  {
   "cell_type": "code",
   "execution_count": 25,
   "metadata": {
    "ExecuteTime": {
     "end_time": "2019-11-06T14:36:49.605567Z",
     "start_time": "2019-11-06T14:36:49.532683Z"
    }
   },
   "outputs": [
    {
     "name": "stdout",
     "output_type": "stream",
     "text": [
      "Grid Search found the following optimal parameters: \n",
      "xgb__learning_rate: 0.1\n",
      "xgb__max_depth: 6\n",
      "xgb__min_child_weight: 1\n",
      "xgb__n_estimators: 200\n",
      "xgb__subsample: 0.75\n",
      "\n",
      "Training Accuracy: 99.74%\n"
     ]
    }
   ],
   "source": [
    "smote_best_parameters = smote_grid_clf.best_params_\n",
    "\n",
    "print(\"Grid Search found the following optimal parameters: \")\n",
    "for param_name in sorted(smote_best_parameters.keys()):\n",
    "    print(\"%s: %r\" % (param_name, smote_best_parameters[param_name]))\n",
    "\n",
    "smote_training_preds = smote_grid_clf.predict(X_train)\n",
    "smote_training_accuracy = accuracy_score(y_train, smote_training_preds)\n",
    "\n",
    "print(\"\")\n",
    "print(\"Training Accuracy: {:.4}%\".format(smote_training_accuracy * 100))"
   ]
  },
  {
   "cell_type": "markdown",
   "metadata": {},
   "source": [
    "## Testing"
   ]
  },
  {
   "cell_type": "code",
   "execution_count": 26,
   "metadata": {
    "ExecuteTime": {
     "end_time": "2019-11-06T14:36:49.651470Z",
     "start_time": "2019-11-06T14:36:49.605567Z"
    }
   },
   "outputs": [
    {
     "name": "stdout",
     "output_type": "stream",
     "text": [
      "\n",
      "XGBoost w/out SMOTE Validation Accuracy: 79.35%\n",
      "\n",
      "XGBoost w/ SMOTE Validation Accuracy: 76.08%\n",
      "\n",
      "Accuracy Assuming None Profitable: 72.16%\n"
     ]
    }
   ],
   "source": [
    "val_preds = grid_clf.predict(X_test)\n",
    "val_accuracy = accuracy_score(y_test, val_preds)\n",
    "\n",
    "smote_val_preds = smote_grid_clf.predict(X_test)\n",
    "smote_val_accuracy = accuracy_score(y_test, smote_val_preds)\n",
    "\n",
    "print(\"\")\n",
    "print(\"XGBoost w/out SMOTE Validation Accuracy: {:.4}%\".format(val_accuracy * 100))\n",
    "print(\"\")\n",
    "print(\"XGBoost w/ SMOTE Validation Accuracy: {:.4}%\".format(smote_val_accuracy * 100))\n",
    "print(\"\")\n",
    "print(\"Accuracy Assuming None Profitable: {:.4}%\".format(len(y_test[y_test==0]) / len(y_test) * 100))"
   ]
  },
  {
   "cell_type": "code",
   "execution_count": 27,
   "metadata": {
    "ExecuteTime": {
     "end_time": "2019-11-06T14:36:50.261329Z",
     "start_time": "2019-11-06T14:36:49.653463Z"
    }
   },
   "outputs": [
    {
     "data": {
      "image/png": "[encoded data removed]",
      "text/plain": [
       "<Figure size 864x432 with 4 Axes>"
      ]
     },
     "metadata": {
      "needs_background": "light"
     },
     "output_type": "display_data"
    }
   ],
   "source": [
    "#plotting confusion matrix\n",
    "fig, (ax1, ax2) = plt.subplots(1, 2, figsize=(12,6))\n",
    "\n",
    "pcm.plot_confusion_matrix(y_test.astype('int64'),\n",
    "                          val_preds.astype('int64'),\n",
    "                          title=\"Confusion Matrix - XGBoost w/ PCA\",\n",
    "                          classes=np.array([0,1]),\n",
    "                          figure=fig,\n",
    "                          axis=ax1)\n",
    "\n",
    "pcm.plot_confusion_matrix(y_test.astype('int64'),\n",
    "                          smote_val_preds.astype('int64'),\n",
    "                          title=\"Confusion Matrix - XGBoost w/ PCA & SMOTE\",\n",
    "                          classes=np.array([0,1]),\n",
    "                          figure=fig,\n",
    "                          axis=ax2)\n",
    "\n",
    "# a bug in the current version of matplotlib shifts the default ylim,\n",
    "# and the code below corrects it\n",
    "ax1.set_ylim(1.5, -0.5)\n",
    "ax2.set_ylim(1.5, -0.5);"
   ]
  }
 ],
 "metadata": {
  "kernelspec": {
   "display_name": "Python 3",
   "language": "python",
   "name": "python3"
  },
  "language_info": {
   "codemirror_mode": {
    "name": "ipython",
    "version": 3
   },
   "file_extension": ".py",
   "mimetype": "text/x-python",
   "name": "python",
   "nbconvert_exporter": "python",
   "pygments_lexer": "ipython3",
   "version": "3.7.3"
  },
  "toc": {
   "base_numbering": 1,
   "nav_menu": {},
   "number_sections": true,
   "sideBar": true,
   "skip_h1_title": false,
   "title_cell": "Table of Contents",
   "title_sidebar": "Contents",
   "toc_cell": false,
   "toc_position": {},
   "toc_section_display": true,
   "toc_window_display": false
  }
 },
 "nbformat": 4,
 "nbformat_minor": 2
}
