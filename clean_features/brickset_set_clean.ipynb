{
 "cells": [
  {
   "cell_type": "markdown",
   "metadata": {},
   "source": [
    "# Brickset Clean Sets\n",
    "\n",
    "Workflow: 1   \n",
    "\n",
    "Goal: To do some EDA on all the data fields and clean them in the process. \n",
    "\n",
    "Result: The cleaned dataset is exported as ```brickset_set_clean.csv```."
   ]
  },
  {
   "cell_type": "code",
   "execution_count": 1,
   "metadata": {},
   "outputs": [],
   "source": [
    "import os\n",
    "import pandas as pd\n",
    "import numpy as np\n",
    "import matplotlib.pyplot as plt\n",
    "%matplotlib inline\n",
    "import seaborn as sns"
   ]
  },
  {
   "cell_type": "code",
   "execution_count": 2,
   "metadata": {},
   "outputs": [],
   "source": [
    "from IPython.core.interactiveshell import InteractiveShell\n",
    "InteractiveShell.ast_node_interactivity = 'all'"
   ]
  },
  {
   "cell_type": "code",
   "execution_count": 3,
   "metadata": {},
   "outputs": [],
   "source": [
    "%load_ext autoreload\n",
    "%autoreload 2            # reload custom py file eveytime a new cell is run\n",
    "\n",
    "import sys\n",
    "sys.path.append('../')\n",
    "import lego_helper as lh"
   ]
  },
  {
   "cell_type": "markdown",
   "metadata": {},
   "source": [
    "## Import Raw Data"
   ]
  },
  {
   "cell_type": "code",
   "execution_count": 4,
   "metadata": {},
   "outputs": [
    {
     "data": {
      "text/html": [
       "<div>\n",
       "<style scoped>\n",
       "    .dataframe tbody tr th:only-of-type {\n",
       "        vertical-align: middle;\n",
       "    }\n",
       "\n",
       "    .dataframe tbody tr th {\n",
       "        vertical-align: top;\n",
       "    }\n",
       "\n",
       "    .dataframe thead th {\n",
       "        text-align: right;\n",
       "    }\n",
       "</style>\n",
       "<table border=\"1\" class=\"dataframe\">\n",
       "  <thead>\n",
       "    <tr style=\"text-align: right;\">\n",
       "      <th></th>\n",
       "      <th>set_no</th>\n",
       "      <th>name</th>\n",
       "      <th>theme_group</th>\n",
       "      <th>theme</th>\n",
       "      <th>subtheme</th>\n",
       "      <th>year</th>\n",
       "      <th>piece_cnt</th>\n",
       "      <th>minifig_cnt</th>\n",
       "      <th>inventory_url</th>\n",
       "      <th>minifig_url</th>\n",
       "      <th>store_price</th>\n",
       "      <th>current_price</th>\n",
       "      <th>rating_value</th>\n",
       "      <th>rating_votes</th>\n",
       "      <th>tags</th>\n",
       "      <th>set_type</th>\n",
       "      <th>packaging</th>\n",
       "      <th>notes</th>\n",
       "    </tr>\n",
       "  </thead>\n",
       "  <tbody>\n",
       "    <tr>\n",
       "      <th>0</th>\n",
       "      <td>722-1</td>\n",
       "      <td>Universal Building Set, 7+</td>\n",
       "      <td>Basic</td>\n",
       "      <td>Basic</td>\n",
       "      <td>NaN</td>\n",
       "      <td>1980.0</td>\n",
       "      <td>301.0</td>\n",
       "      <td>0.0</td>\n",
       "      <td>NaN</td>\n",
       "      <td>NaN</td>\n",
       "      <td>$20.00</td>\n",
       "      <td>New: $200, Used: $78</td>\n",
       "      <td>4.4</td>\n",
       "      <td>5</td>\n",
       "      <td>4X4, Aircraft, Articulated Lorry, Boat, Car, C...</td>\n",
       "      <td>Normal</td>\n",
       "      <td>NaN</td>\n",
       "      <td>NaN</td>\n",
       "    </tr>\n",
       "    <tr>\n",
       "      <th>1</th>\n",
       "      <td>733-1</td>\n",
       "      <td>Universal Building Set, 7+</td>\n",
       "      <td>Basic</td>\n",
       "      <td>Basic</td>\n",
       "      <td>NaN</td>\n",
       "      <td>1980.0</td>\n",
       "      <td>533.0</td>\n",
       "      <td>0.0</td>\n",
       "      <td>NaN</td>\n",
       "      <td>NaN</td>\n",
       "      <td>$39.00</td>\n",
       "      <td>New: $566, Used: $109</td>\n",
       "      <td>4.5</td>\n",
       "      <td>2</td>\n",
       "      <td>Articulated Lorry, Base, Baseplate, Crane, For...</td>\n",
       "      <td>Normal</td>\n",
       "      <td>NaN</td>\n",
       "      <td>NaN</td>\n",
       "    </tr>\n",
       "    <tr>\n",
       "      <th>2</th>\n",
       "      <td>744-1</td>\n",
       "      <td>Universal Building Set with Motor, 7+</td>\n",
       "      <td>Basic</td>\n",
       "      <td>Basic</td>\n",
       "      <td>NaN</td>\n",
       "      <td>1980.0</td>\n",
       "      <td>537.0</td>\n",
       "      <td>0.0</td>\n",
       "      <td>NaN</td>\n",
       "      <td>NaN</td>\n",
       "      <td>$59.00</td>\n",
       "      <td>New: $252, Used: $97</td>\n",
       "      <td>5.0</td>\n",
       "      <td>2</td>\n",
       "      <td>8 Wheel Vehicle, Crane, Electric Motor, Mobile...</td>\n",
       "      <td>Normal</td>\n",
       "      <td>NaN</td>\n",
       "      <td>NaN</td>\n",
       "    </tr>\n",
       "    <tr>\n",
       "      <th>3</th>\n",
       "      <td>820-1</td>\n",
       "      <td>Red Plates Parts Pack</td>\n",
       "      <td>Basic</td>\n",
       "      <td>Basic</td>\n",
       "      <td>Supplementaries</td>\n",
       "      <td>1980.0</td>\n",
       "      <td>34.0</td>\n",
       "      <td>0.0</td>\n",
       "      <td>NaN</td>\n",
       "      <td>NaN</td>\n",
       "      <td>$4.75</td>\n",
       "      <td>New: Not known, Used: Not known</td>\n",
       "      <td>NaN</td>\n",
       "      <td>NaN</td>\n",
       "      <td>NaN</td>\n",
       "      <td>Normal</td>\n",
       "      <td>NaN</td>\n",
       "      <td>NaN</td>\n",
       "    </tr>\n",
       "    <tr>\n",
       "      <th>4</th>\n",
       "      <td>822-1</td>\n",
       "      <td>Blue Plates Parts Pack</td>\n",
       "      <td>Basic</td>\n",
       "      <td>Basic</td>\n",
       "      <td>Supplementaries</td>\n",
       "      <td>1980.0</td>\n",
       "      <td>34.0</td>\n",
       "      <td>0.0</td>\n",
       "      <td>NaN</td>\n",
       "      <td>NaN</td>\n",
       "      <td>$4.75</td>\n",
       "      <td>New: $29, Used: $5</td>\n",
       "      <td>NaN</td>\n",
       "      <td>NaN</td>\n",
       "      <td>NaN</td>\n",
       "      <td>Normal</td>\n",
       "      <td>NaN</td>\n",
       "      <td>NaN</td>\n",
       "    </tr>\n",
       "  </tbody>\n",
       "</table>\n",
       "</div>"
      ],
      "text/plain": [
       "  set_no                                   name theme_group  theme  \\\n",
       "0  722-1             Universal Building Set, 7+       Basic  Basic   \n",
       "1  733-1             Universal Building Set, 7+       Basic  Basic   \n",
       "2  744-1  Universal Building Set with Motor, 7+       Basic  Basic   \n",
       "3  820-1                  Red Plates Parts Pack       Basic  Basic   \n",
       "4  822-1                 Blue Plates Parts Pack       Basic  Basic   \n",
       "\n",
       "          subtheme    year  piece_cnt  minifig_cnt inventory_url minifig_url  \\\n",
       "0              NaN  1980.0      301.0          0.0           NaN         NaN   \n",
       "1              NaN  1980.0      533.0          0.0           NaN         NaN   \n",
       "2              NaN  1980.0      537.0          0.0           NaN         NaN   \n",
       "3  Supplementaries  1980.0       34.0          0.0           NaN         NaN   \n",
       "4  Supplementaries  1980.0       34.0          0.0           NaN         NaN   \n",
       "\n",
       "  store_price                    current_price  rating_value rating_votes  \\\n",
       "0      $20.00             New: $200, Used: $78           4.4            5   \n",
       "1      $39.00            New: $566, Used: $109           4.5            2   \n",
       "2      $59.00             New: $252, Used: $97           5.0            2   \n",
       "3       $4.75  New: Not known, Used: Not known           NaN          NaN   \n",
       "4       $4.75               New: $29, Used: $5           NaN          NaN   \n",
       "\n",
       "                                                tags set_type packaging notes  \n",
       "0  4X4, Aircraft, Articulated Lorry, Boat, Car, C...   Normal       NaN   NaN  \n",
       "1  Articulated Lorry, Base, Baseplate, Crane, For...   Normal       NaN   NaN  \n",
       "2  8 Wheel Vehicle, Crane, Electric Motor, Mobile...   Normal       NaN   NaN  \n",
       "3                                                NaN   Normal       NaN   NaN  \n",
       "4                                                NaN   Normal       NaN   NaN  "
      ]
     },
     "execution_count": 4,
     "metadata": {},
     "output_type": "execute_result"
    },
    {
     "name": "stdout",
     "output_type": "stream",
     "text": [
      "<class 'pandas.core.frame.DataFrame'>\n",
      "RangeIndex: 13754 entries, 0 to 13753\n",
      "Data columns (total 18 columns):\n",
      "set_no           13754 non-null object\n",
      "name             13754 non-null object\n",
      "theme_group      13754 non-null object\n",
      "theme            13754 non-null object\n",
      "subtheme         10040 non-null object\n",
      "year             13754 non-null float64\n",
      "piece_cnt        10858 non-null float64\n",
      "minifig_cnt      13754 non-null float64\n",
      "inventory_url    6958 non-null object\n",
      "minifig_url      6264 non-null object\n",
      "store_price      9182 non-null object\n",
      "current_price    13754 non-null object\n",
      "rating_value     6813 non-null float64\n",
      "rating_votes     6813 non-null object\n",
      "tags             10265 non-null object\n",
      "set_type         13753 non-null object\n",
      "packaging        8919 non-null object\n",
      "notes            5231 non-null object\n",
      "dtypes: float64(4), object(14)\n",
      "memory usage: 1.9+ MB\n"
     ]
    }
   ],
   "source": [
    "RAW_FILE = '../data/brickset_set_full.csv'\n",
    "set_df = pd.read_csv(RAW_FILE)\n",
    "set_df.head()\n",
    "set_df.info()"
   ]
  },
  {
   "cell_type": "markdown",
   "metadata": {},
   "source": [
    "## Explore & Clean the Fields"
   ]
  },
  {
   "cell_type": "code",
   "execution_count": 5,
   "metadata": {},
   "outputs": [
    {
     "data": {
      "text/plain": [
       "19    1041\n",
       "20    1050\n",
       "23    1076\n",
       "41    1129\n",
       "45    1651\n",
       "Name: set_no, dtype: object"
      ]
     },
     "execution_count": 5,
     "metadata": {},
     "output_type": "execute_result"
    }
   ],
   "source": [
    "# investigate set-no\n",
    "\n",
    "offno_df = set_df.loc[set_df['set_no'].str.contains('-1') == False]\n",
    "offno_ls = offno_df['set_no'].apply(lambda s: s[:-2])\n",
    "offno_ls[:5]"
   ]
  },
  {
   "cell_type": "code",
   "execution_count": 6,
   "metadata": {},
   "outputs": [
    {
     "data": {
      "text/plain": [
       "(3145, 18)"
      ]
     },
     "execution_count": 6,
     "metadata": {},
     "output_type": "execute_result"
    }
   ],
   "source": [
    "# there's a good number of sets with set-no ending in -2, -3, etc\n",
    "\n",
    "set_df.loc[set_df['set_no'].str.contains('|'.join(offno_ls))].sort_values('set_no').shape"
   ]
  },
  {
   "cell_type": "code",
   "execution_count": 7,
   "metadata": {
    "scrolled": true
   },
   "outputs": [
    {
     "data": {
      "text/plain": [
       "Miscellaneous       4119\n",
       "Licensed            1605\n",
       "Modern day          1498\n",
       "Pre-school          1359\n",
       "Action/Adventure    1068\n",
       "Basic                750\n",
       "Girls                539\n",
       "Model making         513\n",
       "Constraction         501\n",
       "Technical            467\n",
       "Historical           466\n",
       "Educational          406\n",
       "Racing               247\n",
       "Junior               213\n",
       "Vintage themes         3\n",
       "Name: theme_group, dtype: int64"
      ]
     },
     "execution_count": 7,
     "metadata": {},
     "output_type": "execute_result"
    }
   ],
   "source": [
    "# group themes are too broad\n",
    "\n",
    "set_df['theme_group'].value_counts()"
   ]
  },
  {
   "cell_type": "code",
   "execution_count": 8,
   "metadata": {},
   "outputs": [
    {
     "data": {
      "text/plain": [
       "Gear                       2063\n",
       "Duplo                      1117\n",
       "Star Wars                   662\n",
       "Town                        594\n",
       "Collectable Minifigures     547\n",
       "City                        547\n",
       "Promotional                 418\n",
       "Bionicle                    389\n",
       "Creator                     388\n",
       "Basic                       370\n",
       "Service Packs               365\n",
       "Technic                     360\n",
       "Friends                     303\n",
       "Space                       294\n",
       "Castle                      277\n",
       "Books                       265\n",
       "Ninjago                     242\n",
       "Education                   230\n",
       "Racers                      225\n",
       "Seasonal                    146\n",
       "Name: theme, dtype: int64"
      ]
     },
     "execution_count": 8,
     "metadata": {},
     "output_type": "execute_result"
    }
   ],
   "source": [
    "# theme is the best way of categorizing\n",
    "\n",
    "set_df['theme'].value_counts().head(20)"
   ]
  },
  {
   "cell_type": "code",
   "execution_count": 9,
   "metadata": {},
   "outputs": [
    {
     "data": {
      "text/plain": [
       "Product Collection          346\n",
       "Watches/Clocks              233\n",
       "Magazine Gift               145\n",
       "Miscellaneous               140\n",
       "Trains                      140\n",
       "Promotional                 132\n",
       "Monthly Mini Model Build    129\n",
       "Housewares                  121\n",
       "Technic                     111\n",
       "Stationery                  105\n",
       "Name: subtheme, dtype: int64"
      ]
     },
     "execution_count": 9,
     "metadata": {},
     "output_type": "execute_result"
    }
   ],
   "source": [
    "# subtheme does not appear useful\n",
    "\n",
    "set_df['subtheme'].value_counts().head(10)"
   ]
  },
  {
   "cell_type": "code",
   "execution_count": 10,
   "metadata": {},
   "outputs": [],
   "source": [
    "InteractiveShell.ast_node_interactivity = 'last'"
   ]
  },
  {
   "cell_type": "code",
   "execution_count": 11,
   "metadata": {},
   "outputs": [
    {
     "data": {
      "image/png": "[encoded data removed]",
      "text/plain": [
       "<Figure size 1008x432 with 1 Axes>"
      ]
     },
     "metadata": {
      "needs_background": "light"
     },
     "output_type": "display_data"
    }
   ],
   "source": [
    "# plot number of sets per year\n",
    "\n",
    "fig, axs = plt.subplots(1, 1, figsize=(14, 6))\n",
    "axs.hist(set_df['year'].values, bins=set_df['year'].unique().shape[0])\n",
    "axs.set(xlabel='Year', ylabel='Total of Sets')\n",
    "plt.show()"
   ]
  },
  {
   "cell_type": "code",
   "execution_count": 12,
   "metadata": {},
   "outputs": [
    {
     "data": {
      "image/png": "[encoded data removed]",
      "text/plain": [
       "<Figure size 1008x432 with 1 Axes>"
      ]
     },
     "metadata": {
      "needs_background": "light"
     },
     "output_type": "display_data"
    }
   ],
   "source": [
    "# plot the piece count distribution\n",
    "\n",
    "fig, axs = plt.subplots(1, 1, figsize=(14, 6))\n",
    "axs.hist(set_df.loc[(set_df['piece_cnt'] >= 1)]['piece_cnt'].values, bins=500)\n",
    "axs.set(xlabel='No Pieces', ylabel='Total of Sets', xlim=(0, 1000))\n",
    "plt.show()"
   ]
  },
  {
   "cell_type": "code",
   "execution_count": 13,
   "metadata": {},
   "outputs": [
    {
     "data": {
      "image/png": "[encoded data removed]",
      "text/plain": [
       "<Figure size 1008x432 with 1 Axes>"
      ]
     },
     "metadata": {
      "needs_background": "light"
     },
     "output_type": "display_data"
    }
   ],
   "source": [
    "# plot the minifig count distribution\n",
    "\n",
    "minifig_df = set_df.loc[(set_df['minifig_cnt'] >= 1) & (set_df['minifig_cnt'] <= 20)]\n",
    "\n",
    "fig, axs = plt.subplots(1, 1, figsize=(14, 6))\n",
    "axs.hist(minifig_df['minifig_cnt'].values, bins=20)\n",
    "axs.set(xlabel='# Minifigs', ylabel='Total of Sets', xlim=(0, 21))\n",
    "axs.set_xticklabels(range(0, 22, 2))\n",
    "\n",
    "plt.show()"
   ]
  },
  {
   "cell_type": "code",
   "execution_count": 14,
   "metadata": {},
   "outputs": [
    {
     "data": {
      "text/html": [
       "<div>\n",
       "<style scoped>\n",
       "    .dataframe tbody tr th:only-of-type {\n",
       "        vertical-align: middle;\n",
       "    }\n",
       "\n",
       "    .dataframe tbody tr th {\n",
       "        vertical-align: top;\n",
       "    }\n",
       "\n",
       "    .dataframe thead th {\n",
       "        text-align: right;\n",
       "    }\n",
       "</style>\n",
       "<table border=\"1\" class=\"dataframe\">\n",
       "  <thead>\n",
       "    <tr style=\"text-align: right;\">\n",
       "      <th></th>\n",
       "      <th>set_no</th>\n",
       "      <th>name</th>\n",
       "      <th>store_price</th>\n",
       "      <th>price_store</th>\n",
       "    </tr>\n",
       "  </thead>\n",
       "  <tbody>\n",
       "    <tr>\n",
       "      <th>1305</th>\n",
       "      <td>2780-1</td>\n",
       "      <td>Complete Playhouse</td>\n",
       "      <td>NaN</td>\n",
       "      <td>NaN</td>\n",
       "    </tr>\n",
       "    <tr>\n",
       "      <th>1306</th>\n",
       "      <td>4011-1</td>\n",
       "      <td>Cabin Cruiser</td>\n",
       "      <td>$19.75</td>\n",
       "      <td>19.75</td>\n",
       "    </tr>\n",
       "    <tr>\n",
       "      <th>1307</th>\n",
       "      <td>4021-1</td>\n",
       "      <td>Police Patrol</td>\n",
       "      <td>$34.00</td>\n",
       "      <td>34.00</td>\n",
       "    </tr>\n",
       "    <tr>\n",
       "      <th>1308</th>\n",
       "      <td>4031-1</td>\n",
       "      <td>Firefighter</td>\n",
       "      <td>$52.00</td>\n",
       "      <td>52.00</td>\n",
       "    </tr>\n",
       "    <tr>\n",
       "      <th>1309</th>\n",
       "      <td>4515-1</td>\n",
       "      <td>Straight Rails</td>\n",
       "      <td>£11.99, $12.99</td>\n",
       "      <td>12.99</td>\n",
       "    </tr>\n",
       "    <tr>\n",
       "      <th>1310</th>\n",
       "      <td>4520-1</td>\n",
       "      <td>Curved Rails</td>\n",
       "      <td>£11.99, $12.99</td>\n",
       "      <td>12.99</td>\n",
       "    </tr>\n",
       "    <tr>\n",
       "      <th>1311</th>\n",
       "      <td>4531-1</td>\n",
       "      <td>Manual Points with Track</td>\n",
       "      <td>$27.99</td>\n",
       "      <td>27.99</td>\n",
       "    </tr>\n",
       "    <tr>\n",
       "      <th>1312</th>\n",
       "      <td>4536-1</td>\n",
       "      <td>Blue Hopper Car</td>\n",
       "      <td>$15.00</td>\n",
       "      <td>15.00</td>\n",
       "    </tr>\n",
       "    <tr>\n",
       "      <th>1313</th>\n",
       "      <td>4539-1</td>\n",
       "      <td>Manual Level Crossing</td>\n",
       "      <td>$25.00</td>\n",
       "      <td>25.00</td>\n",
       "    </tr>\n",
       "    <tr>\n",
       "      <th>1314</th>\n",
       "      <td>4543-1</td>\n",
       "      <td>Railroad Tractor Flatbed</td>\n",
       "      <td>$22.00</td>\n",
       "      <td>22.00</td>\n",
       "    </tr>\n",
       "  </tbody>\n",
       "</table>\n",
       "</div>"
      ],
      "text/plain": [
       "      set_no                      name     store_price  price_store\n",
       "1305  2780-1        Complete Playhouse             NaN          NaN\n",
       "1306  4011-1             Cabin Cruiser          $19.75        19.75\n",
       "1307  4021-1             Police Patrol          $34.00        34.00\n",
       "1308  4031-1               Firefighter          $52.00        52.00\n",
       "1309  4515-1            Straight Rails  £11.99, $12.99        12.99\n",
       "1310  4520-1              Curved Rails  £11.99, $12.99        12.99\n",
       "1311  4531-1  Manual Points with Track          $27.99        27.99\n",
       "1312  4536-1           Blue Hopper Car          $15.00        15.00\n",
       "1313  4539-1     Manual Level Crossing          $25.00        25.00\n",
       "1314  4543-1  Railroad Tractor Flatbed          $22.00        22.00"
      ]
     },
     "execution_count": 14,
     "metadata": {},
     "output_type": "execute_result"
    }
   ],
   "source": [
    "# clean up the store price\n",
    "\n",
    "set_df['price_store'] = set_df['store_price'].apply(lh.clean_price)\n",
    "set_df[['set_no', 'name', 'store_price', 'price_store']][1305:1315]"
   ]
  },
  {
   "cell_type": "code",
   "execution_count": 15,
   "metadata": {},
   "outputs": [
    {
     "name": "stderr",
     "output_type": "stream",
     "text": [
      "/Users/philbert/anaconda3/lib/python3.7/site-packages/numpy/lib/histograms.py:824: RuntimeWarning: invalid value encountered in greater_equal\n",
      "  keep = (tmp_a >= first_edge)\n",
      "/Users/philbert/anaconda3/lib/python3.7/site-packages/numpy/lib/histograms.py:825: RuntimeWarning: invalid value encountered in less_equal\n",
      "  keep &= (tmp_a <= last_edge)\n"
     ]
    },
    {
     "data": {
      "image/png": "[encoded data removed]",
      "text/plain": [
       "<Figure size 1008x432 with 1 Axes>"
      ]
     },
     "metadata": {
      "needs_background": "light"
     },
     "output_type": "display_data"
    }
   ],
   "source": [
    "fig, axs = plt.subplots(1, 1, figsize=(14, 6))\n",
    "axs.hist(set_df['price_store'].values, bins=100)\n",
    "axs.set(xlabel='Store Price', ylabel='Total of Sets', xlim=(0, 200))\n",
    "\n",
    "plt.show()"
   ]
  },
  {
   "cell_type": "code",
   "execution_count": 16,
   "metadata": {},
   "outputs": [
    {
     "data": {
      "text/html": [
       "<div>\n",
       "<style scoped>\n",
       "    .dataframe tbody tr th:only-of-type {\n",
       "        vertical-align: middle;\n",
       "    }\n",
       "\n",
       "    .dataframe tbody tr th {\n",
       "        vertical-align: top;\n",
       "    }\n",
       "\n",
       "    .dataframe thead th {\n",
       "        text-align: right;\n",
       "    }\n",
       "</style>\n",
       "<table border=\"1\" class=\"dataframe\">\n",
       "  <thead>\n",
       "    <tr style=\"text-align: right;\">\n",
       "      <th></th>\n",
       "      <th>set_no</th>\n",
       "      <th>name</th>\n",
       "      <th>current_price</th>\n",
       "      <th>price_used</th>\n",
       "      <th>price_new</th>\n",
       "    </tr>\n",
       "  </thead>\n",
       "  <tbody>\n",
       "    <tr>\n",
       "      <th>2205</th>\n",
       "      <td>2161-1</td>\n",
       "      <td>Aqua Dozer</td>\n",
       "      <td>New: $90, Used: $22</td>\n",
       "      <td>22.0</td>\n",
       "      <td>90.0</td>\n",
       "    </tr>\n",
       "    <tr>\n",
       "      <th>2206</th>\n",
       "      <td>2162-1</td>\n",
       "      <td>Hydro Reef Wrecker</td>\n",
       "      <td>New: $89, Used: $44</td>\n",
       "      <td>44.0</td>\n",
       "      <td>89.0</td>\n",
       "    </tr>\n",
       "    <tr>\n",
       "      <th>2207</th>\n",
       "      <td>2163-1</td>\n",
       "      <td>Toucan</td>\n",
       "      <td>New: $1, Used: $0</td>\n",
       "      <td>0.0</td>\n",
       "      <td>1.0</td>\n",
       "    </tr>\n",
       "    <tr>\n",
       "      <th>2208</th>\n",
       "      <td>2164-1</td>\n",
       "      <td>Whale</td>\n",
       "      <td>New: $2, Used: $1</td>\n",
       "      <td>1.0</td>\n",
       "      <td>2.0</td>\n",
       "    </tr>\n",
       "    <tr>\n",
       "      <th>2209</th>\n",
       "      <td>2165-1</td>\n",
       "      <td>Rhinocerous</td>\n",
       "      <td>New: $2, Used: Not known</td>\n",
       "      <td>NaN</td>\n",
       "      <td>2.0</td>\n",
       "    </tr>\n",
       "    <tr>\n",
       "      <th>2210</th>\n",
       "      <td>2166-1</td>\n",
       "      <td>Elephant</td>\n",
       "      <td>New: $3, Used: Not known</td>\n",
       "      <td>NaN</td>\n",
       "      <td>3.0</td>\n",
       "    </tr>\n",
       "    <tr>\n",
       "      <th>2211</th>\n",
       "      <td>2167-1</td>\n",
       "      <td>Penguin</td>\n",
       "      <td>New: $2, Used: Not known</td>\n",
       "      <td>NaN</td>\n",
       "      <td>2.0</td>\n",
       "    </tr>\n",
       "    <tr>\n",
       "      <th>2212</th>\n",
       "      <td>2168-1</td>\n",
       "      <td>Rattle</td>\n",
       "      <td>New: $5, Used: Not known</td>\n",
       "      <td>NaN</td>\n",
       "      <td>5.0</td>\n",
       "    </tr>\n",
       "    <tr>\n",
       "      <th>2213</th>\n",
       "      <td>2181-1</td>\n",
       "      <td>Infomaniac</td>\n",
       "      <td>New: $270, Used: $45</td>\n",
       "      <td>45.0</td>\n",
       "      <td>270.0</td>\n",
       "    </tr>\n",
       "    <tr>\n",
       "      <th>2214</th>\n",
       "      <td>2184-1</td>\n",
       "      <td>XL Bulk Bucket</td>\n",
       "      <td>New: Not known, Used: Not known</td>\n",
       "      <td>NaN</td>\n",
       "      <td>NaN</td>\n",
       "    </tr>\n",
       "  </tbody>\n",
       "</table>\n",
       "</div>"
      ],
      "text/plain": [
       "      set_no                name                    current_price  price_used  \\\n",
       "2205  2161-1          Aqua Dozer              New: $90, Used: $22        22.0   \n",
       "2206  2162-1  Hydro Reef Wrecker              New: $89, Used: $44        44.0   \n",
       "2207  2163-1              Toucan                New: $1, Used: $0         0.0   \n",
       "2208  2164-1               Whale                New: $2, Used: $1         1.0   \n",
       "2209  2165-1         Rhinocerous         New: $2, Used: Not known         NaN   \n",
       "2210  2166-1            Elephant         New: $3, Used: Not known         NaN   \n",
       "2211  2167-1             Penguin         New: $2, Used: Not known         NaN   \n",
       "2212  2168-1              Rattle         New: $5, Used: Not known         NaN   \n",
       "2213  2181-1          Infomaniac             New: $270, Used: $45        45.0   \n",
       "2214  2184-1      XL Bulk Bucket  New: Not known, Used: Not known         NaN   \n",
       "\n",
       "      price_new  \n",
       "2205       90.0  \n",
       "2206       89.0  \n",
       "2207        1.0  \n",
       "2208        2.0  \n",
       "2209        2.0  \n",
       "2210        3.0  \n",
       "2211        2.0  \n",
       "2212        5.0  \n",
       "2213      270.0  \n",
       "2214        NaN  "
      ]
     },
     "execution_count": 16,
     "metadata": {},
     "output_type": "execute_result"
    }
   ],
   "source": [
    "# create 2 new columns for current price\n",
    "\n",
    "set_df['price_used'] = set_df['current_price'].apply(lh.get_price_used)\n",
    "set_df['price_new'] = set_df['current_price'].apply(lh.get_price_new)\n",
    "set_df[['set_no', 'name', 'current_price', 'price_used', 'price_new']][2205:2215]"
   ]
  },
  {
   "cell_type": "code",
   "execution_count": 17,
   "metadata": {},
   "outputs": [
    {
     "data": {
      "image/png": "[encoded data removed]",
      "text/plain": [
       "<Figure size 1008x432 with 1 Axes>"
      ]
     },
     "metadata": {
      "needs_background": "light"
     },
     "output_type": "display_data"
    }
   ],
   "source": [
    "fig, axs = plt.subplots(1, 1, figsize=(14, 6))\n",
    "axs.hist(set_df['price_used'].values, bins=200)\n",
    "axs.set(xlabel='Used Price', ylabel='Total of Sets', xlim=(0, 200))\n",
    "\n",
    "plt.show()"
   ]
  },
  {
   "cell_type": "code",
   "execution_count": 18,
   "metadata": {},
   "outputs": [
    {
     "data": {
      "text/html": [
       "<div>\n",
       "<style scoped>\n",
       "    .dataframe tbody tr th:only-of-type {\n",
       "        vertical-align: middle;\n",
       "    }\n",
       "\n",
       "    .dataframe tbody tr th {\n",
       "        vertical-align: top;\n",
       "    }\n",
       "\n",
       "    .dataframe thead th {\n",
       "        text-align: right;\n",
       "    }\n",
       "</style>\n",
       "<table border=\"1\" class=\"dataframe\">\n",
       "  <thead>\n",
       "    <tr style=\"text-align: right;\">\n",
       "      <th></th>\n",
       "      <th>set_no</th>\n",
       "      <th>name</th>\n",
       "      <th>rating_votes</th>\n",
       "      <th>rating_votes_cl</th>\n",
       "    </tr>\n",
       "  </thead>\n",
       "  <tbody>\n",
       "    <tr>\n",
       "      <th>2205</th>\n",
       "      <td>2161-1</td>\n",
       "      <td>Aqua Dozer</td>\n",
       "      <td>6</td>\n",
       "      <td>6.0</td>\n",
       "    </tr>\n",
       "    <tr>\n",
       "      <th>2206</th>\n",
       "      <td>2162-1</td>\n",
       "      <td>Hydro Reef Wrecker</td>\n",
       "      <td>3</td>\n",
       "      <td>3.0</td>\n",
       "    </tr>\n",
       "    <tr>\n",
       "      <th>2207</th>\n",
       "      <td>2163-1</td>\n",
       "      <td>Toucan</td>\n",
       "      <td>NaN</td>\n",
       "      <td>NaN</td>\n",
       "    </tr>\n",
       "    <tr>\n",
       "      <th>2208</th>\n",
       "      <td>2164-1</td>\n",
       "      <td>Whale</td>\n",
       "      <td>NaN</td>\n",
       "      <td>NaN</td>\n",
       "    </tr>\n",
       "    <tr>\n",
       "      <th>2209</th>\n",
       "      <td>2165-1</td>\n",
       "      <td>Rhinocerous</td>\n",
       "      <td>NaN</td>\n",
       "      <td>NaN</td>\n",
       "    </tr>\n",
       "    <tr>\n",
       "      <th>2210</th>\n",
       "      <td>2166-1</td>\n",
       "      <td>Elephant</td>\n",
       "      <td>NaN</td>\n",
       "      <td>NaN</td>\n",
       "    </tr>\n",
       "    <tr>\n",
       "      <th>2211</th>\n",
       "      <td>2167-1</td>\n",
       "      <td>Penguin</td>\n",
       "      <td>1review</td>\n",
       "      <td>1.0</td>\n",
       "    </tr>\n",
       "    <tr>\n",
       "      <th>2212</th>\n",
       "      <td>2168-1</td>\n",
       "      <td>Rattle</td>\n",
       "      <td>NaN</td>\n",
       "      <td>NaN</td>\n",
       "    </tr>\n",
       "    <tr>\n",
       "      <th>2213</th>\n",
       "      <td>2181-1</td>\n",
       "      <td>Infomaniac</td>\n",
       "      <td>2</td>\n",
       "      <td>2.0</td>\n",
       "    </tr>\n",
       "    <tr>\n",
       "      <th>2214</th>\n",
       "      <td>2184-1</td>\n",
       "      <td>XL Bulk Bucket</td>\n",
       "      <td>NaN</td>\n",
       "      <td>NaN</td>\n",
       "    </tr>\n",
       "  </tbody>\n",
       "</table>\n",
       "</div>"
      ],
      "text/plain": [
       "      set_no                name rating_votes  rating_votes_cl\n",
       "2205  2161-1          Aqua Dozer            6              6.0\n",
       "2206  2162-1  Hydro Reef Wrecker            3              3.0\n",
       "2207  2163-1              Toucan          NaN              NaN\n",
       "2208  2164-1               Whale          NaN              NaN\n",
       "2209  2165-1         Rhinocerous          NaN              NaN\n",
       "2210  2166-1            Elephant          NaN              NaN\n",
       "2211  2167-1             Penguin      1review              1.0\n",
       "2212  2168-1              Rattle          NaN              NaN\n",
       "2213  2181-1          Infomaniac            2              2.0\n",
       "2214  2184-1      XL Bulk Bucket          NaN              NaN"
      ]
     },
     "execution_count": 18,
     "metadata": {},
     "output_type": "execute_result"
    }
   ],
   "source": [
    "# clean the ratings votes column\n",
    "\n",
    "set_df['rating_votes_cl'] = set_df['rating_votes'].apply(lh.clean_votes).astype('float')\n",
    "set_df[['set_no', 'name', 'rating_votes', 'rating_votes_cl']][2205:2215]"
   ]
  },
  {
   "cell_type": "code",
   "execution_count": 19,
   "metadata": {
    "scrolled": false
   },
   "outputs": [
    {
     "data": {
      "image/png": "[encoded data removed]",
      "text/plain": [
       "<Figure size 1008x432 with 1 Axes>"
      ]
     },
     "metadata": {
      "needs_background": "light"
     },
     "output_type": "display_data"
    }
   ],
   "source": [
    "# since there aren't a lot of sets with high votes, the ratings aren't very reliable\n",
    "\n",
    "fig, axs = plt.subplots(1, 1, figsize=(14, 6))\n",
    "axs.hist(set_df['rating_votes_cl'].values, bins=100)\n",
    "axs.set(xlabel='Number of Votes', ylabel='Total of Sets', xlim=(0, 30))  # most votes ~100\n",
    "\n",
    "plt.show()"
   ]
  },
  {
   "cell_type": "code",
   "execution_count": 20,
   "metadata": {
    "scrolled": true
   },
   "outputs": [
    {
     "data": {
      "text/plain": [
       "(10265,)"
      ]
     },
     "execution_count": 20,
     "metadata": {},
     "output_type": "execute_result"
    }
   ],
   "source": [
    "# investigate the tags \n",
    "\n",
    "tag_raw_ls = set_df.loc[set_df['tags'].isna()==False]['tags'].values\n",
    "tag_raw_ls.shape"
   ]
  },
  {
   "cell_type": "code",
   "execution_count": 21,
   "metadata": {},
   "outputs": [
    {
     "data": {
      "text/plain": [
       "7553"
      ]
     },
     "execution_count": 21,
     "metadata": {},
     "output_type": "execute_result"
    }
   ],
   "source": [
    "tag_st = set(tag_raw_ls)\n",
    "len(tag_st)"
   ]
  },
  {
   "cell_type": "code",
   "execution_count": 22,
   "metadata": {},
   "outputs": [
    {
     "data": {
      "text/html": [
       "<div>\n",
       "<style scoped>\n",
       "    .dataframe tbody tr th:only-of-type {\n",
       "        vertical-align: middle;\n",
       "    }\n",
       "\n",
       "    .dataframe tbody tr th {\n",
       "        vertical-align: top;\n",
       "    }\n",
       "\n",
       "    .dataframe thead th {\n",
       "        text-align: right;\n",
       "    }\n",
       "</style>\n",
       "<table border=\"1\" class=\"dataframe\">\n",
       "  <thead>\n",
       "    <tr style=\"text-align: right;\">\n",
       "      <th></th>\n",
       "      <th>tag</th>\n",
       "      <th>count</th>\n",
       "    </tr>\n",
       "  </thead>\n",
       "  <tbody>\n",
       "    <tr>\n",
       "      <th>0</th>\n",
       "      <td>Polybag</td>\n",
       "      <td>804</td>\n",
       "    </tr>\n",
       "    <tr>\n",
       "      <th>1</th>\n",
       "      <td>Aircraft</td>\n",
       "      <td>637</td>\n",
       "    </tr>\n",
       "    <tr>\n",
       "      <th>2</th>\n",
       "      <td>Microscale</td>\n",
       "      <td>568</td>\n",
       "    </tr>\n",
       "    <tr>\n",
       "      <th>3</th>\n",
       "      <td>Car</td>\n",
       "      <td>480</td>\n",
       "    </tr>\n",
       "    <tr>\n",
       "      <th>4</th>\n",
       "      <td>Brick Built Animals</td>\n",
       "      <td>450</td>\n",
       "    </tr>\n",
       "  </tbody>\n",
       "</table>\n",
       "</div>"
      ],
      "text/plain": [
       "                   tag  count\n",
       "0              Polybag    804\n",
       "1             Aircraft    637\n",
       "2           Microscale    568\n",
       "3                  Car    480\n",
       "4  Brick Built Animals    450"
      ]
     },
     "execution_count": 22,
     "metadata": {},
     "output_type": "execute_result"
    }
   ],
   "source": [
    "tag_ls = lh.count_in_lists(list(tag_st))\n",
    "tag_df = pd.DataFrame(tag_ls).sort_values('count', ascending=False).reset_index()\n",
    "tag_df = tag_df[['tag', 'count']]\n",
    "tag_df.head()"
   ]
  },
  {
   "cell_type": "code",
   "execution_count": 23,
   "metadata": {},
   "outputs": [
    {
     "data": {
      "text/plain": [
       "(3361, 2)"
      ]
     },
     "execution_count": 23,
     "metadata": {},
     "output_type": "execute_result"
    }
   ],
   "source": [
    "tag_df.shape"
   ]
  },
  {
   "cell_type": "code",
   "execution_count": 24,
   "metadata": {},
   "outputs": [
    {
     "data": {
      "text/html": [
       "<div>\n",
       "<style scoped>\n",
       "    .dataframe tbody tr th:only-of-type {\n",
       "        vertical-align: middle;\n",
       "    }\n",
       "\n",
       "    .dataframe tbody tr th {\n",
       "        vertical-align: top;\n",
       "    }\n",
       "\n",
       "    .dataframe thead th {\n",
       "        text-align: right;\n",
       "    }\n",
       "</style>\n",
       "<table border=\"1\" class=\"dataframe\">\n",
       "  <thead>\n",
       "    <tr style=\"text-align: right;\">\n",
       "      <th></th>\n",
       "      <th>set_no</th>\n",
       "      <th>name</th>\n",
       "      <th>tags</th>\n",
       "      <th>main_tag</th>\n",
       "    </tr>\n",
       "  </thead>\n",
       "  <tbody>\n",
       "    <tr>\n",
       "      <th>1000</th>\n",
       "      <td>1649-1</td>\n",
       "      <td>Sea Skimmer</td>\n",
       "      <td>Airboat, Mcdonalds, Polybag</td>\n",
       "      <td>None</td>\n",
       "    </tr>\n",
       "    <tr>\n",
       "      <th>1001</th>\n",
       "      <td>1653-1</td>\n",
       "      <td>Container Set</td>\n",
       "      <td>NaN</td>\n",
       "      <td>None</td>\n",
       "    </tr>\n",
       "    <tr>\n",
       "      <th>1002</th>\n",
       "      <td>1661-1</td>\n",
       "      <td>Basic Building Set</td>\n",
       "      <td>NaN</td>\n",
       "      <td>None</td>\n",
       "    </tr>\n",
       "    <tr>\n",
       "      <th>1003</th>\n",
       "      <td>1662-1</td>\n",
       "      <td>Basic Building Set</td>\n",
       "      <td>Baseplate, Boat, Carriage, Furniture, Horse, H...</td>\n",
       "      <td>None</td>\n",
       "    </tr>\n",
       "    <tr>\n",
       "      <th>1004</th>\n",
       "      <td>1663-1</td>\n",
       "      <td>Basic Building Set</td>\n",
       "      <td>NaN</td>\n",
       "      <td>None</td>\n",
       "    </tr>\n",
       "  </tbody>\n",
       "</table>\n",
       "</div>"
      ],
      "text/plain": [
       "      set_no                name  \\\n",
       "1000  1649-1         Sea Skimmer   \n",
       "1001  1653-1       Container Set   \n",
       "1002  1661-1  Basic Building Set   \n",
       "1003  1662-1  Basic Building Set   \n",
       "1004  1663-1  Basic Building Set   \n",
       "\n",
       "                                                   tags main_tag  \n",
       "1000                        Airboat, Mcdonalds, Polybag     None  \n",
       "1001                                                NaN     None  \n",
       "1002                                                NaN     None  \n",
       "1003  Baseplate, Boat, Carriage, Furniture, Horse, H...     None  \n",
       "1004                                                NaN     None  "
      ]
     },
     "execution_count": 24,
     "metadata": {},
     "output_type": "execute_result"
    }
   ],
   "source": [
    "\n",
    "set_df['main_tag'] = set_df['tags'].apply(lh.get_main_tag)\n",
    "set_df[['set_no', 'name', 'tags', 'main_tag']][1000:1005]"
   ]
  },
  {
   "cell_type": "code",
   "execution_count": null,
   "metadata": {},
   "outputs": [],
   "source": []
  },
  {
   "cell_type": "code",
   "execution_count": 25,
   "metadata": {
    "scrolled": true
   },
   "outputs": [
    {
     "data": {
      "text/plain": [
       "Normal        9909\n",
       "Gear          2063\n",
       "Other          645\n",
       "Collection     488\n",
       "Extended       347\n",
       "Book           265\n",
       "Random          36\n",
       "Name: set_type, dtype: int64"
      ]
     },
     "execution_count": 25,
     "metadata": {},
     "output_type": "execute_result"
    }
   ],
   "source": [
    "# set type\n",
    "# only the Normal type should be kept\n",
    "# Gear is keychains, games \n",
    "# Collection is Normal sets bundled together, these are not in the secondary market\n",
    "# Extended can be like Collection, but even more unavailable \n",
    "\n",
    "set_df['set_type'].value_counts()"
   ]
  },
  {
   "cell_type": "code",
   "execution_count": 26,
   "metadata": {},
   "outputs": [
    {
     "data": {
      "text/html": [
       "<div>\n",
       "<style scoped>\n",
       "    .dataframe tbody tr th:only-of-type {\n",
       "        vertical-align: middle;\n",
       "    }\n",
       "\n",
       "    .dataframe tbody tr th {\n",
       "        vertical-align: top;\n",
       "    }\n",
       "\n",
       "    .dataframe thead th {\n",
       "        text-align: right;\n",
       "    }\n",
       "</style>\n",
       "<table border=\"1\" class=\"dataframe\">\n",
       "  <thead>\n",
       "    <tr style=\"text-align: right;\">\n",
       "      <th></th>\n",
       "      <th>set_no</th>\n",
       "      <th>name</th>\n",
       "      <th>theme_group</th>\n",
       "      <th>theme</th>\n",
       "      <th>subtheme</th>\n",
       "      <th>year</th>\n",
       "      <th>piece_cnt</th>\n",
       "      <th>minifig_cnt</th>\n",
       "      <th>inventory_url</th>\n",
       "      <th>minifig_url</th>\n",
       "      <th>...</th>\n",
       "      <th>rating_votes</th>\n",
       "      <th>tags</th>\n",
       "      <th>set_type</th>\n",
       "      <th>packaging</th>\n",
       "      <th>notes</th>\n",
       "      <th>price_store</th>\n",
       "      <th>price_used</th>\n",
       "      <th>price_new</th>\n",
       "      <th>rating_votes_cl</th>\n",
       "      <th>main_tag</th>\n",
       "    </tr>\n",
       "  </thead>\n",
       "  <tbody>\n",
       "    <tr>\n",
       "      <th>4709</th>\n",
       "      <td>14683-1</td>\n",
       "      <td>BIONICLE: The Game</td>\n",
       "      <td>Miscellaneous</td>\n",
       "      <td>Gear</td>\n",
       "      <td>Video Games/PC</td>\n",
       "      <td>2003.0</td>\n",
       "      <td>NaN</td>\n",
       "      <td>0.0</td>\n",
       "      <td>NaN</td>\n",
       "      <td>NaN</td>\n",
       "      <td>...</td>\n",
       "      <td>4</td>\n",
       "      <td>Bionicle, Cd Rom</td>\n",
       "      <td>Gear</td>\n",
       "      <td>NaN</td>\n",
       "      <td>NaN</td>\n",
       "      <td>NaN</td>\n",
       "      <td>NaN</td>\n",
       "      <td>NaN</td>\n",
       "      <td>4.0</td>\n",
       "      <td>None</td>\n",
       "    </tr>\n",
       "    <tr>\n",
       "      <th>4710</th>\n",
       "      <td>14684-1</td>\n",
       "      <td>BIONICLE: The Game</td>\n",
       "      <td>Miscellaneous</td>\n",
       "      <td>Gear</td>\n",
       "      <td>Video Games/Game Boy Advance</td>\n",
       "      <td>2003.0</td>\n",
       "      <td>NaN</td>\n",
       "      <td>0.0</td>\n",
       "      <td>NaN</td>\n",
       "      <td>NaN</td>\n",
       "      <td>...</td>\n",
       "      <td>1review</td>\n",
       "      <td>NaN</td>\n",
       "      <td>Gear</td>\n",
       "      <td>NaN</td>\n",
       "      <td>NaN</td>\n",
       "      <td>NaN</td>\n",
       "      <td>NaN</td>\n",
       "      <td>NaN</td>\n",
       "      <td>1.0</td>\n",
       "      <td>None</td>\n",
       "    </tr>\n",
       "    <tr>\n",
       "      <th>4724</th>\n",
       "      <td>850252-1</td>\n",
       "      <td>Johnny Thunder</td>\n",
       "      <td>Miscellaneous</td>\n",
       "      <td>Gear</td>\n",
       "      <td>Key Chains/Adventurers</td>\n",
       "      <td>2003.0</td>\n",
       "      <td>NaN</td>\n",
       "      <td>0.0</td>\n",
       "      <td>NaN</td>\n",
       "      <td>NaN</td>\n",
       "      <td>...</td>\n",
       "      <td>NaN</td>\n",
       "      <td>NaN</td>\n",
       "      <td>Gear</td>\n",
       "      <td>NaN</td>\n",
       "      <td>NaN</td>\n",
       "      <td>NaN</td>\n",
       "      <td>NaN</td>\n",
       "      <td>NaN</td>\n",
       "      <td>NaN</td>\n",
       "      <td>None</td>\n",
       "    </tr>\n",
       "    <tr>\n",
       "      <th>4725</th>\n",
       "      <td>850352-1</td>\n",
       "      <td>Snowtrooper</td>\n",
       "      <td>Miscellaneous</td>\n",
       "      <td>Gear</td>\n",
       "      <td>Key Chains/Star Wars</td>\n",
       "      <td>2003.0</td>\n",
       "      <td>NaN</td>\n",
       "      <td>0.0</td>\n",
       "      <td>NaN</td>\n",
       "      <td>NaN</td>\n",
       "      <td>...</td>\n",
       "      <td>NaN</td>\n",
       "      <td>NaN</td>\n",
       "      <td>Gear</td>\n",
       "      <td>NaN</td>\n",
       "      <td>Cardboard Back</td>\n",
       "      <td>NaN</td>\n",
       "      <td>NaN</td>\n",
       "      <td>NaN</td>\n",
       "      <td>NaN</td>\n",
       "      <td>None</td>\n",
       "    </tr>\n",
       "    <tr>\n",
       "      <th>4726</th>\n",
       "      <td>850356-1</td>\n",
       "      <td>C-3PO</td>\n",
       "      <td>Miscellaneous</td>\n",
       "      <td>Gear</td>\n",
       "      <td>Key Chains/Star Wars</td>\n",
       "      <td>2003.0</td>\n",
       "      <td>NaN</td>\n",
       "      <td>0.0</td>\n",
       "      <td>NaN</td>\n",
       "      <td>NaN</td>\n",
       "      <td>...</td>\n",
       "      <td>NaN</td>\n",
       "      <td>NaN</td>\n",
       "      <td>Gear</td>\n",
       "      <td>NaN</td>\n",
       "      <td>Cardboard Back</td>\n",
       "      <td>NaN</td>\n",
       "      <td>NaN</td>\n",
       "      <td>NaN</td>\n",
       "      <td>NaN</td>\n",
       "      <td>None</td>\n",
       "    </tr>\n",
       "  </tbody>\n",
       "</table>\n",
       "<p>5 rows × 23 columns</p>\n",
       "</div>"
      ],
      "text/plain": [
       "        set_no                name    theme_group theme  \\\n",
       "4709   14683-1  BIONICLE: The Game  Miscellaneous  Gear   \n",
       "4710   14684-1  BIONICLE: The Game  Miscellaneous  Gear   \n",
       "4724  850252-1      Johnny Thunder  Miscellaneous  Gear   \n",
       "4725  850352-1         Snowtrooper  Miscellaneous  Gear   \n",
       "4726  850356-1               C-3PO  Miscellaneous  Gear   \n",
       "\n",
       "                          subtheme    year  piece_cnt  minifig_cnt  \\\n",
       "4709                Video Games/PC  2003.0        NaN          0.0   \n",
       "4710  Video Games/Game Boy Advance  2003.0        NaN          0.0   \n",
       "4724        Key Chains/Adventurers  2003.0        NaN          0.0   \n",
       "4725          Key Chains/Star Wars  2003.0        NaN          0.0   \n",
       "4726          Key Chains/Star Wars  2003.0        NaN          0.0   \n",
       "\n",
       "     inventory_url minifig_url  ... rating_votes              tags  set_type  \\\n",
       "4709           NaN         NaN  ...            4  Bionicle, Cd Rom      Gear   \n",
       "4710           NaN         NaN  ...      1review               NaN      Gear   \n",
       "4724           NaN         NaN  ...          NaN               NaN      Gear   \n",
       "4725           NaN         NaN  ...          NaN               NaN      Gear   \n",
       "4726           NaN         NaN  ...          NaN               NaN      Gear   \n",
       "\n",
       "     packaging           notes price_store price_used price_new  \\\n",
       "4709       NaN             NaN         NaN        NaN       NaN   \n",
       "4710       NaN             NaN         NaN        NaN       NaN   \n",
       "4724       NaN             NaN         NaN        NaN       NaN   \n",
       "4725       NaN  Cardboard Back         NaN        NaN       NaN   \n",
       "4726       NaN  Cardboard Back         NaN        NaN       NaN   \n",
       "\n",
       "      rating_votes_cl  main_tag  \n",
       "4709              4.0      None  \n",
       "4710              1.0      None  \n",
       "4724              NaN      None  \n",
       "4725              NaN      None  \n",
       "4726              NaN      None  \n",
       "\n",
       "[5 rows x 23 columns]"
      ]
     },
     "execution_count": 26,
     "metadata": {},
     "output_type": "execute_result"
    }
   ],
   "source": [
    "set_df.loc[set_df['set_type']=='Gear'][200:205]"
   ]
  },
  {
   "cell_type": "code",
   "execution_count": 27,
   "metadata": {
    "scrolled": true
   },
   "outputs": [
    {
     "data": {
      "text/plain": [
       "Box                      5306\n",
       "Polybag                  1732\n",
       "Foil pack                 853\n",
       "Blister pack              218\n",
       "None (loose parts)        173\n",
       "Bucket                    129\n",
       "Other                     120\n",
       "Tag                       114\n",
       "Canister                   73\n",
       "Tub                        66\n",
       "Plastic box                58\n",
       "Shrink-wrapped             25\n",
       "Box with backing card      23\n",
       "Box with handle            14\n",
       "Zip-lock bag                9\n",
       "Plastic canister            6\n",
       "Name: packaging, dtype: int64"
      ]
     },
     "execution_count": 27,
     "metadata": {},
     "output_type": "execute_result"
    }
   ],
   "source": [
    "# packaging \n",
    "# keep Box and NaN\n",
    "\n",
    "set_df['packaging'].value_counts()"
   ]
  },
  {
   "cell_type": "code",
   "execution_count": 28,
   "metadata": {
    "scrolled": true
   },
   "outputs": [
    {
     "data": {
      "text/plain": [
       "(8448, 23)"
      ]
     },
     "execution_count": 28,
     "metadata": {},
     "output_type": "execute_result"
    }
   ],
   "source": [
    "set_df.loc[set_df['packaging']!='Box'].shape"
   ]
  },
  {
   "cell_type": "code",
   "execution_count": 51,
   "metadata": {},
   "outputs": [
    {
     "data": {
      "text/html": [
       "<div>\n",
       "<style scoped>\n",
       "    .dataframe tbody tr th:only-of-type {\n",
       "        vertical-align: middle;\n",
       "    }\n",
       "\n",
       "    .dataframe tbody tr th {\n",
       "        vertical-align: top;\n",
       "    }\n",
       "\n",
       "    .dataframe thead th {\n",
       "        text-align: right;\n",
       "    }\n",
       "</style>\n",
       "<table border=\"1\" class=\"dataframe\">\n",
       "  <thead>\n",
       "    <tr style=\"text-align: right;\">\n",
       "      <th></th>\n",
       "      <th>set_no</th>\n",
       "      <th>name</th>\n",
       "      <th>theme_group</th>\n",
       "      <th>theme</th>\n",
       "      <th>subtheme</th>\n",
       "      <th>year</th>\n",
       "      <th>piece_cnt</th>\n",
       "      <th>minifig_cnt</th>\n",
       "      <th>inventory_url</th>\n",
       "      <th>minifig_url</th>\n",
       "      <th>...</th>\n",
       "      <th>rating_votes</th>\n",
       "      <th>tags</th>\n",
       "      <th>set_type</th>\n",
       "      <th>packaging</th>\n",
       "      <th>notes</th>\n",
       "      <th>price_store</th>\n",
       "      <th>price_used</th>\n",
       "      <th>price_new</th>\n",
       "      <th>rating_votes_cl</th>\n",
       "      <th>main_tag</th>\n",
       "    </tr>\n",
       "  </thead>\n",
       "  <tbody>\n",
       "    <tr>\n",
       "      <th>494</th>\n",
       "      <td>2403-1</td>\n",
       "      <td>Fire Chief Building Set</td>\n",
       "      <td>Pre-school</td>\n",
       "      <td>Duplo</td>\n",
       "      <td>NaN</td>\n",
       "      <td>1985.0</td>\n",
       "      <td>4.0</td>\n",
       "      <td>1.0</td>\n",
       "      <td>NaN</td>\n",
       "      <td>/minifigs/inset-2403-1</td>\n",
       "      <td>...</td>\n",
       "      <td>NaN</td>\n",
       "      <td>NaN</td>\n",
       "      <td>Normal</td>\n",
       "      <td>Box</td>\n",
       "      <td>NaN</td>\n",
       "      <td>NaN</td>\n",
       "      <td>NaN</td>\n",
       "      <td>NaN</td>\n",
       "      <td>NaN</td>\n",
       "      <td>None</td>\n",
       "    </tr>\n",
       "    <tr>\n",
       "      <th>6170</th>\n",
       "      <td>7996-1</td>\n",
       "      <td>Train Rail Crossing</td>\n",
       "      <td>Modern day</td>\n",
       "      <td>City</td>\n",
       "      <td>Trains</td>\n",
       "      <td>2007.0</td>\n",
       "      <td>4.0</td>\n",
       "      <td>0.0</td>\n",
       "      <td>/inventories/7996-1</td>\n",
       "      <td>NaN</td>\n",
       "      <td>...</td>\n",
       "      <td>2</td>\n",
       "      <td>Track, Train Track</td>\n",
       "      <td>Normal</td>\n",
       "      <td>Box</td>\n",
       "      <td>NaN</td>\n",
       "      <td>24.99</td>\n",
       "      <td>100.0</td>\n",
       "      <td>114.0</td>\n",
       "      <td>2.0</td>\n",
       "      <td>None</td>\n",
       "    </tr>\n",
       "    <tr>\n",
       "      <th>5008</th>\n",
       "      <td>8613-1</td>\n",
       "      <td>Kanoka Disk Launcher Pack</td>\n",
       "      <td>Constraction</td>\n",
       "      <td>Bionicle</td>\n",
       "      <td>Accessories</td>\n",
       "      <td>2004.0</td>\n",
       "      <td>4.0</td>\n",
       "      <td>0.0</td>\n",
       "      <td>/inventories/8613-1</td>\n",
       "      <td>NaN</td>\n",
       "      <td>...</td>\n",
       "      <td>8</td>\n",
       "      <td>Kanoka</td>\n",
       "      <td>Normal</td>\n",
       "      <td>Box</td>\n",
       "      <td>NaN</td>\n",
       "      <td>2.00</td>\n",
       "      <td>1.0</td>\n",
       "      <td>3.0</td>\n",
       "      <td>8.0</td>\n",
       "      <td>None</td>\n",
       "    </tr>\n",
       "    <tr>\n",
       "      <th>3486</th>\n",
       "      <td>8515-1</td>\n",
       "      <td>RoboRider Wheels</td>\n",
       "      <td>Technical</td>\n",
       "      <td>Technic</td>\n",
       "      <td>Robo Riders</td>\n",
       "      <td>2000.0</td>\n",
       "      <td>4.0</td>\n",
       "      <td>0.0</td>\n",
       "      <td>NaN</td>\n",
       "      <td>NaN</td>\n",
       "      <td>...</td>\n",
       "      <td>2</td>\n",
       "      <td>Accessory</td>\n",
       "      <td>Normal</td>\n",
       "      <td>Box</td>\n",
       "      <td>NaN</td>\n",
       "      <td>2.00</td>\n",
       "      <td>1.0</td>\n",
       "      <td>4.0</td>\n",
       "      <td>2.0</td>\n",
       "      <td>None</td>\n",
       "    </tr>\n",
       "    <tr>\n",
       "      <th>3514</th>\n",
       "      <td>1239-1</td>\n",
       "      <td>Subzero</td>\n",
       "      <td>Racing</td>\n",
       "      <td>Racers</td>\n",
       "      <td>Xalax</td>\n",
       "      <td>2001.0</td>\n",
       "      <td>4.0</td>\n",
       "      <td>0.0</td>\n",
       "      <td>NaN</td>\n",
       "      <td>NaN</td>\n",
       "      <td>...</td>\n",
       "      <td>5</td>\n",
       "      <td>NaN</td>\n",
       "      <td>Normal</td>\n",
       "      <td>Box</td>\n",
       "      <td>Promotional release with Birdseye/Walls frozen...</td>\n",
       "      <td>NaN</td>\n",
       "      <td>5.0</td>\n",
       "      <td>5.0</td>\n",
       "      <td>5.0</td>\n",
       "      <td>None</td>\n",
       "    </tr>\n",
       "  </tbody>\n",
       "</table>\n",
       "<p>5 rows × 23 columns</p>\n",
       "</div>"
      ],
      "text/plain": [
       "      set_no                       name   theme_group     theme     subtheme  \\\n",
       "494   2403-1    Fire Chief Building Set    Pre-school     Duplo          NaN   \n",
       "6170  7996-1        Train Rail Crossing    Modern day      City       Trains   \n",
       "5008  8613-1  Kanoka Disk Launcher Pack  Constraction  Bionicle  Accessories   \n",
       "3486  8515-1           RoboRider Wheels     Technical   Technic  Robo Riders   \n",
       "3514  1239-1                    Subzero        Racing    Racers        Xalax   \n",
       "\n",
       "        year  piece_cnt  minifig_cnt        inventory_url  \\\n",
       "494   1985.0        4.0          1.0                  NaN   \n",
       "6170  2007.0        4.0          0.0  /inventories/7996-1   \n",
       "5008  2004.0        4.0          0.0  /inventories/8613-1   \n",
       "3486  2000.0        4.0          0.0                  NaN   \n",
       "3514  2001.0        4.0          0.0                  NaN   \n",
       "\n",
       "                 minifig_url  ... rating_votes                tags  set_type  \\\n",
       "494   /minifigs/inset-2403-1  ...          NaN                 NaN    Normal   \n",
       "6170                     NaN  ...            2  Track, Train Track    Normal   \n",
       "5008                     NaN  ...            8              Kanoka    Normal   \n",
       "3486                     NaN  ...            2           Accessory    Normal   \n",
       "3514                     NaN  ...            5                 NaN    Normal   \n",
       "\n",
       "     packaging                                              notes price_store  \\\n",
       "494        Box                                                NaN         NaN   \n",
       "6170       Box                                                NaN       24.99   \n",
       "5008       Box                                                NaN        2.00   \n",
       "3486       Box                                                NaN        2.00   \n",
       "3514       Box  Promotional release with Birdseye/Walls frozen...         NaN   \n",
       "\n",
       "     price_used price_new  rating_votes_cl  main_tag  \n",
       "494         NaN       NaN              NaN      None  \n",
       "6170      100.0     114.0              2.0      None  \n",
       "5008        1.0       3.0              8.0      None  \n",
       "3486        1.0       4.0              2.0      None  \n",
       "3514        5.0       5.0              5.0      None  \n",
       "\n",
       "[5 rows x 23 columns]"
      ]
     },
     "execution_count": 51,
     "metadata": {},
     "output_type": "execute_result"
    }
   ],
   "source": [
    "set_df.loc[set_df['packaging']=='Box'].sort_values('piece_cnt')[20:25]"
   ]
  },
  {
   "cell_type": "code",
   "execution_count": 29,
   "metadata": {
    "scrolled": true
   },
   "outputs": [
    {
     "data": {
      "text/plain": [
       "(4835, 23)"
      ]
     },
     "execution_count": 29,
     "metadata": {},
     "output_type": "execute_result"
    }
   ],
   "source": [
    "set_df.loc[set_df['packaging'].isna()].shape"
   ]
  },
  {
   "cell_type": "code",
   "execution_count": 54,
   "metadata": {},
   "outputs": [
    {
     "data": {
      "text/html": [
       "<div>\n",
       "<style scoped>\n",
       "    .dataframe tbody tr th:only-of-type {\n",
       "        vertical-align: middle;\n",
       "    }\n",
       "\n",
       "    .dataframe tbody tr th {\n",
       "        vertical-align: top;\n",
       "    }\n",
       "\n",
       "    .dataframe thead th {\n",
       "        text-align: right;\n",
       "    }\n",
       "</style>\n",
       "<table border=\"1\" class=\"dataframe\">\n",
       "  <thead>\n",
       "    <tr style=\"text-align: right;\">\n",
       "      <th></th>\n",
       "      <th>set_no</th>\n",
       "      <th>name</th>\n",
       "      <th>theme_group</th>\n",
       "      <th>theme</th>\n",
       "      <th>piece_cnt</th>\n",
       "      <th>year</th>\n",
       "      <th>packaging</th>\n",
       "      <th>price_store</th>\n",
       "      <th>price_new</th>\n",
       "      <th>price_used</th>\n",
       "    </tr>\n",
       "  </thead>\n",
       "  <tbody>\n",
       "    <tr>\n",
       "      <th>8981</th>\n",
       "      <td>4659612-1</td>\n",
       "      <td>Spinner ring</td>\n",
       "      <td>Action/Adventure</td>\n",
       "      <td>Ninjago</td>\n",
       "      <td>1.0</td>\n",
       "      <td>2012.0</td>\n",
       "      <td>Polybag</td>\n",
       "      <td>NaN</td>\n",
       "      <td>6.0</td>\n",
       "      <td>NaN</td>\n",
       "    </tr>\n",
       "    <tr>\n",
       "      <th>3511</th>\n",
       "      <td>1202-1</td>\n",
       "      <td>Single Racers Figure Pack</td>\n",
       "      <td>Racing</td>\n",
       "      <td>Racers</td>\n",
       "      <td>1.0</td>\n",
       "      <td>2001.0</td>\n",
       "      <td>Polybag</td>\n",
       "      <td>NaN</td>\n",
       "      <td>NaN</td>\n",
       "      <td>NaN</td>\n",
       "    </tr>\n",
       "    <tr>\n",
       "      <th>828</th>\n",
       "      <td>5105-1</td>\n",
       "      <td>Pneumatic Piston Cylinder 64 mm Yellow</td>\n",
       "      <td>Miscellaneous</td>\n",
       "      <td>Service Packs</td>\n",
       "      <td>1.0</td>\n",
       "      <td>1987.0</td>\n",
       "      <td>Polybag</td>\n",
       "      <td>2.5</td>\n",
       "      <td>11.0</td>\n",
       "      <td>NaN</td>\n",
       "    </tr>\n",
       "    <tr>\n",
       "      <th>827</th>\n",
       "      <td>5104-1</td>\n",
       "      <td>Pneumatic Piston Cylinder 48 mm Yellow</td>\n",
       "      <td>Miscellaneous</td>\n",
       "      <td>Service Packs</td>\n",
       "      <td>1.0</td>\n",
       "      <td>1987.0</td>\n",
       "      <td>Polybag</td>\n",
       "      <td>2.0</td>\n",
       "      <td>14.0</td>\n",
       "      <td>6.0</td>\n",
       "    </tr>\n",
       "    <tr>\n",
       "      <th>826</th>\n",
       "      <td>5103-1</td>\n",
       "      <td>Pneumatic Spring Cylinder 48 mm Red</td>\n",
       "      <td>Miscellaneous</td>\n",
       "      <td>Service Packs</td>\n",
       "      <td>1.0</td>\n",
       "      <td>1987.0</td>\n",
       "      <td>Polybag</td>\n",
       "      <td>2.0</td>\n",
       "      <td>10.0</td>\n",
       "      <td>NaN</td>\n",
       "    </tr>\n",
       "  </tbody>\n",
       "</table>\n",
       "</div>"
      ],
      "text/plain": [
       "         set_no                                    name       theme_group  \\\n",
       "8981  4659612-1                            Spinner ring  Action/Adventure   \n",
       "3511     1202-1               Single Racers Figure Pack            Racing   \n",
       "828      5105-1  Pneumatic Piston Cylinder 64 mm Yellow     Miscellaneous   \n",
       "827      5104-1  Pneumatic Piston Cylinder 48 mm Yellow     Miscellaneous   \n",
       "826      5103-1     Pneumatic Spring Cylinder 48 mm Red     Miscellaneous   \n",
       "\n",
       "              theme  piece_cnt    year packaging  price_store  price_new  \\\n",
       "8981        Ninjago        1.0  2012.0   Polybag          NaN        6.0   \n",
       "3511         Racers        1.0  2001.0   Polybag          NaN        NaN   \n",
       "828   Service Packs        1.0  1987.0   Polybag          2.5       11.0   \n",
       "827   Service Packs        1.0  1987.0   Polybag          2.0       14.0   \n",
       "826   Service Packs        1.0  1987.0   Polybag          2.0       10.0   \n",
       "\n",
       "      price_used  \n",
       "8981         NaN  \n",
       "3511         NaN  \n",
       "828          NaN  \n",
       "827          6.0  \n",
       "826          NaN  "
      ]
     },
     "execution_count": 54,
     "metadata": {},
     "output_type": "execute_result"
    }
   ],
   "source": [
    "set_df.loc[set_df['packaging']=='Polybag'].sort_values('piece_cnt')[['set_no', 'name', 'theme_group', 'theme', 'piece_cnt', \n",
    "                                                     'year', 'packaging', 'price_store', 'price_new', 'price_used']][20:25]"
   ]
  },
  {
   "cell_type": "code",
   "execution_count": null,
   "metadata": {},
   "outputs": [],
   "source": [
    "# notes - several keywords are available, but they are not more useful than existing columns\n",
    "# there are only 49 re-released sets, which all have their own fields, so keeping them as is is fine\n",
    "\n",
    "note_df = set_df.loc[set_df['notes'].isna()==False]\n",
    "note_df.loc[note_df['notes'].str.contains('Re-released version')][['set_no', 'name', 'notes']].shape"
   ]
  },
  {
   "cell_type": "code",
   "execution_count": null,
   "metadata": {
    "scrolled": false
   },
   "outputs": [],
   "source": [
    "set_df.loc[set_df['set_no']=='4999-1']"
   ]
  },
  {
   "cell_type": "code",
   "execution_count": null,
   "metadata": {},
   "outputs": [],
   "source": [
    "set_df.info()"
   ]
  },
  {
   "cell_type": "code",
   "execution_count": null,
   "metadata": {},
   "outputs": [],
   "source": [
    "# keep only the clean columns \n",
    "\n",
    "set_clean_df = set_df[['set_no', 'name',  \n",
    "                 'theme_group', 'theme', 'subtheme',\n",
    "                 'year', 'piece_cnt', 'minifig_cnt', 'inventory_url', 'minifig_url',\n",
    "                 'price_store', 'price_new', 'price_used', 'rating_value', 'rating_votes_cl', \n",
    "                 'main_tag', 'set_type', 'packaging']]\n",
    "set_clean_df = set_clean_df.rename(columns={'rating_votes_cl': 'rating_votes'})\n",
    "set_clean_df[2000:2010]"
   ]
  },
  {
   "cell_type": "code",
   "execution_count": null,
   "metadata": {},
   "outputs": [],
   "source": [
    "set_clean_df.info()"
   ]
  },
  {
   "cell_type": "markdown",
   "metadata": {},
   "source": [
    "## Export to csv"
   ]
  },
  {
   "cell_type": "code",
   "execution_count": null,
   "metadata": {},
   "outputs": [],
   "source": [
    "save_path = r'../data/brickset_set_clean.csv'\n",
    "set_clean_df.to_csv(save_path, index=False)\n",
    "f'{round(os.path.getsize(save_path) /1e6, 2)} mb'"
   ]
  }
 ],
 "metadata": {
  "kernelspec": {
   "display_name": "Python 3",
   "language": "python",
   "name": "python3"
  },
  "language_info": {
   "codemirror_mode": {
    "name": "ipython",
    "version": 3
   },
   "file_extension": ".py",
   "mimetype": "text/x-python",
   "name": "python",
   "nbconvert_exporter": "python",
   "pygments_lexer": "ipython3",
   "version": "3.7.3"
  }
 },
 "nbformat": 4,
 "nbformat_minor": 2
}
