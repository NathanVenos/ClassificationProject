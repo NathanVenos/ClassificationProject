{
 "cells": [
  {
   "cell_type": "markdown",
   "metadata": {},
   "source": [
    "# Brickset Filter Sets\n",
    "\n",
    "Workflow: 2\n",
    "\n",
    "Goal: Start with the full cleaned brickset sets file, and remove sets which are not appropriate for analysis (because it would be comparing apples to oranges). This includes filtering out baby sets (pieces are larger than regular legos), keychains, games, esoteric promotional sets, etc.       \n",
    "\n",
    "Result: Creates the file ```brickset_set_filter.csv```."
   ]
  },
  {
   "cell_type": "code",
   "execution_count": 1,
   "metadata": {},
   "outputs": [],
   "source": [
    "import os\n",
    "import pandas as pd"
   ]
  },
  {
   "cell_type": "code",
   "execution_count": 2,
   "metadata": {},
   "outputs": [],
   "source": [
    "from IPython.core.interactiveshell import InteractiveShell\n",
    "InteractiveShell.ast_node_interactivity = 'all'"
   ]
  },
  {
   "cell_type": "code",
   "execution_count": 3,
   "metadata": {},
   "outputs": [],
   "source": [
    "%load_ext autoreload\n",
    "%autoreload 2         # reload custom py file eveytime a new cell is run\n",
    "\n",
    "import sys\n",
    "sys.path.append('../')\n",
    "import lego_helper as lh"
   ]
  },
  {
   "cell_type": "markdown",
   "metadata": {},
   "source": [
    "## Import Data"
   ]
  },
  {
   "cell_type": "code",
   "execution_count": 4,
   "metadata": {
    "scrolled": false
   },
   "outputs": [
    {
     "data": {
      "text/html": [
       "<div>\n",
       "<style scoped>\n",
       "    .dataframe tbody tr th:only-of-type {\n",
       "        vertical-align: middle;\n",
       "    }\n",
       "\n",
       "    .dataframe tbody tr th {\n",
       "        vertical-align: top;\n",
       "    }\n",
       "\n",
       "    .dataframe thead th {\n",
       "        text-align: right;\n",
       "    }\n",
       "</style>\n",
       "<table border=\"1\" class=\"dataframe\">\n",
       "  <thead>\n",
       "    <tr style=\"text-align: right;\">\n",
       "      <th></th>\n",
       "      <th>set_no</th>\n",
       "      <th>name</th>\n",
       "      <th>theme_group</th>\n",
       "      <th>theme</th>\n",
       "      <th>subtheme</th>\n",
       "      <th>year</th>\n",
       "      <th>volume</th>\n",
       "      <th>weight</th>\n",
       "      <th>piece_cnt</th>\n",
       "      <th>minifig_cnt</th>\n",
       "      <th>inventory_url</th>\n",
       "      <th>minifig_url</th>\n",
       "      <th>price_store</th>\n",
       "      <th>price_new</th>\n",
       "      <th>price_used</th>\n",
       "      <th>rating_value</th>\n",
       "      <th>rating_votes</th>\n",
       "      <th>main_tag</th>\n",
       "      <th>set_type</th>\n",
       "      <th>packaging</th>\n",
       "    </tr>\n",
       "  </thead>\n",
       "  <tbody>\n",
       "    <tr>\n",
       "      <th>0</th>\n",
       "      <td>722-1</td>\n",
       "      <td>Universal Building Set, 7+</td>\n",
       "      <td>Basic</td>\n",
       "      <td>Basic</td>\n",
       "      <td>NaN</td>\n",
       "      <td>1980.0</td>\n",
       "      <td>NaN</td>\n",
       "      <td>NaN</td>\n",
       "      <td>301.0</td>\n",
       "      <td>0.0</td>\n",
       "      <td>NaN</td>\n",
       "      <td>NaN</td>\n",
       "      <td>20.00</td>\n",
       "      <td>200.0</td>\n",
       "      <td>78.0</td>\n",
       "      <td>4.4</td>\n",
       "      <td>5.0</td>\n",
       "      <td>NaN</td>\n",
       "      <td>Normal</td>\n",
       "      <td>NaN</td>\n",
       "    </tr>\n",
       "    <tr>\n",
       "      <th>1</th>\n",
       "      <td>733-1</td>\n",
       "      <td>Universal Building Set, 7+</td>\n",
       "      <td>Basic</td>\n",
       "      <td>Basic</td>\n",
       "      <td>NaN</td>\n",
       "      <td>1980.0</td>\n",
       "      <td>NaN</td>\n",
       "      <td>NaN</td>\n",
       "      <td>533.0</td>\n",
       "      <td>0.0</td>\n",
       "      <td>NaN</td>\n",
       "      <td>NaN</td>\n",
       "      <td>39.00</td>\n",
       "      <td>566.0</td>\n",
       "      <td>109.0</td>\n",
       "      <td>4.5</td>\n",
       "      <td>2.0</td>\n",
       "      <td>NaN</td>\n",
       "      <td>Normal</td>\n",
       "      <td>NaN</td>\n",
       "    </tr>\n",
       "    <tr>\n",
       "      <th>2</th>\n",
       "      <td>744-1</td>\n",
       "      <td>Universal Building Set with Motor, 7+</td>\n",
       "      <td>Basic</td>\n",
       "      <td>Basic</td>\n",
       "      <td>NaN</td>\n",
       "      <td>1980.0</td>\n",
       "      <td>NaN</td>\n",
       "      <td>NaN</td>\n",
       "      <td>537.0</td>\n",
       "      <td>0.0</td>\n",
       "      <td>NaN</td>\n",
       "      <td>NaN</td>\n",
       "      <td>59.00</td>\n",
       "      <td>252.0</td>\n",
       "      <td>97.0</td>\n",
       "      <td>5.0</td>\n",
       "      <td>2.0</td>\n",
       "      <td>NaN</td>\n",
       "      <td>Normal</td>\n",
       "      <td>NaN</td>\n",
       "    </tr>\n",
       "    <tr>\n",
       "      <th>3</th>\n",
       "      <td>820-1</td>\n",
       "      <td>Red Plates Parts Pack</td>\n",
       "      <td>Basic</td>\n",
       "      <td>Basic</td>\n",
       "      <td>Supplementaries</td>\n",
       "      <td>1980.0</td>\n",
       "      <td>NaN</td>\n",
       "      <td>NaN</td>\n",
       "      <td>34.0</td>\n",
       "      <td>0.0</td>\n",
       "      <td>NaN</td>\n",
       "      <td>NaN</td>\n",
       "      <td>4.75</td>\n",
       "      <td>NaN</td>\n",
       "      <td>NaN</td>\n",
       "      <td>NaN</td>\n",
       "      <td>NaN</td>\n",
       "      <td>NaN</td>\n",
       "      <td>Normal</td>\n",
       "      <td>NaN</td>\n",
       "    </tr>\n",
       "    <tr>\n",
       "      <th>4</th>\n",
       "      <td>822-1</td>\n",
       "      <td>Blue Plates Parts Pack</td>\n",
       "      <td>Basic</td>\n",
       "      <td>Basic</td>\n",
       "      <td>Supplementaries</td>\n",
       "      <td>1980.0</td>\n",
       "      <td>NaN</td>\n",
       "      <td>NaN</td>\n",
       "      <td>34.0</td>\n",
       "      <td>0.0</td>\n",
       "      <td>NaN</td>\n",
       "      <td>NaN</td>\n",
       "      <td>4.75</td>\n",
       "      <td>29.0</td>\n",
       "      <td>5.0</td>\n",
       "      <td>NaN</td>\n",
       "      <td>NaN</td>\n",
       "      <td>NaN</td>\n",
       "      <td>Normal</td>\n",
       "      <td>NaN</td>\n",
       "    </tr>\n",
       "  </tbody>\n",
       "</table>\n",
       "</div>"
      ],
      "text/plain": [
       "  set_no                                   name theme_group  theme  \\\n",
       "0  722-1             Universal Building Set, 7+       Basic  Basic   \n",
       "1  733-1             Universal Building Set, 7+       Basic  Basic   \n",
       "2  744-1  Universal Building Set with Motor, 7+       Basic  Basic   \n",
       "3  820-1                  Red Plates Parts Pack       Basic  Basic   \n",
       "4  822-1                 Blue Plates Parts Pack       Basic  Basic   \n",
       "\n",
       "          subtheme    year  volume  weight  piece_cnt  minifig_cnt  \\\n",
       "0              NaN  1980.0     NaN     NaN      301.0          0.0   \n",
       "1              NaN  1980.0     NaN     NaN      533.0          0.0   \n",
       "2              NaN  1980.0     NaN     NaN      537.0          0.0   \n",
       "3  Supplementaries  1980.0     NaN     NaN       34.0          0.0   \n",
       "4  Supplementaries  1980.0     NaN     NaN       34.0          0.0   \n",
       "\n",
       "  inventory_url minifig_url  price_store  price_new  price_used  rating_value  \\\n",
       "0           NaN         NaN        20.00      200.0        78.0           4.4   \n",
       "1           NaN         NaN        39.00      566.0       109.0           4.5   \n",
       "2           NaN         NaN        59.00      252.0        97.0           5.0   \n",
       "3           NaN         NaN         4.75        NaN         NaN           NaN   \n",
       "4           NaN         NaN         4.75       29.0         5.0           NaN   \n",
       "\n",
       "   rating_votes  main_tag set_type packaging  \n",
       "0           5.0       NaN   Normal       NaN  \n",
       "1           2.0       NaN   Normal       NaN  \n",
       "2           2.0       NaN   Normal       NaN  \n",
       "3           NaN       NaN   Normal       NaN  \n",
       "4           NaN       NaN   Normal       NaN  "
      ]
     },
     "execution_count": 4,
     "metadata": {},
     "output_type": "execute_result"
    },
    {
     "name": "stdout",
     "output_type": "stream",
     "text": [
      "<class 'pandas.core.frame.DataFrame'>\n",
      "RangeIndex: 13762 entries, 0 to 13761\n",
      "Data columns (total 20 columns):\n",
      "set_no           13762 non-null object\n",
      "name             13762 non-null object\n",
      "theme_group      13762 non-null object\n",
      "theme            13762 non-null object\n",
      "subtheme         10048 non-null object\n",
      "year             13762 non-null float64\n",
      "volume           2925 non-null float64\n",
      "weight           3086 non-null float64\n",
      "piece_cnt        10862 non-null float64\n",
      "minifig_cnt      13762 non-null float64\n",
      "inventory_url    6961 non-null object\n",
      "minifig_url      6266 non-null object\n",
      "price_store      8384 non-null float64\n",
      "price_new        8532 non-null float64\n",
      "price_used       7048 non-null float64\n",
      "rating_value     6825 non-null float64\n",
      "rating_votes     6825 non-null float64\n",
      "main_tag         0 non-null float64\n",
      "set_type         13762 non-null object\n",
      "packaging        8923 non-null object\n",
      "dtypes: float64(11), object(9)\n",
      "memory usage: 2.1+ MB\n"
     ]
    }
   ],
   "source": [
    "SET_FILE = '../data/brickset_set_clean.csv'\n",
    "set_df = pd.read_csv(SET_FILE)\n",
    "set_df.head()\n",
    "set_df.info()"
   ]
  },
  {
   "cell_type": "code",
   "execution_count": 5,
   "metadata": {},
   "outputs": [
    {
     "data": {
      "text/html": [
       "<div>\n",
       "<style scoped>\n",
       "    .dataframe tbody tr th:only-of-type {\n",
       "        vertical-align: middle;\n",
       "    }\n",
       "\n",
       "    .dataframe tbody tr th {\n",
       "        vertical-align: top;\n",
       "    }\n",
       "\n",
       "    .dataframe thead th {\n",
       "        text-align: right;\n",
       "    }\n",
       "</style>\n",
       "<table border=\"1\" class=\"dataframe\">\n",
       "  <thead>\n",
       "    <tr style=\"text-align: right;\">\n",
       "      <th></th>\n",
       "      <th>set_no</th>\n",
       "      <th>name</th>\n",
       "      <th>theme_group</th>\n",
       "      <th>theme</th>\n",
       "      <th>subtheme</th>\n",
       "      <th>year</th>\n",
       "      <th>volume</th>\n",
       "      <th>weight</th>\n",
       "      <th>piece_cnt</th>\n",
       "      <th>minifig_cnt</th>\n",
       "      <th>price_store</th>\n",
       "      <th>price_new</th>\n",
       "      <th>price_used</th>\n",
       "      <th>rating_value</th>\n",
       "      <th>rating_votes</th>\n",
       "      <th>main_tag</th>\n",
       "      <th>set_type</th>\n",
       "      <th>packaging</th>\n",
       "    </tr>\n",
       "  </thead>\n",
       "  <tbody>\n",
       "    <tr>\n",
       "      <th>0</th>\n",
       "      <td>722-1</td>\n",
       "      <td>Universal Building Set, 7+</td>\n",
       "      <td>Basic</td>\n",
       "      <td>Basic</td>\n",
       "      <td>NaN</td>\n",
       "      <td>1980.0</td>\n",
       "      <td>NaN</td>\n",
       "      <td>NaN</td>\n",
       "      <td>301.0</td>\n",
       "      <td>0.0</td>\n",
       "      <td>20.00</td>\n",
       "      <td>200.0</td>\n",
       "      <td>78.0</td>\n",
       "      <td>4.4</td>\n",
       "      <td>5.0</td>\n",
       "      <td>NaN</td>\n",
       "      <td>Normal</td>\n",
       "      <td>NaN</td>\n",
       "    </tr>\n",
       "    <tr>\n",
       "      <th>1</th>\n",
       "      <td>733-1</td>\n",
       "      <td>Universal Building Set, 7+</td>\n",
       "      <td>Basic</td>\n",
       "      <td>Basic</td>\n",
       "      <td>NaN</td>\n",
       "      <td>1980.0</td>\n",
       "      <td>NaN</td>\n",
       "      <td>NaN</td>\n",
       "      <td>533.0</td>\n",
       "      <td>0.0</td>\n",
       "      <td>39.00</td>\n",
       "      <td>566.0</td>\n",
       "      <td>109.0</td>\n",
       "      <td>4.5</td>\n",
       "      <td>2.0</td>\n",
       "      <td>NaN</td>\n",
       "      <td>Normal</td>\n",
       "      <td>NaN</td>\n",
       "    </tr>\n",
       "    <tr>\n",
       "      <th>2</th>\n",
       "      <td>744-1</td>\n",
       "      <td>Universal Building Set with Motor, 7+</td>\n",
       "      <td>Basic</td>\n",
       "      <td>Basic</td>\n",
       "      <td>NaN</td>\n",
       "      <td>1980.0</td>\n",
       "      <td>NaN</td>\n",
       "      <td>NaN</td>\n",
       "      <td>537.0</td>\n",
       "      <td>0.0</td>\n",
       "      <td>59.00</td>\n",
       "      <td>252.0</td>\n",
       "      <td>97.0</td>\n",
       "      <td>5.0</td>\n",
       "      <td>2.0</td>\n",
       "      <td>NaN</td>\n",
       "      <td>Normal</td>\n",
       "      <td>NaN</td>\n",
       "    </tr>\n",
       "    <tr>\n",
       "      <th>3</th>\n",
       "      <td>820-1</td>\n",
       "      <td>Red Plates Parts Pack</td>\n",
       "      <td>Basic</td>\n",
       "      <td>Basic</td>\n",
       "      <td>Supplementaries</td>\n",
       "      <td>1980.0</td>\n",
       "      <td>NaN</td>\n",
       "      <td>NaN</td>\n",
       "      <td>34.0</td>\n",
       "      <td>0.0</td>\n",
       "      <td>4.75</td>\n",
       "      <td>NaN</td>\n",
       "      <td>NaN</td>\n",
       "      <td>NaN</td>\n",
       "      <td>NaN</td>\n",
       "      <td>NaN</td>\n",
       "      <td>Normal</td>\n",
       "      <td>NaN</td>\n",
       "    </tr>\n",
       "    <tr>\n",
       "      <th>4</th>\n",
       "      <td>822-1</td>\n",
       "      <td>Blue Plates Parts Pack</td>\n",
       "      <td>Basic</td>\n",
       "      <td>Basic</td>\n",
       "      <td>Supplementaries</td>\n",
       "      <td>1980.0</td>\n",
       "      <td>NaN</td>\n",
       "      <td>NaN</td>\n",
       "      <td>34.0</td>\n",
       "      <td>0.0</td>\n",
       "      <td>4.75</td>\n",
       "      <td>29.0</td>\n",
       "      <td>5.0</td>\n",
       "      <td>NaN</td>\n",
       "      <td>NaN</td>\n",
       "      <td>NaN</td>\n",
       "      <td>Normal</td>\n",
       "      <td>NaN</td>\n",
       "    </tr>\n",
       "  </tbody>\n",
       "</table>\n",
       "</div>"
      ],
      "text/plain": [
       "  set_no                                   name theme_group  theme  \\\n",
       "0  722-1             Universal Building Set, 7+       Basic  Basic   \n",
       "1  733-1             Universal Building Set, 7+       Basic  Basic   \n",
       "2  744-1  Universal Building Set with Motor, 7+       Basic  Basic   \n",
       "3  820-1                  Red Plates Parts Pack       Basic  Basic   \n",
       "4  822-1                 Blue Plates Parts Pack       Basic  Basic   \n",
       "\n",
       "          subtheme    year  volume  weight  piece_cnt  minifig_cnt  \\\n",
       "0              NaN  1980.0     NaN     NaN      301.0          0.0   \n",
       "1              NaN  1980.0     NaN     NaN      533.0          0.0   \n",
       "2              NaN  1980.0     NaN     NaN      537.0          0.0   \n",
       "3  Supplementaries  1980.0     NaN     NaN       34.0          0.0   \n",
       "4  Supplementaries  1980.0     NaN     NaN       34.0          0.0   \n",
       "\n",
       "   price_store  price_new  price_used  rating_value  rating_votes  main_tag  \\\n",
       "0        20.00      200.0        78.0           4.4           5.0       NaN   \n",
       "1        39.00      566.0       109.0           4.5           2.0       NaN   \n",
       "2        59.00      252.0        97.0           5.0           2.0       NaN   \n",
       "3         4.75        NaN         NaN           NaN           NaN       NaN   \n",
       "4         4.75       29.0         5.0           NaN           NaN       NaN   \n",
       "\n",
       "  set_type packaging  \n",
       "0   Normal       NaN  \n",
       "1   Normal       NaN  \n",
       "2   Normal       NaN  \n",
       "3   Normal       NaN  \n",
       "4   Normal       NaN  "
      ]
     },
     "execution_count": 5,
     "metadata": {},
     "output_type": "execute_result"
    }
   ],
   "source": [
    "# remove columns that definitely won't be used downstream\n",
    "\n",
    "set_df = set_df[['set_no', 'name', 'theme_group', 'theme', 'subtheme', \n",
    "                'year', 'volume', 'weight', 'piece_cnt', 'minifig_cnt', \n",
    "                'price_store', 'price_new', 'price_used', 'rating_value', 'rating_votes', \n",
    "                'main_tag', 'set_type', 'packaging']]\n",
    "set_df.head()"
   ]
  },
  {
   "cell_type": "markdown",
   "metadata": {},
   "source": [
    "## Filter based on different columns"
   ]
  },
  {
   "cell_type": "code",
   "execution_count": 6,
   "metadata": {
    "scrolled": true
   },
   "outputs": [
    {
     "data": {
      "text/plain": [
       "(7118, 18)"
      ]
     },
     "execution_count": 6,
     "metadata": {},
     "output_type": "execute_result"
    }
   ],
   "source": [
    "# filter by group-theme to get rid of baby sets, etc\n",
    "\n",
    "remove_group_ls = ['Basic', 'Educational', 'Miscellaneous', 'Other', 'Pre-school', 'Vintage themes', ]\n",
    "set_df = set_df.loc[set_df['theme_group'].isin(remove_group_ls)==False]\n",
    "set_df.shape"
   ]
  },
  {
   "cell_type": "code",
   "execution_count": 7,
   "metadata": {},
   "outputs": [],
   "source": [
    "# also remove the groups that have different piece size ratio (not minifig scale)\n",
    "\n",
    "# remove_group_ls = ['Constraction', 'Girls', 'Junior', 'Technical']\n",
    "# set_df = set_df.loc[set_df['theme_group'].isin(remove_group_ls)==False]\n",
    "# set_df.shape"
   ]
  },
  {
   "cell_type": "code",
   "execution_count": 8,
   "metadata": {},
   "outputs": [],
   "source": [
    "# remove sets that aren't minifig scale\n",
    "\n",
    "#set_df = set_df.loc[set_df['minifig_cnt']>=1]\n",
    "#set_df.shape\n",
    "\n",
    "# this cuts out 1700 sets\n",
    "# it's actually ok to keep them, the piece-size ratio is comparable with minifig-scale (unlike technic, basic, etc)"
   ]
  },
  {
   "cell_type": "code",
   "execution_count": 9,
   "metadata": {},
   "outputs": [
    {
     "data": {
      "text/plain": [
       "Licensed            1605\n",
       "Modern day          1498\n",
       "Action/Adventure    1068\n",
       "Girls                539\n",
       "Model making         513\n",
       "Constraction         501\n",
       "Technical            468\n",
       "Historical           466\n",
       "Racing               247\n",
       "Junior               213\n",
       "Name: theme_group, dtype: int64"
      ]
     },
     "execution_count": 9,
     "metadata": {},
     "output_type": "execute_result"
    }
   ],
   "source": [
    "# check the remaining groups\n",
    "\n",
    "set_df['theme_group'].value_counts()"
   ]
  },
  {
   "cell_type": "code",
   "execution_count": 10,
   "metadata": {},
   "outputs": [
    {
     "data": {
      "text/plain": [
       "(6181, 18)"
      ]
     },
     "execution_count": 10,
     "metadata": {},
     "output_type": "execute_result"
    }
   ],
   "source": [
    "# keep only the normal set types (collections are redundant with included sets)\n",
    "# gets rid of gear (keychains, games, etc)\n",
    "\n",
    "set_df = set_df.loc[set_df['set_type']=='Normal']\n",
    "set_df.shape"
   ]
  },
  {
   "cell_type": "code",
   "execution_count": 11,
   "metadata": {},
   "outputs": [],
   "source": [
    "# keep only the sets that come in box \n",
    "\n",
    "# set_df = set_df.loc[ (set_df['packaging']=='Box') | (set_df['packaging'].isna()) ]\n",
    "# set_df.shape"
   ]
  },
  {
   "cell_type": "code",
   "execution_count": 12,
   "metadata": {
    "scrolled": false
   },
   "outputs": [
    {
     "name": "stdout",
     "output_type": "stream",
     "text": [
      "<class 'pandas.core.frame.DataFrame'>\n",
      "Int64Index: 6181 entries, 18 to 13613\n",
      "Data columns (total 16 columns):\n",
      "set_no          6181 non-null object\n",
      "name            6181 non-null object\n",
      "price_store     4767 non-null float64\n",
      "price_new       5780 non-null float64\n",
      "price_used      5489 non-null float64\n",
      "rating_value    5005 non-null float64\n",
      "rating_votes    5005 non-null float64\n",
      "theme_group     6181 non-null object\n",
      "theme           6181 non-null object\n",
      "subtheme        4494 non-null object\n",
      "main_tag        0 non-null float64\n",
      "year            6181 non-null float64\n",
      "volume          2418 non-null float64\n",
      "weight          2453 non-null float64\n",
      "piece_cnt       6137 non-null float64\n",
      "minifig_cnt     6181 non-null float64\n",
      "dtypes: float64(11), object(5)\n",
      "memory usage: 820.9+ KB\n"
     ]
    }
   ],
   "source": [
    "# remove columns that won't be used for feature engineering\n",
    "\n",
    "set_df = set_df[['set_no', 'name', \n",
    "                 'price_store', 'price_new', 'price_used', 'rating_value', 'rating_votes', \n",
    "                 'theme_group', 'theme', 'subtheme', 'main_tag', \n",
    "                 'year', 'volume', 'weight', 'piece_cnt', 'minifig_cnt', ]]\n",
    "set_df.info()"
   ]
  },
  {
   "cell_type": "markdown",
   "metadata": {},
   "source": [
    "## Export to csv"
   ]
  },
  {
   "cell_type": "code",
   "execution_count": 13,
   "metadata": {},
   "outputs": [
    {
     "data": {
      "text/plain": [
       "'0.61 mb'"
      ]
     },
     "execution_count": 13,
     "metadata": {},
     "output_type": "execute_result"
    }
   ],
   "source": [
    "save_path = r'../data/brickset_set_filter.csv'\n",
    "set_df.to_csv(save_path, index=False)\n",
    "f'{round(os.path.getsize(save_path) /1e6, 2)} mb'"
   ]
  }
 ],
 "metadata": {
  "kernelspec": {
   "display_name": "Python 3",
   "language": "python",
   "name": "python3"
  },
  "language_info": {
   "codemirror_mode": {
    "name": "ipython",
    "version": 3
   },
   "file_extension": ".py",
   "mimetype": "text/x-python",
   "name": "python",
   "nbconvert_exporter": "python",
   "pygments_lexer": "ipython3",
   "version": "3.7.3"
  }
 },
 "nbformat": 4,
 "nbformat_minor": 2
}
