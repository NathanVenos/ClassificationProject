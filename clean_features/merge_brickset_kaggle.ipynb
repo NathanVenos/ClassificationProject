{
 "cells": [
  {
   "cell_type": "markdown",
   "metadata": {},
   "source": [
    "# MERGE brickset WITH kaggle\n",
    "\n",
    "Workflow: 3   \n",
    "\n",
    "Goal: Merge the filtered brickset set data with kaggle inventory data (for number of parts, colors, etc).\n",
    "\n",
    "Result: Outputs the file ```merge_full.csv```.\n",
    "\n",
    "Author: Sorin Luca"
   ]
  },
  {
   "cell_type": "code",
   "execution_count": 1,
   "metadata": {
    "ExecuteTime": {
     "end_time": "2019-11-04T19:00:02.098340Z",
     "start_time": "2019-11-04T19:00:01.301239Z"
    }
   },
   "outputs": [],
   "source": [
    "import os\n",
    "import pandas as pd"
   ]
  },
  {
   "cell_type": "code",
   "execution_count": 2,
   "metadata": {
    "ExecuteTime": {
     "end_time": "2019-11-04T19:00:02.109311Z",
     "start_time": "2019-11-04T19:00:02.103327Z"
    }
   },
   "outputs": [],
   "source": [
    "from IPython.core.interactiveshell import InteractiveShell\n",
    "InteractiveShell.ast_node_interactivity = \"all\""
   ]
  },
  {
   "cell_type": "markdown",
   "metadata": {},
   "source": [
    "## import brickset set data"
   ]
  },
  {
   "cell_type": "code",
   "execution_count": 3,
   "metadata": {
    "ExecuteTime": {
     "end_time": "2019-11-04T19:00:02.118286Z",
     "start_time": "2019-11-04T19:00:02.113300Z"
    }
   },
   "outputs": [],
   "source": [
    "FILTER_FILE = '../data/brickset_set_filter.csv'\n",
    "INVENTORIES_FILE = '../data/kaggle_inventories.csv'\n",
    "INVENTORYPARTS_FILE = '../data/kaggle_inventory_parts.csv'\n",
    "COLORS_FILE = '../data/kaggle_colors.csv'\n",
    "PARTS_FILE = '../data/kaggle_parts.csv'\n",
    "PARTCATEGORIES_FILE = '../data/kaggle_part_categories.csv'"
   ]
  },
  {
   "cell_type": "code",
   "execution_count": 4,
   "metadata": {
    "ExecuteTime": {
     "end_time": "2019-11-04T19:00:02.180121Z",
     "start_time": "2019-11-04T19:00:02.127262Z"
    },
    "scrolled": true
   },
   "outputs": [
    {
     "data": {
      "text/html": [
       "<div>\n",
       "<style scoped>\n",
       "    .dataframe tbody tr th:only-of-type {\n",
       "        vertical-align: middle;\n",
       "    }\n",
       "\n",
       "    .dataframe tbody tr th {\n",
       "        vertical-align: top;\n",
       "    }\n",
       "\n",
       "    .dataframe thead th {\n",
       "        text-align: right;\n",
       "    }\n",
       "</style>\n",
       "<table border=\"1\" class=\"dataframe\">\n",
       "  <thead>\n",
       "    <tr style=\"text-align: right;\">\n",
       "      <th></th>\n",
       "      <th>set_no</th>\n",
       "      <th>piece_cnt</th>\n",
       "    </tr>\n",
       "  </thead>\n",
       "  <tbody>\n",
       "    <tr>\n",
       "      <th>0</th>\n",
       "      <td>858-1</td>\n",
       "      <td>242.0</td>\n",
       "    </tr>\n",
       "    <tr>\n",
       "      <th>1</th>\n",
       "      <td>1591-1</td>\n",
       "      <td>40.0</td>\n",
       "    </tr>\n",
       "    <tr>\n",
       "      <th>2</th>\n",
       "      <td>1592-1</td>\n",
       "      <td>471.0</td>\n",
       "    </tr>\n",
       "  </tbody>\n",
       "</table>\n",
       "</div>"
      ],
      "text/plain": [
       "   set_no  piece_cnt\n",
       "0   858-1      242.0\n",
       "1  1591-1       40.0\n",
       "2  1592-1      471.0"
      ]
     },
     "execution_count": 4,
     "metadata": {},
     "output_type": "execute_result"
    }
   ],
   "source": [
    "brickset = pd.read_csv(FILTER_FILE)\n",
    "brickset[[\"set_no\", \"piece_cnt\"]].head(3)"
   ]
  },
  {
   "cell_type": "code",
   "execution_count": 5,
   "metadata": {
    "ExecuteTime": {
     "end_time": "2019-11-04T19:00:02.194084Z",
     "start_time": "2019-11-04T19:00:02.187102Z"
    }
   },
   "outputs": [
    {
     "data": {
      "text/plain": [
       "(6181, 16)"
      ]
     },
     "execution_count": 5,
     "metadata": {},
     "output_type": "execute_result"
    }
   ],
   "source": [
    "brickset.shape"
   ]
  },
  {
   "cell_type": "markdown",
   "metadata": {},
   "source": [
    "## merge inventory_id as new column"
   ]
  },
  {
   "cell_type": "code",
   "execution_count": 6,
   "metadata": {
    "ExecuteTime": {
     "end_time": "2019-11-04T19:00:02.217026Z",
     "start_time": "2019-11-04T19:00:02.197076Z"
    }
   },
   "outputs": [
    {
     "data": {
      "text/html": [
       "<div>\n",
       "<style scoped>\n",
       "    .dataframe tbody tr th:only-of-type {\n",
       "        vertical-align: middle;\n",
       "    }\n",
       "\n",
       "    .dataframe tbody tr th {\n",
       "        vertical-align: top;\n",
       "    }\n",
       "\n",
       "    .dataframe thead th {\n",
       "        text-align: right;\n",
       "    }\n",
       "</style>\n",
       "<table border=\"1\" class=\"dataframe\">\n",
       "  <thead>\n",
       "    <tr style=\"text-align: right;\">\n",
       "      <th></th>\n",
       "      <th>id</th>\n",
       "      <th>version</th>\n",
       "      <th>set_num</th>\n",
       "    </tr>\n",
       "  </thead>\n",
       "  <tbody>\n",
       "    <tr>\n",
       "      <th>0</th>\n",
       "      <td>1</td>\n",
       "      <td>1</td>\n",
       "      <td>7922-1</td>\n",
       "    </tr>\n",
       "    <tr>\n",
       "      <th>1</th>\n",
       "      <td>3</td>\n",
       "      <td>1</td>\n",
       "      <td>3931-1</td>\n",
       "    </tr>\n",
       "    <tr>\n",
       "      <th>2</th>\n",
       "      <td>4</td>\n",
       "      <td>1</td>\n",
       "      <td>6942-1</td>\n",
       "    </tr>\n",
       "  </tbody>\n",
       "</table>\n",
       "</div>"
      ],
      "text/plain": [
       "   id  version set_num\n",
       "0   1        1  7922-1\n",
       "1   3        1  3931-1\n",
       "2   4        1  6942-1"
      ]
     },
     "execution_count": 6,
     "metadata": {},
     "output_type": "execute_result"
    }
   ],
   "source": [
    "kaggle_inventories = pd.read_csv(INVENTORIES_FILE)\n",
    "\n",
    "kaggle_inventories.head(3)"
   ]
  },
  {
   "cell_type": "code",
   "execution_count": 7,
   "metadata": {
    "ExecuteTime": {
     "end_time": "2019-11-04T19:00:02.234975Z",
     "start_time": "2019-11-04T19:00:02.220014Z"
    }
   },
   "outputs": [
    {
     "data": {
      "text/html": [
       "<div>\n",
       "<style scoped>\n",
       "    .dataframe tbody tr th:only-of-type {\n",
       "        vertical-align: middle;\n",
       "    }\n",
       "\n",
       "    .dataframe tbody tr th {\n",
       "        vertical-align: top;\n",
       "    }\n",
       "\n",
       "    .dataframe thead th {\n",
       "        text-align: right;\n",
       "    }\n",
       "</style>\n",
       "<table border=\"1\" class=\"dataframe\">\n",
       "  <thead>\n",
       "    <tr style=\"text-align: right;\">\n",
       "      <th></th>\n",
       "      <th>set_no</th>\n",
       "      <th>inventory_id</th>\n",
       "    </tr>\n",
       "  </thead>\n",
       "  <tbody>\n",
       "    <tr>\n",
       "      <th>0</th>\n",
       "      <td>7922-1</td>\n",
       "      <td>1</td>\n",
       "    </tr>\n",
       "    <tr>\n",
       "      <th>1</th>\n",
       "      <td>3931-1</td>\n",
       "      <td>3</td>\n",
       "    </tr>\n",
       "    <tr>\n",
       "      <th>2</th>\n",
       "      <td>6942-1</td>\n",
       "      <td>4</td>\n",
       "    </tr>\n",
       "  </tbody>\n",
       "</table>\n",
       "</div>"
      ],
      "text/plain": [
       "   set_no  inventory_id\n",
       "0  7922-1             1\n",
       "1  3931-1             3\n",
       "2  6942-1             4"
      ]
     },
     "execution_count": 7,
     "metadata": {},
     "output_type": "execute_result"
    }
   ],
   "source": [
    "## select needed columns\n",
    "kaggle_inventories = kaggle_inventories[[\"set_num\", \"id\"]]\n",
    "\n",
    "## rename columns for merging\n",
    "kaggle_inventories.columns = [\"set_no\", \"inventory_id\"]\n",
    "\n",
    "kaggle_inventories.head(3)"
   ]
  },
  {
   "cell_type": "code",
   "execution_count": 8,
   "metadata": {
    "ExecuteTime": {
     "end_time": "2019-11-04T19:00:02.276863Z",
     "start_time": "2019-11-04T19:00:02.238964Z"
    }
   },
   "outputs": [
    {
     "name": "stdout",
     "output_type": "stream",
     "text": [
      "missing inventory_id for 663 entries\n"
     ]
    },
    {
     "data": {
      "text/html": [
       "<div>\n",
       "<style scoped>\n",
       "    .dataframe tbody tr th:only-of-type {\n",
       "        vertical-align: middle;\n",
       "    }\n",
       "\n",
       "    .dataframe tbody tr th {\n",
       "        vertical-align: top;\n",
       "    }\n",
       "\n",
       "    .dataframe thead th {\n",
       "        text-align: right;\n",
       "    }\n",
       "</style>\n",
       "<table border=\"1\" class=\"dataframe\">\n",
       "  <thead>\n",
       "    <tr style=\"text-align: right;\">\n",
       "      <th></th>\n",
       "      <th>set_no</th>\n",
       "      <th>piece_cnt</th>\n",
       "      <th>inventory_id</th>\n",
       "    </tr>\n",
       "  </thead>\n",
       "  <tbody>\n",
       "    <tr>\n",
       "      <th>0</th>\n",
       "      <td>858-1</td>\n",
       "      <td>242.0</td>\n",
       "      <td>4886.0</td>\n",
       "    </tr>\n",
       "    <tr>\n",
       "      <th>1</th>\n",
       "      <td>1591-1</td>\n",
       "      <td>40.0</td>\n",
       "      <td>11940.0</td>\n",
       "    </tr>\n",
       "    <tr>\n",
       "      <th>2</th>\n",
       "      <td>1592-1</td>\n",
       "      <td>471.0</td>\n",
       "      <td>14106.0</td>\n",
       "    </tr>\n",
       "  </tbody>\n",
       "</table>\n",
       "</div>"
      ],
      "text/plain": [
       "   set_no  piece_cnt  inventory_id\n",
       "0   858-1      242.0        4886.0\n",
       "1  1591-1       40.0       11940.0\n",
       "2  1592-1      471.0       14106.0"
      ]
     },
     "execution_count": 8,
     "metadata": {},
     "output_type": "execute_result"
    }
   ],
   "source": [
    "brickset = pd.merge(brickset, kaggle_inventories, how=\"left\")\n",
    "\n",
    "## count missing entries\n",
    "print(F'missing inventory_id for {brickset[\"inventory_id\"].isna().sum()} entries')\n",
    "\n",
    "brickset[[\"set_no\", \"piece_cnt\", \"inventory_id\"]].head(3)"
   ]
  },
  {
   "cell_type": "code",
   "execution_count": 9,
   "metadata": {
    "ExecuteTime": {
     "end_time": "2019-11-04T19:00:02.300804Z",
     "start_time": "2019-11-04T19:00:02.278857Z"
    }
   },
   "outputs": [
    {
     "data": {
      "text/html": [
       "<div>\n",
       "<style scoped>\n",
       "    .dataframe tbody tr th:only-of-type {\n",
       "        vertical-align: middle;\n",
       "    }\n",
       "\n",
       "    .dataframe tbody tr th {\n",
       "        vertical-align: top;\n",
       "    }\n",
       "\n",
       "    .dataframe thead th {\n",
       "        text-align: right;\n",
       "    }\n",
       "</style>\n",
       "<table border=\"1\" class=\"dataframe\">\n",
       "  <thead>\n",
       "    <tr style=\"text-align: right;\">\n",
       "      <th></th>\n",
       "      <th>set_no</th>\n",
       "      <th>piece_cnt</th>\n",
       "      <th>inventory_id</th>\n",
       "    </tr>\n",
       "  </thead>\n",
       "  <tbody>\n",
       "    <tr>\n",
       "      <th>0</th>\n",
       "      <td>858-1</td>\n",
       "      <td>242.0</td>\n",
       "      <td>4886</td>\n",
       "    </tr>\n",
       "    <tr>\n",
       "      <th>1</th>\n",
       "      <td>1591-1</td>\n",
       "      <td>40.0</td>\n",
       "      <td>11940</td>\n",
       "    </tr>\n",
       "    <tr>\n",
       "      <th>2</th>\n",
       "      <td>1592-1</td>\n",
       "      <td>471.0</td>\n",
       "      <td>14106</td>\n",
       "    </tr>\n",
       "  </tbody>\n",
       "</table>\n",
       "</div>"
      ],
      "text/plain": [
       "   set_no  piece_cnt  inventory_id\n",
       "0   858-1      242.0          4886\n",
       "1  1591-1       40.0         11940\n",
       "2  1592-1      471.0         14106"
      ]
     },
     "execution_count": 9,
     "metadata": {},
     "output_type": "execute_result"
    }
   ],
   "source": [
    "## integer columns get cast to a float if NaNs are introduced\n",
    "## some sets do not have an inventory_id\n",
    "\n",
    "## delete NANs from \"inventory_id\"\n",
    "brickset.dropna(subset=[\"inventory_id\"], inplace=True)\n",
    "\n",
    "## reset \"inventory_id\" to integers\n",
    "brickset[\"inventory_id\"] = brickset[\"inventory_id\"].astype(\"int\")\n",
    "\n",
    "brickset[[\"set_no\", \"piece_cnt\", \"inventory_id\"]].head(3)"
   ]
  },
  {
   "cell_type": "markdown",
   "metadata": {},
   "source": [
    "## process inventory_parts + colors"
   ]
  },
  {
   "cell_type": "code",
   "execution_count": 10,
   "metadata": {
    "ExecuteTime": {
     "end_time": "2019-11-04T19:00:02.538196Z",
     "start_time": "2019-11-04T19:00:02.304790Z"
    }
   },
   "outputs": [
    {
     "data": {
      "text/html": [
       "<div>\n",
       "<style scoped>\n",
       "    .dataframe tbody tr th:only-of-type {\n",
       "        vertical-align: middle;\n",
       "    }\n",
       "\n",
       "    .dataframe tbody tr th {\n",
       "        vertical-align: top;\n",
       "    }\n",
       "\n",
       "    .dataframe thead th {\n",
       "        text-align: right;\n",
       "    }\n",
       "</style>\n",
       "<table border=\"1\" class=\"dataframe\">\n",
       "  <thead>\n",
       "    <tr style=\"text-align: right;\">\n",
       "      <th></th>\n",
       "      <th>inventory_id</th>\n",
       "      <th>part_num</th>\n",
       "      <th>color_id</th>\n",
       "      <th>quantity</th>\n",
       "      <th>is_spare</th>\n",
       "    </tr>\n",
       "  </thead>\n",
       "  <tbody>\n",
       "    <tr>\n",
       "      <th>0</th>\n",
       "      <td>1</td>\n",
       "      <td>48379c01</td>\n",
       "      <td>72</td>\n",
       "      <td>1</td>\n",
       "      <td>f</td>\n",
       "    </tr>\n",
       "    <tr>\n",
       "      <th>1</th>\n",
       "      <td>1</td>\n",
       "      <td>48395</td>\n",
       "      <td>7</td>\n",
       "      <td>1</td>\n",
       "      <td>f</td>\n",
       "    </tr>\n",
       "    <tr>\n",
       "      <th>2</th>\n",
       "      <td>1</td>\n",
       "      <td>mcsport6</td>\n",
       "      <td>25</td>\n",
       "      <td>1</td>\n",
       "      <td>f</td>\n",
       "    </tr>\n",
       "  </tbody>\n",
       "</table>\n",
       "</div>"
      ],
      "text/plain": [
       "   inventory_id  part_num  color_id  quantity is_spare\n",
       "0             1  48379c01        72         1        f\n",
       "1             1     48395         7         1        f\n",
       "2             1  mcsport6        25         1        f"
      ]
     },
     "execution_count": 10,
     "metadata": {},
     "output_type": "execute_result"
    }
   ],
   "source": [
    "kaggle_inventory_parts = pd.read_csv(INVENTORYPARTS_FILE)\n",
    "\n",
    "kaggle_inventory_parts.head(3)"
   ]
  },
  {
   "cell_type": "code",
   "execution_count": 11,
   "metadata": {
    "ExecuteTime": {
     "end_time": "2019-11-04T19:00:02.607169Z",
     "start_time": "2019-11-04T19:00:02.540158Z"
    }
   },
   "outputs": [
    {
     "data": {
      "text/plain": [
       "f    550756\n",
       "t     29495\n",
       "Name: is_spare, dtype: int64"
      ]
     },
     "execution_count": 11,
     "metadata": {},
     "output_type": "execute_result"
    }
   ],
   "source": [
    "kaggle_inventory_parts[\"is_spare\"].value_counts()"
   ]
  },
  {
   "cell_type": "code",
   "execution_count": 12,
   "metadata": {
    "ExecuteTime": {
     "end_time": "2019-11-04T19:00:02.705904Z",
     "start_time": "2019-11-04T19:00:02.609159Z"
    }
   },
   "outputs": [
    {
     "data": {
      "text/plain": [
       "0    550756\n",
       "1     29495\n",
       "Name: is_spare, dtype: int64"
      ]
     },
     "execution_count": 12,
     "metadata": {},
     "output_type": "execute_result"
    }
   ],
   "source": [
    "## transforming 'is_spare' to boolean values\n",
    "kaggle_inventory_parts[\"is_spare\"] = kaggle_inventory_parts[\"is_spare\"].map({\"f\": 0, \"t\": 1})\n",
    "kaggle_inventory_parts[\"spare_quantity\"] = kaggle_inventory_parts[\"quantity\"] * kaggle_inventory_parts[\"is_spare\"]\n",
    "kaggle_inventory_parts[\"is_spare\"].value_counts()"
   ]
  },
  {
   "cell_type": "code",
   "execution_count": 13,
   "metadata": {
    "ExecuteTime": {
     "end_time": "2019-11-04T19:00:02.733825Z",
     "start_time": "2019-11-04T19:00:02.709889Z"
    }
   },
   "outputs": [
    {
     "data": {
      "text/html": [
       "<div>\n",
       "<style scoped>\n",
       "    .dataframe tbody tr th:only-of-type {\n",
       "        vertical-align: middle;\n",
       "    }\n",
       "\n",
       "    .dataframe tbody tr th {\n",
       "        vertical-align: top;\n",
       "    }\n",
       "\n",
       "    .dataframe thead th {\n",
       "        text-align: right;\n",
       "    }\n",
       "</style>\n",
       "<table border=\"1\" class=\"dataframe\">\n",
       "  <thead>\n",
       "    <tr style=\"text-align: right;\">\n",
       "      <th></th>\n",
       "      <th>id</th>\n",
       "      <th>name</th>\n",
       "      <th>rgb</th>\n",
       "      <th>is_trans</th>\n",
       "    </tr>\n",
       "  </thead>\n",
       "  <tbody>\n",
       "    <tr>\n",
       "      <th>0</th>\n",
       "      <td>-1</td>\n",
       "      <td>Unknown</td>\n",
       "      <td>0033B2</td>\n",
       "      <td>f</td>\n",
       "    </tr>\n",
       "    <tr>\n",
       "      <th>1</th>\n",
       "      <td>0</td>\n",
       "      <td>Black</td>\n",
       "      <td>05131D</td>\n",
       "      <td>f</td>\n",
       "    </tr>\n",
       "    <tr>\n",
       "      <th>2</th>\n",
       "      <td>1</td>\n",
       "      <td>Blue</td>\n",
       "      <td>0055BF</td>\n",
       "      <td>f</td>\n",
       "    </tr>\n",
       "  </tbody>\n",
       "</table>\n",
       "</div>"
      ],
      "text/plain": [
       "   id     name     rgb is_trans\n",
       "0  -1  Unknown  0033B2        f\n",
       "1   0    Black  05131D        f\n",
       "2   1     Blue  0055BF        f"
      ]
     },
     "execution_count": 13,
     "metadata": {},
     "output_type": "execute_result"
    }
   ],
   "source": [
    "kaggle_colors = pd.read_csv(COLORS_FILE)\n",
    "\n",
    "kaggle_colors.head(3)"
   ]
  },
  {
   "cell_type": "code",
   "execution_count": 14,
   "metadata": {
    "ExecuteTime": {
     "end_time": "2019-11-04T19:00:02.756764Z",
     "start_time": "2019-11-04T19:00:02.738812Z"
    }
   },
   "outputs": [
    {
     "data": {
      "text/html": [
       "<div>\n",
       "<style scoped>\n",
       "    .dataframe tbody tr th:only-of-type {\n",
       "        vertical-align: middle;\n",
       "    }\n",
       "\n",
       "    .dataframe tbody tr th {\n",
       "        vertical-align: top;\n",
       "    }\n",
       "\n",
       "    .dataframe thead th {\n",
       "        text-align: right;\n",
       "    }\n",
       "</style>\n",
       "<table border=\"1\" class=\"dataframe\">\n",
       "  <thead>\n",
       "    <tr style=\"text-align: right;\">\n",
       "      <th></th>\n",
       "      <th>color_id</th>\n",
       "      <th>color_name</th>\n",
       "    </tr>\n",
       "  </thead>\n",
       "  <tbody>\n",
       "    <tr>\n",
       "      <th>0</th>\n",
       "      <td>-1</td>\n",
       "      <td>Unknown</td>\n",
       "    </tr>\n",
       "    <tr>\n",
       "      <th>1</th>\n",
       "      <td>0</td>\n",
       "      <td>Black</td>\n",
       "    </tr>\n",
       "    <tr>\n",
       "      <th>2</th>\n",
       "      <td>1</td>\n",
       "      <td>Blue</td>\n",
       "    </tr>\n",
       "  </tbody>\n",
       "</table>\n",
       "</div>"
      ],
      "text/plain": [
       "   color_id color_name\n",
       "0        -1    Unknown\n",
       "1         0      Black\n",
       "2         1       Blue"
      ]
     },
     "execution_count": 14,
     "metadata": {},
     "output_type": "execute_result"
    }
   ],
   "source": [
    "## subset columns\n",
    "kaggle_colors = kaggle_colors[[\"id\", \"name\"]]\n",
    "\n",
    "## change column names for merge\n",
    "kaggle_colors.columns = [\"color_id\", \"color_name\"]\n",
    "\n",
    "kaggle_colors.head(3)"
   ]
  },
  {
   "cell_type": "code",
   "execution_count": 15,
   "metadata": {
    "ExecuteTime": {
     "end_time": "2019-11-04T19:00:02.938279Z",
     "start_time": "2019-11-04T19:00:02.760753Z"
    }
   },
   "outputs": [
    {
     "data": {
      "text/html": [
       "<div>\n",
       "<style scoped>\n",
       "    .dataframe tbody tr th:only-of-type {\n",
       "        vertical-align: middle;\n",
       "    }\n",
       "\n",
       "    .dataframe tbody tr th {\n",
       "        vertical-align: top;\n",
       "    }\n",
       "\n",
       "    .dataframe thead th {\n",
       "        text-align: right;\n",
       "    }\n",
       "</style>\n",
       "<table border=\"1\" class=\"dataframe\">\n",
       "  <thead>\n",
       "    <tr style=\"text-align: right;\">\n",
       "      <th></th>\n",
       "      <th>inventory_id</th>\n",
       "      <th>part_num</th>\n",
       "      <th>color_id</th>\n",
       "      <th>quantity</th>\n",
       "      <th>is_spare</th>\n",
       "      <th>spare_quantity</th>\n",
       "      <th>color_name</th>\n",
       "    </tr>\n",
       "  </thead>\n",
       "  <tbody>\n",
       "    <tr>\n",
       "      <th>0</th>\n",
       "      <td>1</td>\n",
       "      <td>48379c01</td>\n",
       "      <td>72</td>\n",
       "      <td>1</td>\n",
       "      <td>0</td>\n",
       "      <td>0</td>\n",
       "      <td>Dark Bluish Gray</td>\n",
       "    </tr>\n",
       "    <tr>\n",
       "      <th>1</th>\n",
       "      <td>1</td>\n",
       "      <td>48395</td>\n",
       "      <td>7</td>\n",
       "      <td>1</td>\n",
       "      <td>0</td>\n",
       "      <td>0</td>\n",
       "      <td>Light Gray</td>\n",
       "    </tr>\n",
       "    <tr>\n",
       "      <th>2</th>\n",
       "      <td>1</td>\n",
       "      <td>mcsport6</td>\n",
       "      <td>25</td>\n",
       "      <td>1</td>\n",
       "      <td>0</td>\n",
       "      <td>0</td>\n",
       "      <td>Orange</td>\n",
       "    </tr>\n",
       "  </tbody>\n",
       "</table>\n",
       "</div>"
      ],
      "text/plain": [
       "   inventory_id  part_num  color_id  quantity  is_spare  spare_quantity  \\\n",
       "0             1  48379c01        72         1         0               0   \n",
       "1             1     48395         7         1         0               0   \n",
       "2             1  mcsport6        25         1         0               0   \n",
       "\n",
       "         color_name  \n",
       "0  Dark Bluish Gray  \n",
       "1        Light Gray  \n",
       "2            Orange  "
      ]
     },
     "execution_count": 15,
     "metadata": {},
     "output_type": "execute_result"
    }
   ],
   "source": [
    "## merge\n",
    "kaggle_parts = pd.merge(kaggle_inventory_parts, kaggle_colors, how=\"left\")\n",
    "\n",
    "kaggle_parts.head(3)"
   ]
  },
  {
   "cell_type": "markdown",
   "metadata": {},
   "source": [
    "## merge unique and total part metrics"
   ]
  },
  {
   "cell_type": "code",
   "execution_count": 16,
   "metadata": {
    "ExecuteTime": {
     "end_time": "2019-11-04T19:00:03.123789Z",
     "start_time": "2019-11-04T19:00:02.940273Z"
    }
   },
   "outputs": [
    {
     "data": {
      "text/html": [
       "<div>\n",
       "<style scoped>\n",
       "    .dataframe tbody tr th:only-of-type {\n",
       "        vertical-align: middle;\n",
       "    }\n",
       "\n",
       "    .dataframe tbody tr th {\n",
       "        vertical-align: top;\n",
       "    }\n",
       "\n",
       "    .dataframe thead th {\n",
       "        text-align: right;\n",
       "    }\n",
       "</style>\n",
       "<table border=\"1\" class=\"dataframe\">\n",
       "  <thead>\n",
       "    <tr style=\"text-align: right;\">\n",
       "      <th></th>\n",
       "      <th>inventory_id</th>\n",
       "      <th>number_parts</th>\n",
       "      <th>total_parts</th>\n",
       "      <th>number_spare_parts</th>\n",
       "      <th>total_spare_parts</th>\n",
       "    </tr>\n",
       "  </thead>\n",
       "  <tbody>\n",
       "    <tr>\n",
       "      <th>0</th>\n",
       "      <td>1</td>\n",
       "      <td>4</td>\n",
       "      <td>4</td>\n",
       "      <td>0</td>\n",
       "      <td>0</td>\n",
       "    </tr>\n",
       "    <tr>\n",
       "      <th>1</th>\n",
       "      <td>3</td>\n",
       "      <td>29</td>\n",
       "      <td>46</td>\n",
       "      <td>3</td>\n",
       "      <td>3</td>\n",
       "    </tr>\n",
       "    <tr>\n",
       "      <th>2</th>\n",
       "      <td>4</td>\n",
       "      <td>16</td>\n",
       "      <td>21</td>\n",
       "      <td>1</td>\n",
       "      <td>1</td>\n",
       "    </tr>\n",
       "  </tbody>\n",
       "</table>\n",
       "</div>"
      ],
      "text/plain": [
       "   inventory_id  number_parts  total_parts  number_spare_parts  \\\n",
       "0             1             4            4                   0   \n",
       "1             3            29           46                   3   \n",
       "2             4            16           21                   1   \n",
       "\n",
       "   total_spare_parts  \n",
       "0                  0  \n",
       "1                  3  \n",
       "2                  1  "
      ]
     },
     "execution_count": 16,
     "metadata": {},
     "output_type": "execute_result"
    }
   ],
   "source": [
    "kaggle_number_parts = kaggle_parts[[\"inventory_id\", \"quantity\"]].groupby(by=\"inventory_id\").agg(['count', 'sum'])\n",
    "kaggle_number_parts[\"number_spare_parts\"] = kaggle_parts[[\"inventory_id\", \"is_spare\"]].groupby(by=\"inventory_id\").sum()\n",
    "kaggle_number_parts[\"total_spare_parts\"] = kaggle_parts[[\"inventory_id\", \"spare_quantity\"]].groupby(by=\"inventory_id\").sum()\n",
    "kaggle_number_parts.reset_index(inplace=True)\n",
    "\n",
    "## rename columns for merging\n",
    "kaggle_number_parts.columns = [\"inventory_id\", \"number_parts\", \"total_parts\", \"number_spare_parts\", \"total_spare_parts\"]\n",
    "\n",
    "kaggle_number_parts.head(3)"
   ]
  },
  {
   "cell_type": "code",
   "execution_count": 17,
   "metadata": {
    "ExecuteTime": {
     "end_time": "2019-11-04T19:00:03.155112Z",
     "start_time": "2019-11-04T19:00:03.123789Z"
    }
   },
   "outputs": [
    {
     "name": "stdout",
     "output_type": "stream",
     "text": [
      "missing number_parts for 29 entries\n"
     ]
    },
    {
     "data": {
      "text/html": [
       "<div>\n",
       "<style scoped>\n",
       "    .dataframe tbody tr th:only-of-type {\n",
       "        vertical-align: middle;\n",
       "    }\n",
       "\n",
       "    .dataframe tbody tr th {\n",
       "        vertical-align: top;\n",
       "    }\n",
       "\n",
       "    .dataframe thead th {\n",
       "        text-align: right;\n",
       "    }\n",
       "</style>\n",
       "<table border=\"1\" class=\"dataframe\">\n",
       "  <thead>\n",
       "    <tr style=\"text-align: right;\">\n",
       "      <th></th>\n",
       "      <th>inventory_id</th>\n",
       "      <th>number_parts</th>\n",
       "      <th>total_parts</th>\n",
       "      <th>number_spare_parts</th>\n",
       "      <th>total_spare_parts</th>\n",
       "    </tr>\n",
       "  </thead>\n",
       "  <tbody>\n",
       "    <tr>\n",
       "      <th>0</th>\n",
       "      <td>4886</td>\n",
       "      <td>46.0</td>\n",
       "      <td>242.0</td>\n",
       "      <td>0.0</td>\n",
       "      <td>0.0</td>\n",
       "    </tr>\n",
       "    <tr>\n",
       "      <th>1</th>\n",
       "      <td>11940</td>\n",
       "      <td>19.0</td>\n",
       "      <td>40.0</td>\n",
       "      <td>0.0</td>\n",
       "      <td>0.0</td>\n",
       "    </tr>\n",
       "    <tr>\n",
       "      <th>2</th>\n",
       "      <td>14106</td>\n",
       "      <td>133.0</td>\n",
       "      <td>495.0</td>\n",
       "      <td>0.0</td>\n",
       "      <td>0.0</td>\n",
       "    </tr>\n",
       "  </tbody>\n",
       "</table>\n",
       "</div>"
      ],
      "text/plain": [
       "   inventory_id  number_parts  total_parts  number_spare_parts  \\\n",
       "0          4886          46.0        242.0                 0.0   \n",
       "1         11940          19.0         40.0                 0.0   \n",
       "2         14106         133.0        495.0                 0.0   \n",
       "\n",
       "   total_spare_parts  \n",
       "0                0.0  \n",
       "1                0.0  \n",
       "2                0.0  "
      ]
     },
     "execution_count": 17,
     "metadata": {},
     "output_type": "execute_result"
    }
   ],
   "source": [
    "brickset = pd.merge(brickset, kaggle_number_parts, how=\"left\")\n",
    "\n",
    "## count missing entries\n",
    "print(F'missing number_parts for {brickset[\"number_parts\"].isna().sum()} entries')\n",
    "\n",
    "brickset[[\"inventory_id\", \"number_parts\", \"total_parts\", \"number_spare_parts\", \"total_spare_parts\"]].head(3)"
   ]
  },
  {
   "cell_type": "code",
   "execution_count": 18,
   "metadata": {
    "ExecuteTime": {
     "end_time": "2019-11-04T19:00:03.176734Z",
     "start_time": "2019-11-04T19:00:03.155112Z"
    },
    "scrolled": true
   },
   "outputs": [
    {
     "data": {
      "text/html": [
       "<div>\n",
       "<style scoped>\n",
       "    .dataframe tbody tr th:only-of-type {\n",
       "        vertical-align: middle;\n",
       "    }\n",
       "\n",
       "    .dataframe tbody tr th {\n",
       "        vertical-align: top;\n",
       "    }\n",
       "\n",
       "    .dataframe thead th {\n",
       "        text-align: right;\n",
       "    }\n",
       "</style>\n",
       "<table border=\"1\" class=\"dataframe\">\n",
       "  <thead>\n",
       "    <tr style=\"text-align: right;\">\n",
       "      <th></th>\n",
       "      <th>set_no</th>\n",
       "      <th>inventory_id</th>\n",
       "      <th>number_parts</th>\n",
       "    </tr>\n",
       "  </thead>\n",
       "  <tbody>\n",
       "    <tr>\n",
       "      <th>0</th>\n",
       "      <td>858-1</td>\n",
       "      <td>4886</td>\n",
       "      <td>46.0</td>\n",
       "    </tr>\n",
       "    <tr>\n",
       "      <th>1</th>\n",
       "      <td>1591-1</td>\n",
       "      <td>11940</td>\n",
       "      <td>19.0</td>\n",
       "    </tr>\n",
       "    <tr>\n",
       "      <th>2</th>\n",
       "      <td>1592-1</td>\n",
       "      <td>14106</td>\n",
       "      <td>133.0</td>\n",
       "    </tr>\n",
       "  </tbody>\n",
       "</table>\n",
       "</div>"
      ],
      "text/plain": [
       "   set_no  inventory_id  number_parts\n",
       "0   858-1          4886          46.0\n",
       "1  1591-1         11940          19.0\n",
       "2  1592-1         14106         133.0"
      ]
     },
     "execution_count": 18,
     "metadata": {},
     "output_type": "execute_result"
    }
   ],
   "source": [
    "## delete NANs from \"number_parts\"\n",
    "brickset.dropna(subset=[\"number_parts\"], inplace=True)\n",
    "\n",
    "brickset[[\"set_no\", \"inventory_id\", \"number_parts\"]].head(3)"
   ]
  },
  {
   "cell_type": "markdown",
   "metadata": {},
   "source": [
    "## throw away sets with no repeat pieces"
   ]
  },
  {
   "cell_type": "code",
   "execution_count": 19,
   "metadata": {
    "ExecuteTime": {
     "end_time": "2019-11-04T19:00:03.194598Z",
     "start_time": "2019-11-04T19:00:03.178760Z"
    }
   },
   "outputs": [
    {
     "name": "stdout",
     "output_type": "stream",
     "text": [
      "<class 'pandas.core.frame.DataFrame'>\n",
      "Int64Index: 5303 entries, 0 to 5523\n",
      "Data columns (total 21 columns):\n",
      "set_no                5303 non-null object\n",
      "name                  5303 non-null object\n",
      "price_store           4178 non-null float64\n",
      "price_new             5003 non-null float64\n",
      "price_used            4972 non-null float64\n",
      "rating_value          4560 non-null float64\n",
      "rating_votes          4560 non-null float64\n",
      "theme_group           5303 non-null object\n",
      "theme                 5303 non-null object\n",
      "subtheme              3915 non-null object\n",
      "main_tag              0 non-null float64\n",
      "year                  5303 non-null float64\n",
      "volume                2143 non-null float64\n",
      "weight                2154 non-null float64\n",
      "piece_cnt             5296 non-null float64\n",
      "minifig_cnt           5303 non-null float64\n",
      "inventory_id          5303 non-null int32\n",
      "number_parts          5303 non-null float64\n",
      "total_parts           5303 non-null float64\n",
      "number_spare_parts    5303 non-null float64\n",
      "total_spare_parts     5303 non-null float64\n",
      "dtypes: float64(15), int32(1), object(5)\n",
      "memory usage: 890.7+ KB\n"
     ]
    }
   ],
   "source": [
    "filter = brickset[\"number_parts\"] != brickset[\"total_parts\"]\n",
    "brickset = brickset[filter]\n",
    "brickset.info()"
   ]
  },
  {
   "cell_type": "markdown",
   "metadata": {},
   "source": [
    "## merge number_of_colors"
   ]
  },
  {
   "cell_type": "code",
   "execution_count": 20,
   "metadata": {
    "ExecuteTime": {
     "end_time": "2019-11-04T19:00:03.762676Z",
     "start_time": "2019-11-04T19:00:03.196677Z"
    }
   },
   "outputs": [
    {
     "data": {
      "text/html": [
       "<div>\n",
       "<style scoped>\n",
       "    .dataframe tbody tr th:only-of-type {\n",
       "        vertical-align: middle;\n",
       "    }\n",
       "\n",
       "    .dataframe tbody tr th {\n",
       "        vertical-align: top;\n",
       "    }\n",
       "\n",
       "    .dataframe thead th {\n",
       "        text-align: right;\n",
       "    }\n",
       "</style>\n",
       "<table border=\"1\" class=\"dataframe\">\n",
       "  <thead>\n",
       "    <tr style=\"text-align: right;\">\n",
       "      <th></th>\n",
       "      <th>inventory_id</th>\n",
       "      <th>number_colors</th>\n",
       "    </tr>\n",
       "  </thead>\n",
       "  <tbody>\n",
       "    <tr>\n",
       "      <th>0</th>\n",
       "      <td>1</td>\n",
       "      <td>4</td>\n",
       "    </tr>\n",
       "    <tr>\n",
       "      <th>1</th>\n",
       "      <td>3</td>\n",
       "      <td>12</td>\n",
       "    </tr>\n",
       "    <tr>\n",
       "      <th>2</th>\n",
       "      <td>4</td>\n",
       "      <td>5</td>\n",
       "    </tr>\n",
       "    <tr>\n",
       "      <th>3</th>\n",
       "      <td>15</td>\n",
       "      <td>1</td>\n",
       "    </tr>\n",
       "    <tr>\n",
       "      <th>4</th>\n",
       "      <td>16</td>\n",
       "      <td>2</td>\n",
       "    </tr>\n",
       "    <tr>\n",
       "      <th>5</th>\n",
       "      <td>17</td>\n",
       "      <td>5</td>\n",
       "    </tr>\n",
       "  </tbody>\n",
       "</table>\n",
       "</div>"
      ],
      "text/plain": [
       "   inventory_id  number_colors\n",
       "0             1              4\n",
       "1             3             12\n",
       "2             4              5\n",
       "3            15              1\n",
       "4            16              2\n",
       "5            17              5"
      ]
     },
     "execution_count": 20,
     "metadata": {},
     "output_type": "execute_result"
    }
   ],
   "source": [
    "kaggle_number_colors = kaggle_parts[[\"inventory_id\", \"color_name\"]].groupby(by=\"inventory_id\")[\"color_name\"].nunique()\n",
    "kaggle_number_colors = kaggle_number_colors.reset_index()\n",
    "\n",
    "## rename columns for merging\n",
    "kaggle_number_colors.columns = [\"inventory_id\", \"number_colors\"]\n",
    "\n",
    "kaggle_number_colors.head(6)"
   ]
  },
  {
   "cell_type": "code",
   "execution_count": 21,
   "metadata": {
    "ExecuteTime": {
     "end_time": "2019-11-04T19:00:03.799091Z",
     "start_time": "2019-11-04T19:00:03.764672Z"
    }
   },
   "outputs": [
    {
     "name": "stdout",
     "output_type": "stream",
     "text": [
      "missing number_parts for 0 entries\n"
     ]
    },
    {
     "data": {
      "text/html": [
       "<div>\n",
       "<style scoped>\n",
       "    .dataframe tbody tr th:only-of-type {\n",
       "        vertical-align: middle;\n",
       "    }\n",
       "\n",
       "    .dataframe tbody tr th {\n",
       "        vertical-align: top;\n",
       "    }\n",
       "\n",
       "    .dataframe thead th {\n",
       "        text-align: right;\n",
       "    }\n",
       "</style>\n",
       "<table border=\"1\" class=\"dataframe\">\n",
       "  <thead>\n",
       "    <tr style=\"text-align: right;\">\n",
       "      <th></th>\n",
       "      <th>set_no</th>\n",
       "      <th>inventory_id</th>\n",
       "      <th>number_parts</th>\n",
       "      <th>total_parts</th>\n",
       "      <th>number_colors</th>\n",
       "    </tr>\n",
       "  </thead>\n",
       "  <tbody>\n",
       "    <tr>\n",
       "      <th>0</th>\n",
       "      <td>858-1</td>\n",
       "      <td>4886</td>\n",
       "      <td>46.0</td>\n",
       "      <td>242.0</td>\n",
       "      <td>5</td>\n",
       "    </tr>\n",
       "    <tr>\n",
       "      <th>1</th>\n",
       "      <td>1591-1</td>\n",
       "      <td>11940</td>\n",
       "      <td>19.0</td>\n",
       "      <td>40.0</td>\n",
       "      <td>4</td>\n",
       "    </tr>\n",
       "    <tr>\n",
       "      <th>2</th>\n",
       "      <td>1592-1</td>\n",
       "      <td>14106</td>\n",
       "      <td>133.0</td>\n",
       "      <td>495.0</td>\n",
       "      <td>10</td>\n",
       "    </tr>\n",
       "  </tbody>\n",
       "</table>\n",
       "</div>"
      ],
      "text/plain": [
       "   set_no  inventory_id  number_parts  total_parts  number_colors\n",
       "0   858-1          4886          46.0        242.0              5\n",
       "1  1591-1         11940          19.0         40.0              4\n",
       "2  1592-1         14106         133.0        495.0             10"
      ]
     },
     "execution_count": 21,
     "metadata": {},
     "output_type": "execute_result"
    }
   ],
   "source": [
    "brickset = pd.merge(brickset, kaggle_number_colors, how=\"left\")\n",
    "\n",
    "## count missing entries\n",
    "print(F'missing number_parts for {brickset[\"number_parts\"].isna().sum()} entries')\n",
    "\n",
    "brickset[[\"set_no\", \"inventory_id\", \"number_parts\", \"total_parts\", \"number_colors\"]].head(3)"
   ]
  },
  {
   "cell_type": "markdown",
   "metadata": {},
   "source": [
    "## merge colors"
   ]
  },
  {
   "cell_type": "code",
   "execution_count": 22,
   "metadata": {
    "ExecuteTime": {
     "end_time": "2019-11-04T19:00:03.824024Z",
     "start_time": "2019-11-04T19:00:03.804078Z"
    }
   },
   "outputs": [
    {
     "data": {
      "text/html": [
       "<div>\n",
       "<style scoped>\n",
       "    .dataframe tbody tr th:only-of-type {\n",
       "        vertical-align: middle;\n",
       "    }\n",
       "\n",
       "    .dataframe tbody tr th {\n",
       "        vertical-align: top;\n",
       "    }\n",
       "\n",
       "    .dataframe thead th {\n",
       "        text-align: right;\n",
       "    }\n",
       "</style>\n",
       "<table border=\"1\" class=\"dataframe\">\n",
       "  <thead>\n",
       "    <tr style=\"text-align: right;\">\n",
       "      <th></th>\n",
       "      <th>inventory_id</th>\n",
       "      <th>part_num</th>\n",
       "      <th>color_id</th>\n",
       "      <th>quantity</th>\n",
       "      <th>is_spare</th>\n",
       "      <th>spare_quantity</th>\n",
       "      <th>color_name</th>\n",
       "    </tr>\n",
       "  </thead>\n",
       "  <tbody>\n",
       "    <tr>\n",
       "      <th>0</th>\n",
       "      <td>1</td>\n",
       "      <td>48379c01</td>\n",
       "      <td>72</td>\n",
       "      <td>1</td>\n",
       "      <td>0</td>\n",
       "      <td>0</td>\n",
       "      <td>Dark Bluish Gray</td>\n",
       "    </tr>\n",
       "    <tr>\n",
       "      <th>1</th>\n",
       "      <td>1</td>\n",
       "      <td>48395</td>\n",
       "      <td>7</td>\n",
       "      <td>1</td>\n",
       "      <td>0</td>\n",
       "      <td>0</td>\n",
       "      <td>Light Gray</td>\n",
       "    </tr>\n",
       "    <tr>\n",
       "      <th>2</th>\n",
       "      <td>1</td>\n",
       "      <td>mcsport6</td>\n",
       "      <td>25</td>\n",
       "      <td>1</td>\n",
       "      <td>0</td>\n",
       "      <td>0</td>\n",
       "      <td>Orange</td>\n",
       "    </tr>\n",
       "  </tbody>\n",
       "</table>\n",
       "</div>"
      ],
      "text/plain": [
       "   inventory_id  part_num  color_id  quantity  is_spare  spare_quantity  \\\n",
       "0             1  48379c01        72         1         0               0   \n",
       "1             1     48395         7         1         0               0   \n",
       "2             1  mcsport6        25         1         0               0   \n",
       "\n",
       "         color_name  \n",
       "0  Dark Bluish Gray  \n",
       "1        Light Gray  \n",
       "2            Orange  "
      ]
     },
     "execution_count": 22,
     "metadata": {},
     "output_type": "execute_result"
    }
   ],
   "source": [
    "kaggle_parts.head(3)"
   ]
  },
  {
   "cell_type": "code",
   "execution_count": 23,
   "metadata": {
    "ExecuteTime": {
     "end_time": "2019-11-04T19:00:21.623208Z",
     "start_time": "2019-11-04T19:00:03.827016Z"
    },
    "scrolled": true
   },
   "outputs": [
    {
     "data": {
      "text/html": [
       "<div>\n",
       "<style scoped>\n",
       "    .dataframe tbody tr th:only-of-type {\n",
       "        vertical-align: middle;\n",
       "    }\n",
       "\n",
       "    .dataframe tbody tr th {\n",
       "        vertical-align: top;\n",
       "    }\n",
       "\n",
       "    .dataframe thead th {\n",
       "        text-align: right;\n",
       "    }\n",
       "</style>\n",
       "<table border=\"1\" class=\"dataframe\">\n",
       "  <thead>\n",
       "    <tr style=\"text-align: right;\">\n",
       "      <th></th>\n",
       "      <th>inventory_id</th>\n",
       "      <th>level_1</th>\n",
       "      <th>color_name</th>\n",
       "      <th>quantity</th>\n",
       "    </tr>\n",
       "  </thead>\n",
       "  <tbody>\n",
       "    <tr>\n",
       "      <th>0</th>\n",
       "      <td>1</td>\n",
       "      <td>0</td>\n",
       "      <td>Black</td>\n",
       "      <td>1</td>\n",
       "    </tr>\n",
       "    <tr>\n",
       "      <th>1</th>\n",
       "      <td>1</td>\n",
       "      <td>1</td>\n",
       "      <td>Dark Bluish Gray</td>\n",
       "      <td>1</td>\n",
       "    </tr>\n",
       "    <tr>\n",
       "      <th>2</th>\n",
       "      <td>3</td>\n",
       "      <td>6</td>\n",
       "      <td>Bright Pink</td>\n",
       "      <td>10</td>\n",
       "    </tr>\n",
       "    <tr>\n",
       "      <th>3</th>\n",
       "      <td>3</td>\n",
       "      <td>9</td>\n",
       "      <td>Lime</td>\n",
       "      <td>10</td>\n",
       "    </tr>\n",
       "    <tr>\n",
       "      <th>4</th>\n",
       "      <td>4</td>\n",
       "      <td>20</td>\n",
       "      <td>Trans-Neon Green</td>\n",
       "      <td>7</td>\n",
       "    </tr>\n",
       "    <tr>\n",
       "      <th>5</th>\n",
       "      <td>4</td>\n",
       "      <td>17</td>\n",
       "      <td>Blue</td>\n",
       "      <td>5</td>\n",
       "    </tr>\n",
       "    <tr>\n",
       "      <th>6</th>\n",
       "      <td>15</td>\n",
       "      <td>21</td>\n",
       "      <td>Green</td>\n",
       "      <td>2</td>\n",
       "    </tr>\n",
       "    <tr>\n",
       "      <th>7</th>\n",
       "      <td>16</td>\n",
       "      <td>22</td>\n",
       "      <td>Red</td>\n",
       "      <td>8</td>\n",
       "    </tr>\n",
       "    <tr>\n",
       "      <th>8</th>\n",
       "      <td>16</td>\n",
       "      <td>23</td>\n",
       "      <td>White</td>\n",
       "      <td>2</td>\n",
       "    </tr>\n",
       "    <tr>\n",
       "      <th>9</th>\n",
       "      <td>17</td>\n",
       "      <td>24</td>\n",
       "      <td>Black</td>\n",
       "      <td>15</td>\n",
       "    </tr>\n",
       "  </tbody>\n",
       "</table>\n",
       "</div>"
      ],
      "text/plain": [
       "   inventory_id  level_1        color_name  quantity\n",
       "0             1        0             Black         1\n",
       "1             1        1  Dark Bluish Gray         1\n",
       "2             3        6       Bright Pink        10\n",
       "3             3        9              Lime        10\n",
       "4             4       20  Trans-Neon Green         7\n",
       "5             4       17              Blue         5\n",
       "6            15       21             Green         2\n",
       "7            16       22               Red         8\n",
       "8            16       23             White         2\n",
       "9            17       24             Black        15"
      ]
     },
     "execution_count": 23,
     "metadata": {},
     "output_type": "execute_result"
    }
   ],
   "source": [
    "kaggle_part_colors = kaggle_parts.groupby([\"inventory_id\", \"color_name\"])[[\"quantity\"]].sum()\n",
    "kaggle_part_colors = kaggle_part_colors.reset_index()\n",
    "\n",
    "kaggle_part_colors = kaggle_part_colors.groupby([\"inventory_id\"]).apply(lambda row: row.nlargest(2, 'quantity'))\n",
    "\n",
    "kaggle_part_colors = kaggle_part_colors.drop(columns=\"inventory_id\")\n",
    "\n",
    "kaggle_part_colors = kaggle_part_colors.reset_index()\n",
    "kaggle_part_colors.head(10)"
   ]
  },
  {
   "cell_type": "code",
   "execution_count": 24,
   "metadata": {
    "ExecuteTime": {
     "end_time": "2019-11-04T19:00:38.030764Z",
     "start_time": "2019-11-04T19:00:21.626186Z"
    },
    "scrolled": false
   },
   "outputs": [
    {
     "data": {
      "text/html": [
       "<div>\n",
       "<style scoped>\n",
       "    .dataframe tbody tr th:only-of-type {\n",
       "        vertical-align: middle;\n",
       "    }\n",
       "\n",
       "    .dataframe tbody tr th {\n",
       "        vertical-align: top;\n",
       "    }\n",
       "\n",
       "    .dataframe thead th {\n",
       "        text-align: right;\n",
       "    }\n",
       "</style>\n",
       "<table border=\"1\" class=\"dataframe\">\n",
       "  <thead>\n",
       "    <tr style=\"text-align: right;\">\n",
       "      <th></th>\n",
       "      <th>set_no</th>\n",
       "      <th>inventory_id</th>\n",
       "      <th>number_parts</th>\n",
       "      <th>total_parts</th>\n",
       "      <th>number_colors</th>\n",
       "      <th>1st_color</th>\n",
       "      <th>2nd_color</th>\n",
       "    </tr>\n",
       "  </thead>\n",
       "  <tbody>\n",
       "    <tr>\n",
       "      <th>0</th>\n",
       "      <td>858-1</td>\n",
       "      <td>4886</td>\n",
       "      <td>46.0</td>\n",
       "      <td>242.0</td>\n",
       "      <td>5</td>\n",
       "      <td>Blue</td>\n",
       "      <td>Light Gray</td>\n",
       "    </tr>\n",
       "    <tr>\n",
       "      <th>1</th>\n",
       "      <td>1591-1</td>\n",
       "      <td>11940</td>\n",
       "      <td>19.0</td>\n",
       "      <td>40.0</td>\n",
       "      <td>4</td>\n",
       "      <td>White</td>\n",
       "      <td>Blue</td>\n",
       "    </tr>\n",
       "    <tr>\n",
       "      <th>2</th>\n",
       "      <td>1592-1</td>\n",
       "      <td>14106</td>\n",
       "      <td>133.0</td>\n",
       "      <td>495.0</td>\n",
       "      <td>10</td>\n",
       "      <td>Black</td>\n",
       "      <td>Yellow</td>\n",
       "    </tr>\n",
       "  </tbody>\n",
       "</table>\n",
       "</div>"
      ],
      "text/plain": [
       "   set_no  inventory_id  number_parts  total_parts  number_colors 1st_color  \\\n",
       "0   858-1          4886          46.0        242.0              5      Blue   \n",
       "1  1591-1         11940          19.0         40.0              4     White   \n",
       "2  1592-1         14106         133.0        495.0             10     Black   \n",
       "\n",
       "    2nd_color  \n",
       "0  Light Gray  \n",
       "1        Blue  \n",
       "2      Yellow  "
      ]
     },
     "execution_count": 24,
     "metadata": {},
     "output_type": "execute_result"
    }
   ],
   "source": [
    "for row in brickset.itertuples():\n",
    "    color_filter = kaggle_part_colors[\"inventory_id\"] == row.inventory_id\n",
    "    brickset.loc[row.Index, \"1st_color\"] = (kaggle_part_colors[color_filter].iloc[0].loc[\"color_name\"])\n",
    "    brickset.loc[row.Index, \"2nd_color\"] = (kaggle_part_colors[color_filter].iloc[-1].loc[\"color_name\"])\n",
    "\n",
    "brickset[[\"set_no\", \"inventory_id\", \"number_parts\", \"total_parts\", \"number_colors\", \"1st_color\", \"2nd_color\"]].head(3)"
   ]
  },
  {
   "cell_type": "markdown",
   "metadata": {},
   "source": [
    "## merge unique and total parts metrics by part category id"
   ]
  },
  {
   "cell_type": "code",
   "execution_count": 25,
   "metadata": {
    "ExecuteTime": {
     "end_time": "2019-11-04T19:00:38.049713Z",
     "start_time": "2019-11-04T19:00:38.033756Z"
    }
   },
   "outputs": [
    {
     "data": {
      "text/html": [
       "<div>\n",
       "<style scoped>\n",
       "    .dataframe tbody tr th:only-of-type {\n",
       "        vertical-align: middle;\n",
       "    }\n",
       "\n",
       "    .dataframe tbody tr th {\n",
       "        vertical-align: top;\n",
       "    }\n",
       "\n",
       "    .dataframe thead th {\n",
       "        text-align: right;\n",
       "    }\n",
       "</style>\n",
       "<table border=\"1\" class=\"dataframe\">\n",
       "  <thead>\n",
       "    <tr style=\"text-align: right;\">\n",
       "      <th></th>\n",
       "      <th>inventory_id</th>\n",
       "      <th>part_num</th>\n",
       "      <th>color_id</th>\n",
       "      <th>quantity</th>\n",
       "      <th>is_spare</th>\n",
       "      <th>spare_quantity</th>\n",
       "      <th>color_name</th>\n",
       "    </tr>\n",
       "  </thead>\n",
       "  <tbody>\n",
       "    <tr>\n",
       "      <th>0</th>\n",
       "      <td>1</td>\n",
       "      <td>48379c01</td>\n",
       "      <td>72</td>\n",
       "      <td>1</td>\n",
       "      <td>0</td>\n",
       "      <td>0</td>\n",
       "      <td>Dark Bluish Gray</td>\n",
       "    </tr>\n",
       "    <tr>\n",
       "      <th>1</th>\n",
       "      <td>1</td>\n",
       "      <td>48395</td>\n",
       "      <td>7</td>\n",
       "      <td>1</td>\n",
       "      <td>0</td>\n",
       "      <td>0</td>\n",
       "      <td>Light Gray</td>\n",
       "    </tr>\n",
       "    <tr>\n",
       "      <th>2</th>\n",
       "      <td>1</td>\n",
       "      <td>mcsport6</td>\n",
       "      <td>25</td>\n",
       "      <td>1</td>\n",
       "      <td>0</td>\n",
       "      <td>0</td>\n",
       "      <td>Orange</td>\n",
       "    </tr>\n",
       "    <tr>\n",
       "      <th>3</th>\n",
       "      <td>1</td>\n",
       "      <td>paddle</td>\n",
       "      <td>0</td>\n",
       "      <td>1</td>\n",
       "      <td>0</td>\n",
       "      <td>0</td>\n",
       "      <td>Black</td>\n",
       "    </tr>\n",
       "    <tr>\n",
       "      <th>4</th>\n",
       "      <td>3</td>\n",
       "      <td>11816pr0005</td>\n",
       "      <td>78</td>\n",
       "      <td>1</td>\n",
       "      <td>0</td>\n",
       "      <td>0</td>\n",
       "      <td>Light Flesh</td>\n",
       "    </tr>\n",
       "  </tbody>\n",
       "</table>\n",
       "</div>"
      ],
      "text/plain": [
       "   inventory_id     part_num  color_id  quantity  is_spare  spare_quantity  \\\n",
       "0             1     48379c01        72         1         0               0   \n",
       "1             1        48395         7         1         0               0   \n",
       "2             1     mcsport6        25         1         0               0   \n",
       "3             1       paddle         0         1         0               0   \n",
       "4             3  11816pr0005        78         1         0               0   \n",
       "\n",
       "         color_name  \n",
       "0  Dark Bluish Gray  \n",
       "1        Light Gray  \n",
       "2            Orange  \n",
       "3             Black  \n",
       "4       Light Flesh  "
      ]
     },
     "execution_count": 25,
     "metadata": {},
     "output_type": "execute_result"
    }
   ],
   "source": [
    "kaggle_parts.head()"
   ]
  },
  {
   "cell_type": "code",
   "execution_count": 26,
   "metadata": {
    "ExecuteTime": {
     "end_time": "2019-11-04T19:00:38.128501Z",
     "start_time": "2019-11-04T19:00:38.052704Z"
    }
   },
   "outputs": [
    {
     "data": {
      "text/html": [
       "<div>\n",
       "<style scoped>\n",
       "    .dataframe tbody tr th:only-of-type {\n",
       "        vertical-align: middle;\n",
       "    }\n",
       "\n",
       "    .dataframe tbody tr th {\n",
       "        vertical-align: top;\n",
       "    }\n",
       "\n",
       "    .dataframe thead th {\n",
       "        text-align: right;\n",
       "    }\n",
       "</style>\n",
       "<table border=\"1\" class=\"dataframe\">\n",
       "  <thead>\n",
       "    <tr style=\"text-align: right;\">\n",
       "      <th></th>\n",
       "      <th>part_num</th>\n",
       "      <th>name</th>\n",
       "      <th>part_cat_id</th>\n",
       "    </tr>\n",
       "  </thead>\n",
       "  <tbody>\n",
       "    <tr>\n",
       "      <th>0</th>\n",
       "      <td>0687b1</td>\n",
       "      <td>Set 0687 Activity Booklet 1</td>\n",
       "      <td>17</td>\n",
       "    </tr>\n",
       "    <tr>\n",
       "      <th>1</th>\n",
       "      <td>0901</td>\n",
       "      <td>Baseplate 16 x 30 with Set 080 Yellow House Print</td>\n",
       "      <td>1</td>\n",
       "    </tr>\n",
       "    <tr>\n",
       "      <th>2</th>\n",
       "      <td>0902</td>\n",
       "      <td>Baseplate 16 x 24 with Set 080 Small White Hou...</td>\n",
       "      <td>1</td>\n",
       "    </tr>\n",
       "    <tr>\n",
       "      <th>3</th>\n",
       "      <td>0903</td>\n",
       "      <td>Baseplate 16 x 24 with Set 080 Red House Print</td>\n",
       "      <td>1</td>\n",
       "    </tr>\n",
       "    <tr>\n",
       "      <th>4</th>\n",
       "      <td>0904</td>\n",
       "      <td>Baseplate 16 x 24 with Set 080 Large White Hou...</td>\n",
       "      <td>1</td>\n",
       "    </tr>\n",
       "  </tbody>\n",
       "</table>\n",
       "</div>"
      ],
      "text/plain": [
       "  part_num                                               name  part_cat_id\n",
       "0   0687b1                        Set 0687 Activity Booklet 1           17\n",
       "1     0901  Baseplate 16 x 30 with Set 080 Yellow House Print            1\n",
       "2     0902  Baseplate 16 x 24 with Set 080 Small White Hou...            1\n",
       "3     0903     Baseplate 16 x 24 with Set 080 Red House Print            1\n",
       "4     0904  Baseplate 16 x 24 with Set 080 Large White Hou...            1"
      ]
     },
     "execution_count": 26,
     "metadata": {},
     "output_type": "execute_result"
    }
   ],
   "source": [
    "kaggle_parts_names = pd.read_csv(PARTS_FILE)\n",
    "kaggle_parts_names.head()"
   ]
  },
  {
   "cell_type": "code",
   "execution_count": 27,
   "metadata": {
    "ExecuteTime": {
     "end_time": "2019-11-04T19:00:38.146453Z",
     "start_time": "2019-11-04T19:00:38.130497Z"
    },
    "scrolled": true
   },
   "outputs": [
    {
     "data": {
      "text/html": [
       "<div>\n",
       "<style scoped>\n",
       "    .dataframe tbody tr th:only-of-type {\n",
       "        vertical-align: middle;\n",
       "    }\n",
       "\n",
       "    .dataframe tbody tr th {\n",
       "        vertical-align: top;\n",
       "    }\n",
       "\n",
       "    .dataframe thead th {\n",
       "        text-align: right;\n",
       "    }\n",
       "</style>\n",
       "<table border=\"1\" class=\"dataframe\">\n",
       "  <thead>\n",
       "    <tr style=\"text-align: right;\">\n",
       "      <th></th>\n",
       "      <th>id</th>\n",
       "      <th>name</th>\n",
       "    </tr>\n",
       "  </thead>\n",
       "  <tbody>\n",
       "    <tr>\n",
       "      <th>0</th>\n",
       "      <td>1</td>\n",
       "      <td>Baseplates</td>\n",
       "    </tr>\n",
       "    <tr>\n",
       "      <th>1</th>\n",
       "      <td>2</td>\n",
       "      <td>Bricks Printed</td>\n",
       "    </tr>\n",
       "    <tr>\n",
       "      <th>2</th>\n",
       "      <td>3</td>\n",
       "      <td>Bricks Sloped</td>\n",
       "    </tr>\n",
       "    <tr>\n",
       "      <th>3</th>\n",
       "      <td>4</td>\n",
       "      <td>Duplo, Quatro and Primo</td>\n",
       "    </tr>\n",
       "    <tr>\n",
       "      <th>4</th>\n",
       "      <td>5</td>\n",
       "      <td>Bricks Special</td>\n",
       "    </tr>\n",
       "  </tbody>\n",
       "</table>\n",
       "</div>"
      ],
      "text/plain": [
       "   id                     name\n",
       "0   1               Baseplates\n",
       "1   2           Bricks Printed\n",
       "2   3            Bricks Sloped\n",
       "3   4  Duplo, Quatro and Primo\n",
       "4   5           Bricks Special"
      ]
     },
     "execution_count": 27,
     "metadata": {},
     "output_type": "execute_result"
    }
   ],
   "source": [
    "kaggle_part_categories = pd.read_csv(PARTCATEGORIES_FILE)\n",
    "kaggle_part_categories.head()"
   ]
  },
  {
   "cell_type": "code",
   "execution_count": 28,
   "metadata": {
    "ExecuteTime": {
     "end_time": "2019-11-04T19:00:38.171389Z",
     "start_time": "2019-11-04T19:00:38.148456Z"
    }
   },
   "outputs": [
    {
     "data": {
      "text/html": [
       "<div>\n",
       "<style scoped>\n",
       "    .dataframe tbody tr th:only-of-type {\n",
       "        vertical-align: middle;\n",
       "    }\n",
       "\n",
       "    .dataframe tbody tr th {\n",
       "        vertical-align: top;\n",
       "    }\n",
       "\n",
       "    .dataframe thead th {\n",
       "        text-align: right;\n",
       "    }\n",
       "</style>\n",
       "<table border=\"1\" class=\"dataframe\">\n",
       "  <thead>\n",
       "    <tr style=\"text-align: right;\">\n",
       "      <th></th>\n",
       "      <th>part_num</th>\n",
       "      <th>name_part</th>\n",
       "      <th>part_cat_id</th>\n",
       "      <th>id</th>\n",
       "      <th>name_category</th>\n",
       "    </tr>\n",
       "  </thead>\n",
       "  <tbody>\n",
       "    <tr>\n",
       "      <th>0</th>\n",
       "      <td>0687b1</td>\n",
       "      <td>Set 0687 Activity Booklet 1</td>\n",
       "      <td>17</td>\n",
       "      <td>17</td>\n",
       "      <td>Non-LEGO</td>\n",
       "    </tr>\n",
       "    <tr>\n",
       "      <th>1</th>\n",
       "      <td>0901</td>\n",
       "      <td>Baseplate 16 x 30 with Set 080 Yellow House Print</td>\n",
       "      <td>1</td>\n",
       "      <td>1</td>\n",
       "      <td>Baseplates</td>\n",
       "    </tr>\n",
       "    <tr>\n",
       "      <th>2</th>\n",
       "      <td>0902</td>\n",
       "      <td>Baseplate 16 x 24 with Set 080 Small White Hou...</td>\n",
       "      <td>1</td>\n",
       "      <td>1</td>\n",
       "      <td>Baseplates</td>\n",
       "    </tr>\n",
       "    <tr>\n",
       "      <th>3</th>\n",
       "      <td>0903</td>\n",
       "      <td>Baseplate 16 x 24 with Set 080 Red House Print</td>\n",
       "      <td>1</td>\n",
       "      <td>1</td>\n",
       "      <td>Baseplates</td>\n",
       "    </tr>\n",
       "    <tr>\n",
       "      <th>4</th>\n",
       "      <td>0904</td>\n",
       "      <td>Baseplate 16 x 24 with Set 080 Large White Hou...</td>\n",
       "      <td>1</td>\n",
       "      <td>1</td>\n",
       "      <td>Baseplates</td>\n",
       "    </tr>\n",
       "  </tbody>\n",
       "</table>\n",
       "</div>"
      ],
      "text/plain": [
       "  part_num                                          name_part  part_cat_id  \\\n",
       "0   0687b1                        Set 0687 Activity Booklet 1           17   \n",
       "1     0901  Baseplate 16 x 30 with Set 080 Yellow House Print            1   \n",
       "2     0902  Baseplate 16 x 24 with Set 080 Small White Hou...            1   \n",
       "3     0903     Baseplate 16 x 24 with Set 080 Red House Print            1   \n",
       "4     0904  Baseplate 16 x 24 with Set 080 Large White Hou...            1   \n",
       "\n",
       "   id name_category  \n",
       "0  17      Non-LEGO  \n",
       "1   1    Baseplates  \n",
       "2   1    Baseplates  \n",
       "3   1    Baseplates  \n",
       "4   1    Baseplates  "
      ]
     },
     "execution_count": 28,
     "metadata": {},
     "output_type": "execute_result"
    }
   ],
   "source": [
    "kaggle_parts_names = pd.merge(kaggle_parts_names, kaggle_part_categories,\n",
    "                              how=\"left\", left_on=\"part_cat_id\", right_on=\"id\",\n",
    "                             suffixes=(\"_part\",\"_category\"))\n",
    "kaggle_parts_names.head()"
   ]
  },
  {
   "cell_type": "code",
   "execution_count": 29,
   "metadata": {
    "ExecuteTime": {
     "end_time": "2019-11-04T19:00:38.455628Z",
     "start_time": "2019-11-04T19:00:38.175383Z"
    }
   },
   "outputs": [
    {
     "data": {
      "text/html": [
       "<div>\n",
       "<style scoped>\n",
       "    .dataframe tbody tr th:only-of-type {\n",
       "        vertical-align: middle;\n",
       "    }\n",
       "\n",
       "    .dataframe tbody tr th {\n",
       "        vertical-align: top;\n",
       "    }\n",
       "\n",
       "    .dataframe thead th {\n",
       "        text-align: right;\n",
       "    }\n",
       "</style>\n",
       "<table border=\"1\" class=\"dataframe\">\n",
       "  <thead>\n",
       "    <tr style=\"text-align: right;\">\n",
       "      <th></th>\n",
       "      <th>inventory_id</th>\n",
       "      <th>part_num</th>\n",
       "      <th>color_id</th>\n",
       "      <th>quantity</th>\n",
       "      <th>is_spare</th>\n",
       "      <th>spare_quantity</th>\n",
       "      <th>color_name</th>\n",
       "      <th>name_category</th>\n",
       "    </tr>\n",
       "  </thead>\n",
       "  <tbody>\n",
       "    <tr>\n",
       "      <th>0</th>\n",
       "      <td>1</td>\n",
       "      <td>48379c01</td>\n",
       "      <td>72</td>\n",
       "      <td>1</td>\n",
       "      <td>0</td>\n",
       "      <td>0</td>\n",
       "      <td>Dark Bluish Gray</td>\n",
       "      <td>Minifig Accessories</td>\n",
       "    </tr>\n",
       "    <tr>\n",
       "      <th>1</th>\n",
       "      <td>1</td>\n",
       "      <td>48395</td>\n",
       "      <td>7</td>\n",
       "      <td>1</td>\n",
       "      <td>0</td>\n",
       "      <td>0</td>\n",
       "      <td>Light Gray</td>\n",
       "      <td>Minifig Accessories</td>\n",
       "    </tr>\n",
       "    <tr>\n",
       "      <th>2</th>\n",
       "      <td>1</td>\n",
       "      <td>mcsport6</td>\n",
       "      <td>25</td>\n",
       "      <td>1</td>\n",
       "      <td>0</td>\n",
       "      <td>0</td>\n",
       "      <td>Orange</td>\n",
       "      <td>Minifigs</td>\n",
       "    </tr>\n",
       "    <tr>\n",
       "      <th>3</th>\n",
       "      <td>1</td>\n",
       "      <td>paddle</td>\n",
       "      <td>0</td>\n",
       "      <td>1</td>\n",
       "      <td>0</td>\n",
       "      <td>0</td>\n",
       "      <td>Black</td>\n",
       "      <td>Minifig Accessories</td>\n",
       "    </tr>\n",
       "    <tr>\n",
       "      <th>4</th>\n",
       "      <td>3</td>\n",
       "      <td>11816pr0005</td>\n",
       "      <td>78</td>\n",
       "      <td>1</td>\n",
       "      <td>0</td>\n",
       "      <td>0</td>\n",
       "      <td>Light Flesh</td>\n",
       "      <td>Minifigs</td>\n",
       "    </tr>\n",
       "  </tbody>\n",
       "</table>\n",
       "</div>"
      ],
      "text/plain": [
       "   inventory_id     part_num  color_id  quantity  is_spare  spare_quantity  \\\n",
       "0             1     48379c01        72         1         0               0   \n",
       "1             1        48395         7         1         0               0   \n",
       "2             1     mcsport6        25         1         0               0   \n",
       "3             1       paddle         0         1         0               0   \n",
       "4             3  11816pr0005        78         1         0               0   \n",
       "\n",
       "         color_name        name_category  \n",
       "0  Dark Bluish Gray  Minifig Accessories  \n",
       "1        Light Gray  Minifig Accessories  \n",
       "2            Orange             Minifigs  \n",
       "3             Black  Minifig Accessories  \n",
       "4       Light Flesh             Minifigs  "
      ]
     },
     "execution_count": 29,
     "metadata": {},
     "output_type": "execute_result"
    }
   ],
   "source": [
    "kaggle_parts = pd.merge(kaggle_parts, kaggle_parts_names[[\"part_num\", \"name_category\"]], how=\"left\",\n",
    "                        on=\"part_num\")\n",
    "kaggle_parts.head()"
   ]
  },
  {
   "cell_type": "code",
   "execution_count": 30,
   "metadata": {
    "ExecuteTime": {
     "end_time": "2019-11-04T19:00:38.548163Z",
     "start_time": "2019-11-04T19:00:38.457622Z"
    }
   },
   "outputs": [
    {
     "data": {
      "text/html": [
       "<div>\n",
       "<style scoped>\n",
       "    .dataframe tbody tr th:only-of-type {\n",
       "        vertical-align: middle;\n",
       "    }\n",
       "\n",
       "    .dataframe tbody tr th {\n",
       "        vertical-align: top;\n",
       "    }\n",
       "\n",
       "    .dataframe thead th {\n",
       "        text-align: right;\n",
       "    }\n",
       "</style>\n",
       "<table border=\"1\" class=\"dataframe\">\n",
       "  <thead>\n",
       "    <tr style=\"text-align: right;\">\n",
       "      <th></th>\n",
       "      <th>inventory_id</th>\n",
       "      <th>quantity</th>\n",
       "      <th>name_category</th>\n",
       "    </tr>\n",
       "  </thead>\n",
       "  <tbody>\n",
       "    <tr>\n",
       "      <th>0</th>\n",
       "      <td>1</td>\n",
       "      <td>1</td>\n",
       "      <td>Minifig Accessories</td>\n",
       "    </tr>\n",
       "    <tr>\n",
       "      <th>1</th>\n",
       "      <td>1</td>\n",
       "      <td>1</td>\n",
       "      <td>Minifig Accessories</td>\n",
       "    </tr>\n",
       "    <tr>\n",
       "      <th>2</th>\n",
       "      <td>1</td>\n",
       "      <td>1</td>\n",
       "      <td>Minifigs</td>\n",
       "    </tr>\n",
       "    <tr>\n",
       "      <th>3</th>\n",
       "      <td>1</td>\n",
       "      <td>1</td>\n",
       "      <td>Minifig Accessories</td>\n",
       "    </tr>\n",
       "    <tr>\n",
       "      <th>4</th>\n",
       "      <td>3</td>\n",
       "      <td>1</td>\n",
       "      <td>Minifigs</td>\n",
       "    </tr>\n",
       "  </tbody>\n",
       "</table>\n",
       "</div>"
      ],
      "text/plain": [
       "   inventory_id  quantity        name_category\n",
       "0             1         1  Minifig Accessories\n",
       "1             1         1  Minifig Accessories\n",
       "2             1         1             Minifigs\n",
       "3             1         1  Minifig Accessories\n",
       "4             3         1             Minifigs"
      ]
     },
     "execution_count": 30,
     "metadata": {},
     "output_type": "execute_result"
    }
   ],
   "source": [
    "kaggle_categories = kaggle_parts[[\"inventory_id\", \"quantity\", \"name_category\"]].copy()\n",
    "kaggle_categories.head()"
   ]
  },
  {
   "cell_type": "code",
   "execution_count": 31,
   "metadata": {
    "ExecuteTime": {
     "end_time": "2019-11-04T19:00:38.594009Z",
     "start_time": "2019-11-04T19:00:38.556113Z"
    },
    "scrolled": true
   },
   "outputs": [],
   "source": [
    "# generating column names\n",
    "categories_raw = list(kaggle_parts[\"name_category\"].unique())\n",
    "categories = []\n",
    "for cat in categories_raw:\n",
    "    temp = str(cat).lower()\n",
    "    temp = temp.replace(\" (duplo, fabuland, etc)\",\"\")\n",
    "    temp = temp.replace(\", \",\"_\")\n",
    "    temp = temp.replace(\" \",\"_\")\n",
    "    categories.append(temp)\n",
    "categories_cnt_prts = [cat+\"_cnt_prts\" for cat in categories]\n",
    "categories_tot_prts = [cat+\"_tot_prts\" for cat in categories]"
   ]
  },
  {
   "cell_type": "code",
   "execution_count": 32,
   "metadata": {
    "ExecuteTime": {
     "end_time": "2019-11-04T19:00:38.605979Z",
     "start_time": "2019-11-04T19:00:38.597999Z"
    }
   },
   "outputs": [],
   "source": [
    "# generating a dictionary for iterating through column creation\n",
    "category_cnt_dict = dict(zip(categories_raw, categories_cnt_prts))\n",
    "category_tot_dict = dict(zip(categories_raw, categories_tot_prts))"
   ]
  },
  {
   "cell_type": "code",
   "execution_count": 33,
   "metadata": {
    "ExecuteTime": {
     "end_time": "2019-11-04T19:00:38.676799Z",
     "start_time": "2019-11-04T19:00:38.608969Z"
    }
   },
   "outputs": [],
   "source": [
    "# converting grouby columns to category for improved use in groupby\n",
    "kaggle_categories[\"inventory_id\"] = kaggle_categories[\"inventory_id\"].astype('category')\n",
    "kaggle_categories[\"name_category\"] = kaggle_categories[\"name_category\"].astype('category')"
   ]
  },
  {
   "cell_type": "code",
   "execution_count": 34,
   "metadata": {
    "ExecuteTime": {
     "end_time": "2019-11-04T19:00:38.779578Z",
     "start_time": "2019-11-04T19:00:38.678782Z"
    }
   },
   "outputs": [],
   "source": [
    "# generating the count for each combination of category and set\n",
    "kaggle_category_prt_cnt = kaggle_categories.groupby([\"inventory_id\", \"name_category\"]).size().unstack(fill_value=0)"
   ]
  },
  {
   "cell_type": "code",
   "execution_count": 35,
   "metadata": {
    "ExecuteTime": {
     "end_time": "2019-11-04T19:00:38.802451Z",
     "start_time": "2019-11-04T19:00:38.781507Z"
    }
   },
   "outputs": [],
   "source": [
    "# reshaping the dataframe\n",
    "kaggle_category_prt_cnt.columns = [category_cnt_dict[col] for col in kaggle_category_prt_cnt.columns]\n",
    "kaggle_category_prt_cnt.reset_index(inplace=True)\n",
    "kaggle_category_prt_cnt = kaggle_category_prt_cnt.astype(\"int64\")"
   ]
  },
  {
   "cell_type": "code",
   "execution_count": 36,
   "metadata": {
    "ExecuteTime": {
     "end_time": "2019-11-04T19:00:38.816415Z",
     "start_time": "2019-11-04T19:00:38.806441Z"
    }
   },
   "outputs": [
    {
     "data": {
      "text/html": [
       "<div>\n",
       "<style scoped>\n",
       "    .dataframe tbody tr th:only-of-type {\n",
       "        vertical-align: middle;\n",
       "    }\n",
       "\n",
       "    .dataframe tbody tr th {\n",
       "        vertical-align: top;\n",
       "    }\n",
       "\n",
       "    .dataframe thead th {\n",
       "        text-align: right;\n",
       "    }\n",
       "</style>\n",
       "<table border=\"1\" class=\"dataframe\">\n",
       "  <thead>\n",
       "    <tr style=\"text-align: right;\">\n",
       "      <th></th>\n",
       "      <th>inventory_id</th>\n",
       "      <th>plates_cnt_prts</th>\n",
       "    </tr>\n",
       "  </thead>\n",
       "  <tbody>\n",
       "    <tr>\n",
       "      <th>0</th>\n",
       "      <td>1</td>\n",
       "      <td>0</td>\n",
       "    </tr>\n",
       "    <tr>\n",
       "      <th>1</th>\n",
       "      <td>3</td>\n",
       "      <td>4</td>\n",
       "    </tr>\n",
       "    <tr>\n",
       "      <th>2</th>\n",
       "      <td>4</td>\n",
       "      <td>1</td>\n",
       "    </tr>\n",
       "    <tr>\n",
       "      <th>3</th>\n",
       "      <td>15</td>\n",
       "      <td>0</td>\n",
       "    </tr>\n",
       "    <tr>\n",
       "      <th>4</th>\n",
       "      <td>16</td>\n",
       "      <td>0</td>\n",
       "    </tr>\n",
       "  </tbody>\n",
       "</table>\n",
       "</div>"
      ],
      "text/plain": [
       "   inventory_id  plates_cnt_prts\n",
       "0             1                0\n",
       "1             3                4\n",
       "2             4                1\n",
       "3            15                0\n",
       "4            16                0"
      ]
     },
     "execution_count": 36,
     "metadata": {},
     "output_type": "execute_result"
    }
   ],
   "source": [
    "kaggle_category_prt_cnt[[\"inventory_id\", \"plates_cnt_prts\"]].head()"
   ]
  },
  {
   "cell_type": "code",
   "execution_count": 37,
   "metadata": {
    "ExecuteTime": {
     "end_time": "2019-11-04T19:01:24.505359Z",
     "start_time": "2019-11-04T19:00:38.819406Z"
    }
   },
   "outputs": [],
   "source": [
    "# generating the sum of the quantity for each combination of category and set\n",
    "kaggle_category_prt_tot = kaggle_categories.groupby([\"inventory_id\",\n",
    "                                                     \"name_category\"]).agg(lambda x: \n",
    "                                                                           kaggle_categories.iloc[x.index,1].sum()).unstack()"
   ]
  },
  {
   "cell_type": "code",
   "execution_count": 38,
   "metadata": {
    "ExecuteTime": {
     "end_time": "2019-11-04T19:01:24.548860Z",
     "start_time": "2019-11-04T19:01:24.508356Z"
    }
   },
   "outputs": [],
   "source": [
    "# reshaping the dataframe\n",
    "kaggle_category_prt_tot.columns = [category_tot_dict[col[1]] for col in kaggle_category_prt_tot.columns]\n",
    "kaggle_category_prt_tot.reset_index(inplace=True)\n",
    "kaggle_category_prt_tot[\"inventory_id\"] = kaggle_category_prt_tot[\"inventory_id\"].astype(\"int\")\n",
    "kaggle_category_prt_tot.fillna(value=0, axis=0, inplace=True)\n",
    "kaggle_category_prt_tot = kaggle_category_prt_tot.astype(\"int64\")"
   ]
  },
  {
   "cell_type": "code",
   "execution_count": 39,
   "metadata": {
    "ExecuteTime": {
     "end_time": "2019-11-04T19:01:24.563783Z",
     "start_time": "2019-11-04T19:01:24.550817Z"
    }
   },
   "outputs": [
    {
     "data": {
      "text/html": [
       "<div>\n",
       "<style scoped>\n",
       "    .dataframe tbody tr th:only-of-type {\n",
       "        vertical-align: middle;\n",
       "    }\n",
       "\n",
       "    .dataframe tbody tr th {\n",
       "        vertical-align: top;\n",
       "    }\n",
       "\n",
       "    .dataframe thead th {\n",
       "        text-align: right;\n",
       "    }\n",
       "</style>\n",
       "<table border=\"1\" class=\"dataframe\">\n",
       "  <thead>\n",
       "    <tr style=\"text-align: right;\">\n",
       "      <th></th>\n",
       "      <th>inventory_id</th>\n",
       "      <th>plates_tot_prts</th>\n",
       "    </tr>\n",
       "  </thead>\n",
       "  <tbody>\n",
       "    <tr>\n",
       "      <th>0</th>\n",
       "      <td>1</td>\n",
       "      <td>0</td>\n",
       "    </tr>\n",
       "    <tr>\n",
       "      <th>1</th>\n",
       "      <td>3</td>\n",
       "      <td>5</td>\n",
       "    </tr>\n",
       "    <tr>\n",
       "      <th>2</th>\n",
       "      <td>4</td>\n",
       "      <td>1</td>\n",
       "    </tr>\n",
       "    <tr>\n",
       "      <th>3</th>\n",
       "      <td>15</td>\n",
       "      <td>0</td>\n",
       "    </tr>\n",
       "    <tr>\n",
       "      <th>4</th>\n",
       "      <td>16</td>\n",
       "      <td>0</td>\n",
       "    </tr>\n",
       "  </tbody>\n",
       "</table>\n",
       "</div>"
      ],
      "text/plain": [
       "   inventory_id  plates_tot_prts\n",
       "0             1                0\n",
       "1             3                5\n",
       "2             4                1\n",
       "3            15                0\n",
       "4            16                0"
      ]
     },
     "execution_count": 39,
     "metadata": {},
     "output_type": "execute_result"
    }
   ],
   "source": [
    "kaggle_category_prt_tot[[\"inventory_id\", \"plates_tot_prts\"]].head()"
   ]
  },
  {
   "cell_type": "code",
   "execution_count": 40,
   "metadata": {
    "ExecuteTime": {
     "end_time": "2019-11-04T19:01:24.613650Z",
     "start_time": "2019-11-04T19:01:24.565778Z"
    }
   },
   "outputs": [],
   "source": [
    "# merging into brickset\n",
    "brickset = pd.merge(brickset, kaggle_category_prt_cnt, how=\"left\", left_on=\"inventory_id\", right_on=\"inventory_id\")\n",
    "brickset = pd.merge(brickset, kaggle_category_prt_tot, how=\"left\", left_on=\"inventory_id\", right_on=\"inventory_id\")"
   ]
  },
  {
   "cell_type": "markdown",
   "metadata": {},
   "source": [
    "## clean up final columns"
   ]
  },
  {
   "cell_type": "code",
   "execution_count": 41,
   "metadata": {
    "ExecuteTime": {
     "end_time": "2019-11-04T19:01:24.637586Z",
     "start_time": "2019-11-04T19:01:24.617639Z"
    },
    "scrolled": false
   },
   "outputs": [],
   "source": [
    "brickset.drop(columns=[\"inventory_id\", \"main_tag\"], inplace=True)"
   ]
  },
  {
   "cell_type": "code",
   "execution_count": 42,
   "metadata": {
    "ExecuteTime": {
     "end_time": "2019-11-04T19:01:24.652544Z",
     "start_time": "2019-11-04T19:01:24.640577Z"
    }
   },
   "outputs": [],
   "source": [
    "to_int_list =[\"year\", \"minifig_cnt\", \"number_parts\",\n",
    "              \"total_parts\", \"number_spare_parts\", \"total_spare_parts\"]\n",
    "brickset[to_int_list] = brickset[to_int_list].astype(\"int64\")"
   ]
  },
  {
   "cell_type": "code",
   "execution_count": 43,
   "metadata": {
    "ExecuteTime": {
     "end_time": "2019-11-04T19:01:24.700417Z",
     "start_time": "2019-11-04T19:01:24.654540Z"
    }
   },
   "outputs": [
    {
     "name": "stdout",
     "output_type": "stream",
     "text": [
      "<class 'pandas.core.frame.DataFrame'>\n",
      "Int64Index: 5303 entries, 0 to 5302\n",
      "Data columns (total 136 columns):\n",
      "set_no                                              5303 non-null object\n",
      "name                                                5303 non-null object\n",
      "price_store                                         4178 non-null float64\n",
      "price_new                                           5003 non-null float64\n",
      "price_used                                          4972 non-null float64\n",
      "rating_value                                        4560 non-null float64\n",
      "rating_votes                                        4560 non-null float64\n",
      "theme_group                                         5303 non-null object\n",
      "theme                                               5303 non-null object\n",
      "subtheme                                            3915 non-null object\n",
      "year                                                5303 non-null int64\n",
      "volume                                              2143 non-null float64\n",
      "weight                                              2154 non-null float64\n",
      "piece_cnt                                           5296 non-null float64\n",
      "minifig_cnt                                         5303 non-null int64\n",
      "number_parts                                        5303 non-null int64\n",
      "total_parts                                         5303 non-null int64\n",
      "number_spare_parts                                  5303 non-null int64\n",
      "total_spare_parts                                   5303 non-null int64\n",
      "number_colors                                       5303 non-null int64\n",
      "1st_color                                           5303 non-null object\n",
      "2nd_color                                           5303 non-null object\n",
      "bars_ladders_and_fences_cnt_prts                    5303 non-null int64\n",
      "baseplates_cnt_prts                                 5303 non-null int64\n",
      "belville_scala_and_fabuland_cnt_prts                5303 non-null int64\n",
      "bionicle_hero_factory_and_constraction_cnt_prts     5303 non-null int64\n",
      "bricks_cnt_prts                                     5303 non-null int64\n",
      "bricks_curved_cnt_prts                              5303 non-null int64\n",
      "bricks_printed_cnt_prts                             5303 non-null int64\n",
      "bricks_round_and_cones_cnt_prts                     5303 non-null int64\n",
      "bricks_sloped_cnt_prts                              5303 non-null int64\n",
      "bricks_special_cnt_prts                             5303 non-null int64\n",
      "bricks_wedged_cnt_prts                              5303 non-null int64\n",
      "clikits_cnt_prts                                    5303 non-null int64\n",
      "containers_cnt_prts                                 5303 non-null int64\n",
      "duplo_quatro_and_primo_cnt_prts                     5303 non-null int64\n",
      "flags_signs_plastics_and_cloth_cnt_prts             5303 non-null int64\n",
      "ho_scale_cnt_prts                                   5303 non-null int64\n",
      "hinges_arms_and_turntables_cnt_prts                 5303 non-null int64\n",
      "magnets_and_holders_cnt_prts                        5303 non-null int64\n",
      "mechanical_cnt_prts                                 5303 non-null int64\n",
      "minifig_accessories_cnt_prts                        5303 non-null int64\n",
      "minifigs_cnt_prts                                   5303 non-null int64\n",
      "non-buildable_figures_cnt_prts                      5303 non-null int64\n",
      "non-lego_cnt_prts                                   5303 non-null int64\n",
      "other_cnt_prts                                      5303 non-null int64\n",
      "panels_cnt_prts                                     5303 non-null int64\n",
      "plants_and_animals_cnt_prts                         5303 non-null int64\n",
      "plates_cnt_prts                                     5303 non-null int64\n",
      "plates_angled_cnt_prts                              5303 non-null int64\n",
      "plates_round_and_dishes_cnt_prts                    5303 non-null int64\n",
      "plates_special_cnt_prts                             5303 non-null int64\n",
      "pneumatics_cnt_prts                                 5303 non-null int64\n",
      "power_functions_mindstorms_and_electric_cnt_prts    5303 non-null int64\n",
      "rock_cnt_prts                                       5303 non-null int64\n",
      "string_bands_and_reels_cnt_prts                     5303 non-null int64\n",
      "supports_girders_and_cranes_cnt_prts                5303 non-null int64\n",
      "technic_axles_cnt_prts                              5303 non-null int64\n",
      "technic_beams_cnt_prts                              5303 non-null int64\n",
      "technic_beams_special_cnt_prts                      5303 non-null int64\n",
      "technic_bricks_cnt_prts                             5303 non-null int64\n",
      "technic_bushes_cnt_prts                             5303 non-null int64\n",
      "technic_connectors_cnt_prts                         5303 non-null int64\n",
      "technic_gears_cnt_prts                              5303 non-null int64\n",
      "technic_panels_cnt_prts                             5303 non-null int64\n",
      "technic_pins_cnt_prts                               5303 non-null int64\n",
      "technic_special_cnt_prts                            5303 non-null int64\n",
      "technic_steering_suspension_and_engine_cnt_prts     5303 non-null int64\n",
      "tiles_cnt_prts                                      5303 non-null int64\n",
      "tiles_printed_cnt_prts                              5303 non-null int64\n",
      "tiles_special_cnt_prts                              5303 non-null int64\n",
      "tools_cnt_prts                                      5303 non-null int64\n",
      "transportation_-_land_cnt_prts                      5303 non-null int64\n",
      "transportation_-_sea_and_air_cnt_prts               5303 non-null int64\n",
      "tubes_and_hoses_cnt_prts                            5303 non-null int64\n",
      "wheels_and_tyres_cnt_prts                           5303 non-null int64\n",
      "windows_and_doors_cnt_prts                          5303 non-null int64\n",
      "windscreens_and_fuselage_cnt_prts                   5303 non-null int64\n",
      "znap_cnt_prts                                       5303 non-null int64\n",
      "bars_ladders_and_fences_tot_prts                    5303 non-null int64\n",
      "baseplates_tot_prts                                 5303 non-null int64\n",
      "belville_scala_and_fabuland_tot_prts                5303 non-null int64\n",
      "bionicle_hero_factory_and_constraction_tot_prts     5303 non-null int64\n",
      "bricks_tot_prts                                     5303 non-null int64\n",
      "bricks_curved_tot_prts                              5303 non-null int64\n",
      "bricks_printed_tot_prts                             5303 non-null int64\n",
      "bricks_round_and_cones_tot_prts                     5303 non-null int64\n",
      "bricks_sloped_tot_prts                              5303 non-null int64\n",
      "bricks_special_tot_prts                             5303 non-null int64\n",
      "bricks_wedged_tot_prts                              5303 non-null int64\n",
      "clikits_tot_prts                                    5303 non-null int64\n",
      "containers_tot_prts                                 5303 non-null int64\n",
      "duplo_quatro_and_primo_tot_prts                     5303 non-null int64\n",
      "flags_signs_plastics_and_cloth_tot_prts             5303 non-null int64\n",
      "ho_scale_tot_prts                                   5303 non-null int64\n",
      "hinges_arms_and_turntables_tot_prts                 5303 non-null int64\n",
      "magnets_and_holders_tot_prts                        5303 non-null int64\n",
      "mechanical_tot_prts                                 5303 non-null int64\n",
      "minifig_accessories_tot_prts                        5303 non-null int64\n",
      "minifigs_tot_prts                                   5303 non-null int64\n",
      "non-buildable_figures_tot_prts                      5303 non-null int64\n",
      "non-lego_tot_prts                                   5303 non-null int64\n",
      "other_tot_prts                                      5303 non-null int64\n",
      "panels_tot_prts                                     5303 non-null int64\n",
      "plants_and_animals_tot_prts                         5303 non-null int64\n",
      "plates_tot_prts                                     5303 non-null int64\n",
      "plates_angled_tot_prts                              5303 non-null int64\n",
      "plates_round_and_dishes_tot_prts                    5303 non-null int64\n",
      "plates_special_tot_prts                             5303 non-null int64\n",
      "pneumatics_tot_prts                                 5303 non-null int64\n",
      "power_functions_mindstorms_and_electric_tot_prts    5303 non-null int64\n",
      "rock_tot_prts                                       5303 non-null int64\n",
      "string_bands_and_reels_tot_prts                     5303 non-null int64\n",
      "supports_girders_and_cranes_tot_prts                5303 non-null int64\n",
      "technic_axles_tot_prts                              5303 non-null int64\n",
      "technic_beams_tot_prts                              5303 non-null int64\n",
      "technic_beams_special_tot_prts                      5303 non-null int64\n",
      "technic_bricks_tot_prts                             5303 non-null int64\n",
      "technic_bushes_tot_prts                             5303 non-null int64\n",
      "technic_connectors_tot_prts                         5303 non-null int64\n",
      "technic_gears_tot_prts                              5303 non-null int64\n",
      "technic_panels_tot_prts                             5303 non-null int64\n",
      "technic_pins_tot_prts                               5303 non-null int64\n",
      "technic_special_tot_prts                            5303 non-null int64\n",
      "technic_steering_suspension_and_engine_tot_prts     5303 non-null int64\n",
      "tiles_tot_prts                                      5303 non-null int64\n",
      "tiles_printed_tot_prts                              5303 non-null int64\n",
      "tiles_special_tot_prts                              5303 non-null int64\n",
      "tools_tot_prts                                      5303 non-null int64\n",
      "transportation_-_land_tot_prts                      5303 non-null int64\n",
      "transportation_-_sea_and_air_tot_prts               5303 non-null int64\n",
      "tubes_and_hoses_tot_prts                            5303 non-null int64\n",
      "wheels_and_tyres_tot_prts                           5303 non-null int64\n",
      "windows_and_doors_tot_prts                          5303 non-null int64\n",
      "windscreens_and_fuselage_tot_prts                   5303 non-null int64\n",
      "znap_tot_prts                                       5303 non-null int64\n",
      "dtypes: float64(8), int64(121), object(7)\n",
      "memory usage: 5.5+ MB\n"
     ]
    }
   ],
   "source": [
    "brickset.info(verbose=True, null_counts=True)"
   ]
  },
  {
   "cell_type": "markdown",
   "metadata": {},
   "source": [
    "## export to csv"
   ]
  },
  {
   "cell_type": "code",
   "execution_count": 44,
   "metadata": {
    "ExecuteTime": {
     "end_time": "2019-11-04T19:01:25.360475Z",
     "start_time": "2019-11-04T19:01:24.702412Z"
    }
   },
   "outputs": [
    {
     "data": {
      "text/plain": [
       "'1.93 mb'"
      ]
     },
     "execution_count": 44,
     "metadata": {},
     "output_type": "execute_result"
    }
   ],
   "source": [
    "save_path = r'../data/merge_full.csv'\n",
    "brickset.to_csv(save_path, index=False)\n",
    "f'{round(os.path.getsize(save_path) /1e6, 2)} mb'"
   ]
  }
 ],
 "metadata": {
  "kernelspec": {
   "display_name": "Python 3",
   "language": "python",
   "name": "python3"
  },
  "language_info": {
   "codemirror_mode": {
    "name": "ipython",
    "version": 3
   },
   "file_extension": ".py",
   "mimetype": "text/x-python",
   "name": "python",
   "nbconvert_exporter": "python",
   "pygments_lexer": "ipython3",
   "version": "3.6.9"
  },
  "toc": {
   "base_numbering": 1,
   "nav_menu": {},
   "number_sections": true,
   "sideBar": true,
   "skip_h1_title": false,
   "title_cell": "Table of Contents",
   "title_sidebar": "Contents",
   "toc_cell": false,
   "toc_position": {},
   "toc_section_display": true,
   "toc_window_display": false
  }
 },
 "nbformat": 4,
 "nbformat_minor": 2
}
