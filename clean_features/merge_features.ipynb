{
 "cells": [
  {
   "cell_type": "markdown",
   "metadata": {},
   "source": [
    "# Feature Engineering\n",
    "\n",
    "Workflow: 4\n",
    "\n",
    "Goal: Create new composite features for analysis.\n",
    "\n",
    "Result: Outputs the file ```merge_feature.csv```."
   ]
  },
  {
   "cell_type": "code",
   "execution_count": 1,
   "metadata": {},
   "outputs": [],
   "source": [
    "import os\n",
    "import pandas as pd\n",
    "import numpy as np\n",
    "import matplotlib.pyplot as plt\n",
    "%matplotlib inline\n",
    "import seaborn as sns"
   ]
  },
  {
   "cell_type": "code",
   "execution_count": 2,
   "metadata": {},
   "outputs": [],
   "source": [
    "from IPython.core.interactiveshell import InteractiveShell\n",
    "InteractiveShell.ast_node_interactivity = 'all'"
   ]
  },
  {
   "cell_type": "code",
   "execution_count": 3,
   "metadata": {},
   "outputs": [],
   "source": [
    "%load_ext autoreload\n",
    "%autoreload 2         # reload custom py file eveytime a new cell is run\n",
    "\n",
    "import sys\n",
    "sys.path.append('../')\n",
    "import lego_helper as lh"
   ]
  },
  {
   "cell_type": "markdown",
   "metadata": {},
   "source": [
    "## Import Data"
   ]
  },
  {
   "cell_type": "code",
   "execution_count": 4,
   "metadata": {},
   "outputs": [],
   "source": [
    "MERGE_FILE = '../data/merge_full.csv'"
   ]
  },
  {
   "cell_type": "code",
   "execution_count": 5,
   "metadata": {
    "scrolled": false
   },
   "outputs": [
    {
     "data": {
      "text/html": [
       "<div>\n",
       "<style scoped>\n",
       "    .dataframe tbody tr th:only-of-type {\n",
       "        vertical-align: middle;\n",
       "    }\n",
       "\n",
       "    .dataframe tbody tr th {\n",
       "        vertical-align: top;\n",
       "    }\n",
       "\n",
       "    .dataframe thead th {\n",
       "        text-align: right;\n",
       "    }\n",
       "</style>\n",
       "<table border=\"1\" class=\"dataframe\">\n",
       "  <thead>\n",
       "    <tr style=\"text-align: right;\">\n",
       "      <th></th>\n",
       "      <th>set_no</th>\n",
       "      <th>name</th>\n",
       "      <th>price_store</th>\n",
       "      <th>price_new</th>\n",
       "      <th>price_used</th>\n",
       "      <th>rating_value</th>\n",
       "      <th>rating_votes</th>\n",
       "      <th>theme_group</th>\n",
       "      <th>theme</th>\n",
       "      <th>subtheme</th>\n",
       "      <th>...</th>\n",
       "      <th>year</th>\n",
       "      <th>volume</th>\n",
       "      <th>weight</th>\n",
       "      <th>piece_cnt</th>\n",
       "      <th>minifig_cnt</th>\n",
       "      <th>number_parts</th>\n",
       "      <th>total_parts</th>\n",
       "      <th>number_colors</th>\n",
       "      <th>1st_color</th>\n",
       "      <th>2nd_color</th>\n",
       "    </tr>\n",
       "  </thead>\n",
       "  <tbody>\n",
       "    <tr>\n",
       "      <th>0</th>\n",
       "      <td>858-1</td>\n",
       "      <td>Auto Engines</td>\n",
       "      <td>NaN</td>\n",
       "      <td>NaN</td>\n",
       "      <td>51.0</td>\n",
       "      <td>4.5</td>\n",
       "      <td>2.0</td>\n",
       "      <td>Technical</td>\n",
       "      <td>Technic</td>\n",
       "      <td>NaN</td>\n",
       "      <td>...</td>\n",
       "      <td>1980.0</td>\n",
       "      <td>NaN</td>\n",
       "      <td>NaN</td>\n",
       "      <td>242.0</td>\n",
       "      <td>0.0</td>\n",
       "      <td>46</td>\n",
       "      <td>242</td>\n",
       "      <td>5</td>\n",
       "      <td>Blue</td>\n",
       "      <td>Light Gray</td>\n",
       "    </tr>\n",
       "    <tr>\n",
       "      <th>1</th>\n",
       "      <td>1591-1</td>\n",
       "      <td>Danone Delivery Truck</td>\n",
       "      <td>NaN</td>\n",
       "      <td>129.0</td>\n",
       "      <td>28.0</td>\n",
       "      <td>NaN</td>\n",
       "      <td>NaN</td>\n",
       "      <td>Modern day</td>\n",
       "      <td>Town</td>\n",
       "      <td>Special</td>\n",
       "      <td>...</td>\n",
       "      <td>1980.0</td>\n",
       "      <td>NaN</td>\n",
       "      <td>NaN</td>\n",
       "      <td>40.0</td>\n",
       "      <td>0.0</td>\n",
       "      <td>19</td>\n",
       "      <td>40</td>\n",
       "      <td>4</td>\n",
       "      <td>White</td>\n",
       "      <td>Blue</td>\n",
       "    </tr>\n",
       "    <tr>\n",
       "      <th>2</th>\n",
       "      <td>1592-1</td>\n",
       "      <td>Town Square - Castle Scene</td>\n",
       "      <td>NaN</td>\n",
       "      <td>1168.0</td>\n",
       "      <td>191.0</td>\n",
       "      <td>4.8</td>\n",
       "      <td>4.0</td>\n",
       "      <td>Modern day</td>\n",
       "      <td>Town</td>\n",
       "      <td>Classic</td>\n",
       "      <td>...</td>\n",
       "      <td>1980.0</td>\n",
       "      <td>NaN</td>\n",
       "      <td>NaN</td>\n",
       "      <td>471.0</td>\n",
       "      <td>11.0</td>\n",
       "      <td>133</td>\n",
       "      <td>495</td>\n",
       "      <td>10</td>\n",
       "      <td>Black</td>\n",
       "      <td>Yellow</td>\n",
       "    </tr>\n",
       "    <tr>\n",
       "      <th>3</th>\n",
       "      <td>1651-2</td>\n",
       "      <td>Maersk Line Container Lorry</td>\n",
       "      <td>NaN</td>\n",
       "      <td>NaN</td>\n",
       "      <td>444.0</td>\n",
       "      <td>5.0</td>\n",
       "      <td>1.0</td>\n",
       "      <td>Modern day</td>\n",
       "      <td>Town</td>\n",
       "      <td>Special</td>\n",
       "      <td>...</td>\n",
       "      <td>1980.0</td>\n",
       "      <td>NaN</td>\n",
       "      <td>NaN</td>\n",
       "      <td>305.0</td>\n",
       "      <td>1.0</td>\n",
       "      <td>66</td>\n",
       "      <td>305</td>\n",
       "      <td>9</td>\n",
       "      <td>Maersk Blue</td>\n",
       "      <td>Light Gray</td>\n",
       "    </tr>\n",
       "    <tr>\n",
       "      <th>4</th>\n",
       "      <td>3634-1</td>\n",
       "      <td>Charlie Crow's Carry-All</td>\n",
       "      <td>NaN</td>\n",
       "      <td>90.0</td>\n",
       "      <td>13.0</td>\n",
       "      <td>3.0</td>\n",
       "      <td>1.0</td>\n",
       "      <td>Junior</td>\n",
       "      <td>Fabuland</td>\n",
       "      <td>NaN</td>\n",
       "      <td>...</td>\n",
       "      <td>1980.0</td>\n",
       "      <td>NaN</td>\n",
       "      <td>NaN</td>\n",
       "      <td>17.0</td>\n",
       "      <td>1.0</td>\n",
       "      <td>15</td>\n",
       "      <td>18</td>\n",
       "      <td>7</td>\n",
       "      <td>Yellow</td>\n",
       "      <td>Green</td>\n",
       "    </tr>\n",
       "  </tbody>\n",
       "</table>\n",
       "<p>5 rows × 21 columns</p>\n",
       "</div>"
      ],
      "text/plain": [
       "   set_no                         name  price_store  price_new  price_used  \\\n",
       "0   858-1                 Auto Engines          NaN        NaN        51.0   \n",
       "1  1591-1        Danone Delivery Truck          NaN      129.0        28.0   \n",
       "2  1592-1   Town Square - Castle Scene          NaN     1168.0       191.0   \n",
       "3  1651-2  Maersk Line Container Lorry          NaN        NaN       444.0   \n",
       "4  3634-1     Charlie Crow's Carry-All          NaN       90.0        13.0   \n",
       "\n",
       "   rating_value  rating_votes theme_group     theme subtheme  ...    year  \\\n",
       "0           4.5           2.0   Technical   Technic      NaN  ...  1980.0   \n",
       "1           NaN           NaN  Modern day      Town  Special  ...  1980.0   \n",
       "2           4.8           4.0  Modern day      Town  Classic  ...  1980.0   \n",
       "3           5.0           1.0  Modern day      Town  Special  ...  1980.0   \n",
       "4           3.0           1.0      Junior  Fabuland      NaN  ...  1980.0   \n",
       "\n",
       "   volume  weight  piece_cnt  minifig_cnt  number_parts  total_parts  \\\n",
       "0     NaN     NaN      242.0          0.0            46          242   \n",
       "1     NaN     NaN       40.0          0.0            19           40   \n",
       "2     NaN     NaN      471.0         11.0           133          495   \n",
       "3     NaN     NaN      305.0          1.0            66          305   \n",
       "4     NaN     NaN       17.0          1.0            15           18   \n",
       "\n",
       "   number_colors    1st_color   2nd_color  \n",
       "0              5         Blue  Light Gray  \n",
       "1              4        White        Blue  \n",
       "2             10        Black      Yellow  \n",
       "3              9  Maersk Blue  Light Gray  \n",
       "4              7       Yellow       Green  \n",
       "\n",
       "[5 rows x 21 columns]"
      ]
     },
     "execution_count": 5,
     "metadata": {},
     "output_type": "execute_result"
    },
    {
     "name": "stdout",
     "output_type": "stream",
     "text": [
      "<class 'pandas.core.frame.DataFrame'>\n",
      "RangeIndex: 5303 entries, 0 to 5302\n",
      "Data columns (total 21 columns):\n",
      "set_no           5303 non-null object\n",
      "name             5303 non-null object\n",
      "price_store      4178 non-null float64\n",
      "price_new        5003 non-null float64\n",
      "price_used       4972 non-null float64\n",
      "rating_value     4560 non-null float64\n",
      "rating_votes     4560 non-null float64\n",
      "theme_group      5303 non-null object\n",
      "theme            5303 non-null object\n",
      "subtheme         3915 non-null object\n",
      "main_tag         0 non-null float64\n",
      "year             5303 non-null float64\n",
      "volume           2143 non-null float64\n",
      "weight           2154 non-null float64\n",
      "piece_cnt        5296 non-null float64\n",
      "minifig_cnt      5303 non-null float64\n",
      "number_parts     5303 non-null int64\n",
      "total_parts      5303 non-null int64\n",
      "number_colors    5303 non-null int64\n",
      "1st_color        5303 non-null object\n",
      "2nd_color        5303 non-null object\n",
      "dtypes: float64(11), int64(3), object(7)\n",
      "memory usage: 870.1+ KB\n"
     ]
    }
   ],
   "source": [
    "set_df = pd.read_csv(MERGE_FILE)\n",
    "set_df.head()\n",
    "set_df.info()"
   ]
  },
  {
   "cell_type": "markdown",
   "metadata": {},
   "source": [
    "## Investigate Surviving Sets"
   ]
  },
  {
   "cell_type": "code",
   "execution_count": 6,
   "metadata": {
    "scrolled": true
   },
   "outputs": [
    {
     "data": {
      "text/plain": [
       "Modern day          1210\n",
       "Licensed            1019\n",
       "Action/Adventure     801\n",
       "Model making         441\n",
       "Historical           411\n",
       "Constraction         391\n",
       "Technical            379\n",
       "Girls                285\n",
       "Racing               218\n",
       "Junior               148\n",
       "Name: theme_group, dtype: int64"
      ]
     },
     "execution_count": 6,
     "metadata": {},
     "output_type": "execute_result"
    }
   ],
   "source": [
    "set_df['theme_group'].value_counts()"
   ]
  },
  {
   "cell_type": "code",
   "execution_count": 7,
   "metadata": {},
   "outputs": [
    {
     "data": {
      "text/plain": [
       "(88,)"
      ]
     },
     "execution_count": 7,
     "metadata": {},
     "output_type": "execute_result"
    }
   ],
   "source": [
    "# there are too many themes, use the groups instead\n",
    "\n",
    "set_df['theme'].value_counts().shape"
   ]
  },
  {
   "cell_type": "code",
   "execution_count": 8,
   "metadata": {},
   "outputs": [],
   "source": [
    "InteractiveShell.ast_node_interactivity = 'last'"
   ]
  },
  {
   "cell_type": "code",
   "execution_count": 9,
   "metadata": {},
   "outputs": [
    {
     "data": {
      "image/png": "[encoded data removed]",
      "text/plain": [
       "<Figure size 1008x432 with 1 Axes>"
      ]
     },
     "metadata": {
      "needs_background": "light"
     },
     "output_type": "display_data"
    }
   ],
   "source": [
    "# sets per year\n",
    "\n",
    "fig, axs = plt.subplots(1, 1, figsize=(14, 6))\n",
    "axs.hist(set_df['year'].values, bins=set_df['year'].unique().shape[0])\n",
    "axs.set(xlabel='Year', ylabel='No Sets')\n",
    "plt.show()"
   ]
  },
  {
   "cell_type": "code",
   "execution_count": 10,
   "metadata": {},
   "outputs": [
    {
     "data": {
      "image/png": "[encoded data removed]",
      "text/plain": [
       "<Figure size 1008x432 with 1 Axes>"
      ]
     },
     "metadata": {
      "needs_background": "light"
     },
     "output_type": "display_data"
    }
   ],
   "source": [
    "# piece count distribution brickset vs kaggle\n",
    "\n",
    "piece_df = set_df.loc[(set_df['piece_cnt']>=1) & (set_df['total_parts']>=1)]\n",
    "\n",
    "fig, axs = plt.subplots(1, 1, figsize=(14, 6))\n",
    "axs.set(xlabel='Number of Pieces', ylabel='Total of Sets', xlim=(0, 1500))\n",
    "\n",
    "axs.hist(piece_df['piece_cnt'].values, bins=1000, color='green', label='brickset', alpha=.5)\n",
    "axs.hist(piece_df['total_parts'].values, bins=1000, color='blue', label='kaggle', alpha=.4)\n",
    "\n",
    "plt.legend()\n",
    "plt.show()"
   ]
  },
  {
   "cell_type": "code",
   "execution_count": 11,
   "metadata": {
    "scrolled": false
   },
   "outputs": [
    {
     "data": {
      "image/png": "[encoded data removed]",
      "text/plain": [
       "<Figure size 864x432 with 1 Axes>"
      ]
     },
     "metadata": {},
     "output_type": "display_data"
    }
   ],
   "source": [
    "# store price and used price comparison\n",
    "\n",
    "price_df = set_df.loc[(set_df['price_store']>=1) & (set_df['price_used']>=1)]\n",
    "\n",
    "fig, axs = plt.subplots(1, 1, figsize=(12, 6), facecolor='white')\n",
    "axs.set(xlabel='Set Price', ylabel='Total of Sets', xlim=(0, 200))\n",
    "\n",
    "axs.hist(price_df['price_store'].values, bins=500, color='green', label='store price', alpha=.5)\n",
    "axs.hist(price_df['price_used'].values, bins=500, color='red', label='used price', alpha=.5)\n",
    "\n",
    "plt.legend()\n",
    "plt.show()"
   ]
  },
  {
   "cell_type": "code",
   "execution_count": 12,
   "metadata": {},
   "outputs": [
    {
     "data": {
      "image/png": "[encoded data removed]",
      "text/plain": [
       "<Figure size 1008x432 with 1 Axes>"
      ]
     },
     "metadata": {
      "needs_background": "light"
     },
     "output_type": "display_data"
    }
   ],
   "source": [
    "# since there aren't a lot of sets with high votes, the ratings aren't very reliable\n",
    "\n",
    "votes_df = set_df.loc[set_df['rating_votes'].isna()==False]\n",
    "\n",
    "fig, axs = plt.subplots(1, 1, figsize=(14, 6))\n",
    "axs.hist(votes_df['rating_votes'].values, bins=100)\n",
    "axs.set(xlabel='Number of Votes', ylabel='Total of Sets', xlim=(0, 30))  # most votes ~100\n",
    "\n",
    "plt.show()"
   ]
  },
  {
   "cell_type": "markdown",
   "metadata": {},
   "source": [
    "## Clean the Colors"
   ]
  },
  {
   "cell_type": "code",
   "execution_count": 13,
   "metadata": {},
   "outputs": [
    {
     "data": {
      "text/plain": [
       "Black                2037\n",
       "White                 869\n",
       "Light Bluish Gray     432\n",
       "Red                   310\n",
       "Light Gray            295\n",
       "Name: 1st_color, dtype: int64"
      ]
     },
     "execution_count": 13,
     "metadata": {},
     "output_type": "execute_result"
    }
   ],
   "source": [
    "# check colors that are being used in sets\n",
    "\n",
    "set_df['1st_color'].value_counts().head()"
   ]
  },
  {
   "cell_type": "code",
   "execution_count": 14,
   "metadata": {},
   "outputs": [
    {
     "data": {
      "text/html": [
       "<div>\n",
       "<style scoped>\n",
       "    .dataframe tbody tr th:only-of-type {\n",
       "        vertical-align: middle;\n",
       "    }\n",
       "\n",
       "    .dataframe tbody tr th {\n",
       "        vertical-align: top;\n",
       "    }\n",
       "\n",
       "    .dataframe thead th {\n",
       "        text-align: right;\n",
       "    }\n",
       "</style>\n",
       "<table border=\"1\" class=\"dataframe\">\n",
       "  <thead>\n",
       "    <tr style=\"text-align: right;\">\n",
       "      <th></th>\n",
       "      <th>set_no</th>\n",
       "      <th>name</th>\n",
       "      <th>theme</th>\n",
       "      <th>1st_color</th>\n",
       "      <th>scolor_1st</th>\n",
       "      <th>2nd_color</th>\n",
       "      <th>scolor_2nd</th>\n",
       "    </tr>\n",
       "  </thead>\n",
       "  <tbody>\n",
       "    <tr>\n",
       "      <th>0</th>\n",
       "      <td>858-1</td>\n",
       "      <td>Auto Engines</td>\n",
       "      <td>Technic</td>\n",
       "      <td>Blue</td>\n",
       "      <td>Blue</td>\n",
       "      <td>Light Gray</td>\n",
       "      <td>Gray</td>\n",
       "    </tr>\n",
       "    <tr>\n",
       "      <th>1</th>\n",
       "      <td>1591-1</td>\n",
       "      <td>Danone Delivery Truck</td>\n",
       "      <td>Town</td>\n",
       "      <td>White</td>\n",
       "      <td>White</td>\n",
       "      <td>Blue</td>\n",
       "      <td>Blue</td>\n",
       "    </tr>\n",
       "    <tr>\n",
       "      <th>2</th>\n",
       "      <td>1592-1</td>\n",
       "      <td>Town Square - Castle Scene</td>\n",
       "      <td>Town</td>\n",
       "      <td>Black</td>\n",
       "      <td>Black</td>\n",
       "      <td>Yellow</td>\n",
       "      <td>Yellow</td>\n",
       "    </tr>\n",
       "    <tr>\n",
       "      <th>3</th>\n",
       "      <td>1651-2</td>\n",
       "      <td>Maersk Line Container Lorry</td>\n",
       "      <td>Town</td>\n",
       "      <td>Maersk Blue</td>\n",
       "      <td>Blue</td>\n",
       "      <td>Light Gray</td>\n",
       "      <td>Gray</td>\n",
       "    </tr>\n",
       "    <tr>\n",
       "      <th>4</th>\n",
       "      <td>3634-1</td>\n",
       "      <td>Charlie Crow's Carry-All</td>\n",
       "      <td>Fabuland</td>\n",
       "      <td>Yellow</td>\n",
       "      <td>Yellow</td>\n",
       "      <td>Green</td>\n",
       "      <td>Green</td>\n",
       "    </tr>\n",
       "  </tbody>\n",
       "</table>\n",
       "</div>"
      ],
      "text/plain": [
       "   set_no                         name     theme    1st_color scolor_1st  \\\n",
       "0   858-1                 Auto Engines   Technic         Blue       Blue   \n",
       "1  1591-1        Danone Delivery Truck      Town        White      White   \n",
       "2  1592-1   Town Square - Castle Scene      Town        Black      Black   \n",
       "3  1651-2  Maersk Line Container Lorry      Town  Maersk Blue       Blue   \n",
       "4  3634-1     Charlie Crow's Carry-All  Fabuland       Yellow     Yellow   \n",
       "\n",
       "    2nd_color scolor_2nd  \n",
       "0  Light Gray       Gray  \n",
       "1        Blue       Blue  \n",
       "2      Yellow     Yellow  \n",
       "3  Light Gray       Gray  \n",
       "4       Green      Green  "
      ]
     },
     "execution_count": 14,
     "metadata": {},
     "output_type": "execute_result"
    }
   ],
   "source": [
    "# create new columns for super-colors \n",
    "\n",
    "set_df['scolor_1st'] = set_df['1st_color'].apply(lh.get_super_color)\n",
    "set_df['scolor_2nd'] = set_df['2nd_color'].apply(lh.get_super_color)\n",
    "set_df[['set_no', 'name', 'theme', '1st_color', 'scolor_1st', '2nd_color', 'scolor_2nd']].head()"
   ]
  },
  {
   "cell_type": "code",
   "execution_count": 15,
   "metadata": {},
   "outputs": [
    {
     "data": {
      "text/html": [
       "<div>\n",
       "<style scoped>\n",
       "    .dataframe tbody tr th:only-of-type {\n",
       "        vertical-align: middle;\n",
       "    }\n",
       "\n",
       "    .dataframe tbody tr th {\n",
       "        vertical-align: top;\n",
       "    }\n",
       "\n",
       "    .dataframe thead th {\n",
       "        text-align: right;\n",
       "    }\n",
       "</style>\n",
       "<table border=\"1\" class=\"dataframe\">\n",
       "  <thead>\n",
       "    <tr style=\"text-align: right;\">\n",
       "      <th></th>\n",
       "      <th>set_no</th>\n",
       "      <th>name</th>\n",
       "      <th>theme</th>\n",
       "      <th>1st_color</th>\n",
       "      <th>scolor_1st</th>\n",
       "      <th>2nd_color</th>\n",
       "      <th>scolor_2nd</th>\n",
       "    </tr>\n",
       "  </thead>\n",
       "  <tbody>\n",
       "    <tr>\n",
       "      <th>429</th>\n",
       "      <td>8712-1</td>\n",
       "      <td>Technic Figures</td>\n",
       "      <td>Technic</td>\n",
       "      <td>Red</td>\n",
       "      <td>Red</td>\n",
       "      <td>[No Color]</td>\n",
       "      <td>None</td>\n",
       "    </tr>\n",
       "    <tr>\n",
       "      <th>446</th>\n",
       "      <td>3647-1</td>\n",
       "      <td>Lionel Lion's Classroom</td>\n",
       "      <td>Fabuland</td>\n",
       "      <td>Yellow</td>\n",
       "      <td>Yellow</td>\n",
       "      <td>[No Color]</td>\n",
       "      <td>None</td>\n",
       "    </tr>\n",
       "    <tr>\n",
       "      <th>716</th>\n",
       "      <td>8714-1</td>\n",
       "      <td>The LEGO Technic Guys</td>\n",
       "      <td>Technic</td>\n",
       "      <td>Trans-Clear</td>\n",
       "      <td>Transparent</td>\n",
       "      <td>[No Color]</td>\n",
       "      <td>None</td>\n",
       "    </tr>\n",
       "    <tr>\n",
       "      <th>1565</th>\n",
       "      <td>8515-1</td>\n",
       "      <td>RoboRider Wheels</td>\n",
       "      <td>Technic</td>\n",
       "      <td>[No Color]</td>\n",
       "      <td>None</td>\n",
       "      <td>[No Color]</td>\n",
       "      <td>None</td>\n",
       "    </tr>\n",
       "    <tr>\n",
       "      <th>2015</th>\n",
       "      <td>3560-1</td>\n",
       "      <td>NBA Collectors # 1</td>\n",
       "      <td>Sports</td>\n",
       "      <td>Tan</td>\n",
       "      <td>Tan</td>\n",
       "      <td>[No Color]</td>\n",
       "      <td>None</td>\n",
       "    </tr>\n",
       "    <tr>\n",
       "      <th>2017</th>\n",
       "      <td>3562-1</td>\n",
       "      <td>NBA Collectors # 3</td>\n",
       "      <td>Sports</td>\n",
       "      <td>Tan</td>\n",
       "      <td>Tan</td>\n",
       "      <td>[No Color]</td>\n",
       "      <td>None</td>\n",
       "    </tr>\n",
       "    <tr>\n",
       "      <th>2020</th>\n",
       "      <td>3565-1</td>\n",
       "      <td>NBA Collectors # 6</td>\n",
       "      <td>Sports</td>\n",
       "      <td>Tan</td>\n",
       "      <td>Tan</td>\n",
       "      <td>[No Color]</td>\n",
       "      <td>None</td>\n",
       "    </tr>\n",
       "    <tr>\n",
       "      <th>2021</th>\n",
       "      <td>3566-1</td>\n",
       "      <td>NBA Collectors # 7</td>\n",
       "      <td>Sports</td>\n",
       "      <td>Tan</td>\n",
       "      <td>Tan</td>\n",
       "      <td>[No Color]</td>\n",
       "      <td>None</td>\n",
       "    </tr>\n",
       "    <tr>\n",
       "      <th>2723</th>\n",
       "      <td>9847-1</td>\n",
       "      <td>Bluetooth Dongle</td>\n",
       "      <td>Mindstorms</td>\n",
       "      <td>[No Color]</td>\n",
       "      <td>None</td>\n",
       "      <td>[No Color]</td>\n",
       "      <td>None</td>\n",
       "    </tr>\n",
       "    <tr>\n",
       "      <th>3441</th>\n",
       "      <td>2111-1</td>\n",
       "      <td>Kai</td>\n",
       "      <td>Ninjago</td>\n",
       "      <td>Red</td>\n",
       "      <td>Red</td>\n",
       "      <td>[No Color]</td>\n",
       "      <td>None</td>\n",
       "    </tr>\n",
       "    <tr>\n",
       "      <th>3442</th>\n",
       "      <td>2112-1</td>\n",
       "      <td>Cole</td>\n",
       "      <td>Ninjago</td>\n",
       "      <td>[No Color]</td>\n",
       "      <td>None</td>\n",
       "      <td>Reddish Brown</td>\n",
       "      <td>Brown</td>\n",
       "    </tr>\n",
       "    <tr>\n",
       "      <th>3443</th>\n",
       "      <td>2113-1</td>\n",
       "      <td>Zane</td>\n",
       "      <td>Ninjago</td>\n",
       "      <td>White</td>\n",
       "      <td>White</td>\n",
       "      <td>[No Color]</td>\n",
       "      <td>None</td>\n",
       "    </tr>\n",
       "    <tr>\n",
       "      <th>3444</th>\n",
       "      <td>2114-1</td>\n",
       "      <td>Chopov</td>\n",
       "      <td>Ninjago</td>\n",
       "      <td>White</td>\n",
       "      <td>White</td>\n",
       "      <td>[No Color]</td>\n",
       "      <td>None</td>\n",
       "    </tr>\n",
       "    <tr>\n",
       "      <th>3445</th>\n",
       "      <td>2115-1</td>\n",
       "      <td>Bonezai</td>\n",
       "      <td>Ninjago</td>\n",
       "      <td>White</td>\n",
       "      <td>White</td>\n",
       "      <td>[No Color]</td>\n",
       "      <td>None</td>\n",
       "    </tr>\n",
       "    <tr>\n",
       "      <th>3446</th>\n",
       "      <td>2116-1</td>\n",
       "      <td>Krazi</td>\n",
       "      <td>Ninjago</td>\n",
       "      <td>White</td>\n",
       "      <td>White</td>\n",
       "      <td>[No Color]</td>\n",
       "      <td>None</td>\n",
       "    </tr>\n",
       "    <tr>\n",
       "      <th>3452</th>\n",
       "      <td>2170-1</td>\n",
       "      <td>Cole DX</td>\n",
       "      <td>Ninjago</td>\n",
       "      <td>[No Color]</td>\n",
       "      <td>None</td>\n",
       "      <td>Black</td>\n",
       "      <td>Black</td>\n",
       "    </tr>\n",
       "    <tr>\n",
       "      <th>3453</th>\n",
       "      <td>2171-1</td>\n",
       "      <td>Zane DX</td>\n",
       "      <td>Ninjago</td>\n",
       "      <td>White</td>\n",
       "      <td>White</td>\n",
       "      <td>[No Color]</td>\n",
       "      <td>None</td>\n",
       "    </tr>\n",
       "    <tr>\n",
       "      <th>3454</th>\n",
       "      <td>2172-1</td>\n",
       "      <td>Nya</td>\n",
       "      <td>Ninjago</td>\n",
       "      <td>Red</td>\n",
       "      <td>Red</td>\n",
       "      <td>[No Color]</td>\n",
       "      <td>None</td>\n",
       "    </tr>\n",
       "    <tr>\n",
       "      <th>3455</th>\n",
       "      <td>2173-1</td>\n",
       "      <td>Nuckal</td>\n",
       "      <td>Ninjago</td>\n",
       "      <td>White</td>\n",
       "      <td>White</td>\n",
       "      <td>[No Color]</td>\n",
       "      <td>None</td>\n",
       "    </tr>\n",
       "    <tr>\n",
       "      <th>3456</th>\n",
       "      <td>2174-1</td>\n",
       "      <td>Kruncha</td>\n",
       "      <td>Ninjago</td>\n",
       "      <td>White</td>\n",
       "      <td>White</td>\n",
       "      <td>[No Color]</td>\n",
       "      <td>None</td>\n",
       "    </tr>\n",
       "    <tr>\n",
       "      <th>3457</th>\n",
       "      <td>2175-1</td>\n",
       "      <td>Wyplash</td>\n",
       "      <td>Ninjago</td>\n",
       "      <td>White</td>\n",
       "      <td>White</td>\n",
       "      <td>[No Color]</td>\n",
       "      <td>None</td>\n",
       "    </tr>\n",
       "    <tr>\n",
       "      <th>3470</th>\n",
       "      <td>2255-1</td>\n",
       "      <td>Sensei Wu</td>\n",
       "      <td>Ninjago</td>\n",
       "      <td>Pearl Gold</td>\n",
       "      <td>Yellow</td>\n",
       "      <td>[No Color]</td>\n",
       "      <td>None</td>\n",
       "    </tr>\n",
       "    <tr>\n",
       "      <th>3471</th>\n",
       "      <td>2256-1</td>\n",
       "      <td>Lord Garmadon</td>\n",
       "      <td>Ninjago</td>\n",
       "      <td>Black</td>\n",
       "      <td>Black</td>\n",
       "      <td>[No Color]</td>\n",
       "      <td>None</td>\n",
       "    </tr>\n",
       "    <tr>\n",
       "      <th>3824</th>\n",
       "      <td>9552-1</td>\n",
       "      <td>Lloyd Garmadon</td>\n",
       "      <td>Ninjago</td>\n",
       "      <td>Black</td>\n",
       "      <td>Black</td>\n",
       "      <td>[No Color]</td>\n",
       "      <td>None</td>\n",
       "    </tr>\n",
       "    <tr>\n",
       "      <th>3825</th>\n",
       "      <td>9553-1</td>\n",
       "      <td>Jay ZX</td>\n",
       "      <td>Ninjago</td>\n",
       "      <td>[No Color]</td>\n",
       "      <td>None</td>\n",
       "      <td>Blue</td>\n",
       "      <td>Blue</td>\n",
       "    </tr>\n",
       "    <tr>\n",
       "      <th>3828</th>\n",
       "      <td>9556-1</td>\n",
       "      <td>Bytar</td>\n",
       "      <td>Ninjago</td>\n",
       "      <td>Black</td>\n",
       "      <td>Black</td>\n",
       "      <td>[No Color]</td>\n",
       "      <td>None</td>\n",
       "    </tr>\n",
       "    <tr>\n",
       "      <th>3829</th>\n",
       "      <td>9557-1</td>\n",
       "      <td>Lizaru</td>\n",
       "      <td>Ninjago</td>\n",
       "      <td>[No Color]</td>\n",
       "      <td>None</td>\n",
       "      <td>Dark Bluish Gray</td>\n",
       "      <td>Gray</td>\n",
       "    </tr>\n",
       "    <tr>\n",
       "      <th>3831</th>\n",
       "      <td>9561-1</td>\n",
       "      <td>Kai ZX</td>\n",
       "      <td>Ninjago</td>\n",
       "      <td>Red</td>\n",
       "      <td>Red</td>\n",
       "      <td>[No Color]</td>\n",
       "      <td>None</td>\n",
       "    </tr>\n",
       "    <tr>\n",
       "      <th>3832</th>\n",
       "      <td>9562-1</td>\n",
       "      <td>Lasha</td>\n",
       "      <td>Ninjago</td>\n",
       "      <td>Lime</td>\n",
       "      <td>Green</td>\n",
       "      <td>[No Color]</td>\n",
       "      <td>None</td>\n",
       "    </tr>\n",
       "    <tr>\n",
       "      <th>3833</th>\n",
       "      <td>9563-1</td>\n",
       "      <td>Kendo Zane</td>\n",
       "      <td>Ninjago</td>\n",
       "      <td>Black</td>\n",
       "      <td>Black</td>\n",
       "      <td>[No Color]</td>\n",
       "      <td>None</td>\n",
       "    </tr>\n",
       "    <tr>\n",
       "      <th>3834</th>\n",
       "      <td>9564-1</td>\n",
       "      <td>Snappa</td>\n",
       "      <td>Ninjago</td>\n",
       "      <td>White</td>\n",
       "      <td>White</td>\n",
       "      <td>[No Color]</td>\n",
       "      <td>None</td>\n",
       "    </tr>\n",
       "    <tr>\n",
       "      <th>3835</th>\n",
       "      <td>9566-1</td>\n",
       "      <td>Samurai X</td>\n",
       "      <td>Ninjago</td>\n",
       "      <td>Red</td>\n",
       "      <td>Red</td>\n",
       "      <td>[No Color]</td>\n",
       "      <td>None</td>\n",
       "    </tr>\n",
       "    <tr>\n",
       "      <th>3836</th>\n",
       "      <td>9567-1</td>\n",
       "      <td>Fang-Suei</td>\n",
       "      <td>Ninjago</td>\n",
       "      <td>[No Color]</td>\n",
       "      <td>None</td>\n",
       "      <td>White</td>\n",
       "      <td>White</td>\n",
       "    </tr>\n",
       "    <tr>\n",
       "      <th>3837</th>\n",
       "      <td>9569-1</td>\n",
       "      <td>Spitta</td>\n",
       "      <td>Ninjago</td>\n",
       "      <td>[No Color]</td>\n",
       "      <td>None</td>\n",
       "      <td>Lime</td>\n",
       "      <td>Green</td>\n",
       "    </tr>\n",
       "    <tr>\n",
       "      <th>3838</th>\n",
       "      <td>9570-1</td>\n",
       "      <td>NRG Jay</td>\n",
       "      <td>Ninjago</td>\n",
       "      <td>Blue</td>\n",
       "      <td>Blue</td>\n",
       "      <td>[No Color]</td>\n",
       "      <td>None</td>\n",
       "    </tr>\n",
       "    <tr>\n",
       "      <th>3839</th>\n",
       "      <td>9571-1</td>\n",
       "      <td>Fangdam</td>\n",
       "      <td>Ninjago</td>\n",
       "      <td>Pearl Gold</td>\n",
       "      <td>Yellow</td>\n",
       "      <td>[No Color]</td>\n",
       "      <td>None</td>\n",
       "    </tr>\n",
       "    <tr>\n",
       "      <th>3841</th>\n",
       "      <td>9573-1</td>\n",
       "      <td>Slithraa</td>\n",
       "      <td>Ninjago</td>\n",
       "      <td>[No Color]</td>\n",
       "      <td>None</td>\n",
       "      <td>Trans-Dark Blue</td>\n",
       "      <td>Transparent</td>\n",
       "    </tr>\n",
       "    <tr>\n",
       "      <th>3842</th>\n",
       "      <td>9574-1</td>\n",
       "      <td>Lloyd ZX</td>\n",
       "      <td>Ninjago</td>\n",
       "      <td>Green</td>\n",
       "      <td>Green</td>\n",
       "      <td>[No Color]</td>\n",
       "      <td>None</td>\n",
       "    </tr>\n",
       "    <tr>\n",
       "      <th>3844</th>\n",
       "      <td>9590-1</td>\n",
       "      <td>NRG Zane</td>\n",
       "      <td>Ninjago</td>\n",
       "      <td>Pearl Gold</td>\n",
       "      <td>Yellow</td>\n",
       "      <td>[No Color]</td>\n",
       "      <td>None</td>\n",
       "    </tr>\n",
       "  </tbody>\n",
       "</table>\n",
       "</div>"
      ],
      "text/plain": [
       "      set_no                     name       theme    1st_color   scolor_1st  \\\n",
       "429   8712-1          Technic Figures     Technic          Red          Red   \n",
       "446   3647-1  Lionel Lion's Classroom    Fabuland       Yellow       Yellow   \n",
       "716   8714-1    The LEGO Technic Guys     Technic  Trans-Clear  Transparent   \n",
       "1565  8515-1         RoboRider Wheels     Technic   [No Color]         None   \n",
       "2015  3560-1       NBA Collectors # 1      Sports          Tan          Tan   \n",
       "2017  3562-1       NBA Collectors # 3      Sports          Tan          Tan   \n",
       "2020  3565-1       NBA Collectors # 6      Sports          Tan          Tan   \n",
       "2021  3566-1       NBA Collectors # 7      Sports          Tan          Tan   \n",
       "2723  9847-1         Bluetooth Dongle  Mindstorms   [No Color]         None   \n",
       "3441  2111-1                      Kai     Ninjago          Red          Red   \n",
       "3442  2112-1                     Cole     Ninjago   [No Color]         None   \n",
       "3443  2113-1                     Zane     Ninjago        White        White   \n",
       "3444  2114-1                   Chopov     Ninjago        White        White   \n",
       "3445  2115-1                  Bonezai     Ninjago        White        White   \n",
       "3446  2116-1                    Krazi     Ninjago        White        White   \n",
       "3452  2170-1                  Cole DX     Ninjago   [No Color]         None   \n",
       "3453  2171-1                  Zane DX     Ninjago        White        White   \n",
       "3454  2172-1                      Nya     Ninjago          Red          Red   \n",
       "3455  2173-1                   Nuckal     Ninjago        White        White   \n",
       "3456  2174-1                  Kruncha     Ninjago        White        White   \n",
       "3457  2175-1                  Wyplash     Ninjago        White        White   \n",
       "3470  2255-1                Sensei Wu     Ninjago   Pearl Gold       Yellow   \n",
       "3471  2256-1            Lord Garmadon     Ninjago        Black        Black   \n",
       "3824  9552-1           Lloyd Garmadon     Ninjago        Black        Black   \n",
       "3825  9553-1                   Jay ZX     Ninjago   [No Color]         None   \n",
       "3828  9556-1                    Bytar     Ninjago        Black        Black   \n",
       "3829  9557-1                   Lizaru     Ninjago   [No Color]         None   \n",
       "3831  9561-1                   Kai ZX     Ninjago          Red          Red   \n",
       "3832  9562-1                    Lasha     Ninjago         Lime        Green   \n",
       "3833  9563-1               Kendo Zane     Ninjago        Black        Black   \n",
       "3834  9564-1                   Snappa     Ninjago        White        White   \n",
       "3835  9566-1                Samurai X     Ninjago          Red          Red   \n",
       "3836  9567-1                Fang-Suei     Ninjago   [No Color]         None   \n",
       "3837  9569-1                   Spitta     Ninjago   [No Color]         None   \n",
       "3838  9570-1                  NRG Jay     Ninjago         Blue         Blue   \n",
       "3839  9571-1                  Fangdam     Ninjago   Pearl Gold       Yellow   \n",
       "3841  9573-1                 Slithraa     Ninjago   [No Color]         None   \n",
       "3842  9574-1                 Lloyd ZX     Ninjago        Green        Green   \n",
       "3844  9590-1                 NRG Zane     Ninjago   Pearl Gold       Yellow   \n",
       "\n",
       "             2nd_color   scolor_2nd  \n",
       "429         [No Color]         None  \n",
       "446         [No Color]         None  \n",
       "716         [No Color]         None  \n",
       "1565        [No Color]         None  \n",
       "2015        [No Color]         None  \n",
       "2017        [No Color]         None  \n",
       "2020        [No Color]         None  \n",
       "2021        [No Color]         None  \n",
       "2723        [No Color]         None  \n",
       "3441        [No Color]         None  \n",
       "3442     Reddish Brown        Brown  \n",
       "3443        [No Color]         None  \n",
       "3444        [No Color]         None  \n",
       "3445        [No Color]         None  \n",
       "3446        [No Color]         None  \n",
       "3452             Black        Black  \n",
       "3453        [No Color]         None  \n",
       "3454        [No Color]         None  \n",
       "3455        [No Color]         None  \n",
       "3456        [No Color]         None  \n",
       "3457        [No Color]         None  \n",
       "3470        [No Color]         None  \n",
       "3471        [No Color]         None  \n",
       "3824        [No Color]         None  \n",
       "3825              Blue         Blue  \n",
       "3828        [No Color]         None  \n",
       "3829  Dark Bluish Gray         Gray  \n",
       "3831        [No Color]         None  \n",
       "3832        [No Color]         None  \n",
       "3833        [No Color]         None  \n",
       "3834        [No Color]         None  \n",
       "3835        [No Color]         None  \n",
       "3836             White        White  \n",
       "3837              Lime        Green  \n",
       "3838        [No Color]         None  \n",
       "3839        [No Color]         None  \n",
       "3841   Trans-Dark Blue  Transparent  \n",
       "3842        [No Color]         None  \n",
       "3844        [No Color]         None  "
      ]
     },
     "execution_count": 15,
     "metadata": {},
     "output_type": "execute_result"
    }
   ],
   "source": [
    "# check for any remaining gaps \n",
    "\n",
    "set_df.loc[ (set_df['scolor_1st'].isna()) | (set_df['scolor_2nd'].isna()), \n",
    "            ['set_no', 'name', 'theme', '1st_color', 'scolor_1st', '2nd_color', 'scolor_2nd'] ]"
   ]
  },
  {
   "cell_type": "code",
   "execution_count": 16,
   "metadata": {},
   "outputs": [
    {
     "data": {
      "text/plain": [
       "(2, 23)"
      ]
     },
     "execution_count": 16,
     "metadata": {},
     "output_type": "execute_result"
    }
   ],
   "source": [
    "# fix secondary colors by assigning primary color\n",
    "\n",
    "set_df['scolor_2nd'] = set_df['scolor_2nd'].fillna(set_df['scolor_1st'])\n",
    "set_df.loc[(set_df['scolor_2nd'].isna())].shape"
   ]
  },
  {
   "cell_type": "code",
   "execution_count": 17,
   "metadata": {},
   "outputs": [
    {
     "data": {
      "text/plain": [
       "Black          2037\n",
       "Gray           1026\n",
       "White           869\n",
       "Red             365\n",
       "Yellow          300\n",
       "Blue            240\n",
       "Brown           139\n",
       "Green           133\n",
       "Tan             110\n",
       "Transparent      75\n",
       "Name: scolor_1st, dtype: int64"
      ]
     },
     "execution_count": 17,
     "metadata": {},
     "output_type": "execute_result"
    }
   ],
   "source": [
    "set_df['scolor_1st'].value_counts()"
   ]
  },
  {
   "cell_type": "markdown",
   "metadata": {},
   "source": [
    "## Introduce Popularity"
   ]
  },
  {
   "cell_type": "code",
   "execution_count": 18,
   "metadata": {
    "scrolled": true
   },
   "outputs": [
    {
     "data": {
      "text/plain": [
       "0     9.0\n",
       "1     NaN\n",
       "2    19.2\n",
       "3     5.0\n",
       "4     3.0\n",
       "Name: popularity, dtype: float64"
      ]
     },
     "execution_count": 18,
     "metadata": {},
     "output_type": "execute_result"
    }
   ],
   "source": [
    "# popularity is a new feature for ratings\n",
    "\n",
    "set_df['popularity'] = set_df['rating_value'] * set_df['rating_votes']\n",
    "set_df['popularity'].head()"
   ]
  },
  {
   "cell_type": "code",
   "execution_count": 19,
   "metadata": {},
   "outputs": [
    {
     "data": {
      "text/plain": [
       "(4560, 24)"
      ]
     },
     "execution_count": 19,
     "metadata": {},
     "output_type": "execute_result"
    }
   ],
   "source": [
    "# visualize the popularity\n",
    "\n",
    "popularity_df = set_df.loc[set_df['popularity'].isna()==False]\n",
    "popularity_df.shape"
   ]
  },
  {
   "cell_type": "code",
   "execution_count": 20,
   "metadata": {},
   "outputs": [
    {
     "data": {
      "image/png": "[encoded data removed]",
      "text/plain": [
       "<Figure size 1008x432 with 1 Axes>"
      ]
     },
     "metadata": {
      "needs_background": "light"
     },
     "output_type": "display_data"
    }
   ],
   "source": [
    "fig, axs = plt.subplots(1, 1, figsize=(14, 6))\n",
    "\n",
    "axs.hist(popularity_df['popularity'].values, bins=200, color='orange')\n",
    "axs.set(xlabel='Popularity', ylabel='Total of Sets', xlim=(0, 100))  \n",
    "\n",
    "plt.show()"
   ]
  },
  {
   "cell_type": "markdown",
   "metadata": {},
   "source": [
    "## Introduce AfterMarket"
   ]
  },
  {
   "cell_type": "code",
   "execution_count": 21,
   "metadata": {},
   "outputs": [
    {
     "data": {
      "text/html": [
       "<div>\n",
       "<style scoped>\n",
       "    .dataframe tbody tr th:only-of-type {\n",
       "        vertical-align: middle;\n",
       "    }\n",
       "\n",
       "    .dataframe tbody tr th {\n",
       "        vertical-align: top;\n",
       "    }\n",
       "\n",
       "    .dataframe thead th {\n",
       "        text-align: right;\n",
       "    }\n",
       "</style>\n",
       "<table border=\"1\" class=\"dataframe\">\n",
       "  <thead>\n",
       "    <tr style=\"text-align: right;\">\n",
       "      <th></th>\n",
       "      <th>set_no</th>\n",
       "      <th>name</th>\n",
       "      <th>price_used</th>\n",
       "      <th>price_store</th>\n",
       "      <th>aftermarket</th>\n",
       "    </tr>\n",
       "  </thead>\n",
       "  <tbody>\n",
       "    <tr>\n",
       "      <th>0</th>\n",
       "      <td>858-1</td>\n",
       "      <td>Auto Engines</td>\n",
       "      <td>51.0</td>\n",
       "      <td>NaN</td>\n",
       "      <td>NaN</td>\n",
       "    </tr>\n",
       "    <tr>\n",
       "      <th>1</th>\n",
       "      <td>1591-1</td>\n",
       "      <td>Danone Delivery Truck</td>\n",
       "      <td>28.0</td>\n",
       "      <td>NaN</td>\n",
       "      <td>NaN</td>\n",
       "    </tr>\n",
       "    <tr>\n",
       "      <th>2</th>\n",
       "      <td>1592-1</td>\n",
       "      <td>Town Square - Castle Scene</td>\n",
       "      <td>191.0</td>\n",
       "      <td>NaN</td>\n",
       "      <td>NaN</td>\n",
       "    </tr>\n",
       "    <tr>\n",
       "      <th>3</th>\n",
       "      <td>1651-2</td>\n",
       "      <td>Maersk Line Container Lorry</td>\n",
       "      <td>444.0</td>\n",
       "      <td>NaN</td>\n",
       "      <td>NaN</td>\n",
       "    </tr>\n",
       "    <tr>\n",
       "      <th>4</th>\n",
       "      <td>3634-1</td>\n",
       "      <td>Charlie Crow's Carry-All</td>\n",
       "      <td>13.0</td>\n",
       "      <td>NaN</td>\n",
       "      <td>NaN</td>\n",
       "    </tr>\n",
       "  </tbody>\n",
       "</table>\n",
       "</div>"
      ],
      "text/plain": [
       "   set_no                         name  price_used  price_store  aftermarket\n",
       "0   858-1                 Auto Engines        51.0          NaN          NaN\n",
       "1  1591-1        Danone Delivery Truck        28.0          NaN          NaN\n",
       "2  1592-1   Town Square - Castle Scene       191.0          NaN          NaN\n",
       "3  1651-2  Maersk Line Container Lorry       444.0          NaN          NaN\n",
       "4  3634-1     Charlie Crow's Carry-All        13.0          NaN          NaN"
      ]
     },
     "execution_count": 21,
     "metadata": {},
     "output_type": "execute_result"
    }
   ],
   "source": [
    "# create aftermarket column \n",
    "\n",
    "set_df['aftermarket'] = set_df.apply(lh.get_aftermarket, axis=1)\n",
    "set_df[['set_no', 'name', 'price_used', 'price_store', 'aftermarket']].head()"
   ]
  },
  {
   "cell_type": "code",
   "execution_count": 22,
   "metadata": {},
   "outputs": [
    {
     "data": {
      "image/png": "[encoded data removed]",
      "text/plain": [
       "<Figure size 720x432 with 1 Axes>"
      ]
     },
     "metadata": {},
     "output_type": "display_data"
    }
   ],
   "source": [
    "fig, axs = plt.subplots(1, 1, figsize=(10, 6), facecolor='white')\n",
    "\n",
    "axs.hist(set_df.loc[set_df['aftermarket'].isna()==False]['aftermarket'].values, bins=200, color='green')\n",
    "axs.set(xlabel='After-Market Value $', ylabel='Total of Sets', xlim=(-200, 200))  \n",
    "\n",
    "plt.show()"
   ]
  },
  {
   "cell_type": "code",
   "execution_count": 23,
   "metadata": {},
   "outputs": [
    {
     "data": {
      "text/plain": [
       "year\n",
       "1980.0     58\n",
       "1981.0     34\n",
       "1982.0     29\n",
       "1983.0     39\n",
       "1984.0     43\n",
       "1985.0     61\n",
       "1986.0     64\n",
       "1987.0     55\n",
       "1988.0     51\n",
       "1989.0     57\n",
       "1990.0     49\n",
       "1991.0     64\n",
       "1992.0     54\n",
       "1993.0     63\n",
       "1994.0     71\n",
       "1995.0     57\n",
       "1996.0     87\n",
       "1997.0    113\n",
       "1998.0    176\n",
       "1999.0    180\n",
       "2000.0    167\n",
       "2001.0    210\n",
       "2002.0    198\n",
       "2003.0    228\n",
       "2004.0    191\n",
       "2005.0    156\n",
       "2006.0    174\n",
       "2007.0    158\n",
       "2008.0    191\n",
       "2009.0    165\n",
       "2010.0    194\n",
       "2011.0    217\n",
       "2012.0    246\n",
       "2013.0    257\n",
       "2014.0    307\n",
       "2015.0    302\n",
       "2016.0    316\n",
       "2017.0    221\n",
       "Name: set_no, dtype: int64"
      ]
     },
     "execution_count": 23,
     "metadata": {},
     "output_type": "execute_result"
    }
   ],
   "source": [
    "# compare positive and negative aftermarket per year\n",
    "\n",
    "set_df.groupby(['year']).count()['set_no']"
   ]
  },
  {
   "cell_type": "code",
   "execution_count": 24,
   "metadata": {},
   "outputs": [
    {
     "data": {
      "text/plain": [
       "(1868, 25)"
      ]
     },
     "execution_count": 24,
     "metadata": {},
     "output_type": "execute_result"
    }
   ],
   "source": [
    "increase_df = set_df.loc[set_df['aftermarket']>0]\n",
    "\n",
    "increase_df.shape"
   ]
  },
  {
   "cell_type": "code",
   "execution_count": 25,
   "metadata": {},
   "outputs": [
    {
     "data": {
      "text/plain": [
       "(2167, 25)"
      ]
     },
     "execution_count": 25,
     "metadata": {},
     "output_type": "execute_result"
    }
   ],
   "source": [
    "decrease_df = set_df.loc[set_df['aftermarket']<=0]\n",
    "\n",
    "decrease_df.shape"
   ]
  },
  {
   "cell_type": "code",
   "execution_count": 26,
   "metadata": {},
   "outputs": [
    {
     "data": {
      "image/png": "[encoded data removed]",
      "text/plain": [
       "<Figure size 864x576 with 2 Axes>"
      ]
     },
     "metadata": {
      "needs_background": "light"
     },
     "output_type": "display_data"
    }
   ],
   "source": [
    "fig, axs = plt.subplots(2, 1, figsize=(12, 8))\n",
    "\n",
    "axs[0].hist(increase_df['year'].values, bins=increase_df['year'].unique().shape[0])\n",
    "axs[0].set(xlabel='Year', ylabel='No Sets', xlim=(1980, 2018), ylim=(0, 300))\n",
    "\n",
    "axs[1].hist(decrease_df['year'].values, bins=decrease_df['year'].unique().shape[0])\n",
    "axs[1].set(xlabel='Year', ylabel='No Sets', xlim=(1980, 2018), ylim=(0, 300))\n",
    "axs[1].set_ylim(axs[1].get_ylim()[::-1])\n",
    "\n",
    "plt.show()"
   ]
  },
  {
   "cell_type": "markdown",
   "metadata": {},
   "source": [
    "## Clean the Features Dataset"
   ]
  },
  {
   "cell_type": "code",
   "execution_count": 27,
   "metadata": {},
   "outputs": [
    {
     "name": "stdout",
     "output_type": "stream",
     "text": [
      "<class 'pandas.core.frame.DataFrame'>\n",
      "RangeIndex: 5303 entries, 0 to 5302\n",
      "Data columns (total 25 columns):\n",
      "set_no           5303 non-null object\n",
      "name             5303 non-null object\n",
      "price_store      4178 non-null float64\n",
      "price_new        5003 non-null float64\n",
      "price_used       4972 non-null float64\n",
      "rating_value     4560 non-null float64\n",
      "rating_votes     4560 non-null float64\n",
      "theme_group      5303 non-null object\n",
      "theme            5303 non-null object\n",
      "subtheme         3915 non-null object\n",
      "main_tag         0 non-null float64\n",
      "year             5303 non-null float64\n",
      "volume           2143 non-null float64\n",
      "weight           2154 non-null float64\n",
      "piece_cnt        5296 non-null float64\n",
      "minifig_cnt      5303 non-null float64\n",
      "number_parts     5303 non-null int64\n",
      "total_parts      5303 non-null int64\n",
      "number_colors    5303 non-null int64\n",
      "1st_color        5303 non-null object\n",
      "2nd_color        5303 non-null object\n",
      "scolor_1st       5294 non-null object\n",
      "scolor_2nd       5301 non-null object\n",
      "popularity       4560 non-null float64\n",
      "aftermarket      4035 non-null float64\n",
      "dtypes: float64(13), int64(3), object(9)\n",
      "memory usage: 1.0+ MB\n"
     ]
    }
   ],
   "source": [
    "set_df.info()"
   ]
  },
  {
   "cell_type": "code",
   "execution_count": 28,
   "metadata": {},
   "outputs": [
    {
     "data": {
      "text/html": [
       "<div>\n",
       "<style scoped>\n",
       "    .dataframe tbody tr th:only-of-type {\n",
       "        vertical-align: middle;\n",
       "    }\n",
       "\n",
       "    .dataframe tbody tr th {\n",
       "        vertical-align: top;\n",
       "    }\n",
       "\n",
       "    .dataframe thead th {\n",
       "        text-align: right;\n",
       "    }\n",
       "</style>\n",
       "<table border=\"1\" class=\"dataframe\">\n",
       "  <thead>\n",
       "    <tr style=\"text-align: right;\">\n",
       "      <th></th>\n",
       "      <th>set_no</th>\n",
       "      <th>name</th>\n",
       "      <th>price_store</th>\n",
       "      <th>price_used</th>\n",
       "      <th>aftermarket</th>\n",
       "      <th>popularity</th>\n",
       "      <th>group</th>\n",
       "      <th>year</th>\n",
       "      <th>volume</th>\n",
       "      <th>weight</th>\n",
       "      <th>total_parts</th>\n",
       "      <th>number_parts</th>\n",
       "      <th>number_colors</th>\n",
       "      <th>scolor_1st</th>\n",
       "      <th>scolor_2nd</th>\n",
       "    </tr>\n",
       "  </thead>\n",
       "  <tbody>\n",
       "    <tr>\n",
       "      <th>2200</th>\n",
       "      <td>10029-1</td>\n",
       "      <td>Lunar Lander</td>\n",
       "      <td>40.0</td>\n",
       "      <td>236.0</td>\n",
       "      <td>196.0</td>\n",
       "      <td>12.9</td>\n",
       "      <td>Modern day</td>\n",
       "      <td>2003.0</td>\n",
       "      <td>NaN</td>\n",
       "      <td>NaN</td>\n",
       "      <td>476</td>\n",
       "      <td>133</td>\n",
       "      <td>12</td>\n",
       "      <td>Gray</td>\n",
       "      <td>Tan</td>\n",
       "    </tr>\n",
       "    <tr>\n",
       "      <th>2201</th>\n",
       "      <td>10041-1</td>\n",
       "      <td>Main Street</td>\n",
       "      <td>65.0</td>\n",
       "      <td>98.0</td>\n",
       "      <td>33.0</td>\n",
       "      <td>44.0</td>\n",
       "      <td>Modern day</td>\n",
       "      <td>2003.0</td>\n",
       "      <td>NaN</td>\n",
       "      <td>NaN</td>\n",
       "      <td>649</td>\n",
       "      <td>161</td>\n",
       "      <td>11</td>\n",
       "      <td>Red</td>\n",
       "      <td>White</td>\n",
       "    </tr>\n",
       "    <tr>\n",
       "      <th>2202</th>\n",
       "      <td>10121-1</td>\n",
       "      <td>NBA Basketball Teams</td>\n",
       "      <td>10.0</td>\n",
       "      <td>NaN</td>\n",
       "      <td>NaN</td>\n",
       "      <td>NaN</td>\n",
       "      <td>Modern day</td>\n",
       "      <td>2003.0</td>\n",
       "      <td>NaN</td>\n",
       "      <td>NaN</td>\n",
       "      <td>16</td>\n",
       "      <td>8</td>\n",
       "      <td>3</td>\n",
       "      <td>White</td>\n",
       "      <td>Yellow</td>\n",
       "    </tr>\n",
       "    <tr>\n",
       "      <th>2203</th>\n",
       "      <td>10123-1</td>\n",
       "      <td>Cloud City</td>\n",
       "      <td>100.0</td>\n",
       "      <td>778.0</td>\n",
       "      <td>678.0</td>\n",
       "      <td>70.5</td>\n",
       "      <td>Licensed</td>\n",
       "      <td>2003.0</td>\n",
       "      <td>NaN</td>\n",
       "      <td>NaN</td>\n",
       "      <td>722</td>\n",
       "      <td>224</td>\n",
       "      <td>18</td>\n",
       "      <td>Gray</td>\n",
       "      <td>Gray</td>\n",
       "    </tr>\n",
       "    <tr>\n",
       "      <th>2204</th>\n",
       "      <td>10124-1</td>\n",
       "      <td>Wright Flyer</td>\n",
       "      <td>60.0</td>\n",
       "      <td>204.0</td>\n",
       "      <td>144.0</td>\n",
       "      <td>15.2</td>\n",
       "      <td>Model making</td>\n",
       "      <td>2003.0</td>\n",
       "      <td>NaN</td>\n",
       "      <td>NaN</td>\n",
       "      <td>677</td>\n",
       "      <td>125</td>\n",
       "      <td>5</td>\n",
       "      <td>Brown</td>\n",
       "      <td>Black</td>\n",
       "    </tr>\n",
       "  </tbody>\n",
       "</table>\n",
       "</div>"
      ],
      "text/plain": [
       "       set_no                  name  price_store  price_used  aftermarket  \\\n",
       "2200  10029-1          Lunar Lander         40.0       236.0        196.0   \n",
       "2201  10041-1           Main Street         65.0        98.0         33.0   \n",
       "2202  10121-1  NBA Basketball Teams         10.0         NaN          NaN   \n",
       "2203  10123-1            Cloud City        100.0       778.0        678.0   \n",
       "2204  10124-1          Wright Flyer         60.0       204.0        144.0   \n",
       "\n",
       "      popularity         group    year  volume  weight  total_parts  \\\n",
       "2200        12.9    Modern day  2003.0     NaN     NaN          476   \n",
       "2201        44.0    Modern day  2003.0     NaN     NaN          649   \n",
       "2202         NaN    Modern day  2003.0     NaN     NaN           16   \n",
       "2203        70.5      Licensed  2003.0     NaN     NaN          722   \n",
       "2204        15.2  Model making  2003.0     NaN     NaN          677   \n",
       "\n",
       "      number_parts  number_colors scolor_1st scolor_2nd  \n",
       "2200           133             12       Gray        Tan  \n",
       "2201           161             11        Red      White  \n",
       "2202             8              3      White     Yellow  \n",
       "2203           224             18       Gray       Gray  \n",
       "2204           125              5      Brown      Black  "
      ]
     },
     "execution_count": 28,
     "metadata": {},
     "output_type": "execute_result"
    }
   ],
   "source": [
    "set_clean_df = set_df[['set_no', 'name', \n",
    "                       'price_store', 'price_used', 'aftermarket', 'popularity', \n",
    "                       'theme_group', 'year', 'volume', 'weight', 'total_parts', 'number_parts', \n",
    "                       'number_colors', 'scolor_1st', 'scolor_2nd']]\n",
    "set_clean_df = set_clean_df.rename(columns={'theme_group': 'group'})\n",
    "set_clean_df[2200:2205]"
   ]
  },
  {
   "cell_type": "code",
   "execution_count": 29,
   "metadata": {
    "scrolled": true
   },
   "outputs": [
    {
     "name": "stdout",
     "output_type": "stream",
     "text": [
      "<class 'pandas.core.frame.DataFrame'>\n",
      "RangeIndex: 5303 entries, 0 to 5302\n",
      "Data columns (total 15 columns):\n",
      "set_no           5303 non-null object\n",
      "name             5303 non-null object\n",
      "price_store      4178 non-null float64\n",
      "price_used       4972 non-null float64\n",
      "aftermarket      4035 non-null float64\n",
      "popularity       4560 non-null float64\n",
      "group            5303 non-null object\n",
      "year             5303 non-null float64\n",
      "volume           2143 non-null float64\n",
      "weight           2154 non-null float64\n",
      "total_parts      5303 non-null int64\n",
      "number_parts     5303 non-null int64\n",
      "number_colors    5303 non-null int64\n",
      "scolor_1st       5294 non-null object\n",
      "scolor_2nd       5301 non-null object\n",
      "dtypes: float64(7), int64(3), object(5)\n",
      "memory usage: 621.5+ KB\n"
     ]
    }
   ],
   "source": [
    "set_clean_df.info()"
   ]
  },
  {
   "cell_type": "code",
   "execution_count": 30,
   "metadata": {},
   "outputs": [
    {
     "data": {
      "text/plain": [
       "'0.51 mb'"
      ]
     },
     "execution_count": 30,
     "metadata": {},
     "output_type": "execute_result"
    }
   ],
   "source": [
    "save_path = r'../data/merge_feature.csv'\n",
    "set_clean_df.to_csv(save_path, index=False)\n",
    "f'{round(os.path.getsize(save_path) /1e6, 2)} mb'"
   ]
  }
 ],
 "metadata": {
  "kernelspec": {
   "display_name": "Python 3",
   "language": "python",
   "name": "python3"
  },
  "language_info": {
   "codemirror_mode": {
    "name": "ipython",
    "version": 3
   },
   "file_extension": ".py",
   "mimetype": "text/x-python",
   "name": "python",
   "nbconvert_exporter": "python",
   "pygments_lexer": "ipython3",
   "version": "3.7.3"
  }
 },
 "nbformat": 4,
 "nbformat_minor": 2
}
