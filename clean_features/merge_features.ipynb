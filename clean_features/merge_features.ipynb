{
 "cells": [
  {
   "cell_type": "markdown",
   "metadata": {},
   "source": [
    "# Feature Engineering\n",
    "\n",
    "Workflow: 4\n",
    "\n",
    "Goal: Create new composite features for analysis.\n",
    "\n",
    "Result: Outputs the file ```merge_feature.csv```."
   ]
  },
  {
   "cell_type": "code",
   "execution_count": 1,
   "metadata": {
    "ExecuteTime": {
     "end_time": "2019-11-06T16:12:37.022451Z",
     "start_time": "2019-11-06T16:12:35.641988Z"
    }
   },
   "outputs": [],
   "source": [
    "import os\n",
    "import pandas as pd\n",
    "import numpy as np\n",
    "import matplotlib.pyplot as plt\n",
    "%matplotlib inline\n",
    "import seaborn as sns"
   ]
  },
  {
   "cell_type": "code",
   "execution_count": 2,
   "metadata": {
    "ExecuteTime": {
     "end_time": "2019-11-06T16:12:37.032425Z",
     "start_time": "2019-11-06T16:12:37.027438Z"
    }
   },
   "outputs": [],
   "source": [
    "from IPython.core.interactiveshell import InteractiveShell\n",
    "InteractiveShell.ast_node_interactivity = 'all'"
   ]
  },
  {
   "cell_type": "code",
   "execution_count": 3,
   "metadata": {
    "ExecuteTime": {
     "end_time": "2019-11-06T16:12:37.590755Z",
     "start_time": "2019-11-06T16:12:37.035427Z"
    }
   },
   "outputs": [],
   "source": [
    "%load_ext autoreload\n",
    "%autoreload 2         # reload custom py file eveytime a new cell is run\n",
    "\n",
    "import sys\n",
    "sys.path.append('../')\n",
    "import lego_helper as lh"
   ]
  },
  {
   "cell_type": "markdown",
   "metadata": {},
   "source": [
    "## Import Data"
   ]
  },
  {
   "cell_type": "code",
   "execution_count": 4,
   "metadata": {
    "ExecuteTime": {
     "end_time": "2019-11-06T16:12:37.602724Z",
     "start_time": "2019-11-06T16:12:37.595742Z"
    }
   },
   "outputs": [],
   "source": [
    "MERGE_FILE = '../data/merge_full.csv'"
   ]
  },
  {
   "cell_type": "code",
   "execution_count": 5,
   "metadata": {
    "ExecuteTime": {
     "end_time": "2019-11-06T16:12:37.788228Z",
     "start_time": "2019-11-06T16:12:37.614692Z"
    },
    "scrolled": true
   },
   "outputs": [
    {
     "data": {
      "text/html": [
       "<div>\n",
       "<style scoped>\n",
       "    .dataframe tbody tr th:only-of-type {\n",
       "        vertical-align: middle;\n",
       "    }\n",
       "\n",
       "    .dataframe tbody tr th {\n",
       "        vertical-align: top;\n",
       "    }\n",
       "\n",
       "    .dataframe thead th {\n",
       "        text-align: right;\n",
       "    }\n",
       "</style>\n",
       "<table border=\"1\" class=\"dataframe\">\n",
       "  <thead>\n",
       "    <tr style=\"text-align: right;\">\n",
       "      <th></th>\n",
       "      <th>set_no</th>\n",
       "      <th>name</th>\n",
       "      <th>price_store</th>\n",
       "      <th>price_new</th>\n",
       "      <th>price_used</th>\n",
       "      <th>rating_value</th>\n",
       "      <th>rating_votes</th>\n",
       "      <th>theme_group</th>\n",
       "      <th>theme</th>\n",
       "      <th>subtheme</th>\n",
       "      <th>...</th>\n",
       "      <th>tiles_printed_tot_prts</th>\n",
       "      <th>tiles_special_tot_prts</th>\n",
       "      <th>tools_tot_prts</th>\n",
       "      <th>transportation_-_land_tot_prts</th>\n",
       "      <th>transportation_-_sea_and_air_tot_prts</th>\n",
       "      <th>tubes_and_hoses_tot_prts</th>\n",
       "      <th>wheels_and_tyres_tot_prts</th>\n",
       "      <th>windows_and_doors_tot_prts</th>\n",
       "      <th>windscreens_and_fuselage_tot_prts</th>\n",
       "      <th>znap_tot_prts</th>\n",
       "    </tr>\n",
       "  </thead>\n",
       "  <tbody>\n",
       "    <tr>\n",
       "      <th>0</th>\n",
       "      <td>858-1</td>\n",
       "      <td>Auto Engines</td>\n",
       "      <td>NaN</td>\n",
       "      <td>NaN</td>\n",
       "      <td>51.0</td>\n",
       "      <td>4.5</td>\n",
       "      <td>2.0</td>\n",
       "      <td>Technical</td>\n",
       "      <td>Technic</td>\n",
       "      <td>NaN</td>\n",
       "      <td>...</td>\n",
       "      <td>0</td>\n",
       "      <td>0</td>\n",
       "      <td>0</td>\n",
       "      <td>0</td>\n",
       "      <td>0</td>\n",
       "      <td>6</td>\n",
       "      <td>2</td>\n",
       "      <td>0</td>\n",
       "      <td>0</td>\n",
       "      <td>0</td>\n",
       "    </tr>\n",
       "    <tr>\n",
       "      <th>1</th>\n",
       "      <td>1591-1</td>\n",
       "      <td>Danone Delivery Truck</td>\n",
       "      <td>NaN</td>\n",
       "      <td>129.0</td>\n",
       "      <td>28.0</td>\n",
       "      <td>NaN</td>\n",
       "      <td>NaN</td>\n",
       "      <td>Modern day</td>\n",
       "      <td>Town</td>\n",
       "      <td>Special</td>\n",
       "      <td>...</td>\n",
       "      <td>0</td>\n",
       "      <td>0</td>\n",
       "      <td>0</td>\n",
       "      <td>2</td>\n",
       "      <td>0</td>\n",
       "      <td>0</td>\n",
       "      <td>6</td>\n",
       "      <td>2</td>\n",
       "      <td>1</td>\n",
       "      <td>0</td>\n",
       "    </tr>\n",
       "    <tr>\n",
       "      <th>2</th>\n",
       "      <td>1592-1</td>\n",
       "      <td>Town Square - Castle Scene</td>\n",
       "      <td>NaN</td>\n",
       "      <td>1168.0</td>\n",
       "      <td>191.0</td>\n",
       "      <td>4.8</td>\n",
       "      <td>4.0</td>\n",
       "      <td>Modern day</td>\n",
       "      <td>Town</td>\n",
       "      <td>Classic</td>\n",
       "      <td>...</td>\n",
       "      <td>0</td>\n",
       "      <td>0</td>\n",
       "      <td>0</td>\n",
       "      <td>6</td>\n",
       "      <td>0</td>\n",
       "      <td>0</td>\n",
       "      <td>12</td>\n",
       "      <td>14</td>\n",
       "      <td>0</td>\n",
       "      <td>0</td>\n",
       "    </tr>\n",
       "    <tr>\n",
       "      <th>3</th>\n",
       "      <td>1651-2</td>\n",
       "      <td>Maersk Line Container Lorry</td>\n",
       "      <td>NaN</td>\n",
       "      <td>NaN</td>\n",
       "      <td>444.0</td>\n",
       "      <td>5.0</td>\n",
       "      <td>1.0</td>\n",
       "      <td>Modern day</td>\n",
       "      <td>Town</td>\n",
       "      <td>Special</td>\n",
       "      <td>...</td>\n",
       "      <td>0</td>\n",
       "      <td>0</td>\n",
       "      <td>0</td>\n",
       "      <td>7</td>\n",
       "      <td>0</td>\n",
       "      <td>0</td>\n",
       "      <td>28</td>\n",
       "      <td>7</td>\n",
       "      <td>1</td>\n",
       "      <td>0</td>\n",
       "    </tr>\n",
       "    <tr>\n",
       "      <th>4</th>\n",
       "      <td>3634-1</td>\n",
       "      <td>Charlie Crow's Carry-All</td>\n",
       "      <td>NaN</td>\n",
       "      <td>90.0</td>\n",
       "      <td>13.0</td>\n",
       "      <td>3.0</td>\n",
       "      <td>1.0</td>\n",
       "      <td>Junior</td>\n",
       "      <td>Fabuland</td>\n",
       "      <td>NaN</td>\n",
       "      <td>...</td>\n",
       "      <td>0</td>\n",
       "      <td>0</td>\n",
       "      <td>0</td>\n",
       "      <td>2</td>\n",
       "      <td>0</td>\n",
       "      <td>0</td>\n",
       "      <td>0</td>\n",
       "      <td>3</td>\n",
       "      <td>0</td>\n",
       "      <td>0</td>\n",
       "    </tr>\n",
       "  </tbody>\n",
       "</table>\n",
       "<p>5 rows × 136 columns</p>\n",
       "</div>"
      ],
      "text/plain": [
       "   set_no                         name  price_store  price_new  price_used  \\\n",
       "0   858-1                 Auto Engines          NaN        NaN        51.0   \n",
       "1  1591-1        Danone Delivery Truck          NaN      129.0        28.0   \n",
       "2  1592-1   Town Square - Castle Scene          NaN     1168.0       191.0   \n",
       "3  1651-2  Maersk Line Container Lorry          NaN        NaN       444.0   \n",
       "4  3634-1     Charlie Crow's Carry-All          NaN       90.0        13.0   \n",
       "\n",
       "   rating_value  rating_votes theme_group     theme subtheme  ...  \\\n",
       "0           4.5           2.0   Technical   Technic      NaN  ...   \n",
       "1           NaN           NaN  Modern day      Town  Special  ...   \n",
       "2           4.8           4.0  Modern day      Town  Classic  ...   \n",
       "3           5.0           1.0  Modern day      Town  Special  ...   \n",
       "4           3.0           1.0      Junior  Fabuland      NaN  ...   \n",
       "\n",
       "   tiles_printed_tot_prts  tiles_special_tot_prts  tools_tot_prts  \\\n",
       "0                       0                       0               0   \n",
       "1                       0                       0               0   \n",
       "2                       0                       0               0   \n",
       "3                       0                       0               0   \n",
       "4                       0                       0               0   \n",
       "\n",
       "   transportation_-_land_tot_prts  transportation_-_sea_and_air_tot_prts  \\\n",
       "0                               0                                      0   \n",
       "1                               2                                      0   \n",
       "2                               6                                      0   \n",
       "3                               7                                      0   \n",
       "4                               2                                      0   \n",
       "\n",
       "   tubes_and_hoses_tot_prts  wheels_and_tyres_tot_prts  \\\n",
       "0                         6                          2   \n",
       "1                         0                          6   \n",
       "2                         0                         12   \n",
       "3                         0                         28   \n",
       "4                         0                          0   \n",
       "\n",
       "   windows_and_doors_tot_prts  windscreens_and_fuselage_tot_prts  \\\n",
       "0                           0                                  0   \n",
       "1                           2                                  1   \n",
       "2                          14                                  0   \n",
       "3                           7                                  1   \n",
       "4                           3                                  0   \n",
       "\n",
       "   znap_tot_prts  \n",
       "0              0  \n",
       "1              0  \n",
       "2              0  \n",
       "3              0  \n",
       "4              0  \n",
       "\n",
       "[5 rows x 136 columns]"
      ]
     },
     "execution_count": 5,
     "metadata": {},
     "output_type": "execute_result"
    },
    {
     "name": "stdout",
     "output_type": "stream",
     "text": [
      "<class 'pandas.core.frame.DataFrame'>\n",
      "RangeIndex: 5303 entries, 0 to 5302\n",
      "Data columns (total 136 columns):\n",
      "set_no                                              5303 non-null object\n",
      "name                                                5303 non-null object\n",
      "price_store                                         4178 non-null float64\n",
      "price_new                                           5003 non-null float64\n",
      "price_used                                          4972 non-null float64\n",
      "rating_value                                        4560 non-null float64\n",
      "rating_votes                                        4560 non-null float64\n",
      "theme_group                                         5303 non-null object\n",
      "theme                                               5303 non-null object\n",
      "subtheme                                            3915 non-null object\n",
      "year                                                5303 non-null int64\n",
      "volume                                              2143 non-null float64\n",
      "weight                                              2154 non-null float64\n",
      "piece_cnt                                           5296 non-null float64\n",
      "minifig_cnt                                         5303 non-null int64\n",
      "number_parts                                        5303 non-null int64\n",
      "total_parts                                         5303 non-null int64\n",
      "number_spare_parts                                  5303 non-null int64\n",
      "total_spare_parts                                   5303 non-null int64\n",
      "number_colors                                       5303 non-null int64\n",
      "1st_color                                           5303 non-null object\n",
      "2nd_color                                           5303 non-null object\n",
      "bars_ladders_and_fences_cnt_prts                    5303 non-null int64\n",
      "baseplates_cnt_prts                                 5303 non-null int64\n",
      "belville_scala_and_fabuland_cnt_prts                5303 non-null int64\n",
      "bionicle_hero_factory_and_constraction_cnt_prts     5303 non-null int64\n",
      "bricks_cnt_prts                                     5303 non-null int64\n",
      "bricks_curved_cnt_prts                              5303 non-null int64\n",
      "bricks_printed_cnt_prts                             5303 non-null int64\n",
      "bricks_round_and_cones_cnt_prts                     5303 non-null int64\n",
      "bricks_sloped_cnt_prts                              5303 non-null int64\n",
      "bricks_special_cnt_prts                             5303 non-null int64\n",
      "bricks_wedged_cnt_prts                              5303 non-null int64\n",
      "clikits_cnt_prts                                    5303 non-null int64\n",
      "containers_cnt_prts                                 5303 non-null int64\n",
      "duplo_quatro_and_primo_cnt_prts                     5303 non-null int64\n",
      "flags_signs_plastics_and_cloth_cnt_prts             5303 non-null int64\n",
      "ho_scale_cnt_prts                                   5303 non-null int64\n",
      "hinges_arms_and_turntables_cnt_prts                 5303 non-null int64\n",
      "magnets_and_holders_cnt_prts                        5303 non-null int64\n",
      "mechanical_cnt_prts                                 5303 non-null int64\n",
      "minifig_accessories_cnt_prts                        5303 non-null int64\n",
      "minifigs_cnt_prts                                   5303 non-null int64\n",
      "non-buildable_figures_cnt_prts                      5303 non-null int64\n",
      "non-lego_cnt_prts                                   5303 non-null int64\n",
      "other_cnt_prts                                      5303 non-null int64\n",
      "panels_cnt_prts                                     5303 non-null int64\n",
      "plants_and_animals_cnt_prts                         5303 non-null int64\n",
      "plates_cnt_prts                                     5303 non-null int64\n",
      "plates_angled_cnt_prts                              5303 non-null int64\n",
      "plates_round_and_dishes_cnt_prts                    5303 non-null int64\n",
      "plates_special_cnt_prts                             5303 non-null int64\n",
      "pneumatics_cnt_prts                                 5303 non-null int64\n",
      "power_functions_mindstorms_and_electric_cnt_prts    5303 non-null int64\n",
      "rock_cnt_prts                                       5303 non-null int64\n",
      "string_bands_and_reels_cnt_prts                     5303 non-null int64\n",
      "supports_girders_and_cranes_cnt_prts                5303 non-null int64\n",
      "technic_axles_cnt_prts                              5303 non-null int64\n",
      "technic_beams_cnt_prts                              5303 non-null int64\n",
      "technic_beams_special_cnt_prts                      5303 non-null int64\n",
      "technic_bricks_cnt_prts                             5303 non-null int64\n",
      "technic_bushes_cnt_prts                             5303 non-null int64\n",
      "technic_connectors_cnt_prts                         5303 non-null int64\n",
      "technic_gears_cnt_prts                              5303 non-null int64\n",
      "technic_panels_cnt_prts                             5303 non-null int64\n",
      "technic_pins_cnt_prts                               5303 non-null int64\n",
      "technic_special_cnt_prts                            5303 non-null int64\n",
      "technic_steering_suspension_and_engine_cnt_prts     5303 non-null int64\n",
      "tiles_cnt_prts                                      5303 non-null int64\n",
      "tiles_printed_cnt_prts                              5303 non-null int64\n",
      "tiles_special_cnt_prts                              5303 non-null int64\n",
      "tools_cnt_prts                                      5303 non-null int64\n",
      "transportation_-_land_cnt_prts                      5303 non-null int64\n",
      "transportation_-_sea_and_air_cnt_prts               5303 non-null int64\n",
      "tubes_and_hoses_cnt_prts                            5303 non-null int64\n",
      "wheels_and_tyres_cnt_prts                           5303 non-null int64\n",
      "windows_and_doors_cnt_prts                          5303 non-null int64\n",
      "windscreens_and_fuselage_cnt_prts                   5303 non-null int64\n",
      "znap_cnt_prts                                       5303 non-null int64\n",
      "bars_ladders_and_fences_tot_prts                    5303 non-null int64\n",
      "baseplates_tot_prts                                 5303 non-null int64\n",
      "belville_scala_and_fabuland_tot_prts                5303 non-null int64\n",
      "bionicle_hero_factory_and_constraction_tot_prts     5303 non-null int64\n",
      "bricks_tot_prts                                     5303 non-null int64\n",
      "bricks_curved_tot_prts                              5303 non-null int64\n",
      "bricks_printed_tot_prts                             5303 non-null int64\n",
      "bricks_round_and_cones_tot_prts                     5303 non-null int64\n",
      "bricks_sloped_tot_prts                              5303 non-null int64\n",
      "bricks_special_tot_prts                             5303 non-null int64\n",
      "bricks_wedged_tot_prts                              5303 non-null int64\n",
      "clikits_tot_prts                                    5303 non-null int64\n",
      "containers_tot_prts                                 5303 non-null int64\n",
      "duplo_quatro_and_primo_tot_prts                     5303 non-null int64\n",
      "flags_signs_plastics_and_cloth_tot_prts             5303 non-null int64\n",
      "ho_scale_tot_prts                                   5303 non-null int64\n",
      "hinges_arms_and_turntables_tot_prts                 5303 non-null int64\n",
      "magnets_and_holders_tot_prts                        5303 non-null int64\n",
      "mechanical_tot_prts                                 5303 non-null int64\n",
      "minifig_accessories_tot_prts                        5303 non-null int64\n",
      "minifigs_tot_prts                                   5303 non-null int64\n",
      "non-buildable_figures_tot_prts                      5303 non-null int64\n",
      "non-lego_tot_prts                                   5303 non-null int64\n",
      "other_tot_prts                                      5303 non-null int64\n",
      "panels_tot_prts                                     5303 non-null int64\n",
      "plants_and_animals_tot_prts                         5303 non-null int64\n",
      "plates_tot_prts                                     5303 non-null int64\n",
      "plates_angled_tot_prts                              5303 non-null int64\n",
      "plates_round_and_dishes_tot_prts                    5303 non-null int64\n",
      "plates_special_tot_prts                             5303 non-null int64\n",
      "pneumatics_tot_prts                                 5303 non-null int64\n",
      "power_functions_mindstorms_and_electric_tot_prts    5303 non-null int64\n",
      "rock_tot_prts                                       5303 non-null int64\n",
      "string_bands_and_reels_tot_prts                     5303 non-null int64\n",
      "supports_girders_and_cranes_tot_prts                5303 non-null int64\n",
      "technic_axles_tot_prts                              5303 non-null int64\n",
      "technic_beams_tot_prts                              5303 non-null int64\n",
      "technic_beams_special_tot_prts                      5303 non-null int64\n",
      "technic_bricks_tot_prts                             5303 non-null int64\n",
      "technic_bushes_tot_prts                             5303 non-null int64\n",
      "technic_connectors_tot_prts                         5303 non-null int64\n",
      "technic_gears_tot_prts                              5303 non-null int64\n",
      "technic_panels_tot_prts                             5303 non-null int64\n",
      "technic_pins_tot_prts                               5303 non-null int64\n",
      "technic_special_tot_prts                            5303 non-null int64\n",
      "technic_steering_suspension_and_engine_tot_prts     5303 non-null int64\n",
      "tiles_tot_prts                                      5303 non-null int64\n",
      "tiles_printed_tot_prts                              5303 non-null int64\n",
      "tiles_special_tot_prts                              5303 non-null int64\n",
      "tools_tot_prts                                      5303 non-null int64\n",
      "transportation_-_land_tot_prts                      5303 non-null int64\n",
      "transportation_-_sea_and_air_tot_prts               5303 non-null int64\n",
      "tubes_and_hoses_tot_prts                            5303 non-null int64\n",
      "wheels_and_tyres_tot_prts                           5303 non-null int64\n",
      "windows_and_doors_tot_prts                          5303 non-null int64\n",
      "windscreens_and_fuselage_tot_prts                   5303 non-null int64\n",
      "znap_tot_prts                                       5303 non-null int64\n",
      "dtypes: float64(8), int64(121), object(7)\n",
      "memory usage: 5.5+ MB\n"
     ]
    }
   ],
   "source": [
    "set_df = pd.read_csv(MERGE_FILE)\n",
    "set_df.head()\n",
    "set_df.info(verbose=True, null_counts=True)"
   ]
  },
  {
   "cell_type": "markdown",
   "metadata": {},
   "source": [
    "## Investigate the Filtered Sets"
   ]
  },
  {
   "cell_type": "code",
   "execution_count": 6,
   "metadata": {
    "ExecuteTime": {
     "end_time": "2019-11-06T16:12:37.803189Z",
     "start_time": "2019-11-06T16:12:37.793214Z"
    }
   },
   "outputs": [],
   "source": [
    "InteractiveShell.ast_node_interactivity = 'last'"
   ]
  },
  {
   "cell_type": "code",
   "execution_count": 7,
   "metadata": {
    "ExecuteTime": {
     "end_time": "2019-11-06T16:12:38.136297Z",
     "start_time": "2019-11-06T16:12:37.807177Z"
    }
   },
   "outputs": [
    {
     "data": {
      "image/png": "[encoded data removed]",
      "text/plain": [
       "<Figure size 1008x432 with 1 Axes>"
      ]
     },
     "metadata": {
      "needs_background": "light"
     },
     "output_type": "display_data"
    }
   ],
   "source": [
    "# sets per year\n",
    "\n",
    "fig, axs = plt.subplots(1, 1, figsize=(14, 6))\n",
    "axs.hist(set_df['year'].values, bins=set_df['year'].unique().shape[0])\n",
    "axs.set(xlabel='Year', ylabel='No Sets')\n",
    "plt.show()"
   ]
  },
  {
   "cell_type": "code",
   "execution_count": 8,
   "metadata": {
    "ExecuteTime": {
     "end_time": "2019-11-06T16:12:42.592266Z",
     "start_time": "2019-11-06T16:12:38.140286Z"
    }
   },
   "outputs": [
    {
     "data": {
      "image/png": "[encoded data removed]",
      "text/plain": [
       "<Figure size 1008x432 with 1 Axes>"
      ]
     },
     "metadata": {
      "needs_background": "light"
     },
     "output_type": "display_data"
    }
   ],
   "source": [
    "# piece count distribution brickset vs kaggle\n",
    "\n",
    "piece_df = set_df.loc[(set_df['piece_cnt']>=1) & (set_df['total_parts']>=1)]\n",
    "\n",
    "fig, axs = plt.subplots(1, 1, figsize=(14, 6))\n",
    "axs.set(xlabel='Number of Pieces', ylabel='Total of Sets', xlim=(0, 1500))\n",
    "\n",
    "axs.hist(piece_df['piece_cnt'].values, bins=1000, color='green', label='brickset', alpha=.5)\n",
    "axs.hist(piece_df['total_parts'].values, bins=1000, color='blue', label='kaggle', alpha=.4)\n",
    "\n",
    "plt.legend()\n",
    "plt.show()"
   ]
  },
  {
   "cell_type": "code",
   "execution_count": 9,
   "metadata": {
    "ExecuteTime": {
     "end_time": "2019-11-06T16:12:44.529088Z",
     "start_time": "2019-11-06T16:12:42.594261Z"
    },
    "scrolled": false
   },
   "outputs": [
    {
     "data": {
      "image/png": "[encoded data removed]",
      "text/plain": [
       "<Figure size 864x432 with 1 Axes>"
      ]
     },
     "metadata": {},
     "output_type": "display_data"
    }
   ],
   "source": [
    "# store price and used price comparison\n",
    "\n",
    "price_df = set_df.loc[(set_df['price_store']>=1) & (set_df['price_used']>=1)]\n",
    "\n",
    "fig, axs = plt.subplots(1, 1, figsize=(12, 6), facecolor='white')\n",
    "axs.set(xlabel='Set Price', ylabel='Total of Sets', xlim=(0, 200))\n",
    "\n",
    "axs.hist(price_df['price_store'].values, bins=500, color='green', label='store price', alpha=.5)\n",
    "axs.hist(price_df['price_used'].values, bins=500, color='red', label='used price', alpha=.5)\n",
    "\n",
    "plt.legend()\n",
    "plt.show()"
   ]
  },
  {
   "cell_type": "code",
   "execution_count": 10,
   "metadata": {
    "ExecuteTime": {
     "end_time": "2019-11-06T16:12:44.879290Z",
     "start_time": "2019-11-06T16:12:44.531081Z"
    }
   },
   "outputs": [
    {
     "data": {
      "image/png": "[encoded data removed]",
      "text/plain": [
       "<Figure size 1008x432 with 1 Axes>"
      ]
     },
     "metadata": {
      "needs_background": "light"
     },
     "output_type": "display_data"
    }
   ],
   "source": [
    "# since there aren't a lot of sets with high votes, the ratings aren't very reliable\n",
    "\n",
    "votes_df = set_df.loc[set_df['rating_votes'].isna()==False]\n",
    "\n",
    "fig, axs = plt.subplots(1, 1, figsize=(14, 6))\n",
    "axs.hist(votes_df['rating_votes'].values, bins=100)\n",
    "axs.set(xlabel='Number of Votes', ylabel='Total of Sets', xlim=(0, 30))  # most votes ~100\n",
    "\n",
    "plt.show()"
   ]
  },
  {
   "cell_type": "markdown",
   "metadata": {},
   "source": [
    "## Introduce Category"
   ]
  },
  {
   "cell_type": "code",
   "execution_count": 11,
   "metadata": {
    "ExecuteTime": {
     "end_time": "2019-11-06T16:12:44.896352Z",
     "start_time": "2019-11-06T16:12:44.881285Z"
    }
   },
   "outputs": [
    {
     "data": {
      "text/plain": [
       "Modern day          1210\n",
       "Licensed            1019\n",
       "Action/Adventure     801\n",
       "Model making         441\n",
       "Historical           411\n",
       "Constraction         391\n",
       "Technical            379\n",
       "Girls                285\n",
       "Racing               218\n",
       "Junior               148\n",
       "Name: theme_group, dtype: int64"
      ]
     },
     "execution_count": 11,
     "metadata": {},
     "output_type": "execute_result"
    }
   ],
   "source": [
    "# create the category column for better splitting of themes\n",
    "\n",
    "set_df['theme_group'].value_counts()"
   ]
  },
  {
   "cell_type": "code",
   "execution_count": 12,
   "metadata": {
    "ExecuteTime": {
     "end_time": "2019-11-06T16:12:45.045938Z",
     "start_time": "2019-11-06T16:12:44.898344Z"
    }
   },
   "outputs": [
    {
     "data": {
      "text/plain": [
       "Modern-Town          617\n",
       "Advanced-models      548\n",
       "Lego-Brand           528\n",
       "Licensed-StarWars    439\n",
       "Historical           411\n",
       "Modern-City          394\n",
       "Constraction         391\n",
       "Licensed-Other       380\n",
       "Technical            379\n",
       "Sports               310\n",
       "Bigfig-Girls         285\n",
       "Space                273\n",
       "Licensed-Movie       200\n",
       "Bigfig-Junior        148\n",
       "Name: category, dtype: int64"
      ]
     },
     "execution_count": 12,
     "metadata": {},
     "output_type": "execute_result"
    }
   ],
   "source": [
    "set_df['category'] = set_df.apply(lh.get_category, axis=1)\n",
    "set_df['category'].value_counts()"
   ]
  },
  {
   "cell_type": "code",
   "execution_count": 13,
   "metadata": {
    "ExecuteTime": {
     "end_time": "2019-11-06T16:12:45.065632Z",
     "start_time": "2019-11-06T16:12:45.047932Z"
    }
   },
   "outputs": [
    {
     "data": {
      "text/html": [
       "<div>\n",
       "<style scoped>\n",
       "    .dataframe tbody tr th:only-of-type {\n",
       "        vertical-align: middle;\n",
       "    }\n",
       "\n",
       "    .dataframe tbody tr th {\n",
       "        vertical-align: top;\n",
       "    }\n",
       "\n",
       "    .dataframe thead th {\n",
       "        text-align: right;\n",
       "    }\n",
       "</style>\n",
       "<table border=\"1\" class=\"dataframe\">\n",
       "  <thead>\n",
       "    <tr style=\"text-align: right;\">\n",
       "      <th></th>\n",
       "      <th>set_no</th>\n",
       "      <th>name</th>\n",
       "      <th>theme_group</th>\n",
       "      <th>theme</th>\n",
       "      <th>category</th>\n",
       "    </tr>\n",
       "  </thead>\n",
       "  <tbody>\n",
       "  </tbody>\n",
       "</table>\n",
       "</div>"
      ],
      "text/plain": [
       "Empty DataFrame\n",
       "Columns: [set_no, name, theme_group, theme, category]\n",
       "Index: []"
      ]
     },
     "execution_count": 13,
     "metadata": {},
     "output_type": "execute_result"
    }
   ],
   "source": [
    "set_df.loc[ (set_df['category'].isna()) | (set_df['category']=='None') ][\n",
    "    ['set_no', 'name', 'theme_group', 'theme', 'category']]"
   ]
  },
  {
   "cell_type": "markdown",
   "metadata": {},
   "source": [
    "## Clean the Colors"
   ]
  },
  {
   "cell_type": "code",
   "execution_count": 14,
   "metadata": {
    "ExecuteTime": {
     "end_time": "2019-11-06T16:12:45.077601Z",
     "start_time": "2019-11-06T16:12:45.067626Z"
    }
   },
   "outputs": [
    {
     "data": {
      "text/plain": [
       "Black                2037\n",
       "White                 869\n",
       "Light Bluish Gray     432\n",
       "Red                   310\n",
       "Light Gray            295\n",
       "Name: 1st_color, dtype: int64"
      ]
     },
     "execution_count": 14,
     "metadata": {},
     "output_type": "execute_result"
    }
   ],
   "source": [
    "# check colors that are being used in sets\n",
    "\n",
    "set_df['1st_color'].value_counts().head()"
   ]
  },
  {
   "cell_type": "code",
   "execution_count": 15,
   "metadata": {
    "ExecuteTime": {
     "end_time": "2019-11-06T16:12:45.108420Z",
     "start_time": "2019-11-06T16:12:45.080592Z"
    }
   },
   "outputs": [
    {
     "data": {
      "text/html": [
       "<div>\n",
       "<style scoped>\n",
       "    .dataframe tbody tr th:only-of-type {\n",
       "        vertical-align: middle;\n",
       "    }\n",
       "\n",
       "    .dataframe tbody tr th {\n",
       "        vertical-align: top;\n",
       "    }\n",
       "\n",
       "    .dataframe thead th {\n",
       "        text-align: right;\n",
       "    }\n",
       "</style>\n",
       "<table border=\"1\" class=\"dataframe\">\n",
       "  <thead>\n",
       "    <tr style=\"text-align: right;\">\n",
       "      <th></th>\n",
       "      <th>set_no</th>\n",
       "      <th>name</th>\n",
       "      <th>theme</th>\n",
       "      <th>1st_color</th>\n",
       "      <th>scolor_1st</th>\n",
       "      <th>2nd_color</th>\n",
       "      <th>scolor_2nd</th>\n",
       "    </tr>\n",
       "  </thead>\n",
       "  <tbody>\n",
       "    <tr>\n",
       "      <th>0</th>\n",
       "      <td>858-1</td>\n",
       "      <td>Auto Engines</td>\n",
       "      <td>Technic</td>\n",
       "      <td>Blue</td>\n",
       "      <td>Blue</td>\n",
       "      <td>Light Gray</td>\n",
       "      <td>Gray</td>\n",
       "    </tr>\n",
       "    <tr>\n",
       "      <th>1</th>\n",
       "      <td>1591-1</td>\n",
       "      <td>Danone Delivery Truck</td>\n",
       "      <td>Town</td>\n",
       "      <td>White</td>\n",
       "      <td>White</td>\n",
       "      <td>Blue</td>\n",
       "      <td>Blue</td>\n",
       "    </tr>\n",
       "    <tr>\n",
       "      <th>2</th>\n",
       "      <td>1592-1</td>\n",
       "      <td>Town Square - Castle Scene</td>\n",
       "      <td>Town</td>\n",
       "      <td>Black</td>\n",
       "      <td>Black</td>\n",
       "      <td>Yellow</td>\n",
       "      <td>Yellow</td>\n",
       "    </tr>\n",
       "    <tr>\n",
       "      <th>3</th>\n",
       "      <td>1651-2</td>\n",
       "      <td>Maersk Line Container Lorry</td>\n",
       "      <td>Town</td>\n",
       "      <td>Maersk Blue</td>\n",
       "      <td>Blue</td>\n",
       "      <td>Light Gray</td>\n",
       "      <td>Gray</td>\n",
       "    </tr>\n",
       "    <tr>\n",
       "      <th>4</th>\n",
       "      <td>3634-1</td>\n",
       "      <td>Charlie Crow's Carry-All</td>\n",
       "      <td>Fabuland</td>\n",
       "      <td>Yellow</td>\n",
       "      <td>Yellow</td>\n",
       "      <td>Green</td>\n",
       "      <td>Green</td>\n",
       "    </tr>\n",
       "  </tbody>\n",
       "</table>\n",
       "</div>"
      ],
      "text/plain": [
       "   set_no                         name     theme    1st_color scolor_1st  \\\n",
       "0   858-1                 Auto Engines   Technic         Blue       Blue   \n",
       "1  1591-1        Danone Delivery Truck      Town        White      White   \n",
       "2  1592-1   Town Square - Castle Scene      Town        Black      Black   \n",
       "3  1651-2  Maersk Line Container Lorry      Town  Maersk Blue       Blue   \n",
       "4  3634-1     Charlie Crow's Carry-All  Fabuland       Yellow     Yellow   \n",
       "\n",
       "    2nd_color scolor_2nd  \n",
       "0  Light Gray       Gray  \n",
       "1        Blue       Blue  \n",
       "2      Yellow     Yellow  \n",
       "3  Light Gray       Gray  \n",
       "4       Green      Green  "
      ]
     },
     "execution_count": 15,
     "metadata": {},
     "output_type": "execute_result"
    }
   ],
   "source": [
    "# create new columns for super-colors \n",
    "\n",
    "set_df['scolor_1st'] = set_df['1st_color'].apply(lh.get_super_color)\n",
    "set_df['scolor_2nd'] = set_df['2nd_color'].apply(lh.get_super_color)\n",
    "set_df[['set_no', 'name', 'theme', '1st_color', 'scolor_1st', '2nd_color', 'scolor_2nd']].head()"
   ]
  },
  {
   "cell_type": "code",
   "execution_count": 16,
   "metadata": {
    "ExecuteTime": {
     "end_time": "2019-11-06T16:12:45.137572Z",
     "start_time": "2019-11-06T16:12:45.110286Z"
    }
   },
   "outputs": [
    {
     "data": {
      "text/html": [
       "<div>\n",
       "<style scoped>\n",
       "    .dataframe tbody tr th:only-of-type {\n",
       "        vertical-align: middle;\n",
       "    }\n",
       "\n",
       "    .dataframe tbody tr th {\n",
       "        vertical-align: top;\n",
       "    }\n",
       "\n",
       "    .dataframe thead th {\n",
       "        text-align: right;\n",
       "    }\n",
       "</style>\n",
       "<table border=\"1\" class=\"dataframe\">\n",
       "  <thead>\n",
       "    <tr style=\"text-align: right;\">\n",
       "      <th></th>\n",
       "      <th>set_no</th>\n",
       "      <th>name</th>\n",
       "      <th>theme</th>\n",
       "      <th>1st_color</th>\n",
       "      <th>scolor_1st</th>\n",
       "      <th>2nd_color</th>\n",
       "      <th>scolor_2nd</th>\n",
       "    </tr>\n",
       "  </thead>\n",
       "  <tbody>\n",
       "    <tr>\n",
       "      <th>429</th>\n",
       "      <td>8712-1</td>\n",
       "      <td>Technic Figures</td>\n",
       "      <td>Technic</td>\n",
       "      <td>Red</td>\n",
       "      <td>Red</td>\n",
       "      <td>[No Color]</td>\n",
       "      <td>None</td>\n",
       "    </tr>\n",
       "    <tr>\n",
       "      <th>446</th>\n",
       "      <td>3647-1</td>\n",
       "      <td>Lionel Lion's Classroom</td>\n",
       "      <td>Fabuland</td>\n",
       "      <td>Yellow</td>\n",
       "      <td>Yellow</td>\n",
       "      <td>[No Color]</td>\n",
       "      <td>None</td>\n",
       "    </tr>\n",
       "    <tr>\n",
       "      <th>716</th>\n",
       "      <td>8714-1</td>\n",
       "      <td>The LEGO Technic Guys</td>\n",
       "      <td>Technic</td>\n",
       "      <td>Trans-Clear</td>\n",
       "      <td>Transparent</td>\n",
       "      <td>[No Color]</td>\n",
       "      <td>None</td>\n",
       "    </tr>\n",
       "    <tr>\n",
       "      <th>1565</th>\n",
       "      <td>8515-1</td>\n",
       "      <td>RoboRider Wheels</td>\n",
       "      <td>Technic</td>\n",
       "      <td>[No Color]</td>\n",
       "      <td>None</td>\n",
       "      <td>[No Color]</td>\n",
       "      <td>None</td>\n",
       "    </tr>\n",
       "    <tr>\n",
       "      <th>2015</th>\n",
       "      <td>3560-1</td>\n",
       "      <td>NBA Collectors # 1</td>\n",
       "      <td>Sports</td>\n",
       "      <td>Tan</td>\n",
       "      <td>Tan</td>\n",
       "      <td>[No Color]</td>\n",
       "      <td>None</td>\n",
       "    </tr>\n",
       "    <tr>\n",
       "      <th>2017</th>\n",
       "      <td>3562-1</td>\n",
       "      <td>NBA Collectors # 3</td>\n",
       "      <td>Sports</td>\n",
       "      <td>Tan</td>\n",
       "      <td>Tan</td>\n",
       "      <td>[No Color]</td>\n",
       "      <td>None</td>\n",
       "    </tr>\n",
       "    <tr>\n",
       "      <th>2020</th>\n",
       "      <td>3565-1</td>\n",
       "      <td>NBA Collectors # 6</td>\n",
       "      <td>Sports</td>\n",
       "      <td>Tan</td>\n",
       "      <td>Tan</td>\n",
       "      <td>[No Color]</td>\n",
       "      <td>None</td>\n",
       "    </tr>\n",
       "    <tr>\n",
       "      <th>2021</th>\n",
       "      <td>3566-1</td>\n",
       "      <td>NBA Collectors # 7</td>\n",
       "      <td>Sports</td>\n",
       "      <td>Tan</td>\n",
       "      <td>Tan</td>\n",
       "      <td>[No Color]</td>\n",
       "      <td>None</td>\n",
       "    </tr>\n",
       "    <tr>\n",
       "      <th>2723</th>\n",
       "      <td>9847-1</td>\n",
       "      <td>Bluetooth Dongle</td>\n",
       "      <td>Mindstorms</td>\n",
       "      <td>[No Color]</td>\n",
       "      <td>None</td>\n",
       "      <td>[No Color]</td>\n",
       "      <td>None</td>\n",
       "    </tr>\n",
       "    <tr>\n",
       "      <th>3441</th>\n",
       "      <td>2111-1</td>\n",
       "      <td>Kai</td>\n",
       "      <td>Ninjago</td>\n",
       "      <td>Red</td>\n",
       "      <td>Red</td>\n",
       "      <td>[No Color]</td>\n",
       "      <td>None</td>\n",
       "    </tr>\n",
       "    <tr>\n",
       "      <th>3442</th>\n",
       "      <td>2112-1</td>\n",
       "      <td>Cole</td>\n",
       "      <td>Ninjago</td>\n",
       "      <td>[No Color]</td>\n",
       "      <td>None</td>\n",
       "      <td>Reddish Brown</td>\n",
       "      <td>Brown</td>\n",
       "    </tr>\n",
       "    <tr>\n",
       "      <th>3443</th>\n",
       "      <td>2113-1</td>\n",
       "      <td>Zane</td>\n",
       "      <td>Ninjago</td>\n",
       "      <td>White</td>\n",
       "      <td>White</td>\n",
       "      <td>[No Color]</td>\n",
       "      <td>None</td>\n",
       "    </tr>\n",
       "    <tr>\n",
       "      <th>3444</th>\n",
       "      <td>2114-1</td>\n",
       "      <td>Chopov</td>\n",
       "      <td>Ninjago</td>\n",
       "      <td>White</td>\n",
       "      <td>White</td>\n",
       "      <td>[No Color]</td>\n",
       "      <td>None</td>\n",
       "    </tr>\n",
       "    <tr>\n",
       "      <th>3445</th>\n",
       "      <td>2115-1</td>\n",
       "      <td>Bonezai</td>\n",
       "      <td>Ninjago</td>\n",
       "      <td>White</td>\n",
       "      <td>White</td>\n",
       "      <td>[No Color]</td>\n",
       "      <td>None</td>\n",
       "    </tr>\n",
       "    <tr>\n",
       "      <th>3446</th>\n",
       "      <td>2116-1</td>\n",
       "      <td>Krazi</td>\n",
       "      <td>Ninjago</td>\n",
       "      <td>White</td>\n",
       "      <td>White</td>\n",
       "      <td>[No Color]</td>\n",
       "      <td>None</td>\n",
       "    </tr>\n",
       "    <tr>\n",
       "      <th>3452</th>\n",
       "      <td>2170-1</td>\n",
       "      <td>Cole DX</td>\n",
       "      <td>Ninjago</td>\n",
       "      <td>[No Color]</td>\n",
       "      <td>None</td>\n",
       "      <td>Black</td>\n",
       "      <td>Black</td>\n",
       "    </tr>\n",
       "    <tr>\n",
       "      <th>3453</th>\n",
       "      <td>2171-1</td>\n",
       "      <td>Zane DX</td>\n",
       "      <td>Ninjago</td>\n",
       "      <td>White</td>\n",
       "      <td>White</td>\n",
       "      <td>[No Color]</td>\n",
       "      <td>None</td>\n",
       "    </tr>\n",
       "    <tr>\n",
       "      <th>3454</th>\n",
       "      <td>2172-1</td>\n",
       "      <td>Nya</td>\n",
       "      <td>Ninjago</td>\n",
       "      <td>Red</td>\n",
       "      <td>Red</td>\n",
       "      <td>[No Color]</td>\n",
       "      <td>None</td>\n",
       "    </tr>\n",
       "    <tr>\n",
       "      <th>3455</th>\n",
       "      <td>2173-1</td>\n",
       "      <td>Nuckal</td>\n",
       "      <td>Ninjago</td>\n",
       "      <td>White</td>\n",
       "      <td>White</td>\n",
       "      <td>[No Color]</td>\n",
       "      <td>None</td>\n",
       "    </tr>\n",
       "    <tr>\n",
       "      <th>3456</th>\n",
       "      <td>2174-1</td>\n",
       "      <td>Kruncha</td>\n",
       "      <td>Ninjago</td>\n",
       "      <td>White</td>\n",
       "      <td>White</td>\n",
       "      <td>[No Color]</td>\n",
       "      <td>None</td>\n",
       "    </tr>\n",
       "    <tr>\n",
       "      <th>3457</th>\n",
       "      <td>2175-1</td>\n",
       "      <td>Wyplash</td>\n",
       "      <td>Ninjago</td>\n",
       "      <td>White</td>\n",
       "      <td>White</td>\n",
       "      <td>[No Color]</td>\n",
       "      <td>None</td>\n",
       "    </tr>\n",
       "    <tr>\n",
       "      <th>3470</th>\n",
       "      <td>2255-1</td>\n",
       "      <td>Sensei Wu</td>\n",
       "      <td>Ninjago</td>\n",
       "      <td>Pearl Gold</td>\n",
       "      <td>Yellow</td>\n",
       "      <td>[No Color]</td>\n",
       "      <td>None</td>\n",
       "    </tr>\n",
       "    <tr>\n",
       "      <th>3471</th>\n",
       "      <td>2256-1</td>\n",
       "      <td>Lord Garmadon</td>\n",
       "      <td>Ninjago</td>\n",
       "      <td>Black</td>\n",
       "      <td>Black</td>\n",
       "      <td>[No Color]</td>\n",
       "      <td>None</td>\n",
       "    </tr>\n",
       "    <tr>\n",
       "      <th>3824</th>\n",
       "      <td>9552-1</td>\n",
       "      <td>Lloyd Garmadon</td>\n",
       "      <td>Ninjago</td>\n",
       "      <td>Black</td>\n",
       "      <td>Black</td>\n",
       "      <td>[No Color]</td>\n",
       "      <td>None</td>\n",
       "    </tr>\n",
       "    <tr>\n",
       "      <th>3825</th>\n",
       "      <td>9553-1</td>\n",
       "      <td>Jay ZX</td>\n",
       "      <td>Ninjago</td>\n",
       "      <td>[No Color]</td>\n",
       "      <td>None</td>\n",
       "      <td>Blue</td>\n",
       "      <td>Blue</td>\n",
       "    </tr>\n",
       "    <tr>\n",
       "      <th>3828</th>\n",
       "      <td>9556-1</td>\n",
       "      <td>Bytar</td>\n",
       "      <td>Ninjago</td>\n",
       "      <td>Black</td>\n",
       "      <td>Black</td>\n",
       "      <td>[No Color]</td>\n",
       "      <td>None</td>\n",
       "    </tr>\n",
       "    <tr>\n",
       "      <th>3829</th>\n",
       "      <td>9557-1</td>\n",
       "      <td>Lizaru</td>\n",
       "      <td>Ninjago</td>\n",
       "      <td>[No Color]</td>\n",
       "      <td>None</td>\n",
       "      <td>Dark Bluish Gray</td>\n",
       "      <td>Gray</td>\n",
       "    </tr>\n",
       "    <tr>\n",
       "      <th>3831</th>\n",
       "      <td>9561-1</td>\n",
       "      <td>Kai ZX</td>\n",
       "      <td>Ninjago</td>\n",
       "      <td>Red</td>\n",
       "      <td>Red</td>\n",
       "      <td>[No Color]</td>\n",
       "      <td>None</td>\n",
       "    </tr>\n",
       "    <tr>\n",
       "      <th>3832</th>\n",
       "      <td>9562-1</td>\n",
       "      <td>Lasha</td>\n",
       "      <td>Ninjago</td>\n",
       "      <td>Lime</td>\n",
       "      <td>Green</td>\n",
       "      <td>[No Color]</td>\n",
       "      <td>None</td>\n",
       "    </tr>\n",
       "    <tr>\n",
       "      <th>3833</th>\n",
       "      <td>9563-1</td>\n",
       "      <td>Kendo Zane</td>\n",
       "      <td>Ninjago</td>\n",
       "      <td>Black</td>\n",
       "      <td>Black</td>\n",
       "      <td>[No Color]</td>\n",
       "      <td>None</td>\n",
       "    </tr>\n",
       "    <tr>\n",
       "      <th>3834</th>\n",
       "      <td>9564-1</td>\n",
       "      <td>Snappa</td>\n",
       "      <td>Ninjago</td>\n",
       "      <td>White</td>\n",
       "      <td>White</td>\n",
       "      <td>[No Color]</td>\n",
       "      <td>None</td>\n",
       "    </tr>\n",
       "    <tr>\n",
       "      <th>3835</th>\n",
       "      <td>9566-1</td>\n",
       "      <td>Samurai X</td>\n",
       "      <td>Ninjago</td>\n",
       "      <td>Red</td>\n",
       "      <td>Red</td>\n",
       "      <td>[No Color]</td>\n",
       "      <td>None</td>\n",
       "    </tr>\n",
       "    <tr>\n",
       "      <th>3836</th>\n",
       "      <td>9567-1</td>\n",
       "      <td>Fang-Suei</td>\n",
       "      <td>Ninjago</td>\n",
       "      <td>[No Color]</td>\n",
       "      <td>None</td>\n",
       "      <td>White</td>\n",
       "      <td>White</td>\n",
       "    </tr>\n",
       "    <tr>\n",
       "      <th>3837</th>\n",
       "      <td>9569-1</td>\n",
       "      <td>Spitta</td>\n",
       "      <td>Ninjago</td>\n",
       "      <td>[No Color]</td>\n",
       "      <td>None</td>\n",
       "      <td>Lime</td>\n",
       "      <td>Green</td>\n",
       "    </tr>\n",
       "    <tr>\n",
       "      <th>3838</th>\n",
       "      <td>9570-1</td>\n",
       "      <td>NRG Jay</td>\n",
       "      <td>Ninjago</td>\n",
       "      <td>Blue</td>\n",
       "      <td>Blue</td>\n",
       "      <td>[No Color]</td>\n",
       "      <td>None</td>\n",
       "    </tr>\n",
       "    <tr>\n",
       "      <th>3839</th>\n",
       "      <td>9571-1</td>\n",
       "      <td>Fangdam</td>\n",
       "      <td>Ninjago</td>\n",
       "      <td>Pearl Gold</td>\n",
       "      <td>Yellow</td>\n",
       "      <td>[No Color]</td>\n",
       "      <td>None</td>\n",
       "    </tr>\n",
       "    <tr>\n",
       "      <th>3841</th>\n",
       "      <td>9573-1</td>\n",
       "      <td>Slithraa</td>\n",
       "      <td>Ninjago</td>\n",
       "      <td>[No Color]</td>\n",
       "      <td>None</td>\n",
       "      <td>Trans-Dark Blue</td>\n",
       "      <td>Transparent</td>\n",
       "    </tr>\n",
       "    <tr>\n",
       "      <th>3842</th>\n",
       "      <td>9574-1</td>\n",
       "      <td>Lloyd ZX</td>\n",
       "      <td>Ninjago</td>\n",
       "      <td>Green</td>\n",
       "      <td>Green</td>\n",
       "      <td>[No Color]</td>\n",
       "      <td>None</td>\n",
       "    </tr>\n",
       "    <tr>\n",
       "      <th>3844</th>\n",
       "      <td>9590-1</td>\n",
       "      <td>NRG Zane</td>\n",
       "      <td>Ninjago</td>\n",
       "      <td>Pearl Gold</td>\n",
       "      <td>Yellow</td>\n",
       "      <td>[No Color]</td>\n",
       "      <td>None</td>\n",
       "    </tr>\n",
       "  </tbody>\n",
       "</table>\n",
       "</div>"
      ],
      "text/plain": [
       "      set_no                     name       theme    1st_color   scolor_1st  \\\n",
       "429   8712-1          Technic Figures     Technic          Red          Red   \n",
       "446   3647-1  Lionel Lion's Classroom    Fabuland       Yellow       Yellow   \n",
       "716   8714-1    The LEGO Technic Guys     Technic  Trans-Clear  Transparent   \n",
       "1565  8515-1         RoboRider Wheels     Technic   [No Color]         None   \n",
       "2015  3560-1       NBA Collectors # 1      Sports          Tan          Tan   \n",
       "2017  3562-1       NBA Collectors # 3      Sports          Tan          Tan   \n",
       "2020  3565-1       NBA Collectors # 6      Sports          Tan          Tan   \n",
       "2021  3566-1       NBA Collectors # 7      Sports          Tan          Tan   \n",
       "2723  9847-1         Bluetooth Dongle  Mindstorms   [No Color]         None   \n",
       "3441  2111-1                      Kai     Ninjago          Red          Red   \n",
       "3442  2112-1                     Cole     Ninjago   [No Color]         None   \n",
       "3443  2113-1                     Zane     Ninjago        White        White   \n",
       "3444  2114-1                   Chopov     Ninjago        White        White   \n",
       "3445  2115-1                  Bonezai     Ninjago        White        White   \n",
       "3446  2116-1                    Krazi     Ninjago        White        White   \n",
       "3452  2170-1                  Cole DX     Ninjago   [No Color]         None   \n",
       "3453  2171-1                  Zane DX     Ninjago        White        White   \n",
       "3454  2172-1                      Nya     Ninjago          Red          Red   \n",
       "3455  2173-1                   Nuckal     Ninjago        White        White   \n",
       "3456  2174-1                  Kruncha     Ninjago        White        White   \n",
       "3457  2175-1                  Wyplash     Ninjago        White        White   \n",
       "3470  2255-1                Sensei Wu     Ninjago   Pearl Gold       Yellow   \n",
       "3471  2256-1            Lord Garmadon     Ninjago        Black        Black   \n",
       "3824  9552-1           Lloyd Garmadon     Ninjago        Black        Black   \n",
       "3825  9553-1                   Jay ZX     Ninjago   [No Color]         None   \n",
       "3828  9556-1                    Bytar     Ninjago        Black        Black   \n",
       "3829  9557-1                   Lizaru     Ninjago   [No Color]         None   \n",
       "3831  9561-1                   Kai ZX     Ninjago          Red          Red   \n",
       "3832  9562-1                    Lasha     Ninjago         Lime        Green   \n",
       "3833  9563-1               Kendo Zane     Ninjago        Black        Black   \n",
       "3834  9564-1                   Snappa     Ninjago        White        White   \n",
       "3835  9566-1                Samurai X     Ninjago          Red          Red   \n",
       "3836  9567-1                Fang-Suei     Ninjago   [No Color]         None   \n",
       "3837  9569-1                   Spitta     Ninjago   [No Color]         None   \n",
       "3838  9570-1                  NRG Jay     Ninjago         Blue         Blue   \n",
       "3839  9571-1                  Fangdam     Ninjago   Pearl Gold       Yellow   \n",
       "3841  9573-1                 Slithraa     Ninjago   [No Color]         None   \n",
       "3842  9574-1                 Lloyd ZX     Ninjago        Green        Green   \n",
       "3844  9590-1                 NRG Zane     Ninjago   Pearl Gold       Yellow   \n",
       "\n",
       "             2nd_color   scolor_2nd  \n",
       "429         [No Color]         None  \n",
       "446         [No Color]         None  \n",
       "716         [No Color]         None  \n",
       "1565        [No Color]         None  \n",
       "2015        [No Color]         None  \n",
       "2017        [No Color]         None  \n",
       "2020        [No Color]         None  \n",
       "2021        [No Color]         None  \n",
       "2723        [No Color]         None  \n",
       "3441        [No Color]         None  \n",
       "3442     Reddish Brown        Brown  \n",
       "3443        [No Color]         None  \n",
       "3444        [No Color]         None  \n",
       "3445        [No Color]         None  \n",
       "3446        [No Color]         None  \n",
       "3452             Black        Black  \n",
       "3453        [No Color]         None  \n",
       "3454        [No Color]         None  \n",
       "3455        [No Color]         None  \n",
       "3456        [No Color]         None  \n",
       "3457        [No Color]         None  \n",
       "3470        [No Color]         None  \n",
       "3471        [No Color]         None  \n",
       "3824        [No Color]         None  \n",
       "3825              Blue         Blue  \n",
       "3828        [No Color]         None  \n",
       "3829  Dark Bluish Gray         Gray  \n",
       "3831        [No Color]         None  \n",
       "3832        [No Color]         None  \n",
       "3833        [No Color]         None  \n",
       "3834        [No Color]         None  \n",
       "3835        [No Color]         None  \n",
       "3836             White        White  \n",
       "3837              Lime        Green  \n",
       "3838        [No Color]         None  \n",
       "3839        [No Color]         None  \n",
       "3841   Trans-Dark Blue  Transparent  \n",
       "3842        [No Color]         None  \n",
       "3844        [No Color]         None  "
      ]
     },
     "execution_count": 16,
     "metadata": {},
     "output_type": "execute_result"
    }
   ],
   "source": [
    "# check for any remaining gaps \n",
    "\n",
    "set_df.loc[ (set_df['scolor_1st'].isna()) | (set_df['scolor_2nd'].isna()), \n",
    "            ['set_no', 'name', 'theme', '1st_color', 'scolor_1st', '2nd_color', 'scolor_2nd'] ]"
   ]
  },
  {
   "cell_type": "code",
   "execution_count": 17,
   "metadata": {
    "ExecuteTime": {
     "end_time": "2019-11-06T16:12:45.151534Z",
     "start_time": "2019-11-06T16:12:45.139567Z"
    }
   },
   "outputs": [
    {
     "data": {
      "text/plain": [
       "(2, 139)"
      ]
     },
     "execution_count": 17,
     "metadata": {},
     "output_type": "execute_result"
    }
   ],
   "source": [
    "# fix secondary colors by assigning primary color\n",
    "\n",
    "set_df['scolor_2nd'] = set_df['scolor_2nd'].fillna(set_df['scolor_1st'])\n",
    "set_df.loc[(set_df['scolor_2nd'].isna())].shape"
   ]
  },
  {
   "cell_type": "code",
   "execution_count": 18,
   "metadata": {
    "ExecuteTime": {
     "end_time": "2019-11-06T16:12:45.165497Z",
     "start_time": "2019-11-06T16:12:45.154527Z"
    }
   },
   "outputs": [
    {
     "data": {
      "text/plain": [
       "Black          2037\n",
       "Gray           1026\n",
       "White           869\n",
       "Red             365\n",
       "Yellow          300\n",
       "Blue            240\n",
       "Brown           139\n",
       "Green           133\n",
       "Tan             110\n",
       "Transparent      75\n",
       "Name: scolor_1st, dtype: int64"
      ]
     },
     "execution_count": 18,
     "metadata": {},
     "output_type": "execute_result"
    }
   ],
   "source": [
    "set_df['scolor_1st'].value_counts()"
   ]
  },
  {
   "cell_type": "markdown",
   "metadata": {},
   "source": [
    "## Introduce Popularity"
   ]
  },
  {
   "cell_type": "code",
   "execution_count": 19,
   "metadata": {
    "ExecuteTime": {
     "end_time": "2019-11-06T16:12:45.183483Z",
     "start_time": "2019-11-06T16:12:45.168490Z"
    },
    "scrolled": true
   },
   "outputs": [
    {
     "data": {
      "text/plain": [
       "0     9.0\n",
       "1     NaN\n",
       "2    19.2\n",
       "3     5.0\n",
       "4     3.0\n",
       "Name: popularity, dtype: float64"
      ]
     },
     "execution_count": 19,
     "metadata": {},
     "output_type": "execute_result"
    }
   ],
   "source": [
    "# popularity is a new feature for ratings\n",
    "\n",
    "set_df['popularity'] = set_df['rating_value'] * set_df['rating_votes']\n",
    "set_df['popularity'].head()"
   ]
  },
  {
   "cell_type": "code",
   "execution_count": 20,
   "metadata": {
    "ExecuteTime": {
     "end_time": "2019-11-06T16:12:45.199238Z",
     "start_time": "2019-11-06T16:12:45.185443Z"
    }
   },
   "outputs": [
    {
     "data": {
      "text/plain": [
       "(4560, 140)"
      ]
     },
     "execution_count": 20,
     "metadata": {},
     "output_type": "execute_result"
    }
   ],
   "source": [
    "# visualize the popularity\n",
    "\n",
    "popularity_df = set_df.loc[set_df['popularity'].isna()==False]\n",
    "popularity_df.shape"
   ]
  },
  {
   "cell_type": "code",
   "execution_count": 21,
   "metadata": {
    "ExecuteTime": {
     "end_time": "2019-11-06T16:12:45.639372Z",
     "start_time": "2019-11-06T16:12:45.201232Z"
    }
   },
   "outputs": [
    {
     "data": {
      "image/png": "[encoded data removed]",
      "text/plain": [
       "<Figure size 1008x432 with 1 Axes>"
      ]
     },
     "metadata": {
      "needs_background": "light"
     },
     "output_type": "display_data"
    }
   ],
   "source": [
    "fig, axs = plt.subplots(1, 1, figsize=(14, 6))\n",
    "\n",
    "axs.hist(popularity_df['popularity'].values, bins=200, color='orange')\n",
    "axs.set(xlabel='Popularity', ylabel='Total of Sets', xlim=(0, 100))  \n",
    "\n",
    "plt.show()"
   ]
  },
  {
   "cell_type": "markdown",
   "metadata": {},
   "source": [
    "## Introduce AfterMarket"
   ]
  },
  {
   "cell_type": "code",
   "execution_count": 22,
   "metadata": {
    "ExecuteTime": {
     "end_time": "2019-11-06T16:12:45.786797Z",
     "start_time": "2019-11-06T16:12:45.640369Z"
    }
   },
   "outputs": [
    {
     "data": {
      "text/html": [
       "<div>\n",
       "<style scoped>\n",
       "    .dataframe tbody tr th:only-of-type {\n",
       "        vertical-align: middle;\n",
       "    }\n",
       "\n",
       "    .dataframe tbody tr th {\n",
       "        vertical-align: top;\n",
       "    }\n",
       "\n",
       "    .dataframe thead th {\n",
       "        text-align: right;\n",
       "    }\n",
       "</style>\n",
       "<table border=\"1\" class=\"dataframe\">\n",
       "  <thead>\n",
       "    <tr style=\"text-align: right;\">\n",
       "      <th></th>\n",
       "      <th>set_no</th>\n",
       "      <th>name</th>\n",
       "      <th>price_used</th>\n",
       "      <th>price_store</th>\n",
       "      <th>aftermarket</th>\n",
       "    </tr>\n",
       "  </thead>\n",
       "  <tbody>\n",
       "    <tr>\n",
       "      <th>0</th>\n",
       "      <td>858-1</td>\n",
       "      <td>Auto Engines</td>\n",
       "      <td>51.0</td>\n",
       "      <td>NaN</td>\n",
       "      <td>NaN</td>\n",
       "    </tr>\n",
       "    <tr>\n",
       "      <th>1</th>\n",
       "      <td>1591-1</td>\n",
       "      <td>Danone Delivery Truck</td>\n",
       "      <td>28.0</td>\n",
       "      <td>NaN</td>\n",
       "      <td>NaN</td>\n",
       "    </tr>\n",
       "    <tr>\n",
       "      <th>2</th>\n",
       "      <td>1592-1</td>\n",
       "      <td>Town Square - Castle Scene</td>\n",
       "      <td>191.0</td>\n",
       "      <td>NaN</td>\n",
       "      <td>NaN</td>\n",
       "    </tr>\n",
       "    <tr>\n",
       "      <th>3</th>\n",
       "      <td>1651-2</td>\n",
       "      <td>Maersk Line Container Lorry</td>\n",
       "      <td>444.0</td>\n",
       "      <td>NaN</td>\n",
       "      <td>NaN</td>\n",
       "    </tr>\n",
       "    <tr>\n",
       "      <th>4</th>\n",
       "      <td>3634-1</td>\n",
       "      <td>Charlie Crow's Carry-All</td>\n",
       "      <td>13.0</td>\n",
       "      <td>NaN</td>\n",
       "      <td>NaN</td>\n",
       "    </tr>\n",
       "  </tbody>\n",
       "</table>\n",
       "</div>"
      ],
      "text/plain": [
       "   set_no                         name  price_used  price_store  aftermarket\n",
       "0   858-1                 Auto Engines        51.0          NaN          NaN\n",
       "1  1591-1        Danone Delivery Truck        28.0          NaN          NaN\n",
       "2  1592-1   Town Square - Castle Scene       191.0          NaN          NaN\n",
       "3  1651-2  Maersk Line Container Lorry       444.0          NaN          NaN\n",
       "4  3634-1     Charlie Crow's Carry-All        13.0          NaN          NaN"
      ]
     },
     "execution_count": 22,
     "metadata": {},
     "output_type": "execute_result"
    }
   ],
   "source": [
    "# create aftermarket column \n",
    "\n",
    "set_df['aftermarket'] = set_df.apply(lh.get_aftermarket, axis=1)\n",
    "set_df[['set_no', 'name', 'price_used', 'price_store', 'aftermarket']].head()"
   ]
  },
  {
   "cell_type": "code",
   "execution_count": 23,
   "metadata": {
    "ExecuteTime": {
     "end_time": "2019-11-06T16:12:46.184744Z",
     "start_time": "2019-11-06T16:12:45.788793Z"
    }
   },
   "outputs": [
    {
     "data": {
      "image/png": "[encoded data removed]",
      "text/plain": [
       "<Figure size 720x432 with 1 Axes>"
      ]
     },
     "metadata": {},
     "output_type": "display_data"
    }
   ],
   "source": [
    "fig, axs = plt.subplots(1, 1, figsize=(10, 6), facecolor='white')\n",
    "\n",
    "axs.hist(set_df.loc[set_df['aftermarket'].isna()==False]['aftermarket'].values, bins=200, color='green')\n",
    "axs.set(xlabel='After-Market Value $', ylabel='Total of Sets', xlim=(-200, 200))  \n",
    "\n",
    "plt.show()"
   ]
  },
  {
   "cell_type": "code",
   "execution_count": 24,
   "metadata": {
    "ExecuteTime": {
     "end_time": "2019-11-06T16:12:46.205922Z",
     "start_time": "2019-11-06T16:12:46.186503Z"
    }
   },
   "outputs": [
    {
     "data": {
      "text/plain": [
       "year\n",
       "1980     58\n",
       "1981     34\n",
       "1982     29\n",
       "1983     39\n",
       "1984     43\n",
       "1985     61\n",
       "1986     64\n",
       "1987     55\n",
       "1988     51\n",
       "1989     57\n",
       "1990     49\n",
       "1991     64\n",
       "1992     54\n",
       "1993     63\n",
       "1994     71\n",
       "1995     57\n",
       "1996     87\n",
       "1997    113\n",
       "1998    176\n",
       "1999    180\n",
       "2000    167\n",
       "2001    210\n",
       "2002    198\n",
       "2003    228\n",
       "2004    191\n",
       "2005    156\n",
       "2006    174\n",
       "2007    158\n",
       "2008    191\n",
       "2009    165\n",
       "2010    194\n",
       "2011    217\n",
       "2012    246\n",
       "2013    257\n",
       "2014    307\n",
       "2015    302\n",
       "2016    316\n",
       "2017    221\n",
       "Name: set_no, dtype: int64"
      ]
     },
     "execution_count": 24,
     "metadata": {},
     "output_type": "execute_result"
    }
   ],
   "source": [
    "# compare positive and negative aftermarket per year\n",
    "\n",
    "set_df.groupby(['year']).count()['set_no']"
   ]
  },
  {
   "cell_type": "code",
   "execution_count": 25,
   "metadata": {
    "ExecuteTime": {
     "end_time": "2019-11-06T16:12:46.220806Z",
     "start_time": "2019-11-06T16:12:46.207918Z"
    }
   },
   "outputs": [
    {
     "data": {
      "text/plain": [
       "(1868, 141)"
      ]
     },
     "execution_count": 25,
     "metadata": {},
     "output_type": "execute_result"
    }
   ],
   "source": [
    "increase_df = set_df.loc[set_df['aftermarket']>0]\n",
    "\n",
    "increase_df.shape"
   ]
  },
  {
   "cell_type": "code",
   "execution_count": 26,
   "metadata": {
    "ExecuteTime": {
     "end_time": "2019-11-06T16:12:46.244897Z",
     "start_time": "2019-11-06T16:12:46.222803Z"
    }
   },
   "outputs": [
    {
     "data": {
      "text/plain": [
       "(2167, 141)"
      ]
     },
     "execution_count": 26,
     "metadata": {},
     "output_type": "execute_result"
    }
   ],
   "source": [
    "decrease_df = set_df.loc[set_df['aftermarket']<=0]\n",
    "\n",
    "decrease_df.shape"
   ]
  },
  {
   "cell_type": "code",
   "execution_count": 27,
   "metadata": {
    "ExecuteTime": {
     "end_time": "2019-11-06T16:12:46.623169Z",
     "start_time": "2019-11-06T16:12:46.244897Z"
    }
   },
   "outputs": [
    {
     "data": {
      "image/png": "[encoded data removed]",
      "text/plain": [
       "<Figure size 864x576 with 2 Axes>"
      ]
     },
     "metadata": {
      "needs_background": "light"
     },
     "output_type": "display_data"
    }
   ],
   "source": [
    "fig, axs = plt.subplots(2, 1, figsize=(12, 8))\n",
    "\n",
    "axs[0].hist(increase_df['year'].values, bins=increase_df['year'].unique().shape[0])\n",
    "axs[0].set(xlabel='Year', ylabel='No Sets', xlim=(1980, 2018), ylim=(0, 300))\n",
    "\n",
    "axs[1].hist(decrease_df['year'].values, bins=decrease_df['year'].unique().shape[0])\n",
    "axs[1].set(xlabel='Year', ylabel='No Sets', xlim=(1980, 2018), ylim=(0, 300))\n",
    "axs[1].set_ylim(axs[1].get_ylim()[::-1])\n",
    "\n",
    "plt.show()"
   ]
  },
  {
   "cell_type": "markdown",
   "metadata": {},
   "source": [
    "## Calculating Inflation Adjusted Aftermarket Value Increase"
   ]
  },
  {
   "cell_type": "code",
   "execution_count": 28,
   "metadata": {
    "ExecuteTime": {
     "end_time": "2019-11-06T16:12:46.637247Z",
     "start_time": "2019-11-06T16:12:46.626160Z"
    }
   },
   "outputs": [],
   "source": [
    "# removing early years without much data and most recent year which hasn't enough time to appreciate\n",
    "set_df = set_df.loc[(set_df.year > 1983) & (set_df.year < 2017)]"
   ]
  },
  {
   "cell_type": "code",
   "execution_count": 29,
   "metadata": {
    "ExecuteTime": {
     "end_time": "2019-11-06T16:12:46.650096Z",
     "start_time": "2019-11-06T16:12:46.640152Z"
    }
   },
   "outputs": [],
   "source": [
    "# generating a tuple with the store price and years since released\n",
    "# will be used in a lambda function below\n",
    "set_df[\"adj_store_price\"] = list(zip(set_df[\"price_store\"], 2019-set_df[\"year\"]))"
   ]
  },
  {
   "cell_type": "code",
   "execution_count": 30,
   "metadata": {
    "ExecuteTime": {
     "end_time": "2019-11-06T16:12:46.659072Z",
     "start_time": "2019-11-06T16:12:46.653088Z"
    }
   },
   "outputs": [],
   "source": [
    "def discounted_value(discount_tuple):\n",
    "    \"\"\"\n",
    "    Per https://smartasset.com/investing/inflation-calculator, \n",
    "    the average rate of inflation between 1984 and 2019 is 2.63%\n",
    "    \"\"\"\n",
    "    value = discount_tuple[0]\n",
    "    for index in range(0, discount_tuple[1]):\n",
    "        value *= 1.0263\n",
    "    return round(value,2)"
   ]
  },
  {
   "cell_type": "code",
   "execution_count": 31,
   "metadata": {
    "ExecuteTime": {
     "end_time": "2019-11-06T16:12:46.694388Z",
     "start_time": "2019-11-06T16:12:46.662064Z"
    }
   },
   "outputs": [],
   "source": [
    "set_df[\"adj_store_price\"] = set_df[\"adj_store_price\"].apply(lambda x: discounted_value(x))"
   ]
  },
  {
   "cell_type": "code",
   "execution_count": 32,
   "metadata": {
    "ExecuteTime": {
     "end_time": "2019-11-06T16:12:46.710009Z",
     "start_time": "2019-11-06T16:12:46.694388Z"
    }
   },
   "outputs": [],
   "source": [
    "set_df[\"adj_aftermarket\"] = set_df[\"price_used\"] - set_df[\"adj_store_price\"]"
   ]
  },
  {
   "cell_type": "code",
   "execution_count": 33,
   "metadata": {
    "ExecuteTime": {
     "end_time": "2019-11-06T16:12:46.725715Z",
     "start_time": "2019-11-06T16:12:46.710009Z"
    }
   },
   "outputs": [],
   "source": [
    "set_df[\"profitable\"] = set_df[\"adj_aftermarket\"].apply(lambda x: 1 if x > 0 else (0 if x <= 0 else np.nan))"
   ]
  },
  {
   "cell_type": "code",
   "execution_count": 34,
   "metadata": {
    "ExecuteTime": {
     "end_time": "2019-11-06T16:12:46.739906Z",
     "start_time": "2019-11-06T16:12:46.725715Z"
    }
   },
   "outputs": [
    {
     "data": {
      "text/plain": [
       "0.0    2816\n",
       "1.0    1016\n",
       "Name: profitable, dtype: int64"
      ]
     },
     "execution_count": 34,
     "metadata": {},
     "output_type": "execute_result"
    }
   ],
   "source": [
    "set_df[\"profitable\"].value_counts()"
   ]
  },
  {
   "cell_type": "code",
   "execution_count": 35,
   "metadata": {
    "ExecuteTime": {
     "end_time": "2019-11-06T16:12:47.322801Z",
     "start_time": "2019-11-06T16:12:46.741951Z"
    },
    "scrolled": false
   },
   "outputs": [
    {
     "data": {
      "image/png": "[encoded data removed]",
      "text/plain": [
       "<Figure size 720x432 with 1 Axes>"
      ]
     },
     "metadata": {},
     "output_type": "display_data"
    }
   ],
   "source": [
    "fig, axs = plt.subplots(1, 1, figsize=(10, 6), facecolor='white')\n",
    "\n",
    "axs.hist(set_df.loc[set_df['adj_aftermarket'].isna()==False]['adj_aftermarket'].values, bins=200, color='green')\n",
    "axs.set(xlabel='Inflation Adjusted After-Market Value $', ylabel='Total of Sets', xlim=(-200, 200))  \n",
    "\n",
    "plt.show()"
   ]
  },
  {
   "cell_type": "code",
   "execution_count": 36,
   "metadata": {
    "ExecuteTime": {
     "end_time": "2019-11-06T16:12:47.353742Z",
     "start_time": "2019-11-06T16:12:47.325786Z"
    }
   },
   "outputs": [
    {
     "data": {
      "text/html": [
       "<div>\n",
       "<style scoped>\n",
       "    .dataframe tbody tr th:only-of-type {\n",
       "        vertical-align: middle;\n",
       "    }\n",
       "\n",
       "    .dataframe tbody tr th {\n",
       "        vertical-align: top;\n",
       "    }\n",
       "\n",
       "    .dataframe thead th {\n",
       "        text-align: right;\n",
       "    }\n",
       "</style>\n",
       "<table border=\"1\" class=\"dataframe\">\n",
       "  <thead>\n",
       "    <tr style=\"text-align: right;\">\n",
       "      <th></th>\n",
       "      <th>index</th>\n",
       "      <th>profitable</th>\n",
       "      <th>label</th>\n",
       "      <th>percent</th>\n",
       "    </tr>\n",
       "  </thead>\n",
       "  <tbody>\n",
       "    <tr>\n",
       "      <th>0</th>\n",
       "      <td>0.0</td>\n",
       "      <td>2816</td>\n",
       "      <td>Loss</td>\n",
       "      <td>0.734864</td>\n",
       "    </tr>\n",
       "    <tr>\n",
       "      <th>1</th>\n",
       "      <td>1.0</td>\n",
       "      <td>1016</td>\n",
       "      <td>Profit</td>\n",
       "      <td>0.265136</td>\n",
       "    </tr>\n",
       "  </tbody>\n",
       "</table>\n",
       "</div>"
      ],
      "text/plain": [
       "   index  profitable   label   percent\n",
       "0    0.0        2816    Loss  0.734864\n",
       "1    1.0        1016  Profit  0.265136"
      ]
     },
     "execution_count": 36,
     "metadata": {},
     "output_type": "execute_result"
    }
   ],
   "source": [
    "plot_df = pd.DataFrame(set_df[\"profitable\"].value_counts()).reset_index()\n",
    "\n",
    "plot_df['label'] = None\n",
    "plot_df.at[0, 'label'] = 'Loss'\n",
    "plot_df.at[1, 'label'] = 'Profit'\n",
    "\n",
    "plot_df['percent'] = plot_df['profitable'] / sum(plot_df['profitable'] )\n",
    "\n",
    "plot_df"
   ]
  },
  {
   "cell_type": "code",
   "execution_count": 55,
   "metadata": {
    "ExecuteTime": {
     "end_time": "2019-11-06T16:29:11.934707Z",
     "start_time": "2019-11-06T16:29:11.738814Z"
    }
   },
   "outputs": [
    {
     "data": {
      "text/plain": [
       "Text(0.0, 0.7448643006263048, '73.5%')"
      ]
     },
     "execution_count": 55,
     "metadata": {},
     "output_type": "execute_result"
    },
    {
     "data": {
      "text/plain": [
       "Text(1.0, 0.2751356993736952, '26.5%')"
      ]
     },
     "execution_count": 55,
     "metadata": {},
     "output_type": "execute_result"
    },
    {
     "data": {
      "text/plain": [
       "<Figure size 432x504 with 0 Axes>"
      ]
     },
     "metadata": {},
     "output_type": "display_data"
    },
    {
     "data": {
      "image/png": "[encoded data removed]",
      "text/plain": [
       "<Figure size 360x360 with 1 Axes>"
      ]
     },
     "metadata": {
      "needs_background": "light"
     },
     "output_type": "display_data"
    }
   ],
   "source": [
    "fig = plt.figure(figsize=(6, 7), facecolor='white')\n",
    "\n",
    "sns.catplot(data=plot_df, x='label', y='percent', kind='bar', palette=['crimson', 'lime'])\n",
    "ax = plt.gca()\n",
    "ax.set(title='Profitability Proportion', xlabel='', ylabel='', ylim=(0, 1))\n",
    "ylabels = ['{:.0f}%'.format(x) for x in ax.get_yticks() *100]\n",
    "ax.set_yticklabels(ylabels)\n",
    "ax.invert_xaxis()\n",
    "for p in ax.patches:\n",
    "    ax.text(p.get_x() + p.get_width()/2., p.get_height()+.01, str(round(p.get_height()*100,1))+\"%\", \n",
    "            fontsize=10, color='black', ha='center', va='bottom');"
   ]
  },
  {
   "cell_type": "code",
   "execution_count": 39,
   "metadata": {
    "ExecuteTime": {
     "end_time": "2019-11-06T16:16:16.362884Z",
     "start_time": "2019-11-06T16:16:16.031872Z"
    }
   },
   "outputs": [
    {
     "data": {
      "image/png": "[encoded data removed]",
      "text/plain": [
       "<Figure size 432x504 with 1 Axes>"
      ]
     },
     "metadata": {},
     "output_type": "display_data"
    },
    {
     "data": {
      "image/png": "[encoded data removed]",
      "text/plain": [
       "<Figure size 360x360 with 1 Axes>"
      ]
     },
     "metadata": {
      "needs_background": "light"
     },
     "output_type": "display_data"
    }
   ],
   "source": [
    "fig, axs = plt.subplots(1, 1, figsize=(6, 7), facecolor='white')\n",
    "\n",
    "sns.catplot(data=plot_df, x='label', y='percent', ax=axs, kind='bar', palette=['crimson', 'lime'])\n",
    "axs.set(title='Profitability Proportion', xlabel='', ylabel='', ylim=(0, 1))\n",
    "ylabels = ['{:.0f}%'.format(x) for x in axs.get_yticks() *100]\n",
    "axs.set_yticklabels(ylabels)\n",
    "axs.invert_xaxis()\n",
    "\n",
    "plt.show();"
   ]
  },
  {
   "cell_type": "markdown",
   "metadata": {},
   "source": [
    "## Clean the Features Dataset"
   ]
  },
  {
   "cell_type": "code",
   "execution_count": null,
   "metadata": {
    "ExecuteTime": {
     "end_time": "2019-11-04T21:25:44.748654Z",
     "start_time": "2019-11-04T21:25:44.712750Z"
    }
   },
   "outputs": [],
   "source": [
    "set_df.info(verbose=True, null_counts=True)"
   ]
  },
  {
   "cell_type": "code",
   "execution_count": null,
   "metadata": {
    "ExecuteTime": {
     "end_time": "2019-11-04T21:28:25.886817Z",
     "start_time": "2019-11-04T21:28:25.839938Z"
    }
   },
   "outputs": [],
   "source": [
    "drop_columns = ['price_new', 'rating_value', 'rating_votes',\n",
    "                'theme_group', 'theme', 'subtheme', 'piece_cnt',\n",
    "                'minifig_cnt', '1st_color', '2nd_color']\n",
    "\n",
    "set_clean_df = set_df.drop(columns=drop_columns)\n",
    "\n",
    "set_clean_df[2200:2205]"
   ]
  },
  {
   "cell_type": "code",
   "execution_count": null,
   "metadata": {
    "ExecuteTime": {
     "end_time": "2019-11-04T21:28:25.927706Z",
     "start_time": "2019-11-04T21:28:25.891800Z"
    }
   },
   "outputs": [],
   "source": [
    "set_clean_df.info(verbose=True, null_counts=True)"
   ]
  },
  {
   "cell_type": "code",
   "execution_count": null,
   "metadata": {
    "ExecuteTime": {
     "end_time": "2019-11-04T21:28:26.538303Z",
     "start_time": "2019-11-04T21:28:25.930696Z"
    }
   },
   "outputs": [],
   "source": [
    "save_path = r'../data/merge_feature.csv'\n",
    "set_clean_df.to_csv(save_path, index=False)\n",
    "f'{round(os.path.getsize(save_path) /1e6, 2)} mb'"
   ]
  }
 ],
 "metadata": {
  "kernelspec": {
   "display_name": "Python 3",
   "language": "python",
   "name": "python3"
  },
  "language_info": {
   "codemirror_mode": {
    "name": "ipython",
    "version": 3
   },
   "file_extension": ".py",
   "mimetype": "text/x-python",
   "name": "python",
   "nbconvert_exporter": "python",
   "pygments_lexer": "ipython3",
   "version": "3.6.9"
  },
  "toc": {
   "base_numbering": 1,
   "nav_menu": {},
   "number_sections": true,
   "sideBar": true,
   "skip_h1_title": false,
   "title_cell": "Table of Contents",
   "title_sidebar": "Contents",
   "toc_cell": false,
   "toc_position": {},
   "toc_section_display": true,
   "toc_window_display": false
  }
 },
 "nbformat": 4,
 "nbformat_minor": 2
}
