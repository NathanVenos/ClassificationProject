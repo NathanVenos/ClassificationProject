{
 "cells": [
  {
   "cell_type": "markdown",
   "metadata": {},
   "source": [
    "# Brickset Merge Job Files \n",
    "\n",
    "Workflow: 4   \n",
    "\n",
    "Goal: To concatenate the job files with raw data.   \n",
    "\n",
    "Result: All sets' raw data is available in one file ```brickset_set_full.csv```."
   ]
  },
  {
   "cell_type": "code",
   "execution_count": 1,
   "metadata": {},
   "outputs": [],
   "source": [
    "import os\n",
    "import pandas as pd\n",
    "import numpy as np\n",
    "import matplotlib.pyplot as plt\n",
    "%matplotlib inline\n",
    "import seaborn as sns"
   ]
  },
  {
   "cell_type": "code",
   "execution_count": 2,
   "metadata": {},
   "outputs": [],
   "source": [
    "from IPython.core.interactiveshell import InteractiveShell\n",
    "InteractiveShell.ast_node_interactivity = 'all'"
   ]
  },
  {
   "cell_type": "markdown",
   "metadata": {},
   "source": [
    "## Merge Job Files"
   ]
  },
  {
   "cell_type": "code",
   "execution_count": 3,
   "metadata": {},
   "outputs": [],
   "source": [
    "SET_0_FILE = '../data/brickset_set_data_0k.csv'\n",
    "SET_3_FILE = '../data/brickset_set_data_3k.csv'\n",
    "SET_7_FILE = '../data/brickset_set_data_7k.csv'\n",
    "SET_10_FILE = '../data/brickset_set_data_10k.csv'"
   ]
  },
  {
   "cell_type": "code",
   "execution_count": 4,
   "metadata": {},
   "outputs": [
    {
     "data": {
      "text/plain": [
       "(3499, 19)"
      ]
     },
     "execution_count": 4,
     "metadata": {},
     "output_type": "execute_result"
    },
    {
     "data": {
      "text/plain": [
       "(3499, 19)"
      ]
     },
     "execution_count": 4,
     "metadata": {},
     "output_type": "execute_result"
    },
    {
     "data": {
      "text/plain": [
       "(3491, 19)"
      ]
     },
     "execution_count": 4,
     "metadata": {},
     "output_type": "execute_result"
    },
    {
     "data": {
      "text/plain": [
       "(3399, 19)"
      ]
     },
     "execution_count": 4,
     "metadata": {},
     "output_type": "execute_result"
    }
   ],
   "source": [
    "set_0_df = pd.read_csv(SET_0_FILE)\n",
    "set_3_df = pd.read_csv(SET_3_FILE)\n",
    "set_7_df = pd.read_csv(SET_7_FILE)\n",
    "set_10_df = pd.read_csv(SET_10_FILE)\n",
    "\n",
    "set_0_df.shape\n",
    "set_3_df.shape\n",
    "set_7_df.shape\n",
    "set_10_df.shape"
   ]
  },
  {
   "cell_type": "code",
   "execution_count": 5,
   "metadata": {},
   "outputs": [
    {
     "data": {
      "text/html": [
       "<div>\n",
       "<style scoped>\n",
       "    .dataframe tbody tr th:only-of-type {\n",
       "        vertical-align: middle;\n",
       "    }\n",
       "\n",
       "    .dataframe tbody tr th {\n",
       "        vertical-align: top;\n",
       "    }\n",
       "\n",
       "    .dataframe thead th {\n",
       "        text-align: right;\n",
       "    }\n",
       "</style>\n",
       "<table border=\"1\" class=\"dataframe\">\n",
       "  <thead>\n",
       "    <tr style=\"text-align: right;\">\n",
       "      <th></th>\n",
       "      <th>set_no</th>\n",
       "      <th>name</th>\n",
       "      <th>url</th>\n",
       "      <th>theme_group</th>\n",
       "      <th>theme</th>\n",
       "      <th>subtheme</th>\n",
       "      <th>year</th>\n",
       "      <th>piece_cnt</th>\n",
       "      <th>minifig_cnt</th>\n",
       "      <th>inventory_url</th>\n",
       "      <th>minifig_url</th>\n",
       "      <th>store_price</th>\n",
       "      <th>current_price</th>\n",
       "      <th>rating_value</th>\n",
       "      <th>rating_votes</th>\n",
       "      <th>tags</th>\n",
       "      <th>set_type</th>\n",
       "      <th>packaging</th>\n",
       "      <th>notes</th>\n",
       "    </tr>\n",
       "  </thead>\n",
       "  <tbody>\n",
       "    <tr>\n",
       "      <th>0</th>\n",
       "      <td>722-1</td>\n",
       "      <td>Universal Building Set, 7+</td>\n",
       "      <td>/sets/722-1/Universal-Building-Set-7</td>\n",
       "      <td>Basic</td>\n",
       "      <td>Basic</td>\n",
       "      <td>NaN</td>\n",
       "      <td>1980.0</td>\n",
       "      <td>301.0</td>\n",
       "      <td>0.0</td>\n",
       "      <td>NaN</td>\n",
       "      <td>NaN</td>\n",
       "      <td>$20.00</td>\n",
       "      <td>New: $200, Used: $78</td>\n",
       "      <td>4.4</td>\n",
       "      <td>5</td>\n",
       "      <td>4X4, Aircraft, Articulated Lorry, Boat, Car, C...</td>\n",
       "      <td>Normal</td>\n",
       "      <td>NaN</td>\n",
       "      <td>NaN</td>\n",
       "    </tr>\n",
       "    <tr>\n",
       "      <th>1</th>\n",
       "      <td>733-1</td>\n",
       "      <td>Universal Building Set, 7+</td>\n",
       "      <td>/sets/733-1/Universal-Building-Set-7</td>\n",
       "      <td>Basic</td>\n",
       "      <td>Basic</td>\n",
       "      <td>NaN</td>\n",
       "      <td>1980.0</td>\n",
       "      <td>533.0</td>\n",
       "      <td>0.0</td>\n",
       "      <td>NaN</td>\n",
       "      <td>NaN</td>\n",
       "      <td>$39.00</td>\n",
       "      <td>New: $566, Used: $109</td>\n",
       "      <td>4.5</td>\n",
       "      <td>2</td>\n",
       "      <td>Articulated Lorry, Base, Baseplate, Crane, For...</td>\n",
       "      <td>Normal</td>\n",
       "      <td>NaN</td>\n",
       "      <td>NaN</td>\n",
       "    </tr>\n",
       "    <tr>\n",
       "      <th>2</th>\n",
       "      <td>744-1</td>\n",
       "      <td>Universal Building Set with Motor, 7+</td>\n",
       "      <td>/sets/744-1/Universal-Building-Set-with-Motor-7</td>\n",
       "      <td>Basic</td>\n",
       "      <td>Basic</td>\n",
       "      <td>NaN</td>\n",
       "      <td>1980.0</td>\n",
       "      <td>537.0</td>\n",
       "      <td>0.0</td>\n",
       "      <td>NaN</td>\n",
       "      <td>NaN</td>\n",
       "      <td>$59.00</td>\n",
       "      <td>New: $252, Used: $97</td>\n",
       "      <td>5.0</td>\n",
       "      <td>2</td>\n",
       "      <td>8 Wheel Vehicle, Crane, Electric Motor, Mobile...</td>\n",
       "      <td>Normal</td>\n",
       "      <td>NaN</td>\n",
       "      <td>NaN</td>\n",
       "    </tr>\n",
       "    <tr>\n",
       "      <th>3</th>\n",
       "      <td>820-1</td>\n",
       "      <td>Red Plates Parts Pack</td>\n",
       "      <td>/sets/820-1/Red-Plates-Parts-Pack</td>\n",
       "      <td>Basic</td>\n",
       "      <td>Basic</td>\n",
       "      <td>Supplementaries</td>\n",
       "      <td>1980.0</td>\n",
       "      <td>34.0</td>\n",
       "      <td>0.0</td>\n",
       "      <td>NaN</td>\n",
       "      <td>NaN</td>\n",
       "      <td>$4.75</td>\n",
       "      <td>New: Not known, Used: Not known</td>\n",
       "      <td>NaN</td>\n",
       "      <td>NaN</td>\n",
       "      <td>NaN</td>\n",
       "      <td>Normal</td>\n",
       "      <td>NaN</td>\n",
       "      <td>NaN</td>\n",
       "    </tr>\n",
       "    <tr>\n",
       "      <th>4</th>\n",
       "      <td>822-1</td>\n",
       "      <td>Blue Plates Parts Pack</td>\n",
       "      <td>/sets/822-1/Blue-Plates-Parts-Pack</td>\n",
       "      <td>Basic</td>\n",
       "      <td>Basic</td>\n",
       "      <td>Supplementaries</td>\n",
       "      <td>1980.0</td>\n",
       "      <td>34.0</td>\n",
       "      <td>0.0</td>\n",
       "      <td>NaN</td>\n",
       "      <td>NaN</td>\n",
       "      <td>$4.75</td>\n",
       "      <td>New: $29, Used: $5</td>\n",
       "      <td>NaN</td>\n",
       "      <td>NaN</td>\n",
       "      <td>NaN</td>\n",
       "      <td>Normal</td>\n",
       "      <td>NaN</td>\n",
       "      <td>NaN</td>\n",
       "    </tr>\n",
       "  </tbody>\n",
       "</table>\n",
       "</div>"
      ],
      "text/plain": [
       "  set_no                                   name  \\\n",
       "0  722-1             Universal Building Set, 7+   \n",
       "1  733-1             Universal Building Set, 7+   \n",
       "2  744-1  Universal Building Set with Motor, 7+   \n",
       "3  820-1                  Red Plates Parts Pack   \n",
       "4  822-1                 Blue Plates Parts Pack   \n",
       "\n",
       "                                               url theme_group  theme  \\\n",
       "0             /sets/722-1/Universal-Building-Set-7       Basic  Basic   \n",
       "1             /sets/733-1/Universal-Building-Set-7       Basic  Basic   \n",
       "2  /sets/744-1/Universal-Building-Set-with-Motor-7       Basic  Basic   \n",
       "3                /sets/820-1/Red-Plates-Parts-Pack       Basic  Basic   \n",
       "4               /sets/822-1/Blue-Plates-Parts-Pack       Basic  Basic   \n",
       "\n",
       "          subtheme    year  piece_cnt  minifig_cnt inventory_url minifig_url  \\\n",
       "0              NaN  1980.0      301.0          0.0           NaN         NaN   \n",
       "1              NaN  1980.0      533.0          0.0           NaN         NaN   \n",
       "2              NaN  1980.0      537.0          0.0           NaN         NaN   \n",
       "3  Supplementaries  1980.0       34.0          0.0           NaN         NaN   \n",
       "4  Supplementaries  1980.0       34.0          0.0           NaN         NaN   \n",
       "\n",
       "  store_price                    current_price  rating_value rating_votes  \\\n",
       "0      $20.00             New: $200, Used: $78           4.4            5   \n",
       "1      $39.00            New: $566, Used: $109           4.5            2   \n",
       "2      $59.00             New: $252, Used: $97           5.0            2   \n",
       "3       $4.75  New: Not known, Used: Not known           NaN          NaN   \n",
       "4       $4.75               New: $29, Used: $5           NaN          NaN   \n",
       "\n",
       "                                                tags set_type packaging notes  \n",
       "0  4X4, Aircraft, Articulated Lorry, Boat, Car, C...   Normal       NaN   NaN  \n",
       "1  Articulated Lorry, Base, Baseplate, Crane, For...   Normal       NaN   NaN  \n",
       "2  8 Wheel Vehicle, Crane, Electric Motor, Mobile...   Normal       NaN   NaN  \n",
       "3                                                NaN   Normal       NaN   NaN  \n",
       "4                                                NaN   Normal       NaN   NaN  "
      ]
     },
     "execution_count": 5,
     "metadata": {},
     "output_type": "execute_result"
    },
    {
     "name": "stdout",
     "output_type": "stream",
     "text": [
      "<class 'pandas.core.frame.DataFrame'>\n",
      "RangeIndex: 13888 entries, 0 to 13887\n",
      "Data columns (total 19 columns):\n",
      "set_no           13887 non-null object\n",
      "name             13887 non-null object\n",
      "url              13887 non-null object\n",
      "theme_group      13887 non-null object\n",
      "theme            13887 non-null object\n",
      "subtheme         10161 non-null object\n",
      "year             13887 non-null float64\n",
      "piece_cnt        10948 non-null float64\n",
      "minifig_cnt      13887 non-null float64\n",
      "inventory_url    7018 non-null object\n",
      "minifig_url      6295 non-null object\n",
      "store_price      9280 non-null object\n",
      "current_price    13887 non-null object\n",
      "rating_value     6870 non-null float64\n",
      "rating_votes     6870 non-null object\n",
      "tags             10358 non-null object\n",
      "set_type         13886 non-null object\n",
      "packaging        9017 non-null object\n",
      "notes            5288 non-null object\n",
      "dtypes: float64(4), object(15)\n",
      "memory usage: 2.0+ MB\n"
     ]
    }
   ],
   "source": [
    "set_df = pd.concat([set_0_df, set_3_df, set_7_df, set_10_df], ignore_index=True)\n",
    "set_df.head()\n",
    "set_df.info()"
   ]
  },
  {
   "cell_type": "code",
   "execution_count": 6,
   "metadata": {},
   "outputs": [
    {
     "name": "stdout",
     "output_type": "stream",
     "text": [
      "<class 'pandas.core.frame.DataFrame'>\n",
      "RangeIndex: 13887 entries, 0 to 13886\n",
      "Data columns (total 19 columns):\n",
      "set_no           13887 non-null object\n",
      "name             13887 non-null object\n",
      "url              13887 non-null object\n",
      "theme_group      13887 non-null object\n",
      "theme            13887 non-null object\n",
      "subtheme         10161 non-null object\n",
      "year             13887 non-null float64\n",
      "piece_cnt        10948 non-null float64\n",
      "minifig_cnt      13887 non-null float64\n",
      "inventory_url    7018 non-null object\n",
      "minifig_url      6295 non-null object\n",
      "store_price      9280 non-null object\n",
      "current_price    13887 non-null object\n",
      "rating_value     6870 non-null float64\n",
      "rating_votes     6870 non-null object\n",
      "tags             10358 non-null object\n",
      "set_type         13886 non-null object\n",
      "packaging        9017 non-null object\n",
      "notes            5288 non-null object\n",
      "dtypes: float64(4), object(15)\n",
      "memory usage: 2.0+ MB\n"
     ]
    }
   ],
   "source": [
    "# drop the sets that errored out from url search\n",
    "\n",
    "set_df = set_df.dropna(subset=['set_no']).reset_index().drop(columns=['index'])\n",
    "set_df.info()"
   ]
  },
  {
   "cell_type": "code",
   "execution_count": 7,
   "metadata": {},
   "outputs": [
    {
     "data": {
      "text/html": [
       "<div>\n",
       "<style scoped>\n",
       "    .dataframe tbody tr th:only-of-type {\n",
       "        vertical-align: middle;\n",
       "    }\n",
       "\n",
       "    .dataframe tbody tr th {\n",
       "        vertical-align: top;\n",
       "    }\n",
       "\n",
       "    .dataframe thead th {\n",
       "        text-align: right;\n",
       "    }\n",
       "</style>\n",
       "<table border=\"1\" class=\"dataframe\">\n",
       "  <thead>\n",
       "    <tr style=\"text-align: right;\">\n",
       "      <th></th>\n",
       "      <th>set_no</th>\n",
       "      <th>name</th>\n",
       "      <th>url</th>\n",
       "      <th>theme_group</th>\n",
       "      <th>theme</th>\n",
       "      <th>subtheme</th>\n",
       "      <th>year</th>\n",
       "      <th>piece_cnt</th>\n",
       "      <th>minifig_cnt</th>\n",
       "      <th>inventory_url</th>\n",
       "      <th>minifig_url</th>\n",
       "      <th>store_price</th>\n",
       "      <th>current_price</th>\n",
       "      <th>rating_value</th>\n",
       "      <th>rating_votes</th>\n",
       "      <th>tags</th>\n",
       "      <th>set_type</th>\n",
       "      <th>packaging</th>\n",
       "      <th>notes</th>\n",
       "    </tr>\n",
       "  </thead>\n",
       "  <tbody>\n",
       "    <tr>\n",
       "      <th>7179</th>\n",
       "      <td>10287-1</td>\n",
       "      <td>Intelligent NXT Brick (Black)</td>\n",
       "      <td>/sets/10287-1/Intelligent-NXT-Brick-(Black)</td>\n",
       "      <td>Technical</td>\n",
       "      <td>Mindstorms</td>\n",
       "      <td>NXT</td>\n",
       "      <td>2009.0</td>\n",
       "      <td>1.0</td>\n",
       "      <td>0.0</td>\n",
       "      <td>NaN</td>\n",
       "      <td>NaN</td>\n",
       "      <td>£107.65, $169.99</td>\n",
       "      <td>New: $99, Used: $230</td>\n",
       "      <td>NaN</td>\n",
       "      <td>NaN</td>\n",
       "      <td>NaN</td>\n",
       "      <td>Normal</td>\n",
       "      <td>NaN</td>\n",
       "      <td>NaN</td>\n",
       "    </tr>\n",
       "    <tr>\n",
       "      <th>7084</th>\n",
       "      <td>10287-1</td>\n",
       "      <td>Intelligent NXT Brick (Black)</td>\n",
       "      <td>/sets/10287-1/Intelligent-NXT-Brick-(Black)</td>\n",
       "      <td>Technical</td>\n",
       "      <td>Mindstorms</td>\n",
       "      <td>NXT</td>\n",
       "      <td>2009.0</td>\n",
       "      <td>1.0</td>\n",
       "      <td>0.0</td>\n",
       "      <td>NaN</td>\n",
       "      <td>NaN</td>\n",
       "      <td>£107.65, $169.99</td>\n",
       "      <td>New: $99, Used: $230</td>\n",
       "      <td>NaN</td>\n",
       "      <td>NaN</td>\n",
       "      <td>NaN</td>\n",
       "      <td>Normal</td>\n",
       "      <td>NaN</td>\n",
       "      <td>NaN</td>\n",
       "    </tr>\n",
       "    <tr>\n",
       "      <th>7180</th>\n",
       "      <td>20007-1</td>\n",
       "      <td>Republic Attack Cruiser</td>\n",
       "      <td>/sets/20007-1/Republic-Attack-Cruiser</td>\n",
       "      <td>Licensed</td>\n",
       "      <td>Star Wars</td>\n",
       "      <td>The Clone Wars</td>\n",
       "      <td>2009.0</td>\n",
       "      <td>84.0</td>\n",
       "      <td>0.0</td>\n",
       "      <td>/inventories/20007-1</td>\n",
       "      <td>NaN</td>\n",
       "      <td>NaN</td>\n",
       "      <td>New: $30, Used: $13</td>\n",
       "      <td>4.5</td>\n",
       "      <td>6</td>\n",
       "      <td>Brickmaster, Cartoon, Cartoon Network, Galacti...</td>\n",
       "      <td>Normal</td>\n",
       "      <td>Polybag</td>\n",
       "      <td>[US] BrickMaster exclusive.</td>\n",
       "    </tr>\n",
       "    <tr>\n",
       "      <th>7085</th>\n",
       "      <td>20007-1</td>\n",
       "      <td>Republic Attack Cruiser</td>\n",
       "      <td>/sets/20007-1/Republic-Attack-Cruiser</td>\n",
       "      <td>Licensed</td>\n",
       "      <td>Star Wars</td>\n",
       "      <td>The Clone Wars</td>\n",
       "      <td>2009.0</td>\n",
       "      <td>84.0</td>\n",
       "      <td>0.0</td>\n",
       "      <td>/inventories/20007-1</td>\n",
       "      <td>NaN</td>\n",
       "      <td>NaN</td>\n",
       "      <td>New: $30, Used: $13</td>\n",
       "      <td>4.5</td>\n",
       "      <td>6</td>\n",
       "      <td>Brickmaster, Cartoon, Cartoon Network, Galacti...</td>\n",
       "      <td>Normal</td>\n",
       "      <td>Polybag</td>\n",
       "      <td>[US] BrickMaster exclusive.</td>\n",
       "    </tr>\n",
       "  </tbody>\n",
       "</table>\n",
       "</div>"
      ],
      "text/plain": [
       "       set_no                           name  \\\n",
       "7179  10287-1  Intelligent NXT Brick (Black)   \n",
       "7084  10287-1  Intelligent NXT Brick (Black)   \n",
       "7180  20007-1        Republic Attack Cruiser   \n",
       "7085  20007-1        Republic Attack Cruiser   \n",
       "\n",
       "                                              url theme_group       theme  \\\n",
       "7179  /sets/10287-1/Intelligent-NXT-Brick-(Black)   Technical  Mindstorms   \n",
       "7084  /sets/10287-1/Intelligent-NXT-Brick-(Black)   Technical  Mindstorms   \n",
       "7180        /sets/20007-1/Republic-Attack-Cruiser    Licensed   Star Wars   \n",
       "7085        /sets/20007-1/Republic-Attack-Cruiser    Licensed   Star Wars   \n",
       "\n",
       "            subtheme    year  piece_cnt  minifig_cnt         inventory_url  \\\n",
       "7179             NXT  2009.0        1.0          0.0                   NaN   \n",
       "7084             NXT  2009.0        1.0          0.0                   NaN   \n",
       "7180  The Clone Wars  2009.0       84.0          0.0  /inventories/20007-1   \n",
       "7085  The Clone Wars  2009.0       84.0          0.0  /inventories/20007-1   \n",
       "\n",
       "     minifig_url       store_price         current_price  rating_value  \\\n",
       "7179         NaN  £107.65, $169.99  New: $99, Used: $230           NaN   \n",
       "7084         NaN  £107.65, $169.99  New: $99, Used: $230           NaN   \n",
       "7180         NaN               NaN   New: $30, Used: $13           4.5   \n",
       "7085         NaN               NaN   New: $30, Used: $13           4.5   \n",
       "\n",
       "     rating_votes                                               tags set_type  \\\n",
       "7179          NaN                                                NaN   Normal   \n",
       "7084          NaN                                                NaN   Normal   \n",
       "7180            6  Brickmaster, Cartoon, Cartoon Network, Galacti...   Normal   \n",
       "7085            6  Brickmaster, Cartoon, Cartoon Network, Galacti...   Normal   \n",
       "\n",
       "     packaging                        notes  \n",
       "7179       NaN                          NaN  \n",
       "7084       NaN                          NaN  \n",
       "7180   Polybag  [US] BrickMaster exclusive.  \n",
       "7085   Polybag  [US] BrickMaster exclusive.  "
      ]
     },
     "execution_count": 7,
     "metadata": {},
     "output_type": "execute_result"
    },
    {
     "data": {
      "text/plain": [
       "(266, 19)"
      ]
     },
     "execution_count": 7,
     "metadata": {},
     "output_type": "execute_result"
    }
   ],
   "source": [
    "# remove duplicates\n",
    "\n",
    "doop_flag = set_df.duplicated(subset=['set_no'], keep=False)\n",
    "doop_df = set_df.loc[ doop_flag ].sort_values('set_no')\n",
    "doop_df.head(4)\n",
    "doop_df.shape"
   ]
  },
  {
   "cell_type": "code",
   "execution_count": 8,
   "metadata": {},
   "outputs": [
    {
     "data": {
      "text/plain": [
       "(13754, 18)"
      ]
     },
     "execution_count": 8,
     "metadata": {},
     "output_type": "execute_result"
    }
   ],
   "source": [
    "set_df = set_df.drop_duplicates(subset=['set_no']).reset_index()\n",
    "set_df = set_df.drop(columns=['index', 'url'], errors='ignore')\n",
    "set_df.shape"
   ]
  },
  {
   "cell_type": "markdown",
   "metadata": {},
   "source": [
    "## Export to csv"
   ]
  },
  {
   "cell_type": "code",
   "execution_count": 9,
   "metadata": {},
   "outputs": [
    {
     "data": {
      "text/plain": [
       "'2.94 mb'"
      ]
     },
     "execution_count": 9,
     "metadata": {},
     "output_type": "execute_result"
    }
   ],
   "source": [
    "save_path = r'../data/brickset_set_full.csv'\n",
    "set_df.to_csv(save_path, index=False)\n",
    "f'{round(os.path.getsize(save_path) /1e6, 2)} mb'"
   ]
  },
  {
   "cell_type": "code",
   "execution_count": null,
   "metadata": {},
   "outputs": [],
   "source": []
  }
 ],
 "metadata": {
  "kernelspec": {
   "display_name": "Python 3",
   "language": "python",
   "name": "python3"
  },
  "language_info": {
   "codemirror_mode": {
    "name": "ipython",
    "version": 3
   },
   "file_extension": ".py",
   "mimetype": "text/x-python",
   "name": "python",
   "nbconvert_exporter": "python",
   "pygments_lexer": "ipython3",
   "version": "3.7.3"
  }
 },
 "nbformat": 4,
 "nbformat_minor": 2
}
