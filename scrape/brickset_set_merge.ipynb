{
 "cells": [
  {
   "cell_type": "markdown",
   "metadata": {},
   "source": [
    "# Brickset Merge Job Files \n",
    "\n",
    "Workflow: 4   \n",
    "\n",
    "Goal: To concatenate the job files with raw data.   \n",
    "\n",
    "Result: All sets' raw data is available in one file ```brickset_set_full.csv```."
   ]
  },
  {
   "cell_type": "code",
   "execution_count": 1,
   "metadata": {},
   "outputs": [],
   "source": [
    "import os\n",
    "import pandas as pd\n",
    "import numpy as np\n",
    "import matplotlib.pyplot as plt\n",
    "%matplotlib inline\n",
    "import seaborn as sns"
   ]
  },
  {
   "cell_type": "code",
   "execution_count": 2,
   "metadata": {},
   "outputs": [],
   "source": [
    "from IPython.core.interactiveshell import InteractiveShell\n",
    "InteractiveShell.ast_node_interactivity = 'all'"
   ]
  },
  {
   "cell_type": "markdown",
   "metadata": {},
   "source": [
    "## Merge Job Files"
   ]
  },
  {
   "cell_type": "code",
   "execution_count": 3,
   "metadata": {},
   "outputs": [],
   "source": [
    "SET_0_FILE = '../data/brickset_job_0k.csv'\n",
    "SET_3_FILE = '../data/brickset_job_3k.csv'\n",
    "SET_7_FILE = '../data/brickset_job_7k.csv'\n",
    "SET_10_FILE = '../data/brickset_job_10k.csv'"
   ]
  },
  {
   "cell_type": "code",
   "execution_count": 4,
   "metadata": {},
   "outputs": [
    {
     "data": {
      "text/plain": [
       "(3499, 20)"
      ]
     },
     "execution_count": 4,
     "metadata": {},
     "output_type": "execute_result"
    },
    {
     "data": {
      "text/plain": [
       "(3499, 20)"
      ]
     },
     "execution_count": 4,
     "metadata": {},
     "output_type": "execute_result"
    },
    {
     "data": {
      "text/plain": [
       "(3499, 20)"
      ]
     },
     "execution_count": 4,
     "metadata": {},
     "output_type": "execute_result"
    },
    {
     "data": {
      "text/plain": [
       "(3399, 20)"
      ]
     },
     "execution_count": 4,
     "metadata": {},
     "output_type": "execute_result"
    }
   ],
   "source": [
    "set_0_df = pd.read_csv(SET_0_FILE)\n",
    "set_3_df = pd.read_csv(SET_3_FILE)\n",
    "set_7_df = pd.read_csv(SET_7_FILE)\n",
    "set_10_df = pd.read_csv(SET_10_FILE)\n",
    "\n",
    "set_0_df.shape\n",
    "set_3_df.shape\n",
    "set_7_df.shape\n",
    "set_10_df.shape"
   ]
  },
  {
   "cell_type": "code",
   "execution_count": 5,
   "metadata": {},
   "outputs": [
    {
     "data": {
      "text/html": [
       "<div>\n",
       "<style scoped>\n",
       "    .dataframe tbody tr th:only-of-type {\n",
       "        vertical-align: middle;\n",
       "    }\n",
       "\n",
       "    .dataframe tbody tr th {\n",
       "        vertical-align: top;\n",
       "    }\n",
       "\n",
       "    .dataframe thead th {\n",
       "        text-align: right;\n",
       "    }\n",
       "</style>\n",
       "<table border=\"1\" class=\"dataframe\">\n",
       "  <thead>\n",
       "    <tr style=\"text-align: right;\">\n",
       "      <th></th>\n",
       "      <th>set_no</th>\n",
       "      <th>name</th>\n",
       "      <th>theme_group</th>\n",
       "      <th>theme</th>\n",
       "      <th>subtheme</th>\n",
       "      <th>year</th>\n",
       "      <th>dimensions</th>\n",
       "      <th>weight</th>\n",
       "      <th>piece_cnt</th>\n",
       "      <th>minifig_cnt</th>\n",
       "      <th>inventory_url</th>\n",
       "      <th>minifig_url</th>\n",
       "      <th>store_price</th>\n",
       "      <th>current_price</th>\n",
       "      <th>rating_value</th>\n",
       "      <th>rating_votes</th>\n",
       "      <th>tags</th>\n",
       "      <th>set_type</th>\n",
       "      <th>packaging</th>\n",
       "      <th>notes</th>\n",
       "    </tr>\n",
       "  </thead>\n",
       "  <tbody>\n",
       "    <tr>\n",
       "      <th>0</th>\n",
       "      <td>722-1</td>\n",
       "      <td>Universal Building Set, 7+</td>\n",
       "      <td>Basic</td>\n",
       "      <td>Basic</td>\n",
       "      <td>NaN</td>\n",
       "      <td>1980.0</td>\n",
       "      <td>NaN</td>\n",
       "      <td>NaN</td>\n",
       "      <td>301.0</td>\n",
       "      <td>0.0</td>\n",
       "      <td>NaN</td>\n",
       "      <td>NaN</td>\n",
       "      <td>$20.00</td>\n",
       "      <td>New: $200, Used: $78</td>\n",
       "      <td>4.4</td>\n",
       "      <td>5</td>\n",
       "      <td>Aircraft, Helicopter, Truck, Car, Boat, Crane,...</td>\n",
       "      <td>Normal</td>\n",
       "      <td>NaN</td>\n",
       "      <td>NaN</td>\n",
       "    </tr>\n",
       "    <tr>\n",
       "      <th>1</th>\n",
       "      <td>733-1</td>\n",
       "      <td>Universal Building Set, 7+</td>\n",
       "      <td>Basic</td>\n",
       "      <td>Basic</td>\n",
       "      <td>NaN</td>\n",
       "      <td>1980.0</td>\n",
       "      <td>NaN</td>\n",
       "      <td>NaN</td>\n",
       "      <td>533.0</td>\n",
       "      <td>0.0</td>\n",
       "      <td>NaN</td>\n",
       "      <td>NaN</td>\n",
       "      <td>$39.00</td>\n",
       "      <td>New: $566, Used: $109</td>\n",
       "      <td>4.5</td>\n",
       "      <td>2</td>\n",
       "      <td>Helicopter, Truck, Baseplate, Crane, Racing, Base</td>\n",
       "      <td>Normal</td>\n",
       "      <td>NaN</td>\n",
       "      <td>NaN</td>\n",
       "    </tr>\n",
       "    <tr>\n",
       "      <th>2</th>\n",
       "      <td>744-1</td>\n",
       "      <td>Universal Building Set with Motor, 7+</td>\n",
       "      <td>Basic</td>\n",
       "      <td>Basic</td>\n",
       "      <td>NaN</td>\n",
       "      <td>1980.0</td>\n",
       "      <td>NaN</td>\n",
       "      <td>NaN</td>\n",
       "      <td>537.0</td>\n",
       "      <td>0.0</td>\n",
       "      <td>NaN</td>\n",
       "      <td>NaN</td>\n",
       "      <td>$59.00</td>\n",
       "      <td>New: $252, Used: $97</td>\n",
       "      <td>5.0</td>\n",
       "      <td>2</td>\n",
       "      <td>Truck, Crane, Windmill</td>\n",
       "      <td>Normal</td>\n",
       "      <td>NaN</td>\n",
       "      <td>NaN</td>\n",
       "    </tr>\n",
       "    <tr>\n",
       "      <th>3</th>\n",
       "      <td>820-1</td>\n",
       "      <td>Red Plates Parts Pack</td>\n",
       "      <td>Basic</td>\n",
       "      <td>Basic</td>\n",
       "      <td>Supplementaries</td>\n",
       "      <td>1980.0</td>\n",
       "      <td>NaN</td>\n",
       "      <td>NaN</td>\n",
       "      <td>34.0</td>\n",
       "      <td>0.0</td>\n",
       "      <td>NaN</td>\n",
       "      <td>NaN</td>\n",
       "      <td>$4.75</td>\n",
       "      <td>New: Not known, Used: Not known</td>\n",
       "      <td>NaN</td>\n",
       "      <td>NaN</td>\n",
       "      <td>NaN</td>\n",
       "      <td>Normal</td>\n",
       "      <td>NaN</td>\n",
       "      <td>NaN</td>\n",
       "    </tr>\n",
       "    <tr>\n",
       "      <th>4</th>\n",
       "      <td>822-1</td>\n",
       "      <td>Blue Plates Parts Pack</td>\n",
       "      <td>Basic</td>\n",
       "      <td>Basic</td>\n",
       "      <td>Supplementaries</td>\n",
       "      <td>1980.0</td>\n",
       "      <td>NaN</td>\n",
       "      <td>NaN</td>\n",
       "      <td>34.0</td>\n",
       "      <td>0.0</td>\n",
       "      <td>NaN</td>\n",
       "      <td>NaN</td>\n",
       "      <td>$4.75</td>\n",
       "      <td>New: $29, Used: $5</td>\n",
       "      <td>NaN</td>\n",
       "      <td>NaN</td>\n",
       "      <td>NaN</td>\n",
       "      <td>Normal</td>\n",
       "      <td>NaN</td>\n",
       "      <td>NaN</td>\n",
       "    </tr>\n",
       "  </tbody>\n",
       "</table>\n",
       "</div>"
      ],
      "text/plain": [
       "  set_no                                   name theme_group  theme  \\\n",
       "0  722-1             Universal Building Set, 7+       Basic  Basic   \n",
       "1  733-1             Universal Building Set, 7+       Basic  Basic   \n",
       "2  744-1  Universal Building Set with Motor, 7+       Basic  Basic   \n",
       "3  820-1                  Red Plates Parts Pack       Basic  Basic   \n",
       "4  822-1                 Blue Plates Parts Pack       Basic  Basic   \n",
       "\n",
       "          subtheme    year dimensions weight  piece_cnt  minifig_cnt  \\\n",
       "0              NaN  1980.0        NaN    NaN      301.0          0.0   \n",
       "1              NaN  1980.0        NaN    NaN      533.0          0.0   \n",
       "2              NaN  1980.0        NaN    NaN      537.0          0.0   \n",
       "3  Supplementaries  1980.0        NaN    NaN       34.0          0.0   \n",
       "4  Supplementaries  1980.0        NaN    NaN       34.0          0.0   \n",
       "\n",
       "  inventory_url minifig_url store_price                    current_price  \\\n",
       "0           NaN         NaN      $20.00             New: $200, Used: $78   \n",
       "1           NaN         NaN      $39.00            New: $566, Used: $109   \n",
       "2           NaN         NaN      $59.00             New: $252, Used: $97   \n",
       "3           NaN         NaN       $4.75  New: Not known, Used: Not known   \n",
       "4           NaN         NaN       $4.75               New: $29, Used: $5   \n",
       "\n",
       "   rating_value rating_votes  \\\n",
       "0           4.4            5   \n",
       "1           4.5            2   \n",
       "2           5.0            2   \n",
       "3           NaN          NaN   \n",
       "4           NaN          NaN   \n",
       "\n",
       "                                                tags set_type packaging notes  \n",
       "0  Aircraft, Helicopter, Truck, Car, Boat, Crane,...   Normal       NaN   NaN  \n",
       "1  Helicopter, Truck, Baseplate, Crane, Racing, Base   Normal       NaN   NaN  \n",
       "2                             Truck, Crane, Windmill   Normal       NaN   NaN  \n",
       "3                                                NaN   Normal       NaN   NaN  \n",
       "4                                                NaN   Normal       NaN   NaN  "
      ]
     },
     "execution_count": 5,
     "metadata": {},
     "output_type": "execute_result"
    },
    {
     "name": "stdout",
     "output_type": "stream",
     "text": [
      "<class 'pandas.core.frame.DataFrame'>\n",
      "RangeIndex: 13896 entries, 0 to 13895\n",
      "Data columns (total 20 columns):\n",
      "set_no           13895 non-null object\n",
      "name             13895 non-null object\n",
      "theme_group      13895 non-null object\n",
      "theme            13895 non-null object\n",
      "subtheme         10169 non-null object\n",
      "year             13895 non-null float64\n",
      "dimensions       2948 non-null object\n",
      "weight           3105 non-null object\n",
      "piece_cnt        10952 non-null float64\n",
      "minifig_cnt      13895 non-null float64\n",
      "inventory_url    7021 non-null object\n",
      "minifig_url      6297 non-null object\n",
      "store_price      9286 non-null object\n",
      "current_price    13895 non-null object\n",
      "rating_value     6882 non-null float64\n",
      "rating_votes     6882 non-null object\n",
      "tags             10362 non-null object\n",
      "set_type         13895 non-null object\n",
      "packaging        9021 non-null object\n",
      "notes            5290 non-null object\n",
      "dtypes: float64(4), object(16)\n",
      "memory usage: 2.1+ MB\n"
     ]
    }
   ],
   "source": [
    "set_df = pd.concat([set_0_df, set_3_df, set_7_df, set_10_df], ignore_index=True)\n",
    "set_df.head()\n",
    "set_df.info()"
   ]
  },
  {
   "cell_type": "code",
   "execution_count": 6,
   "metadata": {},
   "outputs": [
    {
     "name": "stdout",
     "output_type": "stream",
     "text": [
      "<class 'pandas.core.frame.DataFrame'>\n",
      "RangeIndex: 13895 entries, 0 to 13894\n",
      "Data columns (total 20 columns):\n",
      "set_no           13895 non-null object\n",
      "name             13895 non-null object\n",
      "theme_group      13895 non-null object\n",
      "theme            13895 non-null object\n",
      "subtheme         10169 non-null object\n",
      "year             13895 non-null float64\n",
      "dimensions       2948 non-null object\n",
      "weight           3105 non-null object\n",
      "piece_cnt        10952 non-null float64\n",
      "minifig_cnt      13895 non-null float64\n",
      "inventory_url    7021 non-null object\n",
      "minifig_url      6297 non-null object\n",
      "store_price      9286 non-null object\n",
      "current_price    13895 non-null object\n",
      "rating_value     6882 non-null float64\n",
      "rating_votes     6882 non-null object\n",
      "tags             10362 non-null object\n",
      "set_type         13895 non-null object\n",
      "packaging        9021 non-null object\n",
      "notes            5290 non-null object\n",
      "dtypes: float64(4), object(16)\n",
      "memory usage: 2.1+ MB\n"
     ]
    }
   ],
   "source": [
    "# drop the sets that errored out from url search\n",
    "\n",
    "set_df = set_df.dropna(subset=['set_no']).reset_index().drop(columns=['index'])\n",
    "set_df.info()"
   ]
  },
  {
   "cell_type": "code",
   "execution_count": 7,
   "metadata": {},
   "outputs": [
    {
     "data": {
      "text/html": [
       "<div>\n",
       "<style scoped>\n",
       "    .dataframe tbody tr th:only-of-type {\n",
       "        vertical-align: middle;\n",
       "    }\n",
       "\n",
       "    .dataframe tbody tr th {\n",
       "        vertical-align: top;\n",
       "    }\n",
       "\n",
       "    .dataframe thead th {\n",
       "        text-align: right;\n",
       "    }\n",
       "</style>\n",
       "<table border=\"1\" class=\"dataframe\">\n",
       "  <thead>\n",
       "    <tr style=\"text-align: right;\">\n",
       "      <th></th>\n",
       "      <th>set_no</th>\n",
       "      <th>name</th>\n",
       "      <th>theme_group</th>\n",
       "      <th>theme</th>\n",
       "      <th>subtheme</th>\n",
       "      <th>year</th>\n",
       "      <th>dimensions</th>\n",
       "      <th>weight</th>\n",
       "      <th>piece_cnt</th>\n",
       "      <th>minifig_cnt</th>\n",
       "      <th>inventory_url</th>\n",
       "      <th>minifig_url</th>\n",
       "      <th>store_price</th>\n",
       "      <th>current_price</th>\n",
       "      <th>rating_value</th>\n",
       "      <th>rating_votes</th>\n",
       "      <th>tags</th>\n",
       "      <th>set_type</th>\n",
       "      <th>packaging</th>\n",
       "      <th>notes</th>\n",
       "    </tr>\n",
       "  </thead>\n",
       "  <tbody>\n",
       "    <tr>\n",
       "      <th>7179</th>\n",
       "      <td>10287-1</td>\n",
       "      <td>Intelligent NXT Brick (Black)</td>\n",
       "      <td>Technical</td>\n",
       "      <td>Mindstorms</td>\n",
       "      <td>NXT</td>\n",
       "      <td>2009.0</td>\n",
       "      <td>NaN</td>\n",
       "      <td>NaN</td>\n",
       "      <td>1.0</td>\n",
       "      <td>0.0</td>\n",
       "      <td>NaN</td>\n",
       "      <td>NaN</td>\n",
       "      <td>£107.65, $169.99</td>\n",
       "      <td>New: $99, Used: $230</td>\n",
       "      <td>NaN</td>\n",
       "      <td>NaN</td>\n",
       "      <td>NaN</td>\n",
       "      <td>Normal</td>\n",
       "      <td>NaN</td>\n",
       "      <td>NaN</td>\n",
       "    </tr>\n",
       "    <tr>\n",
       "      <th>7084</th>\n",
       "      <td>10287-1</td>\n",
       "      <td>Intelligent NXT Brick (Black)</td>\n",
       "      <td>Technical</td>\n",
       "      <td>Mindstorms</td>\n",
       "      <td>NXT</td>\n",
       "      <td>2009.0</td>\n",
       "      <td>NaN</td>\n",
       "      <td>NaN</td>\n",
       "      <td>1.0</td>\n",
       "      <td>0.0</td>\n",
       "      <td>NaN</td>\n",
       "      <td>NaN</td>\n",
       "      <td>£107.65, $169.99</td>\n",
       "      <td>New: $99, Used: $230</td>\n",
       "      <td>NaN</td>\n",
       "      <td>NaN</td>\n",
       "      <td>NaN</td>\n",
       "      <td>Normal</td>\n",
       "      <td>NaN</td>\n",
       "      <td>NaN</td>\n",
       "    </tr>\n",
       "    <tr>\n",
       "      <th>7180</th>\n",
       "      <td>20007-1</td>\n",
       "      <td>Republic Attack Cruiser</td>\n",
       "      <td>Licensed</td>\n",
       "      <td>Star Wars</td>\n",
       "      <td>The Clone Wars</td>\n",
       "      <td>2009.0</td>\n",
       "      <td>NaN</td>\n",
       "      <td>NaN</td>\n",
       "      <td>84.0</td>\n",
       "      <td>0.0</td>\n",
       "      <td>/inventories/20007-1</td>\n",
       "      <td>NaN</td>\n",
       "      <td>NaN</td>\n",
       "      <td>New: $30, Used: $15</td>\n",
       "      <td>4.5</td>\n",
       "      <td>6</td>\n",
       "      <td>Polybag, Microscale, Cartoon, Brickmaster</td>\n",
       "      <td>Normal</td>\n",
       "      <td>Polybag</td>\n",
       "      <td>[US] BrickMaster exclusive.</td>\n",
       "    </tr>\n",
       "    <tr>\n",
       "      <th>7085</th>\n",
       "      <td>20007-1</td>\n",
       "      <td>Republic Attack Cruiser</td>\n",
       "      <td>Licensed</td>\n",
       "      <td>Star Wars</td>\n",
       "      <td>The Clone Wars</td>\n",
       "      <td>2009.0</td>\n",
       "      <td>NaN</td>\n",
       "      <td>NaN</td>\n",
       "      <td>84.0</td>\n",
       "      <td>0.0</td>\n",
       "      <td>/inventories/20007-1</td>\n",
       "      <td>NaN</td>\n",
       "      <td>NaN</td>\n",
       "      <td>New: $30, Used: $15</td>\n",
       "      <td>4.5</td>\n",
       "      <td>6</td>\n",
       "      <td>Polybag, Microscale, Cartoon, Brickmaster</td>\n",
       "      <td>Normal</td>\n",
       "      <td>Polybag</td>\n",
       "      <td>[US] BrickMaster exclusive.</td>\n",
       "    </tr>\n",
       "  </tbody>\n",
       "</table>\n",
       "</div>"
      ],
      "text/plain": [
       "       set_no                           name theme_group       theme  \\\n",
       "7179  10287-1  Intelligent NXT Brick (Black)   Technical  Mindstorms   \n",
       "7084  10287-1  Intelligent NXT Brick (Black)   Technical  Mindstorms   \n",
       "7180  20007-1        Republic Attack Cruiser    Licensed   Star Wars   \n",
       "7085  20007-1        Republic Attack Cruiser    Licensed   Star Wars   \n",
       "\n",
       "            subtheme    year dimensions weight  piece_cnt  minifig_cnt  \\\n",
       "7179             NXT  2009.0        NaN    NaN        1.0          0.0   \n",
       "7084             NXT  2009.0        NaN    NaN        1.0          0.0   \n",
       "7180  The Clone Wars  2009.0        NaN    NaN       84.0          0.0   \n",
       "7085  The Clone Wars  2009.0        NaN    NaN       84.0          0.0   \n",
       "\n",
       "             inventory_url minifig_url       store_price  \\\n",
       "7179                   NaN         NaN  £107.65, $169.99   \n",
       "7084                   NaN         NaN  £107.65, $169.99   \n",
       "7180  /inventories/20007-1         NaN               NaN   \n",
       "7085  /inventories/20007-1         NaN               NaN   \n",
       "\n",
       "             current_price  rating_value rating_votes  \\\n",
       "7179  New: $99, Used: $230           NaN          NaN   \n",
       "7084  New: $99, Used: $230           NaN          NaN   \n",
       "7180   New: $30, Used: $15           4.5            6   \n",
       "7085   New: $30, Used: $15           4.5            6   \n",
       "\n",
       "                                           tags set_type packaging  \\\n",
       "7179                                        NaN   Normal       NaN   \n",
       "7084                                        NaN   Normal       NaN   \n",
       "7180  Polybag, Microscale, Cartoon, Brickmaster   Normal   Polybag   \n",
       "7085  Polybag, Microscale, Cartoon, Brickmaster   Normal   Polybag   \n",
       "\n",
       "                            notes  \n",
       "7179                          NaN  \n",
       "7084                          NaN  \n",
       "7180  [US] BrickMaster exclusive.  \n",
       "7085  [US] BrickMaster exclusive.  "
      ]
     },
     "execution_count": 7,
     "metadata": {},
     "output_type": "execute_result"
    },
    {
     "data": {
      "text/plain": [
       "(266, 20)"
      ]
     },
     "execution_count": 7,
     "metadata": {},
     "output_type": "execute_result"
    }
   ],
   "source": [
    "# remove duplicates\n",
    "\n",
    "doop_flag = set_df.duplicated(subset=['set_no'], keep=False)\n",
    "doop_df = set_df.loc[ doop_flag ].sort_values('set_no')\n",
    "doop_df.head(4)\n",
    "doop_df.shape"
   ]
  },
  {
   "cell_type": "code",
   "execution_count": 8,
   "metadata": {},
   "outputs": [
    {
     "data": {
      "text/plain": [
       "(13762, 20)"
      ]
     },
     "execution_count": 8,
     "metadata": {},
     "output_type": "execute_result"
    }
   ],
   "source": [
    "set_df = set_df.drop_duplicates(subset=['set_no']).reset_index()\n",
    "set_df = set_df.drop(columns=['index', 'url'], errors='ignore')\n",
    "set_df.shape"
   ]
  },
  {
   "cell_type": "markdown",
   "metadata": {},
   "source": [
    "## Export to csv"
   ]
  },
  {
   "cell_type": "code",
   "execution_count": 9,
   "metadata": {},
   "outputs": [
    {
     "data": {
      "text/plain": [
       "'2.89 mb'"
      ]
     },
     "execution_count": 9,
     "metadata": {},
     "output_type": "execute_result"
    }
   ],
   "source": [
    "save_path = r'../data/brickset_set_full.csv'\n",
    "set_df.to_csv(save_path, index=False)\n",
    "f'{round(os.path.getsize(save_path) /1e6, 2)} mb'"
   ]
  },
  {
   "cell_type": "code",
   "execution_count": null,
   "metadata": {},
   "outputs": [],
   "source": []
  }
 ],
 "metadata": {
  "kernelspec": {
   "display_name": "Python 3",
   "language": "python",
   "name": "python3"
  },
  "language_info": {
   "codemirror_mode": {
    "name": "ipython",
    "version": 3
   },
   "file_extension": ".py",
   "mimetype": "text/x-python",
   "name": "python",
   "nbconvert_exporter": "python",
   "pygments_lexer": "ipython3",
   "version": "3.7.3"
  }
 },
 "nbformat": 4,
 "nbformat_minor": 2
}
