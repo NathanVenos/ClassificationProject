{
 "cells": [
  {
   "cell_type": "markdown",
   "metadata": {},
   "source": [
    "# Brickset Sets URL\n",
    "\n",
    "Workflow: 2   \n",
    "\n",
    "Goal: Get the set url for every set on the brickset website. Traverse the website by year.   \n",
    "\n",
    "Result: Set url data is output to the file ```brickset_set_url.csv```.    \n",
    "\n",
    "Source: https://brickset.com/browse/sets"
   ]
  },
  {
   "cell_type": "code",
   "execution_count": 1,
   "metadata": {},
   "outputs": [],
   "source": [
    "import os\n",
    "import pandas as pd"
   ]
  },
  {
   "cell_type": "code",
   "execution_count": 2,
   "metadata": {},
   "outputs": [],
   "source": [
    "from IPython.core.interactiveshell import InteractiveShell\n",
    "InteractiveShell.ast_node_interactivity = \"all\""
   ]
  },
  {
   "cell_type": "code",
   "execution_count": 3,
   "metadata": {},
   "outputs": [],
   "source": [
    "%load_ext autoreload\n",
    "%autoreload 2\n",
    "\n",
    "import sys\n",
    "sys.path.append('../')\n",
    "import lego_helper as lh"
   ]
  },
  {
   "cell_type": "markdown",
   "metadata": {},
   "source": [
    "## Scrape Data By Year"
   ]
  },
  {
   "cell_type": "code",
   "execution_count": 5,
   "metadata": {
    "scrolled": true
   },
   "outputs": [
    {
     "name": "stdout",
     "output_type": "stream",
     "text": [
      "year: 2017\n",
      "page no: 10\n",
      "page no: 20\n",
      "page no: 30\n",
      "last page: 34\n"
     ]
    },
    {
     "data": {
      "text/plain": [
       "[{'set_no': '10255',\n",
       "  'name': 'Assembly Square',\n",
       "  'url': '/sets/10255-1/Assembly-Square'},\n",
       " {'set_no': '10256', 'name': 'Taj Mahal', 'url': '/sets/10256-1/Taj-Mahal'}]"
      ]
     },
     "execution_count": 5,
     "metadata": {},
     "output_type": "execute_result"
    }
   ],
   "source": [
    "set_ls = lh.get_year('2017')\n",
    "set_ls[:2]"
   ]
  },
  {
   "cell_type": "code",
   "execution_count": 6,
   "metadata": {
    "scrolled": true
   },
   "outputs": [
    {
     "data": {
      "text/html": [
       "<div>\n",
       "<style scoped>\n",
       "    .dataframe tbody tr th:only-of-type {\n",
       "        vertical-align: middle;\n",
       "    }\n",
       "\n",
       "    .dataframe tbody tr th {\n",
       "        vertical-align: top;\n",
       "    }\n",
       "\n",
       "    .dataframe thead th {\n",
       "        text-align: right;\n",
       "    }\n",
       "</style>\n",
       "<table border=\"1\" class=\"dataframe\">\n",
       "  <thead>\n",
       "    <tr style=\"text-align: right;\">\n",
       "      <th></th>\n",
       "      <th>set_no</th>\n",
       "      <th>name</th>\n",
       "      <th>url</th>\n",
       "    </tr>\n",
       "  </thead>\n",
       "  <tbody>\n",
       "    <tr>\n",
       "      <th>0</th>\n",
       "      <td>10255</td>\n",
       "      <td>Assembly Square</td>\n",
       "      <td>/sets/10255-1/Assembly-Square</td>\n",
       "    </tr>\n",
       "    <tr>\n",
       "      <th>1</th>\n",
       "      <td>10256</td>\n",
       "      <td>Taj Mahal</td>\n",
       "      <td>/sets/10256-1/Taj-Mahal</td>\n",
       "    </tr>\n",
       "    <tr>\n",
       "      <th>2</th>\n",
       "      <td>10257</td>\n",
       "      <td>Carousel</td>\n",
       "      <td>/sets/10257-1/Carousel</td>\n",
       "    </tr>\n",
       "    <tr>\n",
       "      <th>3</th>\n",
       "      <td>10258</td>\n",
       "      <td>London Bus</td>\n",
       "      <td>/sets/10258-1/London-Bus</td>\n",
       "    </tr>\n",
       "    <tr>\n",
       "      <th>4</th>\n",
       "      <td>10259</td>\n",
       "      <td>Winter Village Station</td>\n",
       "      <td>/sets/10259-1/Winter-Village-Station</td>\n",
       "    </tr>\n",
       "  </tbody>\n",
       "</table>\n",
       "</div>"
      ],
      "text/plain": [
       "  set_no                    name                                   url\n",
       "0  10255         Assembly Square         /sets/10255-1/Assembly-Square\n",
       "1  10256               Taj Mahal               /sets/10256-1/Taj-Mahal\n",
       "2  10257                Carousel                /sets/10257-1/Carousel\n",
       "3  10258              London Bus              /sets/10258-1/London-Bus\n",
       "4  10259  Winter Village Station  /sets/10259-1/Winter-Village-Station"
      ]
     },
     "execution_count": 6,
     "metadata": {},
     "output_type": "execute_result"
    },
    {
     "name": "stdout",
     "output_type": "stream",
     "text": [
      "<class 'pandas.core.frame.DataFrame'>\n",
      "RangeIndex: 839 entries, 0 to 838\n",
      "Data columns (total 3 columns):\n",
      "set_no    839 non-null object\n",
      "name      839 non-null object\n",
      "url       839 non-null object\n",
      "dtypes: object(3)\n",
      "memory usage: 19.7+ KB\n"
     ]
    }
   ],
   "source": [
    "set_df = pd.DataFrame(set_ls)\n",
    "set_df = set_df[['set_no', 'name', 'url']]\n",
    "set_df.head()\n",
    "set_df.info()"
   ]
  },
  {
   "cell_type": "code",
   "execution_count": 7,
   "metadata": {},
   "outputs": [
    {
     "data": {
      "text/plain": [
       "'0.05 mb'"
      ]
     },
     "execution_count": 7,
     "metadata": {},
     "output_type": "execute_result"
    }
   ],
   "source": [
    "save_path = r'../data/set_url_2017.csv'\n",
    "set_df.to_csv(save_path, index=False)\n",
    "f'{round(os.path.getsize(save_path) /1e6, 2)} mb'"
   ]
  },
  {
   "cell_type": "markdown",
   "metadata": {},
   "source": [
    "## Scrape All Years"
   ]
  },
  {
   "cell_type": "code",
   "execution_count": null,
   "metadata": {},
   "outputs": [],
   "source": [
    "cyear = 1980\n",
    "set_ls = []\n",
    "\n",
    "while cyear <= 2018:\n",
    "    cset_ls = lh.get_year(str(cyear))\n",
    "    set_ls += cset_ls\n",
    "    cyear += 1\n",
    "\n",
    "set_ls[:2]"
   ]
  },
  {
   "cell_type": "code",
   "execution_count": null,
   "metadata": {},
   "outputs": [],
   "source": [
    "set_df = pd.DataFrame(set_ls)\n",
    "set_df = set_df[['set_no', 'name', 'url']]\n",
    "set_df.head()\n",
    "set_df.info()"
   ]
  },
  {
   "cell_type": "code",
   "execution_count": null,
   "metadata": {},
   "outputs": [],
   "source": [
    "save_path = r'../data/brickset_set_url.csv'\n",
    "set_df.to_csv(save_path, index=False)\n",
    "f'{round(os.path.getsize(save_path) /1e6, 2)} mb'"
   ]
  }
 ],
 "metadata": {
  "kernelspec": {
   "display_name": "Python 3",
   "language": "python",
   "name": "python3"
  },
  "language_info": {
   "codemirror_mode": {
    "name": "ipython",
    "version": 3
   },
   "file_extension": ".py",
   "mimetype": "text/x-python",
   "name": "python",
   "nbconvert_exporter": "python",
   "pygments_lexer": "ipython3",
   "version": "3.7.3"
  }
 },
 "nbformat": 4,
 "nbformat_minor": 2
}
