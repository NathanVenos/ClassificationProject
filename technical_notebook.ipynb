{
 "cells": [
  {
   "cell_type": "markdown",
   "metadata": {},
   "source": [
    "# Mod 5: Technical Notebook"
   ]
  },
  {
   "cell_type": "code",
   "execution_count": 1,
   "metadata": {
    "ExecuteTime": {
     "end_time": "2019-11-11T15:13:37.396230Z",
     "start_time": "2019-11-11T15:13:28.966159Z"
    }
   },
   "outputs": [
    {
     "name": "stderr",
     "output_type": "stream",
     "text": [
      "Using TensorFlow backend.\n"
     ]
    }
   ],
   "source": [
    "import os\n",
    "import pandas as pd\n",
    "import numpy as np\n",
    "\n",
    "from statsmodels.stats.outliers_influence import variance_inflation_factor as VIF\n",
    "import sklearn.preprocessing as PP\n",
    "import imblearn.pipeline as PL\n",
    "import sklearn.model_selection as MS\n",
    "import imblearn.under_sampling as US\n",
    "import imblearn.over_sampling as OS\n",
    "\n",
    "import sklearn.linear_model as LM\n",
    "import sklearn.tree as TR\n",
    "import sklearn.ensemble as ES \n",
    "import sklearn.metrics as MT     \n",
    "\n",
    "import matplotlib.pyplot as plt\n",
    "%matplotlib inline\n",
    "import seaborn as sns"
   ]
  },
  {
   "cell_type": "code",
   "execution_count": 2,
   "metadata": {
    "ExecuteTime": {
     "end_time": "2019-11-11T15:13:37.409229Z",
     "start_time": "2019-11-11T15:13:37.399230Z"
    }
   },
   "outputs": [],
   "source": [
    "from IPython.core.interactiveshell import InteractiveShell\n",
    "InteractiveShell.ast_node_interactivity = 'all'"
   ]
  },
  {
   "cell_type": "code",
   "execution_count": 3,
   "metadata": {
    "ExecuteTime": {
     "end_time": "2019-11-11T15:13:38.087409Z",
     "start_time": "2019-11-11T15:13:37.413233Z"
    }
   },
   "outputs": [],
   "source": [
    "%load_ext autoreload\n",
    "%autoreload 2         # reload custom py file eveytime a new cell is run\n",
    "\n",
    "import lego_helper as lh"
   ]
  },
  {
   "cell_type": "markdown",
   "metadata": {},
   "source": [
    "## 1.1 Scrape Sets' URL\n",
    "\n",
    "File: ```brickset_set_url.ipynb```\n",
    "\n",
    "Goal: Get the set url for every set on the brickset website. Traverse the website by year.   \n",
    "\n",
    "Result: Set url data is output to the file ```brickset_set_url.csv```.   "
   ]
  },
  {
   "cell_type": "code",
   "execution_count": 4,
   "metadata": {
    "ExecuteTime": {
     "end_time": "2019-11-11T15:13:46.230260Z",
     "start_time": "2019-11-11T15:13:38.092411Z"
    }
   },
   "outputs": [
    {
     "name": "stdout",
     "output_type": "stream",
     "text": [
      "year: 1990\n",
      "last page: 6\n"
     ]
    },
    {
     "data": {
      "text/plain": [
       "[{'set_no': '260', 'name': 'Idea Book', 'url': '/sets/260-1/Idea-Book'},\n",
       " {'set_no': '315',\n",
       "  'name': 'Basic Building Set, 3+',\n",
       "  'url': '/sets/315-1/Basic-Building-Set-3'}]"
      ]
     },
     "execution_count": 4,
     "metadata": {},
     "output_type": "execute_result"
    }
   ],
   "source": [
    "set_ls = lh.get_year('1990')\n",
    "set_ls[:2]"
   ]
  },
  {
   "cell_type": "code",
   "execution_count": 5,
   "metadata": {
    "ExecuteTime": {
     "end_time": "2019-11-11T15:13:46.281258Z",
     "start_time": "2019-11-11T15:13:46.237256Z"
    }
   },
   "outputs": [
    {
     "data": {
      "text/html": [
       "<div>\n",
       "<style scoped>\n",
       "    .dataframe tbody tr th:only-of-type {\n",
       "        vertical-align: middle;\n",
       "    }\n",
       "\n",
       "    .dataframe tbody tr th {\n",
       "        vertical-align: top;\n",
       "    }\n",
       "\n",
       "    .dataframe thead th {\n",
       "        text-align: right;\n",
       "    }\n",
       "</style>\n",
       "<table border=\"1\" class=\"dataframe\">\n",
       "  <thead>\n",
       "    <tr style=\"text-align: right;\">\n",
       "      <th></th>\n",
       "      <th>set_no</th>\n",
       "      <th>name</th>\n",
       "      <th>url</th>\n",
       "    </tr>\n",
       "  </thead>\n",
       "  <tbody>\n",
       "    <tr>\n",
       "      <th>0</th>\n",
       "      <td>260</td>\n",
       "      <td>Idea Book</td>\n",
       "      <td>/sets/260-1/Idea-Book</td>\n",
       "    </tr>\n",
       "    <tr>\n",
       "      <th>1</th>\n",
       "      <td>315</td>\n",
       "      <td>Basic Building Set, 3+</td>\n",
       "      <td>/sets/315-1/Basic-Building-Set-3</td>\n",
       "    </tr>\n",
       "    <tr>\n",
       "      <th>2</th>\n",
       "      <td>325</td>\n",
       "      <td>Basic Building Set, 3+</td>\n",
       "      <td>/sets/325-1/Basic-Building-Set-3</td>\n",
       "    </tr>\n",
       "    <tr>\n",
       "      <th>3</th>\n",
       "      <td>335</td>\n",
       "      <td>Basic Building Set, 3+</td>\n",
       "      <td>/sets/335-1/Basic-Building-Set-3</td>\n",
       "    </tr>\n",
       "    <tr>\n",
       "      <th>4</th>\n",
       "      <td>365</td>\n",
       "      <td>Basic Building Set, 3+</td>\n",
       "      <td>/sets/365-2/Basic-Building-Set-3</td>\n",
       "    </tr>\n",
       "  </tbody>\n",
       "</table>\n",
       "</div>"
      ],
      "text/plain": [
       "  set_no                    name                               url\n",
       "0    260               Idea Book             /sets/260-1/Idea-Book\n",
       "1    315  Basic Building Set, 3+  /sets/315-1/Basic-Building-Set-3\n",
       "2    325  Basic Building Set, 3+  /sets/325-1/Basic-Building-Set-3\n",
       "3    335  Basic Building Set, 3+  /sets/335-1/Basic-Building-Set-3\n",
       "4    365  Basic Building Set, 3+  /sets/365-2/Basic-Building-Set-3"
      ]
     },
     "execution_count": 5,
     "metadata": {},
     "output_type": "execute_result"
    },
    {
     "name": "stdout",
     "output_type": "stream",
     "text": [
      "<class 'pandas.core.frame.DataFrame'>\n",
      "RangeIndex: 126 entries, 0 to 125\n",
      "Data columns (total 3 columns):\n",
      "set_no    126 non-null object\n",
      "name      126 non-null object\n",
      "url       126 non-null object\n",
      "dtypes: object(3)\n",
      "memory usage: 3.1+ KB\n"
     ]
    }
   ],
   "source": [
    "set_df = pd.DataFrame(set_ls)\n",
    "set_df = set_df[['set_no', 'name', 'url']]\n",
    "set_df.head()\n",
    "set_df.info()"
   ]
  },
  {
   "cell_type": "markdown",
   "metadata": {},
   "source": [
    "## 1.2 Scrape Data for All Sets\n",
    "\n",
    "File: ```brickset_set_raw.ipynb```\n",
    "\n",
    "Goal: Loop over the sets' url data and get all the data fields.    \n",
    "\n",
    "Result: The set urls are split into 4 jobs, the result of each job is output as a csv."
   ]
  },
  {
   "cell_type": "code",
   "execution_count": 6,
   "metadata": {
    "ExecuteTime": {
     "end_time": "2019-11-11T15:13:47.458660Z",
     "start_time": "2019-11-11T15:13:46.285257Z"
    }
   },
   "outputs": [
    {
     "data": {
      "text/plain": [
       "{'set_no': '4758-1',\n",
       " 'name': 'Hogwarts Express',\n",
       " 'url': '/sets/4758-1/Hogwarts-Express',\n",
       " 'set_type': 'Normal',\n",
       " 'theme_group': 'Licensed',\n",
       " 'theme': 'Harry Potter',\n",
       " 'subtheme': 'Prisoner of Azkaban',\n",
       " 'year': '2004',\n",
       " 'tags': 'Dementor, Harry Potter, Professor Remus Lupin, Ron Weasley, Magic, Lamppost, Owl',\n",
       " 'piece_cnt': '389',\n",
       " 'minifig_cnt': '4',\n",
       " 'inventory_url': '/inventories/4758-1',\n",
       " 'minifig_url': '/minifigs/inset-4758-1',\n",
       " 'store_price': '£34.99, $40.00',\n",
       " 'current_price': 'New: $124, Used: $93',\n",
       " 'packaging': 'Box',\n",
       " 'dimensions': '33.6 x 28.8 x 7.2 cm (13.2 x 11.3 x 2.8 in)',\n",
       " 'weight': '0.79Kg (1.74 lb)',\n",
       " 'notes': None,\n",
       " 'rating_value': '4.3',\n",
       " 'rating_votes': '4'}"
      ]
     },
     "execution_count": 6,
     "metadata": {},
     "output_type": "execute_result"
    }
   ],
   "source": [
    "# get data from a new set\n",
    "\n",
    "TEST_URL = '/sets/4758-1/Hogwarts-Express' \n",
    "set1_dx = lh.get_set_data(TEST_URL)\n",
    "set1_dx"
   ]
  },
  {
   "cell_type": "markdown",
   "metadata": {},
   "source": [
    "## 1.3 Merge Set Data\n",
    "\n",
    "File: ```brickset_set_merge.ipynb```\n",
    "\n",
    "Goal: To concatenate the job files with raw data.\n",
    "\n",
    "Result: All sets' raw data is available in one file ```brickset_set_full.csv```."
   ]
  },
  {
   "cell_type": "code",
   "execution_count": 7,
   "metadata": {
    "ExecuteTime": {
     "end_time": "2019-11-11T15:13:47.594657Z",
     "start_time": "2019-11-11T15:13:47.462659Z"
    }
   },
   "outputs": [
    {
     "data": {
      "text/plain": [
       "(3499, 20)"
      ]
     },
     "execution_count": 7,
     "metadata": {},
     "output_type": "execute_result"
    },
    {
     "data": {
      "text/plain": [
       "(3499, 20)"
      ]
     },
     "execution_count": 7,
     "metadata": {},
     "output_type": "execute_result"
    },
    {
     "data": {
      "text/plain": [
       "(3499, 20)"
      ]
     },
     "execution_count": 7,
     "metadata": {},
     "output_type": "execute_result"
    },
    {
     "data": {
      "text/plain": [
       "(3399, 20)"
      ]
     },
     "execution_count": 7,
     "metadata": {},
     "output_type": "execute_result"
    }
   ],
   "source": [
    "SET_0_FILE = 'data/brickset_job_0k.csv'\n",
    "SET_3_FILE = 'data/brickset_job_3k.csv'\n",
    "SET_7_FILE = 'data/brickset_job_7k.csv'\n",
    "SET_10_FILE = 'data/brickset_job_10k.csv'\n",
    "\n",
    "set_0_df = pd.read_csv(SET_0_FILE)\n",
    "set_3_df = pd.read_csv(SET_3_FILE)\n",
    "set_7_df = pd.read_csv(SET_7_FILE)\n",
    "set_10_df = pd.read_csv(SET_10_FILE)\n",
    "\n",
    "set_0_df.shape\n",
    "set_3_df.shape\n",
    "set_7_df.shape\n",
    "set_10_df.shape"
   ]
  },
  {
   "cell_type": "markdown",
   "metadata": {},
   "source": [
    "## 2.1 Do Second Round of Data Cleaning\n",
    "\n",
    "File: ```brickset_set_clean.ipynb```\n",
    "\n",
    "Goal: To do some EDA on all the data fields and clean them in the process. \n",
    "\n",
    "Result: The cleaned dataset is exported as ```brickset_set_clean.csv```."
   ]
  },
  {
   "cell_type": "code",
   "execution_count": 8,
   "metadata": {
    "ExecuteTime": {
     "end_time": "2019-11-11T15:13:47.748658Z",
     "start_time": "2019-11-11T15:13:47.598660Z"
    }
   },
   "outputs": [
    {
     "data": {
      "text/html": [
       "<div>\n",
       "<style scoped>\n",
       "    .dataframe tbody tr th:only-of-type {\n",
       "        vertical-align: middle;\n",
       "    }\n",
       "\n",
       "    .dataframe tbody tr th {\n",
       "        vertical-align: top;\n",
       "    }\n",
       "\n",
       "    .dataframe thead th {\n",
       "        text-align: right;\n",
       "    }\n",
       "</style>\n",
       "<table border=\"1\" class=\"dataframe\">\n",
       "  <thead>\n",
       "    <tr style=\"text-align: right;\">\n",
       "      <th></th>\n",
       "      <th>set_no</th>\n",
       "      <th>name</th>\n",
       "      <th>theme_group</th>\n",
       "      <th>theme</th>\n",
       "      <th>subtheme</th>\n",
       "      <th>year</th>\n",
       "      <th>dimensions</th>\n",
       "      <th>weight</th>\n",
       "      <th>piece_cnt</th>\n",
       "      <th>minifig_cnt</th>\n",
       "      <th>inventory_url</th>\n",
       "      <th>minifig_url</th>\n",
       "      <th>store_price</th>\n",
       "      <th>current_price</th>\n",
       "      <th>rating_value</th>\n",
       "      <th>rating_votes</th>\n",
       "      <th>tags</th>\n",
       "      <th>set_type</th>\n",
       "      <th>packaging</th>\n",
       "      <th>notes</th>\n",
       "    </tr>\n",
       "  </thead>\n",
       "  <tbody>\n",
       "    <tr>\n",
       "      <th>0</th>\n",
       "      <td>722-1</td>\n",
       "      <td>Universal Building Set, 7+</td>\n",
       "      <td>Basic</td>\n",
       "      <td>Basic</td>\n",
       "      <td>NaN</td>\n",
       "      <td>1980.0</td>\n",
       "      <td>NaN</td>\n",
       "      <td>NaN</td>\n",
       "      <td>301.0</td>\n",
       "      <td>0.0</td>\n",
       "      <td>NaN</td>\n",
       "      <td>NaN</td>\n",
       "      <td>$20.00</td>\n",
       "      <td>New: $200, Used: $78</td>\n",
       "      <td>4.4</td>\n",
       "      <td>5</td>\n",
       "      <td>Aircraft, Helicopter, Truck, Car, Boat, Crane,...</td>\n",
       "      <td>Normal</td>\n",
       "      <td>NaN</td>\n",
       "      <td>NaN</td>\n",
       "    </tr>\n",
       "    <tr>\n",
       "      <th>1</th>\n",
       "      <td>733-1</td>\n",
       "      <td>Universal Building Set, 7+</td>\n",
       "      <td>Basic</td>\n",
       "      <td>Basic</td>\n",
       "      <td>NaN</td>\n",
       "      <td>1980.0</td>\n",
       "      <td>NaN</td>\n",
       "      <td>NaN</td>\n",
       "      <td>533.0</td>\n",
       "      <td>0.0</td>\n",
       "      <td>NaN</td>\n",
       "      <td>NaN</td>\n",
       "      <td>$39.00</td>\n",
       "      <td>New: $566, Used: $109</td>\n",
       "      <td>4.5</td>\n",
       "      <td>2</td>\n",
       "      <td>Helicopter, Truck, Baseplate, Crane, Racing, Base</td>\n",
       "      <td>Normal</td>\n",
       "      <td>NaN</td>\n",
       "      <td>NaN</td>\n",
       "    </tr>\n",
       "    <tr>\n",
       "      <th>2</th>\n",
       "      <td>744-1</td>\n",
       "      <td>Universal Building Set with Motor, 7+</td>\n",
       "      <td>Basic</td>\n",
       "      <td>Basic</td>\n",
       "      <td>NaN</td>\n",
       "      <td>1980.0</td>\n",
       "      <td>NaN</td>\n",
       "      <td>NaN</td>\n",
       "      <td>537.0</td>\n",
       "      <td>0.0</td>\n",
       "      <td>NaN</td>\n",
       "      <td>NaN</td>\n",
       "      <td>$59.00</td>\n",
       "      <td>New: $252, Used: $97</td>\n",
       "      <td>5.0</td>\n",
       "      <td>2</td>\n",
       "      <td>Truck, Crane, Windmill</td>\n",
       "      <td>Normal</td>\n",
       "      <td>NaN</td>\n",
       "      <td>NaN</td>\n",
       "    </tr>\n",
       "    <tr>\n",
       "      <th>3</th>\n",
       "      <td>820-1</td>\n",
       "      <td>Red Plates Parts Pack</td>\n",
       "      <td>Basic</td>\n",
       "      <td>Basic</td>\n",
       "      <td>Supplementaries</td>\n",
       "      <td>1980.0</td>\n",
       "      <td>NaN</td>\n",
       "      <td>NaN</td>\n",
       "      <td>34.0</td>\n",
       "      <td>0.0</td>\n",
       "      <td>NaN</td>\n",
       "      <td>NaN</td>\n",
       "      <td>$4.75</td>\n",
       "      <td>New: Not known, Used: Not known</td>\n",
       "      <td>NaN</td>\n",
       "      <td>NaN</td>\n",
       "      <td>NaN</td>\n",
       "      <td>Normal</td>\n",
       "      <td>NaN</td>\n",
       "      <td>NaN</td>\n",
       "    </tr>\n",
       "    <tr>\n",
       "      <th>4</th>\n",
       "      <td>822-1</td>\n",
       "      <td>Blue Plates Parts Pack</td>\n",
       "      <td>Basic</td>\n",
       "      <td>Basic</td>\n",
       "      <td>Supplementaries</td>\n",
       "      <td>1980.0</td>\n",
       "      <td>NaN</td>\n",
       "      <td>NaN</td>\n",
       "      <td>34.0</td>\n",
       "      <td>0.0</td>\n",
       "      <td>NaN</td>\n",
       "      <td>NaN</td>\n",
       "      <td>$4.75</td>\n",
       "      <td>New: $29, Used: $5</td>\n",
       "      <td>NaN</td>\n",
       "      <td>NaN</td>\n",
       "      <td>NaN</td>\n",
       "      <td>Normal</td>\n",
       "      <td>NaN</td>\n",
       "      <td>NaN</td>\n",
       "    </tr>\n",
       "  </tbody>\n",
       "</table>\n",
       "</div>"
      ],
      "text/plain": [
       "  set_no                                   name theme_group  theme  \\\n",
       "0  722-1             Universal Building Set, 7+       Basic  Basic   \n",
       "1  733-1             Universal Building Set, 7+       Basic  Basic   \n",
       "2  744-1  Universal Building Set with Motor, 7+       Basic  Basic   \n",
       "3  820-1                  Red Plates Parts Pack       Basic  Basic   \n",
       "4  822-1                 Blue Plates Parts Pack       Basic  Basic   \n",
       "\n",
       "          subtheme    year dimensions weight  piece_cnt  minifig_cnt  \\\n",
       "0              NaN  1980.0        NaN    NaN      301.0          0.0   \n",
       "1              NaN  1980.0        NaN    NaN      533.0          0.0   \n",
       "2              NaN  1980.0        NaN    NaN      537.0          0.0   \n",
       "3  Supplementaries  1980.0        NaN    NaN       34.0          0.0   \n",
       "4  Supplementaries  1980.0        NaN    NaN       34.0          0.0   \n",
       "\n",
       "  inventory_url minifig_url store_price                    current_price  \\\n",
       "0           NaN         NaN      $20.00             New: $200, Used: $78   \n",
       "1           NaN         NaN      $39.00            New: $566, Used: $109   \n",
       "2           NaN         NaN      $59.00             New: $252, Used: $97   \n",
       "3           NaN         NaN       $4.75  New: Not known, Used: Not known   \n",
       "4           NaN         NaN       $4.75               New: $29, Used: $5   \n",
       "\n",
       "   rating_value rating_votes  \\\n",
       "0           4.4            5   \n",
       "1           4.5            2   \n",
       "2           5.0            2   \n",
       "3           NaN          NaN   \n",
       "4           NaN          NaN   \n",
       "\n",
       "                                                tags set_type packaging notes  \n",
       "0  Aircraft, Helicopter, Truck, Car, Boat, Crane,...   Normal       NaN   NaN  \n",
       "1  Helicopter, Truck, Baseplate, Crane, Racing, Base   Normal       NaN   NaN  \n",
       "2                             Truck, Crane, Windmill   Normal       NaN   NaN  \n",
       "3                                                NaN   Normal       NaN   NaN  \n",
       "4                                                NaN   Normal       NaN   NaN  "
      ]
     },
     "execution_count": 8,
     "metadata": {},
     "output_type": "execute_result"
    },
    {
     "name": "stdout",
     "output_type": "stream",
     "text": [
      "<class 'pandas.core.frame.DataFrame'>\n",
      "RangeIndex: 13762 entries, 0 to 13761\n",
      "Data columns (total 20 columns):\n",
      "set_no           13762 non-null object\n",
      "name             13762 non-null object\n",
      "theme_group      13762 non-null object\n",
      "theme            13762 non-null object\n",
      "subtheme         10048 non-null object\n",
      "year             13762 non-null float64\n",
      "dimensions       2925 non-null object\n",
      "weight           3086 non-null object\n",
      "piece_cnt        10862 non-null float64\n",
      "minifig_cnt      13762 non-null float64\n",
      "inventory_url    6961 non-null object\n",
      "minifig_url      6266 non-null object\n",
      "store_price      9188 non-null object\n",
      "current_price    13762 non-null object\n",
      "rating_value     6825 non-null float64\n",
      "rating_votes     6825 non-null object\n",
      "tags             10269 non-null object\n",
      "set_type         13762 non-null object\n",
      "packaging        8923 non-null object\n",
      "notes            5233 non-null object\n",
      "dtypes: float64(4), object(16)\n",
      "memory usage: 2.1+ MB\n"
     ]
    }
   ],
   "source": [
    "RAW_FILE = 'data/brickset_set_full.csv'\n",
    "set_df = pd.read_csv(RAW_FILE)\n",
    "set_df.head()\n",
    "set_df.info()"
   ]
  },
  {
   "cell_type": "code",
   "execution_count": 9,
   "metadata": {
    "ExecuteTime": {
     "end_time": "2019-11-11T15:13:48.155657Z",
     "start_time": "2019-11-11T15:13:47.752658Z"
    }
   },
   "outputs": [
    {
     "data": {
      "text/plain": [
       "(array([119.,  73.,  68.,  76.,  83., 140., 148., 195.,  75., 141., 126.,\n",
       "        143., 105., 152., 147., 163., 204., 257., 375., 340., 378., 402.,\n",
       "        444., 426., 413., 372., 462., 447., 436., 453., 524., 585., 675.,\n",
       "        701., 734., 752., 801., 839., 788.]),\n",
       " array([1980.        , 1980.97435897, 1981.94871795, 1982.92307692,\n",
       "        1983.8974359 , 1984.87179487, 1985.84615385, 1986.82051282,\n",
       "        1987.79487179, 1988.76923077, 1989.74358974, 1990.71794872,\n",
       "        1991.69230769, 1992.66666667, 1993.64102564, 1994.61538462,\n",
       "        1995.58974359, 1996.56410256, 1997.53846154, 1998.51282051,\n",
       "        1999.48717949, 2000.46153846, 2001.43589744, 2002.41025641,\n",
       "        2003.38461538, 2004.35897436, 2005.33333333, 2006.30769231,\n",
       "        2007.28205128, 2008.25641026, 2009.23076923, 2010.20512821,\n",
       "        2011.17948718, 2012.15384615, 2013.12820513, 2014.1025641 ,\n",
       "        2015.07692308, 2016.05128205, 2017.02564103, 2018.        ]),\n",
       " <a list of 39 Patch objects>)"
      ]
     },
     "execution_count": 9,
     "metadata": {},
     "output_type": "execute_result"
    },
    {
     "data": {
      "text/plain": [
       "[Text(0, 0.5, 'Total of Sets'), Text(0.5, 0, 'Year')]"
      ]
     },
     "execution_count": 9,
     "metadata": {},
     "output_type": "execute_result"
    },
    {
     "data": {
      "image/png": "[encoded data removed]",
      "text/plain": [
       "<Figure size 1008x432 with 1 Axes>"
      ]
     },
     "metadata": {
      "needs_background": "light"
     },
     "output_type": "display_data"
    }
   ],
   "source": [
    "# plot number of sets per year\n",
    "\n",
    "fig, axs = plt.subplots(1, 1, figsize=(14, 6))\n",
    "axs.hist(set_df['year'].values, bins=set_df['year'].unique().shape[0])\n",
    "axs.set(xlabel='Year', ylabel='Total of Sets')\n",
    "plt.show()"
   ]
  },
  {
   "cell_type": "code",
   "execution_count": 10,
   "metadata": {
    "ExecuteTime": {
     "end_time": "2019-11-11T15:13:48.246660Z",
     "start_time": "2019-11-11T15:13:48.159659Z"
    }
   },
   "outputs": [
    {
     "data": {
      "text/html": [
       "<div>\n",
       "<style scoped>\n",
       "    .dataframe tbody tr th:only-of-type {\n",
       "        vertical-align: middle;\n",
       "    }\n",
       "\n",
       "    .dataframe tbody tr th {\n",
       "        vertical-align: top;\n",
       "    }\n",
       "\n",
       "    .dataframe thead th {\n",
       "        text-align: right;\n",
       "    }\n",
       "</style>\n",
       "<table border=\"1\" class=\"dataframe\">\n",
       "  <thead>\n",
       "    <tr style=\"text-align: right;\">\n",
       "      <th></th>\n",
       "      <th>set_no</th>\n",
       "      <th>name</th>\n",
       "      <th>current_price</th>\n",
       "      <th>price_used</th>\n",
       "      <th>price_new</th>\n",
       "    </tr>\n",
       "  </thead>\n",
       "  <tbody>\n",
       "    <tr>\n",
       "      <th>2205</th>\n",
       "      <td>2161-1</td>\n",
       "      <td>Aqua Dozer</td>\n",
       "      <td>New: $90, Used: $21</td>\n",
       "      <td>21.0</td>\n",
       "      <td>90.0</td>\n",
       "    </tr>\n",
       "    <tr>\n",
       "      <th>2206</th>\n",
       "      <td>2162-1</td>\n",
       "      <td>Hydro Reef Wrecker</td>\n",
       "      <td>New: $89, Used: $44</td>\n",
       "      <td>44.0</td>\n",
       "      <td>89.0</td>\n",
       "    </tr>\n",
       "    <tr>\n",
       "      <th>2207</th>\n",
       "      <td>2163-1</td>\n",
       "      <td>Toucan</td>\n",
       "      <td>New: $1, Used: $0</td>\n",
       "      <td>0.0</td>\n",
       "      <td>1.0</td>\n",
       "    </tr>\n",
       "    <tr>\n",
       "      <th>2208</th>\n",
       "      <td>2164-1</td>\n",
       "      <td>Whale</td>\n",
       "      <td>New: $2, Used: $1</td>\n",
       "      <td>1.0</td>\n",
       "      <td>2.0</td>\n",
       "    </tr>\n",
       "    <tr>\n",
       "      <th>2209</th>\n",
       "      <td>2165-1</td>\n",
       "      <td>Rhinocerous</td>\n",
       "      <td>New: $2, Used: Not known</td>\n",
       "      <td>NaN</td>\n",
       "      <td>2.0</td>\n",
       "    </tr>\n",
       "    <tr>\n",
       "      <th>2210</th>\n",
       "      <td>2166-1</td>\n",
       "      <td>Elephant</td>\n",
       "      <td>New: $3, Used: Not known</td>\n",
       "      <td>NaN</td>\n",
       "      <td>3.0</td>\n",
       "    </tr>\n",
       "    <tr>\n",
       "      <th>2211</th>\n",
       "      <td>2167-1</td>\n",
       "      <td>Penguin</td>\n",
       "      <td>New: $2, Used: Not known</td>\n",
       "      <td>NaN</td>\n",
       "      <td>2.0</td>\n",
       "    </tr>\n",
       "    <tr>\n",
       "      <th>2212</th>\n",
       "      <td>2168-1</td>\n",
       "      <td>Rattle</td>\n",
       "      <td>New: $5, Used: Not known</td>\n",
       "      <td>NaN</td>\n",
       "      <td>5.0</td>\n",
       "    </tr>\n",
       "    <tr>\n",
       "      <th>2213</th>\n",
       "      <td>2181-1</td>\n",
       "      <td>Infomaniac</td>\n",
       "      <td>New: $44, Used: $45</td>\n",
       "      <td>45.0</td>\n",
       "      <td>44.0</td>\n",
       "    </tr>\n",
       "    <tr>\n",
       "      <th>2214</th>\n",
       "      <td>2184-1</td>\n",
       "      <td>XL Bulk Bucket</td>\n",
       "      <td>New: Not known, Used: Not known</td>\n",
       "      <td>NaN</td>\n",
       "      <td>NaN</td>\n",
       "    </tr>\n",
       "  </tbody>\n",
       "</table>\n",
       "</div>"
      ],
      "text/plain": [
       "      set_no                name                    current_price  price_used  \\\n",
       "2205  2161-1          Aqua Dozer              New: $90, Used: $21        21.0   \n",
       "2206  2162-1  Hydro Reef Wrecker              New: $89, Used: $44        44.0   \n",
       "2207  2163-1              Toucan                New: $1, Used: $0         0.0   \n",
       "2208  2164-1               Whale                New: $2, Used: $1         1.0   \n",
       "2209  2165-1         Rhinocerous         New: $2, Used: Not known         NaN   \n",
       "2210  2166-1            Elephant         New: $3, Used: Not known         NaN   \n",
       "2211  2167-1             Penguin         New: $2, Used: Not known         NaN   \n",
       "2212  2168-1              Rattle         New: $5, Used: Not known         NaN   \n",
       "2213  2181-1          Infomaniac              New: $44, Used: $45        45.0   \n",
       "2214  2184-1      XL Bulk Bucket  New: Not known, Used: Not known         NaN   \n",
       "\n",
       "      price_new  \n",
       "2205       90.0  \n",
       "2206       89.0  \n",
       "2207        1.0  \n",
       "2208        2.0  \n",
       "2209        2.0  \n",
       "2210        3.0  \n",
       "2211        2.0  \n",
       "2212        5.0  \n",
       "2213       44.0  \n",
       "2214        NaN  "
      ]
     },
     "execution_count": 10,
     "metadata": {},
     "output_type": "execute_result"
    }
   ],
   "source": [
    "# clean current price, and create 2 new columns\n",
    "\n",
    "set_df['price_used'] = set_df['current_price'].apply(lh.get_price_used)\n",
    "set_df['price_new'] = set_df['current_price'].apply(lh.get_price_new)\n",
    "set_df[['set_no', 'name', 'current_price', 'price_used', 'price_new']][2205:2215]"
   ]
  },
  {
   "cell_type": "markdown",
   "metadata": {},
   "source": [
    "## 2.2 Filter Out Non-System Sets\n",
    "\n",
    "File: ```brickset_set_filter.ipynb```\n",
    "\n",
    "Goal: Start with the full cleaned brickset sets file, and remove sets which are not appropriate for analysis (because it would be comparing apples to oranges). This includes filtering out baby sets (pieces are larger than regular legos), keychains, games, esoteric promotional sets, etc.       \n",
    "\n",
    "Result: Creates the file ```brickset_set_filter.csv```."
   ]
  },
  {
   "cell_type": "code",
   "execution_count": 11,
   "metadata": {
    "ExecuteTime": {
     "end_time": "2019-11-11T15:13:48.369658Z",
     "start_time": "2019-11-11T15:13:48.250662Z"
    }
   },
   "outputs": [
    {
     "data": {
      "text/html": [
       "<div>\n",
       "<style scoped>\n",
       "    .dataframe tbody tr th:only-of-type {\n",
       "        vertical-align: middle;\n",
       "    }\n",
       "\n",
       "    .dataframe tbody tr th {\n",
       "        vertical-align: top;\n",
       "    }\n",
       "\n",
       "    .dataframe thead th {\n",
       "        text-align: right;\n",
       "    }\n",
       "</style>\n",
       "<table border=\"1\" class=\"dataframe\">\n",
       "  <thead>\n",
       "    <tr style=\"text-align: right;\">\n",
       "      <th></th>\n",
       "      <th>set_no</th>\n",
       "      <th>name</th>\n",
       "      <th>theme_group</th>\n",
       "      <th>theme</th>\n",
       "      <th>subtheme</th>\n",
       "      <th>year</th>\n",
       "      <th>volume</th>\n",
       "      <th>weight</th>\n",
       "      <th>piece_cnt</th>\n",
       "      <th>minifig_cnt</th>\n",
       "      <th>inventory_url</th>\n",
       "      <th>minifig_url</th>\n",
       "      <th>price_store</th>\n",
       "      <th>price_new</th>\n",
       "      <th>price_used</th>\n",
       "      <th>rating_value</th>\n",
       "      <th>rating_votes</th>\n",
       "      <th>main_tag</th>\n",
       "      <th>set_type</th>\n",
       "      <th>packaging</th>\n",
       "    </tr>\n",
       "  </thead>\n",
       "  <tbody>\n",
       "    <tr>\n",
       "      <th>0</th>\n",
       "      <td>722-1</td>\n",
       "      <td>Universal Building Set, 7+</td>\n",
       "      <td>Basic</td>\n",
       "      <td>Basic</td>\n",
       "      <td>NaN</td>\n",
       "      <td>1980.0</td>\n",
       "      <td>NaN</td>\n",
       "      <td>NaN</td>\n",
       "      <td>301.0</td>\n",
       "      <td>0.0</td>\n",
       "      <td>NaN</td>\n",
       "      <td>NaN</td>\n",
       "      <td>20.00</td>\n",
       "      <td>200.0</td>\n",
       "      <td>78.0</td>\n",
       "      <td>4.4</td>\n",
       "      <td>5.0</td>\n",
       "      <td>NaN</td>\n",
       "      <td>Normal</td>\n",
       "      <td>NaN</td>\n",
       "    </tr>\n",
       "    <tr>\n",
       "      <th>1</th>\n",
       "      <td>733-1</td>\n",
       "      <td>Universal Building Set, 7+</td>\n",
       "      <td>Basic</td>\n",
       "      <td>Basic</td>\n",
       "      <td>NaN</td>\n",
       "      <td>1980.0</td>\n",
       "      <td>NaN</td>\n",
       "      <td>NaN</td>\n",
       "      <td>533.0</td>\n",
       "      <td>0.0</td>\n",
       "      <td>NaN</td>\n",
       "      <td>NaN</td>\n",
       "      <td>39.00</td>\n",
       "      <td>566.0</td>\n",
       "      <td>109.0</td>\n",
       "      <td>4.5</td>\n",
       "      <td>2.0</td>\n",
       "      <td>NaN</td>\n",
       "      <td>Normal</td>\n",
       "      <td>NaN</td>\n",
       "    </tr>\n",
       "    <tr>\n",
       "      <th>2</th>\n",
       "      <td>744-1</td>\n",
       "      <td>Universal Building Set with Motor, 7+</td>\n",
       "      <td>Basic</td>\n",
       "      <td>Basic</td>\n",
       "      <td>NaN</td>\n",
       "      <td>1980.0</td>\n",
       "      <td>NaN</td>\n",
       "      <td>NaN</td>\n",
       "      <td>537.0</td>\n",
       "      <td>0.0</td>\n",
       "      <td>NaN</td>\n",
       "      <td>NaN</td>\n",
       "      <td>59.00</td>\n",
       "      <td>252.0</td>\n",
       "      <td>97.0</td>\n",
       "      <td>5.0</td>\n",
       "      <td>2.0</td>\n",
       "      <td>NaN</td>\n",
       "      <td>Normal</td>\n",
       "      <td>NaN</td>\n",
       "    </tr>\n",
       "    <tr>\n",
       "      <th>3</th>\n",
       "      <td>820-1</td>\n",
       "      <td>Red Plates Parts Pack</td>\n",
       "      <td>Basic</td>\n",
       "      <td>Basic</td>\n",
       "      <td>Supplementaries</td>\n",
       "      <td>1980.0</td>\n",
       "      <td>NaN</td>\n",
       "      <td>NaN</td>\n",
       "      <td>34.0</td>\n",
       "      <td>0.0</td>\n",
       "      <td>NaN</td>\n",
       "      <td>NaN</td>\n",
       "      <td>4.75</td>\n",
       "      <td>NaN</td>\n",
       "      <td>NaN</td>\n",
       "      <td>NaN</td>\n",
       "      <td>NaN</td>\n",
       "      <td>NaN</td>\n",
       "      <td>Normal</td>\n",
       "      <td>NaN</td>\n",
       "    </tr>\n",
       "    <tr>\n",
       "      <th>4</th>\n",
       "      <td>822-1</td>\n",
       "      <td>Blue Plates Parts Pack</td>\n",
       "      <td>Basic</td>\n",
       "      <td>Basic</td>\n",
       "      <td>Supplementaries</td>\n",
       "      <td>1980.0</td>\n",
       "      <td>NaN</td>\n",
       "      <td>NaN</td>\n",
       "      <td>34.0</td>\n",
       "      <td>0.0</td>\n",
       "      <td>NaN</td>\n",
       "      <td>NaN</td>\n",
       "      <td>4.75</td>\n",
       "      <td>29.0</td>\n",
       "      <td>5.0</td>\n",
       "      <td>NaN</td>\n",
       "      <td>NaN</td>\n",
       "      <td>NaN</td>\n",
       "      <td>Normal</td>\n",
       "      <td>NaN</td>\n",
       "    </tr>\n",
       "  </tbody>\n",
       "</table>\n",
       "</div>"
      ],
      "text/plain": [
       "  set_no                                   name theme_group  theme  \\\n",
       "0  722-1             Universal Building Set, 7+       Basic  Basic   \n",
       "1  733-1             Universal Building Set, 7+       Basic  Basic   \n",
       "2  744-1  Universal Building Set with Motor, 7+       Basic  Basic   \n",
       "3  820-1                  Red Plates Parts Pack       Basic  Basic   \n",
       "4  822-1                 Blue Plates Parts Pack       Basic  Basic   \n",
       "\n",
       "          subtheme    year  volume  weight  piece_cnt  minifig_cnt  \\\n",
       "0              NaN  1980.0     NaN     NaN      301.0          0.0   \n",
       "1              NaN  1980.0     NaN     NaN      533.0          0.0   \n",
       "2              NaN  1980.0     NaN     NaN      537.0          0.0   \n",
       "3  Supplementaries  1980.0     NaN     NaN       34.0          0.0   \n",
       "4  Supplementaries  1980.0     NaN     NaN       34.0          0.0   \n",
       "\n",
       "  inventory_url minifig_url  price_store  price_new  price_used  rating_value  \\\n",
       "0           NaN         NaN        20.00      200.0        78.0           4.4   \n",
       "1           NaN         NaN        39.00      566.0       109.0           4.5   \n",
       "2           NaN         NaN        59.00      252.0        97.0           5.0   \n",
       "3           NaN         NaN         4.75        NaN         NaN           NaN   \n",
       "4           NaN         NaN         4.75       29.0         5.0           NaN   \n",
       "\n",
       "   rating_votes  main_tag set_type packaging  \n",
       "0           5.0       NaN   Normal       NaN  \n",
       "1           2.0       NaN   Normal       NaN  \n",
       "2           2.0       NaN   Normal       NaN  \n",
       "3           NaN       NaN   Normal       NaN  \n",
       "4           NaN       NaN   Normal       NaN  "
      ]
     },
     "execution_count": 11,
     "metadata": {},
     "output_type": "execute_result"
    },
    {
     "name": "stdout",
     "output_type": "stream",
     "text": [
      "<class 'pandas.core.frame.DataFrame'>\n",
      "RangeIndex: 13762 entries, 0 to 13761\n",
      "Data columns (total 20 columns):\n",
      "set_no           13762 non-null object\n",
      "name             13762 non-null object\n",
      "theme_group      13762 non-null object\n",
      "theme            13762 non-null object\n",
      "subtheme         10048 non-null object\n",
      "year             13762 non-null float64\n",
      "volume           2925 non-null float64\n",
      "weight           3086 non-null float64\n",
      "piece_cnt        10862 non-null float64\n",
      "minifig_cnt      13762 non-null float64\n",
      "inventory_url    6961 non-null object\n",
      "minifig_url      6266 non-null object\n",
      "price_store      8384 non-null float64\n",
      "price_new        8532 non-null float64\n",
      "price_used       7048 non-null float64\n",
      "rating_value     6825 non-null float64\n",
      "rating_votes     6825 non-null float64\n",
      "main_tag         0 non-null float64\n",
      "set_type         13762 non-null object\n",
      "packaging        8923 non-null object\n",
      "dtypes: float64(11), object(9)\n",
      "memory usage: 2.1+ MB\n"
     ]
    }
   ],
   "source": [
    "SET_FILE = 'data/brickset_set_clean.csv'\n",
    "set_df = pd.read_csv(SET_FILE)\n",
    "set_df.head()\n",
    "set_df.info()"
   ]
  },
  {
   "cell_type": "code",
   "execution_count": 12,
   "metadata": {
    "ExecuteTime": {
     "end_time": "2019-11-11T15:13:48.386662Z",
     "start_time": "2019-11-11T15:13:48.371657Z"
    }
   },
   "outputs": [
    {
     "data": {
      "text/plain": [
       "(7118, 20)"
      ]
     },
     "execution_count": 12,
     "metadata": {},
     "output_type": "execute_result"
    }
   ],
   "source": [
    "# filter by group-theme to get rid of baby sets, etc\n",
    "\n",
    "remove_group_ls = ['Basic', 'Educational', 'Miscellaneous', 'Other', 'Pre-school', 'Vintage themes', ]\n",
    "set_df = set_df.loc[set_df['theme_group'].isin(remove_group_ls)==False]\n",
    "set_df.shape"
   ]
  },
  {
   "cell_type": "markdown",
   "metadata": {},
   "source": [
    "## 2.3 Join Brickset With Kaggle\n",
    "\n",
    "File: ```merge_brickset_kaggle.ipynb```\n",
    "\n",
    "Goal: Merge the filtered brickset set data with kaggle inventory data (for number of parts, colors, etc).\n",
    "\n",
    "Result: Outputs the file ```merge_full.csv```."
   ]
  },
  {
   "cell_type": "code",
   "execution_count": 13,
   "metadata": {
    "ExecuteTime": {
     "end_time": "2019-11-11T15:13:48.401661Z",
     "start_time": "2019-11-11T15:13:48.389661Z"
    }
   },
   "outputs": [],
   "source": [
    "FILTER_FILE = 'data/brickset_set_filter.csv'\n",
    "INVENTORIES_FILE = 'data/kaggle_inventories.csv'\n",
    "INVENTORYPARTS_FILE = 'data/kaggle_inventory_parts.csv'\n",
    "COLORS_FILE = 'data/kaggle_colors.csv'\n",
    "PARTS_FILE = 'data/kaggle_parts.csv'\n",
    "PARTCATEGORIES_FILE = 'data/kaggle_part_categories.csv'"
   ]
  },
  {
   "cell_type": "code",
   "execution_count": 14,
   "metadata": {
    "ExecuteTime": {
     "end_time": "2019-11-11T15:13:48.441679Z",
     "start_time": "2019-11-11T15:13:48.404660Z"
    }
   },
   "outputs": [
    {
     "data": {
      "text/html": [
       "<div>\n",
       "<style scoped>\n",
       "    .dataframe tbody tr th:only-of-type {\n",
       "        vertical-align: middle;\n",
       "    }\n",
       "\n",
       "    .dataframe tbody tr th {\n",
       "        vertical-align: top;\n",
       "    }\n",
       "\n",
       "    .dataframe thead th {\n",
       "        text-align: right;\n",
       "    }\n",
       "</style>\n",
       "<table border=\"1\" class=\"dataframe\">\n",
       "  <thead>\n",
       "    <tr style=\"text-align: right;\">\n",
       "      <th></th>\n",
       "      <th>set_no</th>\n",
       "      <th>piece_cnt</th>\n",
       "    </tr>\n",
       "  </thead>\n",
       "  <tbody>\n",
       "    <tr>\n",
       "      <th>0</th>\n",
       "      <td>858-1</td>\n",
       "      <td>242.0</td>\n",
       "    </tr>\n",
       "    <tr>\n",
       "      <th>1</th>\n",
       "      <td>1591-1</td>\n",
       "      <td>40.0</td>\n",
       "    </tr>\n",
       "    <tr>\n",
       "      <th>2</th>\n",
       "      <td>1592-1</td>\n",
       "      <td>471.0</td>\n",
       "    </tr>\n",
       "  </tbody>\n",
       "</table>\n",
       "</div>"
      ],
      "text/plain": [
       "   set_no  piece_cnt\n",
       "0   858-1      242.0\n",
       "1  1591-1       40.0\n",
       "2  1592-1      471.0"
      ]
     },
     "execution_count": 14,
     "metadata": {},
     "output_type": "execute_result"
    }
   ],
   "source": [
    "brickset = pd.read_csv(FILTER_FILE)\n",
    "brickset[[\"set_no\", \"piece_cnt\"]].head(3)"
   ]
  },
  {
   "cell_type": "code",
   "execution_count": 15,
   "metadata": {
    "ExecuteTime": {
     "end_time": "2019-11-11T15:13:48.467660Z",
     "start_time": "2019-11-11T15:13:48.444659Z"
    }
   },
   "outputs": [
    {
     "data": {
      "text/html": [
       "<div>\n",
       "<style scoped>\n",
       "    .dataframe tbody tr th:only-of-type {\n",
       "        vertical-align: middle;\n",
       "    }\n",
       "\n",
       "    .dataframe tbody tr th {\n",
       "        vertical-align: top;\n",
       "    }\n",
       "\n",
       "    .dataframe thead th {\n",
       "        text-align: right;\n",
       "    }\n",
       "</style>\n",
       "<table border=\"1\" class=\"dataframe\">\n",
       "  <thead>\n",
       "    <tr style=\"text-align: right;\">\n",
       "      <th></th>\n",
       "      <th>id</th>\n",
       "      <th>version</th>\n",
       "      <th>set_num</th>\n",
       "    </tr>\n",
       "  </thead>\n",
       "  <tbody>\n",
       "    <tr>\n",
       "      <th>0</th>\n",
       "      <td>1</td>\n",
       "      <td>1</td>\n",
       "      <td>7922-1</td>\n",
       "    </tr>\n",
       "    <tr>\n",
       "      <th>1</th>\n",
       "      <td>3</td>\n",
       "      <td>1</td>\n",
       "      <td>3931-1</td>\n",
       "    </tr>\n",
       "    <tr>\n",
       "      <th>2</th>\n",
       "      <td>4</td>\n",
       "      <td>1</td>\n",
       "      <td>6942-1</td>\n",
       "    </tr>\n",
       "    <tr>\n",
       "      <th>3</th>\n",
       "      <td>15</td>\n",
       "      <td>1</td>\n",
       "      <td>5158-1</td>\n",
       "    </tr>\n",
       "    <tr>\n",
       "      <th>4</th>\n",
       "      <td>16</td>\n",
       "      <td>1</td>\n",
       "      <td>903-1</td>\n",
       "    </tr>\n",
       "  </tbody>\n",
       "</table>\n",
       "</div>"
      ],
      "text/plain": [
       "   id  version set_num\n",
       "0   1        1  7922-1\n",
       "1   3        1  3931-1\n",
       "2   4        1  6942-1\n",
       "3  15        1  5158-1\n",
       "4  16        1   903-1"
      ]
     },
     "execution_count": 15,
     "metadata": {},
     "output_type": "execute_result"
    }
   ],
   "source": [
    "kaggle_inventories = pd.read_csv(INVENTORIES_FILE)\n",
    "kaggle_inventories.head()"
   ]
  },
  {
   "cell_type": "code",
   "execution_count": 16,
   "metadata": {
    "ExecuteTime": {
     "end_time": "2019-11-11T15:13:48.483658Z",
     "start_time": "2019-11-11T15:13:48.469662Z"
    }
   },
   "outputs": [
    {
     "data": {
      "text/html": [
       "<div>\n",
       "<style scoped>\n",
       "    .dataframe tbody tr th:only-of-type {\n",
       "        vertical-align: middle;\n",
       "    }\n",
       "\n",
       "    .dataframe tbody tr th {\n",
       "        vertical-align: top;\n",
       "    }\n",
       "\n",
       "    .dataframe thead th {\n",
       "        text-align: right;\n",
       "    }\n",
       "</style>\n",
       "<table border=\"1\" class=\"dataframe\">\n",
       "  <thead>\n",
       "    <tr style=\"text-align: right;\">\n",
       "      <th></th>\n",
       "      <th>set_no</th>\n",
       "      <th>inventory_id</th>\n",
       "    </tr>\n",
       "  </thead>\n",
       "  <tbody>\n",
       "    <tr>\n",
       "      <th>0</th>\n",
       "      <td>7922-1</td>\n",
       "      <td>1</td>\n",
       "    </tr>\n",
       "    <tr>\n",
       "      <th>1</th>\n",
       "      <td>3931-1</td>\n",
       "      <td>3</td>\n",
       "    </tr>\n",
       "    <tr>\n",
       "      <th>2</th>\n",
       "      <td>6942-1</td>\n",
       "      <td>4</td>\n",
       "    </tr>\n",
       "    <tr>\n",
       "      <th>3</th>\n",
       "      <td>5158-1</td>\n",
       "      <td>15</td>\n",
       "    </tr>\n",
       "    <tr>\n",
       "      <th>4</th>\n",
       "      <td>903-1</td>\n",
       "      <td>16</td>\n",
       "    </tr>\n",
       "  </tbody>\n",
       "</table>\n",
       "</div>"
      ],
      "text/plain": [
       "   set_no  inventory_id\n",
       "0  7922-1             1\n",
       "1  3931-1             3\n",
       "2  6942-1             4\n",
       "3  5158-1            15\n",
       "4   903-1            16"
      ]
     },
     "execution_count": 16,
     "metadata": {},
     "output_type": "execute_result"
    }
   ],
   "source": [
    "## select needed columns\n",
    "kaggle_inventories = kaggle_inventories[[\"set_num\", \"id\"]]\n",
    "kaggle_inventories.columns = [\"set_no\", \"inventory_id\"]\n",
    "kaggle_inventories.head()"
   ]
  },
  {
   "cell_type": "code",
   "execution_count": 17,
   "metadata": {
    "ExecuteTime": {
     "end_time": "2019-11-11T15:13:48.522659Z",
     "start_time": "2019-11-11T15:13:48.486658Z"
    }
   },
   "outputs": [
    {
     "data": {
      "text/html": [
       "<div>\n",
       "<style scoped>\n",
       "    .dataframe tbody tr th:only-of-type {\n",
       "        vertical-align: middle;\n",
       "    }\n",
       "\n",
       "    .dataframe tbody tr th {\n",
       "        vertical-align: top;\n",
       "    }\n",
       "\n",
       "    .dataframe thead th {\n",
       "        text-align: right;\n",
       "    }\n",
       "</style>\n",
       "<table border=\"1\" class=\"dataframe\">\n",
       "  <thead>\n",
       "    <tr style=\"text-align: right;\">\n",
       "      <th></th>\n",
       "      <th>set_no</th>\n",
       "      <th>piece_cnt</th>\n",
       "      <th>inventory_id</th>\n",
       "    </tr>\n",
       "  </thead>\n",
       "  <tbody>\n",
       "    <tr>\n",
       "      <th>0</th>\n",
       "      <td>858-1</td>\n",
       "      <td>242.0</td>\n",
       "      <td>4886.0</td>\n",
       "    </tr>\n",
       "    <tr>\n",
       "      <th>1</th>\n",
       "      <td>1591-1</td>\n",
       "      <td>40.0</td>\n",
       "      <td>11940.0</td>\n",
       "    </tr>\n",
       "    <tr>\n",
       "      <th>2</th>\n",
       "      <td>1592-1</td>\n",
       "      <td>471.0</td>\n",
       "      <td>14106.0</td>\n",
       "    </tr>\n",
       "  </tbody>\n",
       "</table>\n",
       "</div>"
      ],
      "text/plain": [
       "   set_no  piece_cnt  inventory_id\n",
       "0   858-1      242.0        4886.0\n",
       "1  1591-1       40.0       11940.0\n",
       "2  1592-1      471.0       14106.0"
      ]
     },
     "execution_count": 17,
     "metadata": {},
     "output_type": "execute_result"
    }
   ],
   "source": [
    "brickset = pd.merge(brickset, kaggle_inventories, how=\"left\")\n",
    "brickset[[\"set_no\", \"piece_cnt\", \"inventory_id\"]].head(3)"
   ]
  },
  {
   "cell_type": "markdown",
   "metadata": {},
   "source": [
    "## 2.4 Introduce New Features\n",
    "\n",
    "File: ```merge_features.ipynb```\n",
    "\n",
    "Goal: Create new composite features for analysis.\n",
    "\n",
    "Result: Outputs the file ```merge_feature.csv```."
   ]
  },
  {
   "cell_type": "code",
   "execution_count": 18,
   "metadata": {
    "ExecuteTime": {
     "end_time": "2019-11-11T15:13:48.713661Z",
     "start_time": "2019-11-11T15:13:48.525660Z"
    }
   },
   "outputs": [
    {
     "data": {
      "text/html": [
       "<div>\n",
       "<style scoped>\n",
       "    .dataframe tbody tr th:only-of-type {\n",
       "        vertical-align: middle;\n",
       "    }\n",
       "\n",
       "    .dataframe tbody tr th {\n",
       "        vertical-align: top;\n",
       "    }\n",
       "\n",
       "    .dataframe thead th {\n",
       "        text-align: right;\n",
       "    }\n",
       "</style>\n",
       "<table border=\"1\" class=\"dataframe\">\n",
       "  <thead>\n",
       "    <tr style=\"text-align: right;\">\n",
       "      <th></th>\n",
       "      <th>set_no</th>\n",
       "      <th>name</th>\n",
       "      <th>price_store</th>\n",
       "      <th>price_new</th>\n",
       "      <th>price_used</th>\n",
       "      <th>rating_value</th>\n",
       "      <th>rating_votes</th>\n",
       "      <th>theme_group</th>\n",
       "      <th>theme</th>\n",
       "      <th>subtheme</th>\n",
       "      <th>...</th>\n",
       "      <th>tiles_printed_tot_prts</th>\n",
       "      <th>tiles_special_tot_prts</th>\n",
       "      <th>tools_tot_prts</th>\n",
       "      <th>transportation_-_land_tot_prts</th>\n",
       "      <th>transportation_-_sea_and_air_tot_prts</th>\n",
       "      <th>tubes_and_hoses_tot_prts</th>\n",
       "      <th>wheels_and_tyres_tot_prts</th>\n",
       "      <th>windows_and_doors_tot_prts</th>\n",
       "      <th>windscreens_and_fuselage_tot_prts</th>\n",
       "      <th>znap_tot_prts</th>\n",
       "    </tr>\n",
       "  </thead>\n",
       "  <tbody>\n",
       "    <tr>\n",
       "      <th>0</th>\n",
       "      <td>858-1</td>\n",
       "      <td>Auto Engines</td>\n",
       "      <td>NaN</td>\n",
       "      <td>NaN</td>\n",
       "      <td>51.0</td>\n",
       "      <td>4.5</td>\n",
       "      <td>2.0</td>\n",
       "      <td>Technical</td>\n",
       "      <td>Technic</td>\n",
       "      <td>NaN</td>\n",
       "      <td>...</td>\n",
       "      <td>0</td>\n",
       "      <td>0</td>\n",
       "      <td>0</td>\n",
       "      <td>0</td>\n",
       "      <td>0</td>\n",
       "      <td>6</td>\n",
       "      <td>2</td>\n",
       "      <td>0</td>\n",
       "      <td>0</td>\n",
       "      <td>0</td>\n",
       "    </tr>\n",
       "    <tr>\n",
       "      <th>1</th>\n",
       "      <td>1591-1</td>\n",
       "      <td>Danone Delivery Truck</td>\n",
       "      <td>NaN</td>\n",
       "      <td>129.0</td>\n",
       "      <td>28.0</td>\n",
       "      <td>NaN</td>\n",
       "      <td>NaN</td>\n",
       "      <td>Modern day</td>\n",
       "      <td>Town</td>\n",
       "      <td>Special</td>\n",
       "      <td>...</td>\n",
       "      <td>0</td>\n",
       "      <td>0</td>\n",
       "      <td>0</td>\n",
       "      <td>2</td>\n",
       "      <td>0</td>\n",
       "      <td>0</td>\n",
       "      <td>6</td>\n",
       "      <td>2</td>\n",
       "      <td>1</td>\n",
       "      <td>0</td>\n",
       "    </tr>\n",
       "    <tr>\n",
       "      <th>2</th>\n",
       "      <td>1592-1</td>\n",
       "      <td>Town Square - Castle Scene</td>\n",
       "      <td>NaN</td>\n",
       "      <td>1168.0</td>\n",
       "      <td>191.0</td>\n",
       "      <td>4.8</td>\n",
       "      <td>4.0</td>\n",
       "      <td>Modern day</td>\n",
       "      <td>Town</td>\n",
       "      <td>Classic</td>\n",
       "      <td>...</td>\n",
       "      <td>0</td>\n",
       "      <td>0</td>\n",
       "      <td>0</td>\n",
       "      <td>6</td>\n",
       "      <td>0</td>\n",
       "      <td>0</td>\n",
       "      <td>12</td>\n",
       "      <td>14</td>\n",
       "      <td>0</td>\n",
       "      <td>0</td>\n",
       "    </tr>\n",
       "    <tr>\n",
       "      <th>3</th>\n",
       "      <td>1651-2</td>\n",
       "      <td>Maersk Line Container Lorry</td>\n",
       "      <td>NaN</td>\n",
       "      <td>NaN</td>\n",
       "      <td>444.0</td>\n",
       "      <td>5.0</td>\n",
       "      <td>1.0</td>\n",
       "      <td>Modern day</td>\n",
       "      <td>Town</td>\n",
       "      <td>Special</td>\n",
       "      <td>...</td>\n",
       "      <td>0</td>\n",
       "      <td>0</td>\n",
       "      <td>0</td>\n",
       "      <td>7</td>\n",
       "      <td>0</td>\n",
       "      <td>0</td>\n",
       "      <td>28</td>\n",
       "      <td>7</td>\n",
       "      <td>1</td>\n",
       "      <td>0</td>\n",
       "    </tr>\n",
       "    <tr>\n",
       "      <th>4</th>\n",
       "      <td>3634-1</td>\n",
       "      <td>Charlie Crow's Carry-All</td>\n",
       "      <td>NaN</td>\n",
       "      <td>90.0</td>\n",
       "      <td>13.0</td>\n",
       "      <td>3.0</td>\n",
       "      <td>1.0</td>\n",
       "      <td>Junior</td>\n",
       "      <td>Fabuland</td>\n",
       "      <td>NaN</td>\n",
       "      <td>...</td>\n",
       "      <td>0</td>\n",
       "      <td>0</td>\n",
       "      <td>0</td>\n",
       "      <td>2</td>\n",
       "      <td>0</td>\n",
       "      <td>0</td>\n",
       "      <td>0</td>\n",
       "      <td>3</td>\n",
       "      <td>0</td>\n",
       "      <td>0</td>\n",
       "    </tr>\n",
       "  </tbody>\n",
       "</table>\n",
       "<p>5 rows × 136 columns</p>\n",
       "</div>"
      ],
      "text/plain": [
       "   set_no                         name  price_store  price_new  price_used  \\\n",
       "0   858-1                 Auto Engines          NaN        NaN        51.0   \n",
       "1  1591-1        Danone Delivery Truck          NaN      129.0        28.0   \n",
       "2  1592-1   Town Square - Castle Scene          NaN     1168.0       191.0   \n",
       "3  1651-2  Maersk Line Container Lorry          NaN        NaN       444.0   \n",
       "4  3634-1     Charlie Crow's Carry-All          NaN       90.0        13.0   \n",
       "\n",
       "   rating_value  rating_votes theme_group     theme subtheme  ...  \\\n",
       "0           4.5           2.0   Technical   Technic      NaN  ...   \n",
       "1           NaN           NaN  Modern day      Town  Special  ...   \n",
       "2           4.8           4.0  Modern day      Town  Classic  ...   \n",
       "3           5.0           1.0  Modern day      Town  Special  ...   \n",
       "4           3.0           1.0      Junior  Fabuland      NaN  ...   \n",
       "\n",
       "   tiles_printed_tot_prts  tiles_special_tot_prts  tools_tot_prts  \\\n",
       "0                       0                       0               0   \n",
       "1                       0                       0               0   \n",
       "2                       0                       0               0   \n",
       "3                       0                       0               0   \n",
       "4                       0                       0               0   \n",
       "\n",
       "   transportation_-_land_tot_prts  transportation_-_sea_and_air_tot_prts  \\\n",
       "0                               0                                      0   \n",
       "1                               2                                      0   \n",
       "2                               6                                      0   \n",
       "3                               7                                      0   \n",
       "4                               2                                      0   \n",
       "\n",
       "   tubes_and_hoses_tot_prts  wheels_and_tyres_tot_prts  \\\n",
       "0                         6                          2   \n",
       "1                         0                          6   \n",
       "2                         0                         12   \n",
       "3                         0                         28   \n",
       "4                         0                          0   \n",
       "\n",
       "   windows_and_doors_tot_prts  windscreens_and_fuselage_tot_prts  \\\n",
       "0                           0                                  0   \n",
       "1                           2                                  1   \n",
       "2                          14                                  0   \n",
       "3                           7                                  1   \n",
       "4                           3                                  0   \n",
       "\n",
       "   znap_tot_prts  \n",
       "0              0  \n",
       "1              0  \n",
       "2              0  \n",
       "3              0  \n",
       "4              0  \n",
       "\n",
       "[5 rows x 136 columns]"
      ]
     },
     "execution_count": 18,
     "metadata": {},
     "output_type": "execute_result"
    },
    {
     "name": "stdout",
     "output_type": "stream",
     "text": [
      "<class 'pandas.core.frame.DataFrame'>\n",
      "RangeIndex: 5303 entries, 0 to 5302\n",
      "Data columns (total 136 columns):\n",
      "set_no                                              5303 non-null object\n",
      "name                                                5303 non-null object\n",
      "price_store                                         4178 non-null float64\n",
      "price_new                                           5003 non-null float64\n",
      "price_used                                          4972 non-null float64\n",
      "rating_value                                        4560 non-null float64\n",
      "rating_votes                                        4560 non-null float64\n",
      "theme_group                                         5303 non-null object\n",
      "theme                                               5303 non-null object\n",
      "subtheme                                            3915 non-null object\n",
      "year                                                5303 non-null int64\n",
      "volume                                              2143 non-null float64\n",
      "weight                                              2154 non-null float64\n",
      "piece_cnt                                           5296 non-null float64\n",
      "minifig_cnt                                         5303 non-null int64\n",
      "number_parts                                        5303 non-null int64\n",
      "total_parts                                         5303 non-null int64\n",
      "number_spare_parts                                  5303 non-null int64\n",
      "total_spare_parts                                   5303 non-null int64\n",
      "number_colors                                       5303 non-null int64\n",
      "1st_color                                           5303 non-null object\n",
      "2nd_color                                           5303 non-null object\n",
      "bars_ladders_and_fences_cnt_prts                    5303 non-null int64\n",
      "baseplates_cnt_prts                                 5303 non-null int64\n",
      "belville_scala_and_fabuland_cnt_prts                5303 non-null int64\n",
      "bionicle_hero_factory_and_constraction_cnt_prts     5303 non-null int64\n",
      "bricks_cnt_prts                                     5303 non-null int64\n",
      "bricks_curved_cnt_prts                              5303 non-null int64\n",
      "bricks_printed_cnt_prts                             5303 non-null int64\n",
      "bricks_round_and_cones_cnt_prts                     5303 non-null int64\n",
      "bricks_sloped_cnt_prts                              5303 non-null int64\n",
      "bricks_special_cnt_prts                             5303 non-null int64\n",
      "bricks_wedged_cnt_prts                              5303 non-null int64\n",
      "clikits_cnt_prts                                    5303 non-null int64\n",
      "containers_cnt_prts                                 5303 non-null int64\n",
      "duplo_quatro_and_primo_cnt_prts                     5303 non-null int64\n",
      "flags_signs_plastics_and_cloth_cnt_prts             5303 non-null int64\n",
      "ho_scale_cnt_prts                                   5303 non-null int64\n",
      "hinges_arms_and_turntables_cnt_prts                 5303 non-null int64\n",
      "magnets_and_holders_cnt_prts                        5303 non-null int64\n",
      "mechanical_cnt_prts                                 5303 non-null int64\n",
      "minifig_accessories_cnt_prts                        5303 non-null int64\n",
      "minifigs_cnt_prts                                   5303 non-null int64\n",
      "non-buildable_figures_cnt_prts                      5303 non-null int64\n",
      "non-lego_cnt_prts                                   5303 non-null int64\n",
      "other_cnt_prts                                      5303 non-null int64\n",
      "panels_cnt_prts                                     5303 non-null int64\n",
      "plants_and_animals_cnt_prts                         5303 non-null int64\n",
      "plates_cnt_prts                                     5303 non-null int64\n",
      "plates_angled_cnt_prts                              5303 non-null int64\n",
      "plates_round_and_dishes_cnt_prts                    5303 non-null int64\n",
      "plates_special_cnt_prts                             5303 non-null int64\n",
      "pneumatics_cnt_prts                                 5303 non-null int64\n",
      "power_functions_mindstorms_and_electric_cnt_prts    5303 non-null int64\n",
      "rock_cnt_prts                                       5303 non-null int64\n",
      "string_bands_and_reels_cnt_prts                     5303 non-null int64\n",
      "supports_girders_and_cranes_cnt_prts                5303 non-null int64\n",
      "technic_axles_cnt_prts                              5303 non-null int64\n",
      "technic_beams_cnt_prts                              5303 non-null int64\n",
      "technic_beams_special_cnt_prts                      5303 non-null int64\n",
      "technic_bricks_cnt_prts                             5303 non-null int64\n",
      "technic_bushes_cnt_prts                             5303 non-null int64\n",
      "technic_connectors_cnt_prts                         5303 non-null int64\n",
      "technic_gears_cnt_prts                              5303 non-null int64\n",
      "technic_panels_cnt_prts                             5303 non-null int64\n",
      "technic_pins_cnt_prts                               5303 non-null int64\n",
      "technic_special_cnt_prts                            5303 non-null int64\n",
      "technic_steering_suspension_and_engine_cnt_prts     5303 non-null int64\n",
      "tiles_cnt_prts                                      5303 non-null int64\n",
      "tiles_printed_cnt_prts                              5303 non-null int64\n",
      "tiles_special_cnt_prts                              5303 non-null int64\n",
      "tools_cnt_prts                                      5303 non-null int64\n",
      "transportation_-_land_cnt_prts                      5303 non-null int64\n",
      "transportation_-_sea_and_air_cnt_prts               5303 non-null int64\n",
      "tubes_and_hoses_cnt_prts                            5303 non-null int64\n",
      "wheels_and_tyres_cnt_prts                           5303 non-null int64\n",
      "windows_and_doors_cnt_prts                          5303 non-null int64\n",
      "windscreens_and_fuselage_cnt_prts                   5303 non-null int64\n",
      "znap_cnt_prts                                       5303 non-null int64\n",
      "bars_ladders_and_fences_tot_prts                    5303 non-null int64\n",
      "baseplates_tot_prts                                 5303 non-null int64\n",
      "belville_scala_and_fabuland_tot_prts                5303 non-null int64\n",
      "bionicle_hero_factory_and_constraction_tot_prts     5303 non-null int64\n",
      "bricks_tot_prts                                     5303 non-null int64\n",
      "bricks_curved_tot_prts                              5303 non-null int64\n",
      "bricks_printed_tot_prts                             5303 non-null int64\n",
      "bricks_round_and_cones_tot_prts                     5303 non-null int64\n",
      "bricks_sloped_tot_prts                              5303 non-null int64\n",
      "bricks_special_tot_prts                             5303 non-null int64\n",
      "bricks_wedged_tot_prts                              5303 non-null int64\n",
      "clikits_tot_prts                                    5303 non-null int64\n",
      "containers_tot_prts                                 5303 non-null int64\n",
      "duplo_quatro_and_primo_tot_prts                     5303 non-null int64\n",
      "flags_signs_plastics_and_cloth_tot_prts             5303 non-null int64\n",
      "ho_scale_tot_prts                                   5303 non-null int64\n",
      "hinges_arms_and_turntables_tot_prts                 5303 non-null int64\n",
      "magnets_and_holders_tot_prts                        5303 non-null int64\n",
      "mechanical_tot_prts                                 5303 non-null int64\n",
      "minifig_accessories_tot_prts                        5303 non-null int64\n",
      "minifigs_tot_prts                                   5303 non-null int64\n",
      "non-buildable_figures_tot_prts                      5303 non-null int64\n",
      "non-lego_tot_prts                                   5303 non-null int64\n",
      "other_tot_prts                                      5303 non-null int64\n",
      "panels_tot_prts                                     5303 non-null int64\n",
      "plants_and_animals_tot_prts                         5303 non-null int64\n",
      "plates_tot_prts                                     5303 non-null int64\n",
      "plates_angled_tot_prts                              5303 non-null int64\n",
      "plates_round_and_dishes_tot_prts                    5303 non-null int64\n",
      "plates_special_tot_prts                             5303 non-null int64\n",
      "pneumatics_tot_prts                                 5303 non-null int64\n",
      "power_functions_mindstorms_and_electric_tot_prts    5303 non-null int64\n",
      "rock_tot_prts                                       5303 non-null int64\n",
      "string_bands_and_reels_tot_prts                     5303 non-null int64\n",
      "supports_girders_and_cranes_tot_prts                5303 non-null int64\n",
      "technic_axles_tot_prts                              5303 non-null int64\n",
      "technic_beams_tot_prts                              5303 non-null int64\n",
      "technic_beams_special_tot_prts                      5303 non-null int64\n",
      "technic_bricks_tot_prts                             5303 non-null int64\n",
      "technic_bushes_tot_prts                             5303 non-null int64\n",
      "technic_connectors_tot_prts                         5303 non-null int64\n",
      "technic_gears_tot_prts                              5303 non-null int64\n",
      "technic_panels_tot_prts                             5303 non-null int64\n",
      "technic_pins_tot_prts                               5303 non-null int64\n",
      "technic_special_tot_prts                            5303 non-null int64\n",
      "technic_steering_suspension_and_engine_tot_prts     5303 non-null int64\n",
      "tiles_tot_prts                                      5303 non-null int64\n",
      "tiles_printed_tot_prts                              5303 non-null int64\n",
      "tiles_special_tot_prts                              5303 non-null int64\n",
      "tools_tot_prts                                      5303 non-null int64\n",
      "transportation_-_land_tot_prts                      5303 non-null int64\n",
      "transportation_-_sea_and_air_tot_prts               5303 non-null int64\n",
      "tubes_and_hoses_tot_prts                            5303 non-null int64\n",
      "wheels_and_tyres_tot_prts                           5303 non-null int64\n",
      "windows_and_doors_tot_prts                          5303 non-null int64\n",
      "windscreens_and_fuselage_tot_prts                   5303 non-null int64\n",
      "znap_tot_prts                                       5303 non-null int64\n",
      "dtypes: float64(8), int64(121), object(7)\n",
      "memory usage: 5.5+ MB\n"
     ]
    }
   ],
   "source": [
    "MERGE_FILE = 'data/merge_full.csv'\n",
    "set_df = pd.read_csv(MERGE_FILE)\n",
    "set_df.head()\n",
    "set_df.info(verbose=True, null_counts=True)"
   ]
  },
  {
   "cell_type": "code",
   "execution_count": 19,
   "metadata": {
    "ExecuteTime": {
     "end_time": "2019-11-11T15:13:50.770931Z",
     "start_time": "2019-11-11T15:13:48.716660Z"
    }
   },
   "outputs": [
    {
     "data": {
      "text/plain": [
       "[Text(0, 0.5, 'Total of Sets'), (0, 200), Text(0.5, 0, 'Set Price')]"
      ]
     },
     "execution_count": 19,
     "metadata": {},
     "output_type": "execute_result"
    },
    {
     "data": {
      "text/plain": [
       "(array([ 13.,  74., 190., 298.,  43., 100., 106., 117.,  60., 380.,  16.,\n",
       "         38., 145.,   4., 197.,  11.,  17.,  10.,   7., 426.,   5.,  15.,\n",
       "          8.,   9., 124.,   8.,  11.,   6.,  10., 291.,   0.,   0.,   8.,\n",
       "          2.,  61.,   8.,   5.,   6.,   3., 202.,   0.,   5.,   3.,   9.,\n",
       "         18.,   1.,   2.,   3.,   7., 238.,   0.,   7.,   1.,   4.,  10.,\n",
       "          0.,   0.,   3.,   3., 106.,   0.,   0.,   1.,   2.,   3.,   8.,\n",
       "          0.,   3.,   4., 100.,   0.,   1.,   3.,   1.,   7.,   1.,   0.,\n",
       "          0.,   2.,  73.,   0.,   2.,   0.,   1.,   7.,   0.,   0.,   1.,\n",
       "          1.,  76.,   0.,   0.,   0.,   0.,   1.,   0.,   0.,   0.,   5.,\n",
       "         83.,   0.,   0.,   0.,   0.,   0.,   0.,   0.,   0.,   1.,  11.,\n",
       "          0.,   0.,   0.,   0.,   0.,   0.,   0.,   0.,   0.,  39.,   0.,\n",
       "          1.,   0.,   0.,   0.,   1.,   0.,   0.,   0.,  24.,   0.,   0.,\n",
       "          0.,   1.,   0.,   0.,   0.,   0.,   2.,  11.,   0.,   0.,   0.,\n",
       "          0.,   0.,   0.,   0.,   0.,   3.,  20.,   0.,   0.,   0.,   0.,\n",
       "          1.,   0.,   0.,   1.,   0.,   8.,   0.,   0.,   0.,   1.,   0.,\n",
       "          0.,   0.,   0.,   0.,   3.,   0.,   0.,   0.,   0.,   0.,   0.,\n",
       "          0.,   1.,   0.,   6.,   0.,   0.,   0.,   0.,   0.,   0.,   0.,\n",
       "          0.,   0.,   1.,   0.,   0.,   0.,   0.,   0.,   0.,   0.,   0.,\n",
       "          1.,  27.,   0.,   0.,   0.,   0.,   0.,   0.,   0.,   0.,   0.,\n",
       "          0.,   0.,   0.,   0.,   0.,   0.,   0.,   0.,   0.,   1.,   1.,\n",
       "          0.,   0.,   0.,   0.,   0.,   0.,   0.,   0.,   0.,   1.,   0.,\n",
       "          0.,   0.,   0.,   0.,   0.,   0.,   0.,   0.,   1.,   0.,   0.,\n",
       "          0.,   0.,   0.,   0.,   0.,   0.,   0.,   8.,   0.,   0.,   0.,\n",
       "          0.,   0.,   0.,   0.,   0.,   0.,   1.,   0.,   0.,   0.,   0.,\n",
       "          0.,   0.,   0.,   0.,   0.,   3.,   0.,   0.,   0.,   0.,   0.,\n",
       "          0.,   0.,   0.,   0.,   2.,   0.,   0.,   0.,   0.,   0.,   0.,\n",
       "          0.,   0.,   0.,   0.,   0.,   0.,   0.,   0.,   0.,   0.,   0.,\n",
       "          0.,   0.,   3.,   0.,   0.,   0.,   0.,   0.,   0.,   0.,   0.,\n",
       "          0.,   0.,   0.,   0.,   0.,   0.,   0.,   0.,   0.,   0.,   0.,\n",
       "          1.,   0.,   0.,   0.,   0.,   0.,   0.,   0.,   0.,   0.,   0.,\n",
       "          0.,   0.,   0.,   0.,   0.,   0.,   0.,   0.,   0.,   0.,   0.,\n",
       "          0.,   0.,   0.,   0.,   0.,   0.,   0.,   0.,   4.,   0.,   0.,\n",
       "          0.,   0.,   0.,   0.,   0.,   0.,   0.,   0.,   0.,   0.,   0.,\n",
       "          0.,   0.,   0.,   0.,   0.,   0.,   0.,   0.,   0.,   0.,   0.,\n",
       "          0.,   0.,   0.,   0.,   0.,   0.,   0.,   0.,   0.,   0.,   0.,\n",
       "          0.,   0.,   0.,   0.,   0.,   0.,   0.,   0.,   0.,   0.,   0.,\n",
       "          0.,   0.,   0.,   2.,   0.,   0.,   0.,   0.,   0.,   0.,   0.,\n",
       "          0.,   0.,   0.,   0.,   0.,   0.,   0.,   0.,   0.,   0.,   0.,\n",
       "          0.,   0.,   0.,   0.,   0.,   0.,   0.,   0.,   0.,   0.,   0.,\n",
       "          0.,   0.,   0.,   0.,   0.,   0.,   0.,   0.,   0.,   0.,   0.,\n",
       "          0.,   0.,   0.,   0.,   0.,   0.,   0.,   0.,   0.,   0.,   0.,\n",
       "          0.,   0.,   0.,   0.,   0.,   0.,   0.,   0.,   0.,   0.,   0.,\n",
       "          0.,   0.,   0.,   0.,   0.,   0.,   0.,   0.,   0.,   0.,   0.,\n",
       "          0.,   0.,   0.,   0.,   0.,   0.,   0.,   0.,   0.,   0.,   0.,\n",
       "          0.,   0.,   0.,   0.,   0.,   0.,   0.,   0.,   0.,   0.,   0.,\n",
       "          0.,   0.,   0.,   0.,   2.]),\n",
       " array([  1.     ,   1.99798,   2.99596,   3.99394,   4.99192,   5.9899 ,\n",
       "          6.98788,   7.98586,   8.98384,   9.98182,  10.9798 ,  11.97778,\n",
       "         12.97576,  13.97374,  14.97172,  15.9697 ,  16.96768,  17.96566,\n",
       "         18.96364,  19.96162,  20.9596 ,  21.95758,  22.95556,  23.95354,\n",
       "         24.95152,  25.9495 ,  26.94748,  27.94546,  28.94344,  29.94142,\n",
       "         30.9394 ,  31.93738,  32.93536,  33.93334,  34.93132,  35.9293 ,\n",
       "         36.92728,  37.92526,  38.92324,  39.92122,  40.9192 ,  41.91718,\n",
       "         42.91516,  43.91314,  44.91112,  45.9091 ,  46.90708,  47.90506,\n",
       "         48.90304,  49.90102,  50.899  ,  51.89698,  52.89496,  53.89294,\n",
       "         54.89092,  55.8889 ,  56.88688,  57.88486,  58.88284,  59.88082,\n",
       "         60.8788 ,  61.87678,  62.87476,  63.87274,  64.87072,  65.8687 ,\n",
       "         66.86668,  67.86466,  68.86264,  69.86062,  70.8586 ,  71.85658,\n",
       "         72.85456,  73.85254,  74.85052,  75.8485 ,  76.84648,  77.84446,\n",
       "         78.84244,  79.84042,  80.8384 ,  81.83638,  82.83436,  83.83234,\n",
       "         84.83032,  85.8283 ,  86.82628,  87.82426,  88.82224,  89.82022,\n",
       "         90.8182 ,  91.81618,  92.81416,  93.81214,  94.81012,  95.8081 ,\n",
       "         96.80608,  97.80406,  98.80204,  99.80002, 100.798  , 101.79598,\n",
       "        102.79396, 103.79194, 104.78992, 105.7879 , 106.78588, 107.78386,\n",
       "        108.78184, 109.77982, 110.7778 , 111.77578, 112.77376, 113.77174,\n",
       "        114.76972, 115.7677 , 116.76568, 117.76366, 118.76164, 119.75962,\n",
       "        120.7576 , 121.75558, 122.75356, 123.75154, 124.74952, 125.7475 ,\n",
       "        126.74548, 127.74346, 128.74144, 129.73942, 130.7374 , 131.73538,\n",
       "        132.73336, 133.73134, 134.72932, 135.7273 , 136.72528, 137.72326,\n",
       "        138.72124, 139.71922, 140.7172 , 141.71518, 142.71316, 143.71114,\n",
       "        144.70912, 145.7071 , 146.70508, 147.70306, 148.70104, 149.69902,\n",
       "        150.697  , 151.69498, 152.69296, 153.69094, 154.68892, 155.6869 ,\n",
       "        156.68488, 157.68286, 158.68084, 159.67882, 160.6768 , 161.67478,\n",
       "        162.67276, 163.67074, 164.66872, 165.6667 , 166.66468, 167.66266,\n",
       "        168.66064, 169.65862, 170.6566 , 171.65458, 172.65256, 173.65054,\n",
       "        174.64852, 175.6465 , 176.64448, 177.64246, 178.64044, 179.63842,\n",
       "        180.6364 , 181.63438, 182.63236, 183.63034, 184.62832, 185.6263 ,\n",
       "        186.62428, 187.62226, 188.62024, 189.61822, 190.6162 , 191.61418,\n",
       "        192.61216, 193.61014, 194.60812, 195.6061 , 196.60408, 197.60206,\n",
       "        198.60004, 199.59802, 200.596  , 201.59398, 202.59196, 203.58994,\n",
       "        204.58792, 205.5859 , 206.58388, 207.58186, 208.57984, 209.57782,\n",
       "        210.5758 , 211.57378, 212.57176, 213.56974, 214.56772, 215.5657 ,\n",
       "        216.56368, 217.56166, 218.55964, 219.55762, 220.5556 , 221.55358,\n",
       "        222.55156, 223.54954, 224.54752, 225.5455 , 226.54348, 227.54146,\n",
       "        228.53944, 229.53742, 230.5354 , 231.53338, 232.53136, 233.52934,\n",
       "        234.52732, 235.5253 , 236.52328, 237.52126, 238.51924, 239.51722,\n",
       "        240.5152 , 241.51318, 242.51116, 243.50914, 244.50712, 245.5051 ,\n",
       "        246.50308, 247.50106, 248.49904, 249.49702, 250.495  , 251.49298,\n",
       "        252.49096, 253.48894, 254.48692, 255.4849 , 256.48288, 257.48086,\n",
       "        258.47884, 259.47682, 260.4748 , 261.47278, 262.47076, 263.46874,\n",
       "        264.46672, 265.4647 , 266.46268, 267.46066, 268.45864, 269.45662,\n",
       "        270.4546 , 271.45258, 272.45056, 273.44854, 274.44652, 275.4445 ,\n",
       "        276.44248, 277.44046, 278.43844, 279.43642, 280.4344 , 281.43238,\n",
       "        282.43036, 283.42834, 284.42632, 285.4243 , 286.42228, 287.42026,\n",
       "        288.41824, 289.41622, 290.4142 , 291.41218, 292.41016, 293.40814,\n",
       "        294.40612, 295.4041 , 296.40208, 297.40006, 298.39804, 299.39602,\n",
       "        300.394  , 301.39198, 302.38996, 303.38794, 304.38592, 305.3839 ,\n",
       "        306.38188, 307.37986, 308.37784, 309.37582, 310.3738 , 311.37178,\n",
       "        312.36976, 313.36774, 314.36572, 315.3637 , 316.36168, 317.35966,\n",
       "        318.35764, 319.35562, 320.3536 , 321.35158, 322.34956, 323.34754,\n",
       "        324.34552, 325.3435 , 326.34148, 327.33946, 328.33744, 329.33542,\n",
       "        330.3334 , 331.33138, 332.32936, 333.32734, 334.32532, 335.3233 ,\n",
       "        336.32128, 337.31926, 338.31724, 339.31522, 340.3132 , 341.31118,\n",
       "        342.30916, 343.30714, 344.30512, 345.3031 , 346.30108, 347.29906,\n",
       "        348.29704, 349.29502, 350.293  , 351.29098, 352.28896, 353.28694,\n",
       "        354.28492, 355.2829 , 356.28088, 357.27886, 358.27684, 359.27482,\n",
       "        360.2728 , 361.27078, 362.26876, 363.26674, 364.26472, 365.2627 ,\n",
       "        366.26068, 367.25866, 368.25664, 369.25462, 370.2526 , 371.25058,\n",
       "        372.24856, 373.24654, 374.24452, 375.2425 , 376.24048, 377.23846,\n",
       "        378.23644, 379.23442, 380.2324 , 381.23038, 382.22836, 383.22634,\n",
       "        384.22432, 385.2223 , 386.22028, 387.21826, 388.21624, 389.21422,\n",
       "        390.2122 , 391.21018, 392.20816, 393.20614, 394.20412, 395.2021 ,\n",
       "        396.20008, 397.19806, 398.19604, 399.19402, 400.192  , 401.18998,\n",
       "        402.18796, 403.18594, 404.18392, 405.1819 , 406.17988, 407.17786,\n",
       "        408.17584, 409.17382, 410.1718 , 411.16978, 412.16776, 413.16574,\n",
       "        414.16372, 415.1617 , 416.15968, 417.15766, 418.15564, 419.15362,\n",
       "        420.1516 , 421.14958, 422.14756, 423.14554, 424.14352, 425.1415 ,\n",
       "        426.13948, 427.13746, 428.13544, 429.13342, 430.1314 , 431.12938,\n",
       "        432.12736, 433.12534, 434.12332, 435.1213 , 436.11928, 437.11726,\n",
       "        438.11524, 439.11322, 440.1112 , 441.10918, 442.10716, 443.10514,\n",
       "        444.10312, 445.1011 , 446.09908, 447.09706, 448.09504, 449.09302,\n",
       "        450.091  , 451.08898, 452.08696, 453.08494, 454.08292, 455.0809 ,\n",
       "        456.07888, 457.07686, 458.07484, 459.07282, 460.0708 , 461.06878,\n",
       "        462.06676, 463.06474, 464.06272, 465.0607 , 466.05868, 467.05666,\n",
       "        468.05464, 469.05262, 470.0506 , 471.04858, 472.04656, 473.04454,\n",
       "        474.04252, 475.0405 , 476.03848, 477.03646, 478.03444, 479.03242,\n",
       "        480.0304 , 481.02838, 482.02636, 483.02434, 484.02232, 485.0203 ,\n",
       "        486.01828, 487.01626, 488.01424, 489.01222, 490.0102 , 491.00818,\n",
       "        492.00616, 493.00414, 494.00212, 495.0001 , 495.99808, 496.99606,\n",
       "        497.99404, 498.99202, 499.99   ]),\n",
       " <a list of 500 Patch objects>)"
      ]
     },
     "execution_count": 19,
     "metadata": {},
     "output_type": "execute_result"
    },
    {
     "data": {
      "text/plain": [
       "(array([226., 410., 317., 251., 235., 163., 179., 137., 195., 124.,  86.,\n",
       "        105.,  97.,  80.,  61.,  62.,  56.,  91.,  65.,  53.,  46.,  41.,\n",
       "         38.,  43.,  28.,  52.,  36.,  42.,  23.,  25.,  27.,  21.,  24.,\n",
       "         16.,  26.,  15.,  12.,  17.,  22.,  17.,  11.,  22.,   6.,  12.,\n",
       "         17.,  12.,  12.,  13.,  13.,   7.,   4.,  15.,   9.,   3.,   8.,\n",
       "          8.,   6.,   5.,   6.,   6.,   9.,   7.,   8.,   6.,   5.,   8.,\n",
       "          3.,   6.,   9.,   3.,   9.,   2.,   5.,   3.,   9.,   4.,   5.,\n",
       "          5.,   1.,   4.,   6.,   5.,   4.,   4.,   4.,   3.,   7.,   5.,\n",
       "          4.,   2.,   2.,   4.,   2.,   5.,   4.,   3.,   5.,   1.,   4.,\n",
       "          1.,   1.,   0.,   1.,   0.,   0.,   5.,   1.,   1.,   3.,   2.,\n",
       "          0.,   1.,   4.,   2.,   1.,   1.,   0.,   3.,   2.,   2.,   1.,\n",
       "          1.,   1.,   0.,   0.,   0.,   1.,   3.,   0.,   2.,   0.,   0.,\n",
       "          0.,   0.,   1.,   0.,   1.,   0.,   1.,   0.,   3.,   1.,   0.,\n",
       "          0.,   2.,   0.,   0.,   0.,   1.,   0.,   3.,   0.,   0.,   0.,\n",
       "          0.,   3.,   0.,   1.,   0.,   0.,   0.,   1.,   1.,   0.,   1.,\n",
       "          2.,   0.,   1.,   0.,   1.,   1.,   0.,   0.,   0.,   0.,   0.,\n",
       "          0.,   0.,   0.,   0.,   0.,   1.,   0.,   1.,   0.,   0.,   0.,\n",
       "          1.,   1.,   1.,   0.,   0.,   0.,   0.,   1.,   0.,   0.,   0.,\n",
       "          0.,   0.,   0.,   0.,   0.,   0.,   0.,   0.,   0.,   0.,   0.,\n",
       "          0.,   1.,   0.,   0.,   0.,   1.,   0.,   0.,   0.,   0.,   0.,\n",
       "          0.,   0.,   0.,   0.,   0.,   0.,   0.,   1.,   0.,   0.,   1.,\n",
       "          0.,   0.,   0.,   0.,   0.,   0.,   0.,   0.,   0.,   0.,   1.,\n",
       "          0.,   0.,   0.,   0.,   0.,   0.,   0.,   0.,   0.,   0.,   0.,\n",
       "          0.,   0.,   0.,   0.,   0.,   0.,   1.,   0.,   0.,   0.,   1.,\n",
       "          0.,   0.,   0.,   0.,   0.,   0.,   0.,   0.,   0.,   0.,   0.,\n",
       "          0.,   0.,   2.,   0.,   0.,   0.,   1.,   0.,   0.,   1.,   0.,\n",
       "          0.,   0.,   0.,   0.,   0.,   0.,   0.,   0.,   0.,   0.,   0.,\n",
       "          0.,   0.,   0.,   0.,   0.,   0.,   0.,   0.,   0.,   0.,   0.,\n",
       "          0.,   0.,   0.,   0.,   0.,   0.,   0.,   0.,   0.,   0.,   0.,\n",
       "          0.,   0.,   0.,   0.,   0.,   1.,   0.,   0.,   0.,   0.,   0.,\n",
       "          0.,   0.,   0.,   0.,   0.,   0.,   1.,   0.,   0.,   0.,   1.,\n",
       "          0.,   0.,   0.,   0.,   0.,   0.,   0.,   0.,   0.,   0.,   0.,\n",
       "          0.,   0.,   0.,   0.,   0.,   0.,   0.,   0.,   0.,   0.,   0.,\n",
       "          0.,   0.,   1.,   0.,   1.,   0.,   0.,   0.,   0.,   0.,   0.,\n",
       "          0.,   0.,   0.,   0.,   0.,   0.,   0.,   0.,   0.,   0.,   0.,\n",
       "          0.,   0.,   0.,   0.,   0.,   0.,   0.,   0.,   0.,   0.,   0.,\n",
       "          0.,   0.,   0.,   0.,   0.,   0.,   0.,   0.,   0.,   0.,   1.,\n",
       "          0.,   0.,   0.,   0.,   0.,   0.,   0.,   0.,   0.,   0.,   0.,\n",
       "          0.,   0.,   0.,   0.,   0.,   0.,   0.,   0.,   0.,   0.,   0.,\n",
       "          0.,   0.,   0.,   0.,   0.,   0.,   0.,   0.,   0.,   0.,   0.,\n",
       "          0.,   0.,   0.,   0.,   0.,   0.,   0.,   0.,   0.,   0.,   0.,\n",
       "          0.,   0.,   0.,   0.,   0.,   0.,   0.,   1.,   0.,   0.,   0.,\n",
       "          0.,   0.,   0.,   0.,   0.,   0.,   0.,   0.,   0.,   0.,   0.,\n",
       "          0.,   0.,   0.,   0.,   0.,   0.,   0.,   0.,   0.,   0.,   0.,\n",
       "          0.,   0.,   0.,   0.,   0.,   0.,   0.,   0.,   0.,   0.,   0.,\n",
       "          0.,   0.,   0.,   0.,   1.]),\n",
       " array([1.000000e+00, 3.116000e+00, 5.232000e+00, 7.348000e+00,\n",
       "        9.464000e+00, 1.158000e+01, 1.369600e+01, 1.581200e+01,\n",
       "        1.792800e+01, 2.004400e+01, 2.216000e+01, 2.427600e+01,\n",
       "        2.639200e+01, 2.850800e+01, 3.062400e+01, 3.274000e+01,\n",
       "        3.485600e+01, 3.697200e+01, 3.908800e+01, 4.120400e+01,\n",
       "        4.332000e+01, 4.543600e+01, 4.755200e+01, 4.966800e+01,\n",
       "        5.178400e+01, 5.390000e+01, 5.601600e+01, 5.813200e+01,\n",
       "        6.024800e+01, 6.236400e+01, 6.448000e+01, 6.659600e+01,\n",
       "        6.871200e+01, 7.082800e+01, 7.294400e+01, 7.506000e+01,\n",
       "        7.717600e+01, 7.929200e+01, 8.140800e+01, 8.352400e+01,\n",
       "        8.564000e+01, 8.775600e+01, 8.987200e+01, 9.198800e+01,\n",
       "        9.410400e+01, 9.622000e+01, 9.833600e+01, 1.004520e+02,\n",
       "        1.025680e+02, 1.046840e+02, 1.068000e+02, 1.089160e+02,\n",
       "        1.110320e+02, 1.131480e+02, 1.152640e+02, 1.173800e+02,\n",
       "        1.194960e+02, 1.216120e+02, 1.237280e+02, 1.258440e+02,\n",
       "        1.279600e+02, 1.300760e+02, 1.321920e+02, 1.343080e+02,\n",
       "        1.364240e+02, 1.385400e+02, 1.406560e+02, 1.427720e+02,\n",
       "        1.448880e+02, 1.470040e+02, 1.491200e+02, 1.512360e+02,\n",
       "        1.533520e+02, 1.554680e+02, 1.575840e+02, 1.597000e+02,\n",
       "        1.618160e+02, 1.639320e+02, 1.660480e+02, 1.681640e+02,\n",
       "        1.702800e+02, 1.723960e+02, 1.745120e+02, 1.766280e+02,\n",
       "        1.787440e+02, 1.808600e+02, 1.829760e+02, 1.850920e+02,\n",
       "        1.872080e+02, 1.893240e+02, 1.914400e+02, 1.935560e+02,\n",
       "        1.956720e+02, 1.977880e+02, 1.999040e+02, 2.020200e+02,\n",
       "        2.041360e+02, 2.062520e+02, 2.083680e+02, 2.104840e+02,\n",
       "        2.126000e+02, 2.147160e+02, 2.168320e+02, 2.189480e+02,\n",
       "        2.210640e+02, 2.231800e+02, 2.252960e+02, 2.274120e+02,\n",
       "        2.295280e+02, 2.316440e+02, 2.337600e+02, 2.358760e+02,\n",
       "        2.379920e+02, 2.401080e+02, 2.422240e+02, 2.443400e+02,\n",
       "        2.464560e+02, 2.485720e+02, 2.506880e+02, 2.528040e+02,\n",
       "        2.549200e+02, 2.570360e+02, 2.591520e+02, 2.612680e+02,\n",
       "        2.633840e+02, 2.655000e+02, 2.676160e+02, 2.697320e+02,\n",
       "        2.718480e+02, 2.739640e+02, 2.760800e+02, 2.781960e+02,\n",
       "        2.803120e+02, 2.824280e+02, 2.845440e+02, 2.866600e+02,\n",
       "        2.887760e+02, 2.908920e+02, 2.930080e+02, 2.951240e+02,\n",
       "        2.972400e+02, 2.993560e+02, 3.014720e+02, 3.035880e+02,\n",
       "        3.057040e+02, 3.078200e+02, 3.099360e+02, 3.120520e+02,\n",
       "        3.141680e+02, 3.162840e+02, 3.184000e+02, 3.205160e+02,\n",
       "        3.226320e+02, 3.247480e+02, 3.268640e+02, 3.289800e+02,\n",
       "        3.310960e+02, 3.332120e+02, 3.353280e+02, 3.374440e+02,\n",
       "        3.395600e+02, 3.416760e+02, 3.437920e+02, 3.459080e+02,\n",
       "        3.480240e+02, 3.501400e+02, 3.522560e+02, 3.543720e+02,\n",
       "        3.564880e+02, 3.586040e+02, 3.607200e+02, 3.628360e+02,\n",
       "        3.649520e+02, 3.670680e+02, 3.691840e+02, 3.713000e+02,\n",
       "        3.734160e+02, 3.755320e+02, 3.776480e+02, 3.797640e+02,\n",
       "        3.818800e+02, 3.839960e+02, 3.861120e+02, 3.882280e+02,\n",
       "        3.903440e+02, 3.924600e+02, 3.945760e+02, 3.966920e+02,\n",
       "        3.988080e+02, 4.009240e+02, 4.030400e+02, 4.051560e+02,\n",
       "        4.072720e+02, 4.093880e+02, 4.115040e+02, 4.136200e+02,\n",
       "        4.157360e+02, 4.178520e+02, 4.199680e+02, 4.220840e+02,\n",
       "        4.242000e+02, 4.263160e+02, 4.284320e+02, 4.305480e+02,\n",
       "        4.326640e+02, 4.347800e+02, 4.368960e+02, 4.390120e+02,\n",
       "        4.411280e+02, 4.432440e+02, 4.453600e+02, 4.474760e+02,\n",
       "        4.495920e+02, 4.517080e+02, 4.538240e+02, 4.559400e+02,\n",
       "        4.580560e+02, 4.601720e+02, 4.622880e+02, 4.644040e+02,\n",
       "        4.665200e+02, 4.686360e+02, 4.707520e+02, 4.728680e+02,\n",
       "        4.749840e+02, 4.771000e+02, 4.792160e+02, 4.813320e+02,\n",
       "        4.834480e+02, 4.855640e+02, 4.876800e+02, 4.897960e+02,\n",
       "        4.919120e+02, 4.940280e+02, 4.961440e+02, 4.982600e+02,\n",
       "        5.003760e+02, 5.024920e+02, 5.046080e+02, 5.067240e+02,\n",
       "        5.088400e+02, 5.109560e+02, 5.130720e+02, 5.151880e+02,\n",
       "        5.173040e+02, 5.194200e+02, 5.215360e+02, 5.236520e+02,\n",
       "        5.257680e+02, 5.278840e+02, 5.300000e+02, 5.321160e+02,\n",
       "        5.342320e+02, 5.363480e+02, 5.384640e+02, 5.405800e+02,\n",
       "        5.426960e+02, 5.448120e+02, 5.469280e+02, 5.490440e+02,\n",
       "        5.511600e+02, 5.532760e+02, 5.553920e+02, 5.575080e+02,\n",
       "        5.596240e+02, 5.617400e+02, 5.638560e+02, 5.659720e+02,\n",
       "        5.680880e+02, 5.702040e+02, 5.723200e+02, 5.744360e+02,\n",
       "        5.765520e+02, 5.786680e+02, 5.807840e+02, 5.829000e+02,\n",
       "        5.850160e+02, 5.871320e+02, 5.892480e+02, 5.913640e+02,\n",
       "        5.934800e+02, 5.955960e+02, 5.977120e+02, 5.998280e+02,\n",
       "        6.019440e+02, 6.040600e+02, 6.061760e+02, 6.082920e+02,\n",
       "        6.104080e+02, 6.125240e+02, 6.146400e+02, 6.167560e+02,\n",
       "        6.188720e+02, 6.209880e+02, 6.231040e+02, 6.252200e+02,\n",
       "        6.273360e+02, 6.294520e+02, 6.315680e+02, 6.336840e+02,\n",
       "        6.358000e+02, 6.379160e+02, 6.400320e+02, 6.421480e+02,\n",
       "        6.442640e+02, 6.463800e+02, 6.484960e+02, 6.506120e+02,\n",
       "        6.527280e+02, 6.548440e+02, 6.569600e+02, 6.590760e+02,\n",
       "        6.611920e+02, 6.633080e+02, 6.654240e+02, 6.675400e+02,\n",
       "        6.696560e+02, 6.717720e+02, 6.738880e+02, 6.760040e+02,\n",
       "        6.781200e+02, 6.802360e+02, 6.823520e+02, 6.844680e+02,\n",
       "        6.865840e+02, 6.887000e+02, 6.908160e+02, 6.929320e+02,\n",
       "        6.950480e+02, 6.971640e+02, 6.992800e+02, 7.013960e+02,\n",
       "        7.035120e+02, 7.056280e+02, 7.077440e+02, 7.098600e+02,\n",
       "        7.119760e+02, 7.140920e+02, 7.162080e+02, 7.183240e+02,\n",
       "        7.204400e+02, 7.225560e+02, 7.246720e+02, 7.267880e+02,\n",
       "        7.289040e+02, 7.310200e+02, 7.331360e+02, 7.352520e+02,\n",
       "        7.373680e+02, 7.394840e+02, 7.416000e+02, 7.437160e+02,\n",
       "        7.458320e+02, 7.479480e+02, 7.500640e+02, 7.521800e+02,\n",
       "        7.542960e+02, 7.564120e+02, 7.585280e+02, 7.606440e+02,\n",
       "        7.627600e+02, 7.648760e+02, 7.669920e+02, 7.691080e+02,\n",
       "        7.712240e+02, 7.733400e+02, 7.754560e+02, 7.775720e+02,\n",
       "        7.796880e+02, 7.818040e+02, 7.839200e+02, 7.860360e+02,\n",
       "        7.881520e+02, 7.902680e+02, 7.923840e+02, 7.945000e+02,\n",
       "        7.966160e+02, 7.987320e+02, 8.008480e+02, 8.029640e+02,\n",
       "        8.050800e+02, 8.071960e+02, 8.093120e+02, 8.114280e+02,\n",
       "        8.135440e+02, 8.156600e+02, 8.177760e+02, 8.198920e+02,\n",
       "        8.220080e+02, 8.241240e+02, 8.262400e+02, 8.283560e+02,\n",
       "        8.304720e+02, 8.325880e+02, 8.347040e+02, 8.368200e+02,\n",
       "        8.389360e+02, 8.410520e+02, 8.431680e+02, 8.452840e+02,\n",
       "        8.474000e+02, 8.495160e+02, 8.516320e+02, 8.537480e+02,\n",
       "        8.558640e+02, 8.579800e+02, 8.600960e+02, 8.622120e+02,\n",
       "        8.643280e+02, 8.664440e+02, 8.685600e+02, 8.706760e+02,\n",
       "        8.727920e+02, 8.749080e+02, 8.770240e+02, 8.791400e+02,\n",
       "        8.812560e+02, 8.833720e+02, 8.854880e+02, 8.876040e+02,\n",
       "        8.897200e+02, 8.918360e+02, 8.939520e+02, 8.960680e+02,\n",
       "        8.981840e+02, 9.003000e+02, 9.024160e+02, 9.045320e+02,\n",
       "        9.066480e+02, 9.087640e+02, 9.108800e+02, 9.129960e+02,\n",
       "        9.151120e+02, 9.172280e+02, 9.193440e+02, 9.214600e+02,\n",
       "        9.235760e+02, 9.256920e+02, 9.278080e+02, 9.299240e+02,\n",
       "        9.320400e+02, 9.341560e+02, 9.362720e+02, 9.383880e+02,\n",
       "        9.405040e+02, 9.426200e+02, 9.447360e+02, 9.468520e+02,\n",
       "        9.489680e+02, 9.510840e+02, 9.532000e+02, 9.553160e+02,\n",
       "        9.574320e+02, 9.595480e+02, 9.616640e+02, 9.637800e+02,\n",
       "        9.658960e+02, 9.680120e+02, 9.701280e+02, 9.722440e+02,\n",
       "        9.743600e+02, 9.764760e+02, 9.785920e+02, 9.807080e+02,\n",
       "        9.828240e+02, 9.849400e+02, 9.870560e+02, 9.891720e+02,\n",
       "        9.912880e+02, 9.934040e+02, 9.955200e+02, 9.976360e+02,\n",
       "        9.997520e+02, 1.001868e+03, 1.003984e+03, 1.006100e+03,\n",
       "        1.008216e+03, 1.010332e+03, 1.012448e+03, 1.014564e+03,\n",
       "        1.016680e+03, 1.018796e+03, 1.020912e+03, 1.023028e+03,\n",
       "        1.025144e+03, 1.027260e+03, 1.029376e+03, 1.031492e+03,\n",
       "        1.033608e+03, 1.035724e+03, 1.037840e+03, 1.039956e+03,\n",
       "        1.042072e+03, 1.044188e+03, 1.046304e+03, 1.048420e+03,\n",
       "        1.050536e+03, 1.052652e+03, 1.054768e+03, 1.056884e+03,\n",
       "        1.059000e+03]),\n",
       " <a list of 500 Patch objects>)"
      ]
     },
     "execution_count": 19,
     "metadata": {},
     "output_type": "execute_result"
    },
    {
     "data": {
      "text/plain": [
       "<matplotlib.legend.Legend at 0x208ac45d1d0>"
      ]
     },
     "execution_count": 19,
     "metadata": {},
     "output_type": "execute_result"
    },
    {
     "data": {
      "image/png": "[encoded data removed]",
      "text/plain": [
       "<Figure size 864x432 with 1 Axes>"
      ]
     },
     "metadata": {},
     "output_type": "display_data"
    }
   ],
   "source": [
    "# store price and used price comparison\n",
    "\n",
    "price_df = set_df.loc[(set_df['price_store']>=1) & (set_df['price_used']>=1)]\n",
    "\n",
    "fig, axs = plt.subplots(1, 1, figsize=(12, 6), facecolor='white')\n",
    "axs.set(xlabel='Set Price', ylabel='Total of Sets', xlim=(0, 200))\n",
    "\n",
    "axs.hist(price_df['price_store'].values, bins=500, color='green', label='store price', alpha=.5)\n",
    "axs.hist(price_df['price_used'].values, bins=500, color='red', label='used price', alpha=.5)\n",
    "\n",
    "plt.legend()\n",
    "plt.show()"
   ]
  },
  {
   "cell_type": "code",
   "execution_count": 20,
   "metadata": {
    "ExecuteTime": {
     "end_time": "2019-11-11T15:13:50.944915Z",
     "start_time": "2019-11-11T15:13:50.773918Z"
    }
   },
   "outputs": [
    {
     "data": {
      "text/html": [
       "<div>\n",
       "<style scoped>\n",
       "    .dataframe tbody tr th:only-of-type {\n",
       "        vertical-align: middle;\n",
       "    }\n",
       "\n",
       "    .dataframe tbody tr th {\n",
       "        vertical-align: top;\n",
       "    }\n",
       "\n",
       "    .dataframe thead th {\n",
       "        text-align: right;\n",
       "    }\n",
       "</style>\n",
       "<table border=\"1\" class=\"dataframe\">\n",
       "  <thead>\n",
       "    <tr style=\"text-align: right;\">\n",
       "      <th></th>\n",
       "      <th>set_no</th>\n",
       "      <th>name</th>\n",
       "      <th>price_used</th>\n",
       "      <th>price_store</th>\n",
       "      <th>aftermarket</th>\n",
       "    </tr>\n",
       "  </thead>\n",
       "  <tbody>\n",
       "    <tr>\n",
       "      <th>100</th>\n",
       "      <td>4005-1</td>\n",
       "      <td>Tug Boat</td>\n",
       "      <td>22.0</td>\n",
       "      <td>10.0</td>\n",
       "      <td>12.0</td>\n",
       "    </tr>\n",
       "    <tr>\n",
       "      <th>101</th>\n",
       "      <td>4015-1</td>\n",
       "      <td>Freighter</td>\n",
       "      <td>65.0</td>\n",
       "      <td>NaN</td>\n",
       "      <td>NaN</td>\n",
       "    </tr>\n",
       "    <tr>\n",
       "      <th>102</th>\n",
       "      <td>4025-1</td>\n",
       "      <td>Fire Boat</td>\n",
       "      <td>33.0</td>\n",
       "      <td>NaN</td>\n",
       "      <td>NaN</td>\n",
       "    </tr>\n",
       "    <tr>\n",
       "      <th>103</th>\n",
       "      <td>6302-1</td>\n",
       "      <td>Mini-Figure Set</td>\n",
       "      <td>30.0</td>\n",
       "      <td>NaN</td>\n",
       "      <td>NaN</td>\n",
       "    </tr>\n",
       "    <tr>\n",
       "      <th>104</th>\n",
       "      <td>6308-1</td>\n",
       "      <td>Policemen</td>\n",
       "      <td>6.0</td>\n",
       "      <td>NaN</td>\n",
       "      <td>NaN</td>\n",
       "    </tr>\n",
       "    <tr>\n",
       "      <th>105</th>\n",
       "      <td>6362-1</td>\n",
       "      <td>Post Office</td>\n",
       "      <td>40.0</td>\n",
       "      <td>NaN</td>\n",
       "      <td>NaN</td>\n",
       "    </tr>\n",
       "    <tr>\n",
       "      <th>106</th>\n",
       "      <td>6372-1</td>\n",
       "      <td>Town House</td>\n",
       "      <td>47.0</td>\n",
       "      <td>NaN</td>\n",
       "      <td>NaN</td>\n",
       "    </tr>\n",
       "    <tr>\n",
       "      <th>107</th>\n",
       "      <td>6607-1</td>\n",
       "      <td>Service Truck</td>\n",
       "      <td>4.0</td>\n",
       "      <td>NaN</td>\n",
       "      <td>NaN</td>\n",
       "    </tr>\n",
       "    <tr>\n",
       "      <th>108</th>\n",
       "      <td>6608-1</td>\n",
       "      <td>Tractor</td>\n",
       "      <td>3.0</td>\n",
       "      <td>NaN</td>\n",
       "      <td>NaN</td>\n",
       "    </tr>\n",
       "    <tr>\n",
       "      <th>109</th>\n",
       "      <td>6651-1</td>\n",
       "      <td>Mail Truck</td>\n",
       "      <td>11.0</td>\n",
       "      <td>NaN</td>\n",
       "      <td>NaN</td>\n",
       "    </tr>\n",
       "  </tbody>\n",
       "</table>\n",
       "</div>"
      ],
      "text/plain": [
       "     set_no             name  price_used  price_store  aftermarket\n",
       "100  4005-1         Tug Boat        22.0         10.0         12.0\n",
       "101  4015-1        Freighter        65.0          NaN          NaN\n",
       "102  4025-1        Fire Boat        33.0          NaN          NaN\n",
       "103  6302-1  Mini-Figure Set        30.0          NaN          NaN\n",
       "104  6308-1        Policemen         6.0          NaN          NaN\n",
       "105  6362-1      Post Office        40.0          NaN          NaN\n",
       "106  6372-1       Town House        47.0          NaN          NaN\n",
       "107  6607-1    Service Truck         4.0          NaN          NaN\n",
       "108  6608-1          Tractor         3.0          NaN          NaN\n",
       "109  6651-1       Mail Truck        11.0          NaN          NaN"
      ]
     },
     "execution_count": 20,
     "metadata": {},
     "output_type": "execute_result"
    }
   ],
   "source": [
    "# create aftermarket column \n",
    "\n",
    "set_df['aftermarket'] = set_df.apply(lh.get_aftermarket, axis=1)\n",
    "set_df[['set_no', 'name', 'price_used', 'price_store', 'aftermarket']][100:110]"
   ]
  },
  {
   "cell_type": "code",
   "execution_count": 21,
   "metadata": {
    "ExecuteTime": {
     "end_time": "2019-11-11T15:13:51.404917Z",
     "start_time": "2019-11-11T15:13:50.947914Z"
    }
   },
   "outputs": [
    {
     "data": {
      "text/plain": [
       "(array([  2.,   0.,   0.,   0.,   1.,   0.,   2.,   1.,   1.,   1.,   5.,\n",
       "          0.,   0.,   3.,   0.,   2.,   0.,   6.,   7.,   5.,  13.,  12.,\n",
       "         22.,  31.,  25.,  60.,  72., 134., 154., 325., 694., 908., 480.,\n",
       "        248., 174., 105.,  62.,  69.,  60.,  41.,  22.,  33.,  24.,  14.,\n",
       "         29.,  13.,  10.,   9.,   9.,   6.,  10.,   9.,   9.,   5.,   9.,\n",
       "          6.,   5.,   5.,   2.,   7.,   1.,   7.,   4.,   2.,   3.,   1.,\n",
       "          5.,   2.,   3.,   2.,   1.,   1.,   2.,   1.,   4.,   0.,   0.,\n",
       "          1.,   1.,   2.,   1.,   0.,   3.,   0.,   0.,   2.,   1.,   1.,\n",
       "          1.,   0.,   1.,   1.,   0.,   0.,   1.,   0.,   0.,   1.,   0.,\n",
       "          3.,   0.,   0.,   0.,   0.,   1.,   0.,   0.,   1.,   1.,   0.,\n",
       "          0.,   0.,   0.,   0.,   0.,   0.,   0.,   1.,   0.,   0.,   0.,\n",
       "          0.,   1.,   0.,   0.,   0.,   0.,   0.,   1.,   0.,   0.,   0.,\n",
       "          1.,   0.,   0.,   0.,   0.,   0.,   0.,   0.,   1.,   1.,   0.,\n",
       "          0.,   0.,   0.,   0.,   0.,   1.,   0.,   0.,   0.,   0.,   1.,\n",
       "          0.,   0.,   1.,   0.,   0.,   0.,   0.,   0.,   0.,   0.,   0.,\n",
       "          1.,   0.,   0.,   0.,   0.,   0.,   0.,   0.,   0.,   0.,   0.,\n",
       "          0.,   0.,   0.,   1.,   0.,   0.,   0.,   0.,   0.,   0.,   0.,\n",
       "          0.,   0.,   0.,   0.,   0.,   0.,   0.,   0.,   0.,   0.,   0.,\n",
       "          0.,   1.]),\n",
       " array([-144.99   , -140.40505, -135.8201 , -131.23515, -126.6502 ,\n",
       "        -122.06525, -117.4803 , -112.89535, -108.3104 , -103.72545,\n",
       "         -99.1405 ,  -94.55555,  -89.9706 ,  -85.38565,  -80.8007 ,\n",
       "         -76.21575,  -71.6308 ,  -67.04585,  -62.4609 ,  -57.87595,\n",
       "         -53.291  ,  -48.70605,  -44.1211 ,  -39.53615,  -34.9512 ,\n",
       "         -30.36625,  -25.7813 ,  -21.19635,  -16.6114 ,  -12.02645,\n",
       "          -7.4415 ,   -2.85655,    1.7284 ,    6.31335,   10.8983 ,\n",
       "          15.48325,   20.0682 ,   24.65315,   29.2381 ,   33.82305,\n",
       "          38.408  ,   42.99295,   47.5779 ,   52.16285,   56.7478 ,\n",
       "          61.33275,   65.9177 ,   70.50265,   75.0876 ,   79.67255,\n",
       "          84.2575 ,   88.84245,   93.4274 ,   98.01235,  102.5973 ,\n",
       "         107.18225,  111.7672 ,  116.35215,  120.9371 ,  125.52205,\n",
       "         130.107  ,  134.69195,  139.2769 ,  143.86185,  148.4468 ,\n",
       "         153.03175,  157.6167 ,  162.20165,  166.7866 ,  171.37155,\n",
       "         175.9565 ,  180.54145,  185.1264 ,  189.71135,  194.2963 ,\n",
       "         198.88125,  203.4662 ,  208.05115,  212.6361 ,  217.22105,\n",
       "         221.806  ,  226.39095,  230.9759 ,  235.56085,  240.1458 ,\n",
       "         244.73075,  249.3157 ,  253.90065,  258.4856 ,  263.07055,\n",
       "         267.6555 ,  272.24045,  276.8254 ,  281.41035,  285.9953 ,\n",
       "         290.58025,  295.1652 ,  299.75015,  304.3351 ,  308.92005,\n",
       "         313.505  ,  318.08995,  322.6749 ,  327.25985,  331.8448 ,\n",
       "         336.42975,  341.0147 ,  345.59965,  350.1846 ,  354.76955,\n",
       "         359.3545 ,  363.93945,  368.5244 ,  373.10935,  377.6943 ,\n",
       "         382.27925,  386.8642 ,  391.44915,  396.0341 ,  400.61905,\n",
       "         405.204  ,  409.78895,  414.3739 ,  418.95885,  423.5438 ,\n",
       "         428.12875,  432.7137 ,  437.29865,  441.8836 ,  446.46855,\n",
       "         451.0535 ,  455.63845,  460.2234 ,  464.80835,  469.3933 ,\n",
       "         473.97825,  478.5632 ,  483.14815,  487.7331 ,  492.31805,\n",
       "         496.903  ,  501.48795,  506.0729 ,  510.65785,  515.2428 ,\n",
       "         519.82775,  524.4127 ,  528.99765,  533.5826 ,  538.16755,\n",
       "         542.7525 ,  547.33745,  551.9224 ,  556.50735,  561.0923 ,\n",
       "         565.67725,  570.2622 ,  574.84715,  579.4321 ,  584.01705,\n",
       "         588.602  ,  593.18695,  597.7719 ,  602.35685,  606.9418 ,\n",
       "         611.52675,  616.1117 ,  620.69665,  625.2816 ,  629.86655,\n",
       "         634.4515 ,  639.03645,  643.6214 ,  648.20635,  652.7913 ,\n",
       "         657.37625,  661.9612 ,  666.54615,  671.1311 ,  675.71605,\n",
       "         680.301  ,  684.88595,  689.4709 ,  694.05585,  698.6408 ,\n",
       "         703.22575,  707.8107 ,  712.39565,  716.9806 ,  721.56555,\n",
       "         726.1505 ,  730.73545,  735.3204 ,  739.90535,  744.4903 ,\n",
       "         749.07525,  753.6602 ,  758.24515,  762.8301 ,  767.41505,\n",
       "         772.     ]),\n",
       " <a list of 200 Patch objects>)"
      ]
     },
     "execution_count": 21,
     "metadata": {},
     "output_type": "execute_result"
    },
    {
     "data": {
      "text/plain": [
       "[Text(0, 0.5, 'Total of Sets'),\n",
       " (-200, 200),\n",
       " Text(0.5, 0, 'After-Market Value $')]"
      ]
     },
     "execution_count": 21,
     "metadata": {},
     "output_type": "execute_result"
    },
    {
     "data": {
      "image/png": "[encoded data removed]",
      "text/plain": [
       "<Figure size 720x432 with 1 Axes>"
      ]
     },
     "metadata": {},
     "output_type": "display_data"
    }
   ],
   "source": [
    "fig, axs = plt.subplots(1, 1, figsize=(10, 6), facecolor='white')\n",
    "\n",
    "axs.hist(set_df.loc[set_df['aftermarket'].isna()==False]['aftermarket'].values, bins=200, color='green')\n",
    "axs.set(xlabel='After-Market Value $', ylabel='Total of Sets', xlim=(-200, 200))  \n",
    "\n",
    "plt.show()"
   ]
  },
  {
   "cell_type": "markdown",
   "metadata": {},
   "source": [
    "##  3.1 Investigate Colinearity\n",
    "\n",
    "File: ```colinearity.ipynb```\n",
    "\n",
    "Goal: Investigate colinearity of the model's features."
   ]
  },
  {
   "cell_type": "code",
   "execution_count": 22,
   "metadata": {
    "ExecuteTime": {
     "end_time": "2019-11-11T15:13:51.511914Z",
     "start_time": "2019-11-11T15:13:51.407914Z"
    }
   },
   "outputs": [
    {
     "data": {
      "text/html": [
       "<div>\n",
       "<style scoped>\n",
       "    .dataframe tbody tr th:only-of-type {\n",
       "        vertical-align: middle;\n",
       "    }\n",
       "\n",
       "    .dataframe tbody tr th {\n",
       "        vertical-align: top;\n",
       "    }\n",
       "\n",
       "    .dataframe thead th {\n",
       "        text-align: right;\n",
       "    }\n",
       "</style>\n",
       "<table border=\"1\" class=\"dataframe\">\n",
       "  <thead>\n",
       "    <tr style=\"text-align: right;\">\n",
       "      <th></th>\n",
       "      <th>set_no</th>\n",
       "      <th>name</th>\n",
       "      <th>price_store</th>\n",
       "      <th>price_used</th>\n",
       "      <th>year</th>\n",
       "      <th>volume</th>\n",
       "      <th>weight</th>\n",
       "      <th>number_parts</th>\n",
       "      <th>total_parts</th>\n",
       "      <th>number_spare_parts</th>\n",
       "      <th>...</th>\n",
       "      <th>windscreens_and_fuselage_tot_prts</th>\n",
       "      <th>znap_tot_prts</th>\n",
       "      <th>category</th>\n",
       "      <th>scolor_1st</th>\n",
       "      <th>scolor_2nd</th>\n",
       "      <th>popularity</th>\n",
       "      <th>aftermarket</th>\n",
       "      <th>adj_store_price</th>\n",
       "      <th>adj_aftermarket</th>\n",
       "      <th>profitable</th>\n",
       "    </tr>\n",
       "  </thead>\n",
       "  <tbody>\n",
       "    <tr>\n",
       "      <th>0</th>\n",
       "      <td>15-1</td>\n",
       "      <td>Castle Minifigures</td>\n",
       "      <td>NaN</td>\n",
       "      <td>63.0</td>\n",
       "      <td>1984</td>\n",
       "      <td>NaN</td>\n",
       "      <td>NaN</td>\n",
       "      <td>16</td>\n",
       "      <td>38</td>\n",
       "      <td>0</td>\n",
       "      <td>...</td>\n",
       "      <td>0</td>\n",
       "      <td>0</td>\n",
       "      <td>Historical</td>\n",
       "      <td>Gray</td>\n",
       "      <td>Black</td>\n",
       "      <td>NaN</td>\n",
       "      <td>NaN</td>\n",
       "      <td>NaN</td>\n",
       "      <td>NaN</td>\n",
       "      <td>NaN</td>\n",
       "    </tr>\n",
       "    <tr>\n",
       "      <th>1</th>\n",
       "      <td>105-1</td>\n",
       "      <td>Mail Van</td>\n",
       "      <td>NaN</td>\n",
       "      <td>102.0</td>\n",
       "      <td>1984</td>\n",
       "      <td>NaN</td>\n",
       "      <td>NaN</td>\n",
       "      <td>34</td>\n",
       "      <td>65</td>\n",
       "      <td>0</td>\n",
       "      <td>...</td>\n",
       "      <td>1</td>\n",
       "      <td>0</td>\n",
       "      <td>Modern-Town</td>\n",
       "      <td>Red</td>\n",
       "      <td>White</td>\n",
       "      <td>4.0</td>\n",
       "      <td>NaN</td>\n",
       "      <td>NaN</td>\n",
       "      <td>NaN</td>\n",
       "      <td>NaN</td>\n",
       "    </tr>\n",
       "    <tr>\n",
       "      <th>2</th>\n",
       "      <td>3639-1</td>\n",
       "      <td>Paddy Wagon</td>\n",
       "      <td>NaN</td>\n",
       "      <td>14.0</td>\n",
       "      <td>1984</td>\n",
       "      <td>NaN</td>\n",
       "      <td>NaN</td>\n",
       "      <td>11</td>\n",
       "      <td>12</td>\n",
       "      <td>0</td>\n",
       "      <td>...</td>\n",
       "      <td>0</td>\n",
       "      <td>0</td>\n",
       "      <td>Bigfig-Junior</td>\n",
       "      <td>Blue</td>\n",
       "      <td>Black</td>\n",
       "      <td>NaN</td>\n",
       "      <td>NaN</td>\n",
       "      <td>NaN</td>\n",
       "      <td>NaN</td>\n",
       "      <td>NaN</td>\n",
       "    </tr>\n",
       "    <tr>\n",
       "      <th>3</th>\n",
       "      <td>3664-1</td>\n",
       "      <td>Bertie Bulldog (Police Chief) and Constable Bu...</td>\n",
       "      <td>NaN</td>\n",
       "      <td>31.0</td>\n",
       "      <td>1984</td>\n",
       "      <td>NaN</td>\n",
       "      <td>NaN</td>\n",
       "      <td>24</td>\n",
       "      <td>63</td>\n",
       "      <td>0</td>\n",
       "      <td>...</td>\n",
       "      <td>0</td>\n",
       "      <td>0</td>\n",
       "      <td>Bigfig-Junior</td>\n",
       "      <td>Blue</td>\n",
       "      <td>Red</td>\n",
       "      <td>5.0</td>\n",
       "      <td>NaN</td>\n",
       "      <td>NaN</td>\n",
       "      <td>NaN</td>\n",
       "      <td>NaN</td>\n",
       "    </tr>\n",
       "    <tr>\n",
       "      <th>4</th>\n",
       "      <td>3670-1</td>\n",
       "      <td>Service Station</td>\n",
       "      <td>20.0</td>\n",
       "      <td>54.0</td>\n",
       "      <td>1984</td>\n",
       "      <td>NaN</td>\n",
       "      <td>NaN</td>\n",
       "      <td>30</td>\n",
       "      <td>54</td>\n",
       "      <td>0</td>\n",
       "      <td>...</td>\n",
       "      <td>0</td>\n",
       "      <td>0</td>\n",
       "      <td>Bigfig-Junior</td>\n",
       "      <td>Yellow</td>\n",
       "      <td>Red</td>\n",
       "      <td>NaN</td>\n",
       "      <td>34.0</td>\n",
       "      <td>49.62</td>\n",
       "      <td>4.38</td>\n",
       "      <td>1.0</td>\n",
       "    </tr>\n",
       "  </tbody>\n",
       "</table>\n",
       "<p>5 rows × 134 columns</p>\n",
       "</div>"
      ],
      "text/plain": [
       "   set_no                                               name  price_store  \\\n",
       "0    15-1                                 Castle Minifigures          NaN   \n",
       "1   105-1                                           Mail Van          NaN   \n",
       "2  3639-1                                        Paddy Wagon          NaN   \n",
       "3  3664-1  Bertie Bulldog (Police Chief) and Constable Bu...          NaN   \n",
       "4  3670-1                                    Service Station         20.0   \n",
       "\n",
       "   price_used  year  volume  weight  number_parts  total_parts  \\\n",
       "0        63.0  1984     NaN     NaN            16           38   \n",
       "1       102.0  1984     NaN     NaN            34           65   \n",
       "2        14.0  1984     NaN     NaN            11           12   \n",
       "3        31.0  1984     NaN     NaN            24           63   \n",
       "4        54.0  1984     NaN     NaN            30           54   \n",
       "\n",
       "   number_spare_parts  ...  windscreens_and_fuselage_tot_prts  znap_tot_prts  \\\n",
       "0                   0  ...                                  0              0   \n",
       "1                   0  ...                                  1              0   \n",
       "2                   0  ...                                  0              0   \n",
       "3                   0  ...                                  0              0   \n",
       "4                   0  ...                                  0              0   \n",
       "\n",
       "        category  scolor_1st  scolor_2nd  popularity  aftermarket  \\\n",
       "0     Historical        Gray       Black         NaN          NaN   \n",
       "1    Modern-Town         Red       White         4.0          NaN   \n",
       "2  Bigfig-Junior        Blue       Black         NaN          NaN   \n",
       "3  Bigfig-Junior        Blue         Red         5.0          NaN   \n",
       "4  Bigfig-Junior      Yellow         Red         NaN         34.0   \n",
       "\n",
       "   adj_store_price  adj_aftermarket  profitable  \n",
       "0              NaN              NaN         NaN  \n",
       "1              NaN              NaN         NaN  \n",
       "2              NaN              NaN         NaN  \n",
       "3              NaN              NaN         NaN  \n",
       "4            49.62             4.38         1.0  \n",
       "\n",
       "[5 rows x 134 columns]"
      ]
     },
     "execution_count": 22,
     "metadata": {},
     "output_type": "execute_result"
    },
    {
     "name": "stdout",
     "output_type": "stream",
     "text": [
      "<class 'pandas.core.frame.DataFrame'>\n",
      "RangeIndex: 4922 entries, 0 to 4921\n",
      "Columns: 134 entries, set_no to profitable\n",
      "dtypes: float64(9), int64(120), object(5)\n",
      "memory usage: 5.0+ MB\n"
     ]
    }
   ],
   "source": [
    "FEATURE_FILE = 'data/merge_feature.csv'\n",
    "full_df = pd.read_csv(FEATURE_FILE)\n",
    "full_df.head()\n",
    "full_df.info()"
   ]
  },
  {
   "cell_type": "code",
   "execution_count": 23,
   "metadata": {
    "ExecuteTime": {
     "end_time": "2019-11-11T15:13:51.521915Z",
     "start_time": "2019-11-11T15:13:51.514914Z"
    }
   },
   "outputs": [],
   "source": [
    "# pull out numeric features \n",
    "\n",
    "feature_ls = ['year', 'volume', 'weight', 'total_parts', 'number_parts', 'number_colors', ]\n",
    "feature_df = full_df[feature_ls]"
   ]
  },
  {
   "cell_type": "code",
   "execution_count": 24,
   "metadata": {
    "ExecuteTime": {
     "end_time": "2019-11-11T15:13:51.538917Z",
     "start_time": "2019-11-11T15:13:51.524919Z"
    }
   },
   "outputs": [
    {
     "name": "stdout",
     "output_type": "stream",
     "text": [
      "<class 'pandas.core.frame.DataFrame'>\n",
      "Int64Index: 1938 entries, 242 to 4920\n",
      "Data columns (total 6 columns):\n",
      "year             1938 non-null int64\n",
      "volume           1938 non-null float64\n",
      "weight           1938 non-null float64\n",
      "total_parts      1938 non-null int64\n",
      "number_parts     1938 non-null int64\n",
      "number_colors    1938 non-null int64\n",
      "dtypes: float64(2), int64(4)\n",
      "memory usage: 106.0 KB\n"
     ]
    }
   ],
   "source": [
    "# remove nan's, just for investigation \n",
    "\n",
    "feature_df = feature_df.dropna()\n",
    "feature_df.info()"
   ]
  },
  {
   "cell_type": "code",
   "execution_count": 25,
   "metadata": {
    "ExecuteTime": {
     "end_time": "2019-11-11T15:13:51.569916Z",
     "start_time": "2019-11-11T15:13:51.541916Z"
    }
   },
   "outputs": [
    {
     "data": {
      "text/plain": [
       "[('year', 6.800330031359406),\n",
       " ('volume', 29.54127621038952),\n",
       " ('weight', 46.165330132252286),\n",
       " ('total_parts', 19.462995882739012),\n",
       " ('number_parts', 20.32183516886591),\n",
       " ('number_colors', 16.267171157112692)]"
      ]
     },
     "execution_count": 25,
     "metadata": {},
     "output_type": "execute_result"
    }
   ],
   "source": [
    "# variance inflation factor\n",
    "\n",
    "vif = [VIF(feature_df.values, i) for i in range(feature_df.shape[1])]\n",
    "list(zip(feature_df.columns, vif))"
   ]
  },
  {
   "cell_type": "markdown",
   "metadata": {},
   "source": [
    "## 3.2 Logistic Regression\n",
    "\n",
    "File: ```logistic_regression.ipynb```\n",
    "\n",
    "Goal: Use logistic regression to create a model for the profitability feature."
   ]
  },
  {
   "cell_type": "code",
   "execution_count": 26,
   "metadata": {
    "ExecuteTime": {
     "end_time": "2019-11-11T15:13:51.710914Z",
     "start_time": "2019-11-11T15:13:51.573917Z"
    }
   },
   "outputs": [
    {
     "data": {
      "text/html": [
       "<div>\n",
       "<style scoped>\n",
       "    .dataframe tbody tr th:only-of-type {\n",
       "        vertical-align: middle;\n",
       "    }\n",
       "\n",
       "    .dataframe tbody tr th {\n",
       "        vertical-align: top;\n",
       "    }\n",
       "\n",
       "    .dataframe thead th {\n",
       "        text-align: right;\n",
       "    }\n",
       "</style>\n",
       "<table border=\"1\" class=\"dataframe\">\n",
       "  <thead>\n",
       "    <tr style=\"text-align: right;\">\n",
       "      <th></th>\n",
       "      <th>set_no</th>\n",
       "      <th>name</th>\n",
       "      <th>price_store</th>\n",
       "      <th>price_used</th>\n",
       "      <th>year</th>\n",
       "      <th>volume</th>\n",
       "      <th>weight</th>\n",
       "      <th>number_parts</th>\n",
       "      <th>total_parts</th>\n",
       "      <th>number_spare_parts</th>\n",
       "      <th>...</th>\n",
       "      <th>windscreens_and_fuselage_tot_prts</th>\n",
       "      <th>znap_tot_prts</th>\n",
       "      <th>category</th>\n",
       "      <th>scolor_1st</th>\n",
       "      <th>scolor_2nd</th>\n",
       "      <th>popularity</th>\n",
       "      <th>aftermarket</th>\n",
       "      <th>adj_store_price</th>\n",
       "      <th>adj_aftermarket</th>\n",
       "      <th>profitable</th>\n",
       "    </tr>\n",
       "  </thead>\n",
       "  <tbody>\n",
       "    <tr>\n",
       "      <th>0</th>\n",
       "      <td>15-1</td>\n",
       "      <td>Castle Minifigures</td>\n",
       "      <td>NaN</td>\n",
       "      <td>63.0</td>\n",
       "      <td>1984</td>\n",
       "      <td>NaN</td>\n",
       "      <td>NaN</td>\n",
       "      <td>16</td>\n",
       "      <td>38</td>\n",
       "      <td>0</td>\n",
       "      <td>...</td>\n",
       "      <td>0</td>\n",
       "      <td>0</td>\n",
       "      <td>Historical</td>\n",
       "      <td>Gray</td>\n",
       "      <td>Black</td>\n",
       "      <td>NaN</td>\n",
       "      <td>NaN</td>\n",
       "      <td>NaN</td>\n",
       "      <td>NaN</td>\n",
       "      <td>NaN</td>\n",
       "    </tr>\n",
       "    <tr>\n",
       "      <th>1</th>\n",
       "      <td>105-1</td>\n",
       "      <td>Mail Van</td>\n",
       "      <td>NaN</td>\n",
       "      <td>102.0</td>\n",
       "      <td>1984</td>\n",
       "      <td>NaN</td>\n",
       "      <td>NaN</td>\n",
       "      <td>34</td>\n",
       "      <td>65</td>\n",
       "      <td>0</td>\n",
       "      <td>...</td>\n",
       "      <td>1</td>\n",
       "      <td>0</td>\n",
       "      <td>Modern-Town</td>\n",
       "      <td>Red</td>\n",
       "      <td>White</td>\n",
       "      <td>4.0</td>\n",
       "      <td>NaN</td>\n",
       "      <td>NaN</td>\n",
       "      <td>NaN</td>\n",
       "      <td>NaN</td>\n",
       "    </tr>\n",
       "    <tr>\n",
       "      <th>2</th>\n",
       "      <td>3639-1</td>\n",
       "      <td>Paddy Wagon</td>\n",
       "      <td>NaN</td>\n",
       "      <td>14.0</td>\n",
       "      <td>1984</td>\n",
       "      <td>NaN</td>\n",
       "      <td>NaN</td>\n",
       "      <td>11</td>\n",
       "      <td>12</td>\n",
       "      <td>0</td>\n",
       "      <td>...</td>\n",
       "      <td>0</td>\n",
       "      <td>0</td>\n",
       "      <td>Bigfig-Junior</td>\n",
       "      <td>Blue</td>\n",
       "      <td>Black</td>\n",
       "      <td>NaN</td>\n",
       "      <td>NaN</td>\n",
       "      <td>NaN</td>\n",
       "      <td>NaN</td>\n",
       "      <td>NaN</td>\n",
       "    </tr>\n",
       "    <tr>\n",
       "      <th>3</th>\n",
       "      <td>3664-1</td>\n",
       "      <td>Bertie Bulldog (Police Chief) and Constable Bu...</td>\n",
       "      <td>NaN</td>\n",
       "      <td>31.0</td>\n",
       "      <td>1984</td>\n",
       "      <td>NaN</td>\n",
       "      <td>NaN</td>\n",
       "      <td>24</td>\n",
       "      <td>63</td>\n",
       "      <td>0</td>\n",
       "      <td>...</td>\n",
       "      <td>0</td>\n",
       "      <td>0</td>\n",
       "      <td>Bigfig-Junior</td>\n",
       "      <td>Blue</td>\n",
       "      <td>Red</td>\n",
       "      <td>5.0</td>\n",
       "      <td>NaN</td>\n",
       "      <td>NaN</td>\n",
       "      <td>NaN</td>\n",
       "      <td>NaN</td>\n",
       "    </tr>\n",
       "    <tr>\n",
       "      <th>4</th>\n",
       "      <td>3670-1</td>\n",
       "      <td>Service Station</td>\n",
       "      <td>20.0</td>\n",
       "      <td>54.0</td>\n",
       "      <td>1984</td>\n",
       "      <td>NaN</td>\n",
       "      <td>NaN</td>\n",
       "      <td>30</td>\n",
       "      <td>54</td>\n",
       "      <td>0</td>\n",
       "      <td>...</td>\n",
       "      <td>0</td>\n",
       "      <td>0</td>\n",
       "      <td>Bigfig-Junior</td>\n",
       "      <td>Yellow</td>\n",
       "      <td>Red</td>\n",
       "      <td>NaN</td>\n",
       "      <td>34.0</td>\n",
       "      <td>49.62</td>\n",
       "      <td>4.38</td>\n",
       "      <td>1.0</td>\n",
       "    </tr>\n",
       "  </tbody>\n",
       "</table>\n",
       "<p>5 rows × 134 columns</p>\n",
       "</div>"
      ],
      "text/plain": [
       "   set_no                                               name  price_store  \\\n",
       "0    15-1                                 Castle Minifigures          NaN   \n",
       "1   105-1                                           Mail Van          NaN   \n",
       "2  3639-1                                        Paddy Wagon          NaN   \n",
       "3  3664-1  Bertie Bulldog (Police Chief) and Constable Bu...          NaN   \n",
       "4  3670-1                                    Service Station         20.0   \n",
       "\n",
       "   price_used  year  volume  weight  number_parts  total_parts  \\\n",
       "0        63.0  1984     NaN     NaN            16           38   \n",
       "1       102.0  1984     NaN     NaN            34           65   \n",
       "2        14.0  1984     NaN     NaN            11           12   \n",
       "3        31.0  1984     NaN     NaN            24           63   \n",
       "4        54.0  1984     NaN     NaN            30           54   \n",
       "\n",
       "   number_spare_parts  ...  windscreens_and_fuselage_tot_prts  znap_tot_prts  \\\n",
       "0                   0  ...                                  0              0   \n",
       "1                   0  ...                                  1              0   \n",
       "2                   0  ...                                  0              0   \n",
       "3                   0  ...                                  0              0   \n",
       "4                   0  ...                                  0              0   \n",
       "\n",
       "        category  scolor_1st  scolor_2nd  popularity  aftermarket  \\\n",
       "0     Historical        Gray       Black         NaN          NaN   \n",
       "1    Modern-Town         Red       White         4.0          NaN   \n",
       "2  Bigfig-Junior        Blue       Black         NaN          NaN   \n",
       "3  Bigfig-Junior        Blue         Red         5.0          NaN   \n",
       "4  Bigfig-Junior      Yellow         Red         NaN         34.0   \n",
       "\n",
       "   adj_store_price  adj_aftermarket  profitable  \n",
       "0              NaN              NaN         NaN  \n",
       "1              NaN              NaN         NaN  \n",
       "2              NaN              NaN         NaN  \n",
       "3              NaN              NaN         NaN  \n",
       "4            49.62             4.38         1.0  \n",
       "\n",
       "[5 rows x 134 columns]"
      ]
     },
     "execution_count": 26,
     "metadata": {},
     "output_type": "execute_result"
    },
    {
     "name": "stdout",
     "output_type": "stream",
     "text": [
      "<class 'pandas.core.frame.DataFrame'>\n",
      "RangeIndex: 4922 entries, 0 to 4921\n",
      "Columns: 134 entries, set_no to profitable\n",
      "dtypes: float64(9), int64(120), object(5)\n",
      "memory usage: 5.0+ MB\n"
     ]
    }
   ],
   "source": [
    "FEATURE_FILE = 'data/merge_feature.csv'\n",
    "full_df = pd.read_csv(FEATURE_FILE)\n",
    "full_df.head()\n",
    "full_df.info()"
   ]
  },
  {
   "cell_type": "code",
   "execution_count": 27,
   "metadata": {
    "ExecuteTime": {
     "end_time": "2019-11-11T15:13:51.724913Z",
     "start_time": "2019-11-11T15:13:51.713915Z"
    }
   },
   "outputs": [],
   "source": [
    "# drop volume and weight since they are sparse and colinear\n",
    "\n",
    "full_df = full_df.drop(columns=['volume', 'weight'])"
   ]
  },
  {
   "cell_type": "code",
   "execution_count": 28,
   "metadata": {
    "ExecuteTime": {
     "end_time": "2019-11-11T15:13:51.747915Z",
     "start_time": "2019-11-11T15:13:51.733913Z"
    }
   },
   "outputs": [
    {
     "data": {
      "text/plain": [
       "(3832, 132)"
      ]
     },
     "execution_count": 28,
     "metadata": {},
     "output_type": "execute_result"
    }
   ],
   "source": [
    "# filter out rows without profitable feature\n",
    "\n",
    "full_df = full_df.loc[full_df['profitable'].isna()==False]\n",
    "full_df.shape"
   ]
  },
  {
   "cell_type": "code",
   "execution_count": 29,
   "metadata": {
    "ExecuteTime": {
     "end_time": "2019-11-11T15:13:51.757914Z",
     "start_time": "2019-11-11T15:13:51.750915Z"
    }
   },
   "outputs": [
    {
     "data": {
      "text/plain": [
       "(3832,)"
      ]
     },
     "execution_count": 29,
     "metadata": {},
     "output_type": "execute_result"
    }
   ],
   "source": [
    "# target series\n",
    "\n",
    "target_sr = full_df['profitable']\n",
    "target_sr.shape"
   ]
  },
  {
   "cell_type": "code",
   "execution_count": 30,
   "metadata": {
    "ExecuteTime": {
     "end_time": "2019-11-11T15:13:51.799915Z",
     "start_time": "2019-11-11T15:13:51.762916Z"
    }
   },
   "outputs": [
    {
     "data": {
      "text/plain": [
       "(3832, 151)"
      ]
     },
     "execution_count": 30,
     "metadata": {},
     "output_type": "execute_result"
    },
    {
     "data": {
      "text/plain": [
       "Index(['non-lego_cnt_prts', 'technic_bushes_tot_prts', 'ho_scale_cnt_prts',\n",
       "       'tiles_cnt_prts', 'minifig_accessories_cnt_prts', 'znap_tot_prts',\n",
       "       'tubes_and_hoses_cnt_prts', 'tools_cnt_prts', 'technic_beams_cnt_prts',\n",
       "       'transportation_-_land_cnt_prts',\n",
       "       ...\n",
       "       'scolor_1st_Yellow', 'scolor_2nd_Blue', 'scolor_2nd_Brown',\n",
       "       'scolor_2nd_Gray', 'scolor_2nd_Green', 'scolor_2nd_Red',\n",
       "       'scolor_2nd_Tan', 'scolor_2nd_Transparent', 'scolor_2nd_White',\n",
       "       'scolor_2nd_Yellow'],\n",
       "      dtype='object', length=151)"
      ]
     },
     "execution_count": 30,
     "metadata": {},
     "output_type": "execute_result"
    }
   ],
   "source": [
    "# feature dataframe with one-hot encoding\n",
    "\n",
    "columns_st = set(full_df.columns)\n",
    "drop_st = set(['set_no', 'name', 'price_store', 'price_used', 'aftermarket', 'popularity', \n",
    "               'adj_store_price', 'adj_aftermarket', 'profitable'])\n",
    "feature_st = columns_st.difference(drop_st)\n",
    "\n",
    "feature_cat_df = full_df[list(feature_st)]\n",
    "\n",
    "feature_df = pd.get_dummies(feature_cat_df, drop_first= True, \n",
    "               columns=['category', 'scolor_1st', 'scolor_2nd'])\n",
    "feature_df.shape\n",
    "feature_df.columns"
   ]
  },
  {
   "cell_type": "code",
   "execution_count": 31,
   "metadata": {
    "ExecuteTime": {
     "end_time": "2019-11-11T15:13:51.840913Z",
     "start_time": "2019-11-11T15:13:51.804915Z"
    }
   },
   "outputs": [
    {
     "data": {
      "text/plain": [
       "(3065,)"
      ]
     },
     "execution_count": 31,
     "metadata": {},
     "output_type": "execute_result"
    },
    {
     "data": {
      "text/plain": [
       "(767,)"
      ]
     },
     "execution_count": 31,
     "metadata": {},
     "output_type": "execute_result"
    },
    {
     "data": {
      "text/plain": [
       "(3065, 151)"
      ]
     },
     "execution_count": 31,
     "metadata": {},
     "output_type": "execute_result"
    },
    {
     "data": {
      "text/plain": [
       "(767, 151)"
      ]
     },
     "execution_count": 31,
     "metadata": {},
     "output_type": "execute_result"
    }
   ],
   "source": [
    "# split train and test \n",
    "\n",
    "TEST_SPLIT = 0.2\n",
    "SEED = 666\n",
    "MAX_ITER = 900\n",
    "\n",
    "y_train, y_test, X_train, X_test = MS.train_test_split(target_sr, feature_df, stratify=feature_df['year'], \n",
    "                                                       test_size=TEST_SPLIT, random_state=SEED)\n",
    "y_train.shape\n",
    "y_test.shape \n",
    "X_train.shape\n",
    "X_test.shape"
   ]
  },
  {
   "cell_type": "code",
   "execution_count": 32,
   "metadata": {
    "ExecuteTime": {
     "end_time": "2019-11-11T15:13:51.855912Z",
     "start_time": "2019-11-11T15:13:51.843914Z"
    }
   },
   "outputs": [],
   "source": [
    "# optimize hyper-parameters with grid-search\n",
    "\n",
    "sampler = OS.SMOTE(random_state=SEED)\n",
    "scaler = PP.StandardScaler()\n",
    "logreg_best = LM.LogisticRegression(penalty='l2', max_iter=MAX_ITER, random_state=SEED)\n",
    "pipeline = PL.Pipeline([('sampler', sampler), ('transformer', scaler), ('estimator', logreg_best)])\n",
    "\n",
    "param_dx = {\n",
    "    'estimator__solver': ['saga', 'liblinear'],\n",
    "    'estimator__C': [1e-1, 1e1, 1e3, 1e5],\n",
    "    }\n",
    "\n",
    "searcher = MS.GridSearchCV(pipeline, param_dx, scoring='accuracy', cv=5)"
   ]
  },
  {
   "cell_type": "code",
   "execution_count": 33,
   "metadata": {
    "ExecuteTime": {
     "end_time": "2019-11-11T15:16:33.238676Z",
     "start_time": "2019-11-11T15:13:51.858914Z"
    }
   },
   "outputs": [
    {
     "name": "stderr",
     "output_type": "stream",
     "text": [
      "C:\\Users\\natha\\Anaconda3\\lib\\site-packages\\sklearn\\linear_model\\sag.py:337: ConvergenceWarning: The max_iter was reached which means the coef_ did not converge\n",
      "  \"the coef_ did not converge\", ConvergenceWarning)\n",
      "C:\\Users\\natha\\Anaconda3\\lib\\site-packages\\sklearn\\linear_model\\sag.py:337: ConvergenceWarning: The max_iter was reached which means the coef_ did not converge\n",
      "  \"the coef_ did not converge\", ConvergenceWarning)\n",
      "C:\\Users\\natha\\Anaconda3\\lib\\site-packages\\sklearn\\linear_model\\sag.py:337: ConvergenceWarning: The max_iter was reached which means the coef_ did not converge\n",
      "  \"the coef_ did not converge\", ConvergenceWarning)\n",
      "C:\\Users\\natha\\Anaconda3\\lib\\site-packages\\sklearn\\linear_model\\sag.py:337: ConvergenceWarning: The max_iter was reached which means the coef_ did not converge\n",
      "  \"the coef_ did not converge\", ConvergenceWarning)\n",
      "C:\\Users\\natha\\Anaconda3\\lib\\site-packages\\sklearn\\linear_model\\sag.py:337: ConvergenceWarning: The max_iter was reached which means the coef_ did not converge\n",
      "  \"the coef_ did not converge\", ConvergenceWarning)\n",
      "C:\\Users\\natha\\Anaconda3\\lib\\site-packages\\sklearn\\linear_model\\sag.py:337: ConvergenceWarning: The max_iter was reached which means the coef_ did not converge\n",
      "  \"the coef_ did not converge\", ConvergenceWarning)\n",
      "C:\\Users\\natha\\Anaconda3\\lib\\site-packages\\sklearn\\linear_model\\sag.py:337: ConvergenceWarning: The max_iter was reached which means the coef_ did not converge\n",
      "  \"the coef_ did not converge\", ConvergenceWarning)\n",
      "C:\\Users\\natha\\Anaconda3\\lib\\site-packages\\sklearn\\linear_model\\sag.py:337: ConvergenceWarning: The max_iter was reached which means the coef_ did not converge\n",
      "  \"the coef_ did not converge\", ConvergenceWarning)\n",
      "C:\\Users\\natha\\Anaconda3\\lib\\site-packages\\sklearn\\linear_model\\sag.py:337: ConvergenceWarning: The max_iter was reached which means the coef_ did not converge\n",
      "  \"the coef_ did not converge\", ConvergenceWarning)\n",
      "C:\\Users\\natha\\Anaconda3\\lib\\site-packages\\sklearn\\linear_model\\sag.py:337: ConvergenceWarning: The max_iter was reached which means the coef_ did not converge\n",
      "  \"the coef_ did not converge\", ConvergenceWarning)\n",
      "C:\\Users\\natha\\Anaconda3\\lib\\site-packages\\sklearn\\linear_model\\sag.py:337: ConvergenceWarning: The max_iter was reached which means the coef_ did not converge\n",
      "  \"the coef_ did not converge\", ConvergenceWarning)\n",
      "C:\\Users\\natha\\Anaconda3\\lib\\site-packages\\sklearn\\linear_model\\sag.py:337: ConvergenceWarning: The max_iter was reached which means the coef_ did not converge\n",
      "  \"the coef_ did not converge\", ConvergenceWarning)\n",
      "C:\\Users\\natha\\Anaconda3\\lib\\site-packages\\sklearn\\linear_model\\sag.py:337: ConvergenceWarning: The max_iter was reached which means the coef_ did not converge\n",
      "  \"the coef_ did not converge\", ConvergenceWarning)\n",
      "C:\\Users\\natha\\Anaconda3\\lib\\site-packages\\sklearn\\linear_model\\sag.py:337: ConvergenceWarning: The max_iter was reached which means the coef_ did not converge\n",
      "  \"the coef_ did not converge\", ConvergenceWarning)\n",
      "C:\\Users\\natha\\Anaconda3\\lib\\site-packages\\sklearn\\linear_model\\sag.py:337: ConvergenceWarning: The max_iter was reached which means the coef_ did not converge\n",
      "  \"the coef_ did not converge\", ConvergenceWarning)\n",
      "C:\\Users\\natha\\Anaconda3\\lib\\site-packages\\sklearn\\linear_model\\sag.py:337: ConvergenceWarning: The max_iter was reached which means the coef_ did not converge\n",
      "  \"the coef_ did not converge\", ConvergenceWarning)\n",
      "C:\\Users\\natha\\Anaconda3\\lib\\site-packages\\sklearn\\linear_model\\sag.py:337: ConvergenceWarning: The max_iter was reached which means the coef_ did not converge\n",
      "  \"the coef_ did not converge\", ConvergenceWarning)\n"
     ]
    }
   ],
   "source": [
    "# run the grid search\n",
    "\n",
    "searcher.fit(X_train, y_train);"
   ]
  },
  {
   "cell_type": "code",
   "execution_count": 34,
   "metadata": {
    "ExecuteTime": {
     "end_time": "2019-11-11T15:16:33.275573Z",
     "start_time": "2019-11-11T15:16:33.239572Z"
    }
   },
   "outputs": [
    {
     "name": "stdout",
     "output_type": "stream",
     "text": [
      "Grid Search found the following optimal parameters: \n",
      "estimator__C: 1000.0\n",
      "estimator__solver: 'liblinear'\n",
      "\n",
      "Training Accuracy: 80.72%\n",
      "\n",
      "Validation Accuracy: 75.88%\n",
      "\n",
      "Random Guess Accuracy: 73.01%\n"
     ]
    }
   ],
   "source": [
    "# check the best parameters found by grid search\n",
    "\n",
    "best_parameters = searcher.best_params_\n",
    "\n",
    "print(\"Grid Search found the following optimal parameters: \")\n",
    "for param_name in sorted(best_parameters.keys()):\n",
    "    print(\"%s: %r\" % (param_name, best_parameters[param_name]))\n",
    "\n",
    "train_pred = searcher.predict(X_train)\n",
    "train_accuracy = MT.accuracy_score(y_train, train_pred)\n",
    "test_pred = searcher.predict(X_test)\n",
    "test_accuracy = MT.accuracy_score(y_test, test_pred)\n",
    "\n",
    "print(\"\")\n",
    "print(\"Training Accuracy: {:.4}%\".format(train_accuracy * 100))\n",
    "print(\"\")\n",
    "print(\"Validation Accuracy: {:.4}%\".format(test_accuracy * 100))\n",
    "print(\"\")\n",
    "print(\"Random Guess Accuracy: {:.4}%\".format(len(y_test[y_test==0]) / len(y_test) * 100))"
   ]
  },
  {
   "cell_type": "markdown",
   "metadata": {},
   "source": [
    "## 3.3 Random Forest\n",
    "\n",
    "File: ```random_forest.ipynb```\n",
    "\n",
    "Goal: Use random forest to create a model for the profitability binary-class feature."
   ]
  },
  {
   "cell_type": "code",
   "execution_count": 35,
   "metadata": {
    "ExecuteTime": {
     "end_time": "2019-11-11T15:16:33.284570Z",
     "start_time": "2019-11-11T15:16:33.278570Z"
    }
   },
   "outputs": [],
   "source": [
    "# use the same data file, target, features, and train-test as for logistic regression"
   ]
  },
  {
   "cell_type": "code",
   "execution_count": 36,
   "metadata": {
    "ExecuteTime": {
     "end_time": "2019-11-11T15:16:33.300570Z",
     "start_time": "2019-11-11T15:16:33.288572Z"
    }
   },
   "outputs": [],
   "source": [
    "# setup the grid-search\n",
    "# not sure for process on grid-search, the best parameters keep changing, as if the default are best\n",
    "\n",
    "sampler = OS.SMOTE(random_state=SEED)\n",
    "scaler = PP.StandardScaler()\n",
    "randforest = ES.RandomForestClassifier(random_state=SEED)\n",
    "pipeline = PL.Pipeline([('sampler', sampler), ('transformer', scaler), ('estimator', randforest)])\n",
    "\n",
    "param_dx = {\n",
    "    'estimator__n_estimators': [140, 160],\n",
    "    'estimator__max_depth': [20, 30],\n",
    "    'estimator__min_impurity_decrease': [0.00001, 0.0001],\n",
    "    }\n",
    "\n",
    "searcher = MS.GridSearchCV(pipeline, param_dx, scoring='accuracy', cv=5)"
   ]
  },
  {
   "cell_type": "code",
   "execution_count": 37,
   "metadata": {
    "ExecuteTime": {
     "end_time": "2019-11-11T15:17:31.561226Z",
     "start_time": "2019-11-11T15:16:33.303575Z"
    }
   },
   "outputs": [],
   "source": [
    "# run the grid search\n",
    "\n",
    "%timeit\n",
    "searcher.fit(X_train, y_train);"
   ]
  },
  {
   "cell_type": "code",
   "execution_count": 38,
   "metadata": {
    "ExecuteTime": {
     "end_time": "2019-11-11T15:17:31.806209Z",
     "start_time": "2019-11-11T15:17:31.567208Z"
    }
   },
   "outputs": [
    {
     "name": "stdout",
     "output_type": "stream",
     "text": [
      "Grid Search found the following optimal parameters: \n",
      "estimator__max_depth: 30\n",
      "estimator__min_impurity_decrease: 1e-05\n",
      "estimator__n_estimators: 160\n",
      "\n",
      "Training Accuracy: 99.77%\n",
      "\n",
      "Validation Accuracy: 77.97%\n",
      "\n",
      "Random Guess Accuracy: 73.01%\n"
     ]
    }
   ],
   "source": [
    "# check the best parameters fund by grid search\n",
    "\n",
    "best_parameters = searcher.best_params_\n",
    "\n",
    "print(\"Grid Search found the following optimal parameters: \")\n",
    "for param_name in sorted(best_parameters.keys()):\n",
    "    print(\"%s: %r\" % (param_name, best_parameters[param_name]))\n",
    "\n",
    "train_pred = searcher.predict(X_train)\n",
    "train_accuracy = MT.accuracy_score(y_train, train_pred)\n",
    "test_pred = searcher.predict(X_test)\n",
    "test_accuracy = MT.accuracy_score(y_test, test_pred)\n",
    "\n",
    "print(\"\")\n",
    "print(\"Training Accuracy: {:.4}%\".format(train_accuracy * 100))\n",
    "print(\"\")\n",
    "print(\"Validation Accuracy: {:.4}%\".format(test_accuracy * 100))\n",
    "print(\"\")\n",
    "print(\"Random Guess Accuracy: {:.4}%\".format(len(y_test[y_test==0]) / len(y_test) * 100))"
   ]
  },
  {
   "cell_type": "markdown",
   "metadata": {},
   "source": [
    "## 3.4 XGBoost\n",
    "\n",
    "File: ```xgboost.ipynb```"
   ]
  },
  {
   "cell_type": "code",
   "execution_count": 39,
   "metadata": {
    "ExecuteTime": {
     "end_time": "2019-11-11T15:23:18.608954Z",
     "start_time": "2019-11-11T15:23:18.555963Z"
    }
   },
   "outputs": [],
   "source": [
    "# importing libraries and aliases used in the remainder of the notebook\n",
    "import pandas as pd\n",
    "import numpy as np\n",
    "np.random.seed(0)\n",
    "\n",
    "import matplotlib.pyplot as plt\n",
    "import seaborn as sns\n",
    "%matplotlib inline\n",
    "\n",
    "import xgboost as xgb\n",
    "from xgboost import XGBClassifier\n",
    "\n",
    "from sklearn.model_selection import train_test_split\n",
    "from sklearn.metrics import accuracy_score\n",
    "from sklearn.metrics import f1_score\n",
    "from sklearn.metrics import roc_auc_score\n",
    "from sklearn.model_selection import GridSearchCV\n",
    "from sklearn.decomposition import PCA\n",
    "from sklearn.preprocessing import StandardScaler\n",
    "from sklearn.metrics import confusion_matrix\n",
    "\n",
    "from imblearn.over_sampling import SMOTE\n",
    "from imblearn.pipeline import Pipeline\n",
    "\n",
    "import plot_confusion_matrix as pcm;"
   ]
  },
  {
   "cell_type": "markdown",
   "metadata": {},
   "source": [
    "## Prepare Target & Features\n",
    "Dropped 'volume' and 'weight' since they have many nulls and are collinear.  \n",
    "Dropped arbitrary details contained in 'set_no' and 'name'.  \n",
    "Dropped price data used to create the target.  \n",
    "Dropped popularity because it reflects future perception not info available at the time of release.  \n",
    "Dropped number of unique parts by category columns since we already have the total by category and wanted to prevent redundancy in the signal provided by those features. The total pieces per set were kept since the category breakdowns were dropped, but the total unique parts per set were dropped since their category breakdowns were kept. The intent of this was to reduce dimensionality and collinearity to hopefully improve model results and generalizability."
   ]
  },
  {
   "cell_type": "code",
   "execution_count": 40,
   "metadata": {
    "ExecuteTime": {
     "end_time": "2019-11-11T15:23:18.697956Z",
     "start_time": "2019-11-11T15:23:18.611955Z"
    }
   },
   "outputs": [],
   "source": [
    "FEATURE_FILE = 'data/merge_feature.csv'\n",
    "full_df = pd.read_csv(FEATURE_FILE)"
   ]
  },
  {
   "cell_type": "code",
   "execution_count": 41,
   "metadata": {
    "ExecuteTime": {
     "end_time": "2019-11-11T15:23:18.705965Z",
     "start_time": "2019-11-11T15:23:18.699953Z"
    }
   },
   "outputs": [],
   "source": [
    "drop_category_nmbr_cnts = [s for s in list(full_df.columns) if '_cnt_prts' in s]"
   ]
  },
  {
   "cell_type": "code",
   "execution_count": 42,
   "metadata": {
    "ExecuteTime": {
     "end_time": "2019-11-11T15:23:18.727954Z",
     "start_time": "2019-11-11T15:23:18.709955Z"
    }
   },
   "outputs": [],
   "source": [
    "feat_df = full_df.drop(columns=['set_no', 'name',  'price_store', 'price_used',\n",
    "                                'volume', 'weight', 'total_parts','number_spare_parts',\n",
    "                                'popularity', 'aftermarket', 'adj_store_price',\n",
    "                                'adj_aftermarket']+drop_category_nmbr_cnts)\n",
    "\n",
    "# filter out rows without profitable (i.e. target), and the few without primary/secondary colors\n",
    "feat_df.dropna(axis=0,\n",
    "               subset=['profitable', 'scolor_1st', 'scolor_2nd'],\n",
    "               inplace=True)\n",
    "\n",
    "# feat_df.head()"
   ]
  },
  {
   "cell_type": "code",
   "execution_count": 43,
   "metadata": {
    "ExecuteTime": {
     "end_time": "2019-11-11T15:23:18.739959Z",
     "start_time": "2019-11-11T15:23:18.732957Z"
    }
   },
   "outputs": [],
   "source": [
    "# confirmed no nulls\n",
    "# feat_df.info(verbose=True, null_counts=True)"
   ]
  },
  {
   "cell_type": "code",
   "execution_count": 44,
   "metadata": {
    "ExecuteTime": {
     "end_time": "2019-11-11T15:23:18.753955Z",
     "start_time": "2019-11-11T15:23:18.743955Z"
    }
   },
   "outputs": [
    {
     "name": "stdout",
     "output_type": "stream",
     "text": [
      "(3824,)\n",
      "(3824, 64)\n"
     ]
    }
   ],
   "source": [
    "# target series\n",
    "target = feat_df['profitable']\n",
    "print(target.shape)\n",
    "\n",
    "# initial features\n",
    "features = feat_df.drop(columns=['profitable'])\n",
    "print(features.shape)"
   ]
  },
  {
   "cell_type": "code",
   "execution_count": 45,
   "metadata": {
    "ExecuteTime": {
     "end_time": "2019-11-11T15:23:18.778956Z",
     "start_time": "2019-11-11T15:23:18.756954Z"
    }
   },
   "outputs": [
    {
     "data": {
      "text/plain": [
       "(3824, 92)"
      ]
     },
     "execution_count": 45,
     "metadata": {},
     "output_type": "execute_result"
    }
   ],
   "source": [
    "# feature dataframe with one-hot encoding\n",
    "features = pd.get_dummies(features, drop_first= True,\n",
    "                          columns=['category', 'scolor_1st', 'scolor_2nd'])\n",
    "features.shape"
   ]
  },
  {
   "cell_type": "markdown",
   "metadata": {},
   "source": [
    "## Train-Test Split"
   ]
  },
  {
   "cell_type": "code",
   "execution_count": 46,
   "metadata": {
    "ExecuteTime": {
     "end_time": "2019-11-11T15:23:18.810953Z",
     "start_time": "2019-11-11T15:23:18.783957Z"
    }
   },
   "outputs": [
    {
     "name": "stdout",
     "output_type": "stream",
     "text": [
      "(3059,)\n",
      "(765,)\n",
      "(3059, 92)\n",
      "(765, 92)\n"
     ]
    }
   ],
   "source": [
    "TEST_SPLIT = 0.2\n",
    "SEED = 0\n",
    "y_train, y_test, X_train, X_test = train_test_split(target, features,\n",
    "                                                    stratify=features['year'],\n",
    "                                                    test_size=TEST_SPLIT, random_state=SEED)\n",
    "\n",
    "print(y_train.shape)\n",
    "print(y_test.shape)\n",
    "print(X_train.shape)\n",
    "print(X_test.shape)"
   ]
  },
  {
   "cell_type": "markdown",
   "metadata": {},
   "source": [
    "## PCA Analysis\n",
    "We implemented Principal Component Analysis (PCA) to see if we could simplify the model and help it generalize well. We identified the number of parameters that explained 95% of the variance below, but during the modeling we also tried other levels. None ultimately proved fruitful. While the count of parameters may represent a different level of explained variance within each fold of the cross validation or the testing data used later in the notebook this was seen as an acceptable approximation. The cumulative explained variance plot showed the promise of being able to reduce dimensionality to improve the speed of the hyperparameter grid search, and we had hoped generalizability as well."
   ]
  },
  {
   "cell_type": "code",
   "execution_count": 47,
   "metadata": {
    "ExecuteTime": {
     "end_time": "2019-11-11T15:23:18.842953Z",
     "start_time": "2019-11-11T15:23:18.812955Z"
    }
   },
   "outputs": [],
   "source": [
    "# standardizing data\n",
    "std_scaler = StandardScaler()\n",
    "X_train_std = std_scaler.fit_transform(X_train)\n",
    "X_test_std = std_scaler.transform(X_test)"
   ]
  },
  {
   "cell_type": "code",
   "execution_count": 48,
   "metadata": {
    "ExecuteTime": {
     "end_time": "2019-11-11T15:23:18.874953Z",
     "start_time": "2019-11-11T15:23:18.845955Z"
    }
   },
   "outputs": [],
   "source": [
    "# Initial full PCA of features\n",
    "pca = PCA(random_state=SEED)\n",
    "x_pca = pca.fit_transform(X_train_std)"
   ]
  },
  {
   "cell_type": "code",
   "execution_count": 49,
   "metadata": {
    "ExecuteTime": {
     "end_time": "2019-11-11T15:23:18.885956Z",
     "start_time": "2019-11-11T15:23:18.876965Z"
    }
   },
   "outputs": [
    {
     "name": "stdout",
     "output_type": "stream",
     "text": [
      "66\n",
      "0.9522254515489256\n"
     ]
    }
   ],
   "source": [
    "# defining count of PCA features to capture 95% of variance from entire train set\n",
    "PCA_COUNT = sum(pca.explained_variance_ratio_.cumsum() < .95) + 1\n",
    "print(PCA_COUNT)\n",
    "PCA_EXPLAINED_VAR = pca.explained_variance_ratio_.cumsum()[PCA_COUNT-1]\n",
    "print(PCA_EXPLAINED_VAR)"
   ]
  },
  {
   "cell_type": "code",
   "execution_count": 50,
   "metadata": {
    "ExecuteTime": {
     "end_time": "2019-11-11T15:23:19.161955Z",
     "start_time": "2019-11-11T15:23:18.888956Z"
    }
   },
   "outputs": [
    {
     "data": {
      "image/png": "[encoded data removed]",
      "text/plain": [
       "<Figure size 432x288 with 1 Axes>"
      ]
     },
     "metadata": {
      "needs_background": "light"
     },
     "output_type": "display_data"
    }
   ],
   "source": [
    "# plotting PCA cumulative explained variance.\n",
    "feat_cnt = X_train.shape[1]\n",
    "plt.plot(range(1,feat_cnt+1), pca.explained_variance_ratio_.cumsum())\n",
    "\n",
    "ax = plt.gca()\n",
    "ax.set_xlabel(\"PCA Components\")\n",
    "ax.set_ylabel(\"% of Explained Variance\")\n",
    "ax.set_title(\"Cumulative Explained Variance by PCA components\")\n",
    "\n",
    "ax.vlines(x=PCA_COUNT, ymin=ax.get_ylim()[0], ymax=ax.get_ylim()[1])\n",
    "ax.annotate(f'{round(100*PCA_EXPLAINED_VAR,1)}% of variance explained \\n with {PCA_COUNT} of {feat_cnt} components',\n",
    "            xy=[PCA_COUNT, PCA_EXPLAINED_VAR],\n",
    "            xytext=[PCA_COUNT+3, PCA_EXPLAINED_VAR-0.1]);"
   ]
  },
  {
   "cell_type": "markdown",
   "metadata": {},
   "source": [
    "## GridSearchCV with XGBoost and Pipeline of Scaling - Baseline\n",
    "A Baseline model is fit with all the parameter and standard scaling. Accuracy is ok, but the significant increase between the CV accuracy and accuracy on the entire training set makes us believe our model may be over fit. Attempts will be made to reduce the features to account for this."
   ]
  },
  {
   "cell_type": "code",
   "execution_count": 51,
   "metadata": {
    "ExecuteTime": {
     "end_time": "2019-11-11T15:23:19.174954Z",
     "start_time": "2019-11-11T15:23:19.163954Z"
    }
   },
   "outputs": [
    {
     "data": {
      "text/plain": [
       "2.814214463840399"
      ]
     },
     "execution_count": 51,
     "metadata": {},
     "output_type": "execute_result"
    }
   ],
   "source": [
    "# calculating class ratio for XGBoost balancing\n",
    "class_pos_rate = len(y_train[y_train==0]) / len(y_train[y_train==1])\n",
    "class_pos_rate"
   ]
  },
  {
   "cell_type": "code",
   "execution_count": 52,
   "metadata": {
    "ExecuteTime": {
     "end_time": "2019-11-11T15:23:19.187952Z",
     "start_time": "2019-11-11T15:23:19.178955Z"
    }
   },
   "outputs": [],
   "source": [
    "# establishing the model\n",
    "pipe = Pipeline([(\"scaler\", StandardScaler()),\n",
    "                 (\"xgb\", XGBClassifier(random_state=SEED,\n",
    "                                       scale_pos_weight=class_pos_rate))])\n",
    "\n",
    "# The original parameter grid is replaced with its resulting selection to speed up the notebook\n",
    "# param_grid = {'xgb__learning_rate': [0.1, 0.15, 0.2],\n",
    "#               'xgb__max_depth': [3, 6, 9],\n",
    "#               'xgb__min_child_weight': [1, 2, 3],\n",
    "#               'xgb__subsample': [0.75, 0.85, 1],\n",
    "#               'xgb__n_estimators': [100, 150, 200]}\n",
    "\n",
    "param_grid = {'xgb__learning_rate': [0.2],\n",
    "              'xgb__max_depth': [9],\n",
    "              'xgb__min_child_weight': [1],\n",
    "              'xgb__subsample': [0.85],\n",
    "              'xgb__n_estimators': [150]}\n",
    "\n",
    "grid_clf = GridSearchCV(pipe, param_grid, scoring='accuracy', cv=3)"
   ]
  },
  {
   "cell_type": "code",
   "execution_count": 53,
   "metadata": {
    "ExecuteTime": {
     "end_time": "2019-11-11T15:23:40.907386Z",
     "start_time": "2019-11-11T15:23:31.798763Z"
    }
   },
   "outputs": [],
   "source": [
    "grid_clf.fit(X_train, y_train);"
   ]
  },
  {
   "cell_type": "code",
   "execution_count": 54,
   "metadata": {
    "ExecuteTime": {
     "end_time": "2019-11-11T15:23:40.923292Z",
     "start_time": "2019-11-11T15:23:40.911291Z"
    }
   },
   "outputs": [
    {
     "data": {
      "text/plain": [
       "0.7933965348152991"
      ]
     },
     "execution_count": 54,
     "metadata": {},
     "output_type": "execute_result"
    }
   ],
   "source": [
    "grid_clf_results = pd.DataFrame(grid_clf.cv_results_)\n",
    "grid_clf.best_score_"
   ]
  },
  {
   "cell_type": "code",
   "execution_count": 55,
   "metadata": {
    "ExecuteTime": {
     "end_time": "2019-11-11T15:23:45.421338Z",
     "start_time": "2019-11-11T15:23:45.359333Z"
    }
   },
   "outputs": [
    {
     "name": "stdout",
     "output_type": "stream",
     "text": [
      "Grid Search found the following optimal parameters: \n",
      "xgb__learning_rate: 0.2\n",
      "xgb__max_depth: 9\n",
      "xgb__min_child_weight: 1\n",
      "xgb__n_estimators: 150\n",
      "xgb__subsample: 0.85\n",
      "\n",
      "Training Accuracy: 99.77%\n"
     ]
    }
   ],
   "source": [
    "# observing grid search results\n",
    "best_parameters = grid_clf.best_params_\n",
    "\n",
    "print(\"Grid Search found the following optimal parameters: \")\n",
    "for param_name in sorted(best_parameters.keys()):\n",
    "    print(\"%s: %r\" % (param_name, best_parameters[param_name]))\n",
    "\n",
    "training_preds = grid_clf.predict(X_train)\n",
    "training_accuracy = accuracy_score(y_train, training_preds)\n",
    "\n",
    "print(\"\")\n",
    "print(\"Training Accuracy: {:.4}%\".format(training_accuracy * 100))"
   ]
  },
  {
   "cell_type": "markdown",
   "metadata": {},
   "source": [
    "## GridSearchCV with XGBoost and Pipeline of Scaling and PCA\n",
    "PCA was seen to result in an unacceptable loss in CV score even when high %'s of explained variance were accounted for. It did not appear to help with potential over-fitting. And will not be pursued further."
   ]
  },
  {
   "cell_type": "code",
   "execution_count": 56,
   "metadata": {
    "ExecuteTime": {
     "end_time": "2019-11-11T15:24:08.907287Z",
     "start_time": "2019-11-11T15:24:08.900288Z"
    }
   },
   "outputs": [],
   "source": [
    "pca_pipe = Pipeline([(\"scaler\", StandardScaler()),\n",
    "                     (\"pca\", PCA(n_components=PCA_COUNT,\n",
    "                                 random_state=SEED)),\n",
    "                     (\"xgb\", XGBClassifier(random_state=SEED,\n",
    "                                           scale_pos_weight=class_pos_rate))])\n",
    "\n",
    "# The original parameter grid is replaced with its resulting selection to speed up the notebook\n",
    "# param_grid = {'xgb__learning_rate': [0.1, 0.15, 0.2],\n",
    "#               'xgb__max_depth': [3, 6, 9],\n",
    "#               'xgb__min_child_weight': [1, 2, 3],\n",
    "#               'xgb__subsample': [0.75, 0.85, 1],\n",
    "#               'xgb__n_estimators': [100, 150, 200]}\n",
    "\n",
    "param_grid = {'xgb__learning_rate': [0.2],\n",
    "              'xgb__max_depth': [9],\n",
    "              'xgb__min_child_weight': [2],\n",
    "              'xgb__subsample': [0.85],\n",
    "              'xgb__n_estimators': [200]}\n",
    "\n",
    "pca_clf = GridSearchCV(pca_pipe, param_grid, scoring='accuracy', cv=3)"
   ]
  },
  {
   "cell_type": "code",
   "execution_count": 57,
   "metadata": {
    "ExecuteTime": {
     "end_time": "2019-11-11T15:24:31.573071Z",
     "start_time": "2019-11-11T15:24:16.644040Z"
    }
   },
   "outputs": [],
   "source": [
    "pca_clf.fit(X_train, y_train);"
   ]
  },
  {
   "cell_type": "code",
   "execution_count": 58,
   "metadata": {
    "ExecuteTime": {
     "end_time": "2019-11-11T15:24:31.586073Z",
     "start_time": "2019-11-11T15:24:31.578076Z"
    }
   },
   "outputs": [
    {
     "data": {
      "text/plain": [
       "0.7692056227525335"
      ]
     },
     "execution_count": 58,
     "metadata": {},
     "output_type": "execute_result"
    }
   ],
   "source": [
    "pca_clf_results = pd.DataFrame(pca_clf.cv_results_)\n",
    "pca_clf.best_score_"
   ]
  },
  {
   "cell_type": "code",
   "execution_count": 59,
   "metadata": {
    "ExecuteTime": {
     "end_time": "2019-11-11T15:24:31.670074Z",
     "start_time": "2019-11-11T15:24:31.589075Z"
    }
   },
   "outputs": [
    {
     "name": "stdout",
     "output_type": "stream",
     "text": [
      "Grid Search found the following optimal parameters: \n",
      "xgb__learning_rate: 0.2\n",
      "xgb__max_depth: 9\n",
      "xgb__min_child_weight: 2\n",
      "xgb__n_estimators: 200\n",
      "xgb__subsample: 0.85\n",
      "\n",
      "Training Accuracy: 99.77%\n"
     ]
    }
   ],
   "source": [
    "pca_best_params = pca_clf.best_params_\n",
    "\n",
    "print(\"Grid Search found the following optimal parameters: \")\n",
    "for param_name in sorted(pca_best_params.keys()):\n",
    "    print(\"%s: %r\" % (param_name, pca_best_params[param_name]))\n",
    "\n",
    "pca_training_preds = pca_clf.predict(X_train)\n",
    "pca_training_accuracy = accuracy_score(y_train, pca_training_preds)\n",
    "\n",
    "print(\"\")\n",
    "print(\"Training Accuracy: {:.4}%\".format(pca_training_accuracy * 100))"
   ]
  },
  {
   "cell_type": "markdown",
   "metadata": {},
   "source": [
    "## GridSearchCV with XGBoost and Pipeline of Scaling and SMOTE Oversampling\n",
    "SMOTE was incorporated into the pipeline to account for the class imbalance. While it showed increased an increased CV score here, it was often observed to decrease the scores slightly in other iterations of the model (i.e. with different parameter grids, different scoring metrics, with PCA, etc.). It will be implemented in parallel to a non-SMOTE model and they will be evaluated at the testing phase."
   ]
  },
  {
   "cell_type": "code",
   "execution_count": 60,
   "metadata": {
    "ExecuteTime": {
     "end_time": "2019-11-11T15:25:43.473520Z",
     "start_time": "2019-11-11T15:25:43.467519Z"
    }
   },
   "outputs": [],
   "source": [
    "smote_pipe = Pipeline([(\"scaler\", StandardScaler()),\n",
    "                       (\"smote\", SMOTE(random_state=SEED)),\n",
    "                       (\"xgb\", XGBClassifier(random_state=SEED))])\n",
    "\n",
    "# The original parameter grid is replaced with its resulting selection to speed up the notebook\n",
    "# param_grid = {'xgb__learning_rate': [0.1, 0.15, 0.2],\n",
    "#               'xgb__max_depth': [3, 6, 9],\n",
    "#               'xgb__min_child_weight': [1, 2, 3],\n",
    "#               'xgb__subsample': [0.75, 0.85, 1],\n",
    "#               'xgb__n_estimators': [100, 150, 200]}\n",
    "\n",
    "param_grid = {'xgb__learning_rate': [0.1],\n",
    "              'xgb__max_depth': [9],\n",
    "              'xgb__min_child_weight': [1],\n",
    "              'xgb__subsample': [1],\n",
    "              'xgb__n_estimators': [100]}\n",
    "\n",
    "smote_grid_clf = GridSearchCV(smote_pipe, param_grid, scoring='accuracy', cv=3)"
   ]
  },
  {
   "cell_type": "code",
   "execution_count": 61,
   "metadata": {
    "ExecuteTime": {
     "end_time": "2019-11-11T15:26:07.330007Z",
     "start_time": "2019-11-11T15:25:57.678423Z"
    }
   },
   "outputs": [],
   "source": [
    "smote_grid_clf.fit(X_train, y_train);"
   ]
  },
  {
   "cell_type": "code",
   "execution_count": 62,
   "metadata": {
    "ExecuteTime": {
     "end_time": "2019-11-11T15:26:07.344977Z",
     "start_time": "2019-11-11T15:26:07.332978Z"
    }
   },
   "outputs": [
    {
     "data": {
      "text/plain": [
       "0.7950310559006211"
      ]
     },
     "execution_count": 62,
     "metadata": {},
     "output_type": "execute_result"
    }
   ],
   "source": [
    "smote_grid_clf_results = pd.DataFrame(smote_grid_clf.cv_results_)\n",
    "smote_grid_clf.best_score_"
   ]
  },
  {
   "cell_type": "code",
   "execution_count": 63,
   "metadata": {
    "ExecuteTime": {
     "end_time": "2019-11-11T15:26:07.495977Z",
     "start_time": "2019-11-11T15:26:07.347981Z"
    }
   },
   "outputs": [
    {
     "name": "stdout",
     "output_type": "stream",
     "text": [
      "Grid Search found the following optimal parameters: \n",
      "xgb__learning_rate: 0.1\n",
      "xgb__max_depth: 9\n",
      "xgb__min_child_weight: 1\n",
      "xgb__n_estimators: 100\n",
      "xgb__subsample: 1\n",
      "\n",
      "Training Accuracy 99.08%\n"
     ]
    }
   ],
   "source": [
    "smote_best_parameters = smote_grid_clf.best_params_\n",
    "\n",
    "print(\"Grid Search found the following optimal parameters: \")\n",
    "for param_name in sorted(smote_best_parameters.keys()):\n",
    "    print(\"%s: %r\" % (param_name, smote_best_parameters[param_name]))\n",
    "\n",
    "smote_training_preds = smote_grid_clf.predict(X_train)\n",
    "smote_training_accuracy = accuracy_score(y_train, smote_training_preds)\n",
    "\n",
    "print(\"\")\n",
    "print(\"Training Accuracy {:.4}%\".format(smote_training_accuracy * 100))"
   ]
  },
  {
   "cell_type": "markdown",
   "metadata": {},
   "source": [
    "## Identifying Most Influential Features from Baseline\n",
    "Features were sorted by their importance in the baseline model. While this isn't a perfect ordering of importance it was seen as better than a random guess and a quick way to isolate more important features.  \n",
    "  \n",
    "Future work on this project would include improving the methodology for selecting the best parameters. Perhaps through backward selection of the ultimately selected subset of features, and potentially on-by-one forward selection of the out of set features to see if one may improve the model even if those higher on the list hadn't."
   ]
  },
  {
   "cell_type": "code",
   "execution_count": 64,
   "metadata": {
    "ExecuteTime": {
     "end_time": "2019-11-11T15:26:50.268853Z",
     "start_time": "2019-11-11T15:26:50.177802Z"
    }
   },
   "outputs": [],
   "source": [
    "importance_df = pd.DataFrame.from_dict(dict(zip(list(X_train.columns),\n",
    "                                                list(grid_clf.best_estimator_\n",
    "                                                             .named_steps[\"xgb\"]\n",
    "                                                            .feature_importances_))),\n",
    "                                       orient='index')\n",
    "importance_df.columns = [\"importance\"]"
   ]
  },
  {
   "cell_type": "code",
   "execution_count": 65,
   "metadata": {
    "ExecuteTime": {
     "end_time": "2019-11-11T15:26:50.284808Z",
     "start_time": "2019-11-11T15:26:50.270803Z"
    }
   },
   "outputs": [
    {
     "data": {
      "text/html": [
       "<div>\n",
       "<style scoped>\n",
       "    .dataframe tbody tr th:only-of-type {\n",
       "        vertical-align: middle;\n",
       "    }\n",
       "\n",
       "    .dataframe tbody tr th {\n",
       "        vertical-align: top;\n",
       "    }\n",
       "\n",
       "    .dataframe thead th {\n",
       "        text-align: right;\n",
       "    }\n",
       "</style>\n",
       "<table border=\"1\" class=\"dataframe\">\n",
       "  <thead>\n",
       "    <tr style=\"text-align: right;\">\n",
       "      <th></th>\n",
       "      <th>importance</th>\n",
       "    </tr>\n",
       "  </thead>\n",
       "  <tbody>\n",
       "    <tr>\n",
       "      <th>category_Historical</th>\n",
       "      <td>0.107342</td>\n",
       "    </tr>\n",
       "    <tr>\n",
       "      <th>category_Licensed-Movie</th>\n",
       "      <td>0.040536</td>\n",
       "    </tr>\n",
       "    <tr>\n",
       "      <th>category_Licensed-Other</th>\n",
       "      <td>0.032610</td>\n",
       "    </tr>\n",
       "    <tr>\n",
       "      <th>category_Bigfig-Girls</th>\n",
       "      <td>0.031346</td>\n",
       "    </tr>\n",
       "    <tr>\n",
       "      <th>mechanical_tot_prts</th>\n",
       "      <td>0.025208</td>\n",
       "    </tr>\n",
       "  </tbody>\n",
       "</table>\n",
       "</div>"
      ],
      "text/plain": [
       "                         importance\n",
       "category_Historical        0.107342\n",
       "category_Licensed-Movie    0.040536\n",
       "category_Licensed-Other    0.032610\n",
       "category_Bigfig-Girls      0.031346\n",
       "mechanical_tot_prts        0.025208"
      ]
     },
     "execution_count": 65,
     "metadata": {},
     "output_type": "execute_result"
    }
   ],
   "source": [
    "importance_df = importance_df.sort_values(by=\"importance\",\n",
    "                                          ascending=False)\n",
    "importance_df.head()"
   ]
  },
  {
   "cell_type": "code",
   "execution_count": 66,
   "metadata": {
    "ExecuteTime": {
     "end_time": "2019-11-11T15:27:02.351828Z",
     "start_time": "2019-11-11T15:27:02.343829Z"
    }
   },
   "outputs": [],
   "source": [
    "top_feats = list(importance_df.head(71).index)\n",
    "X_train_subset = X_train[top_feats]\n",
    "X_test_subset = X_test[top_feats]"
   ]
  },
  {
   "cell_type": "markdown",
   "metadata": {},
   "source": [
    "## GridSearchCV with XGBoost and Pipeline of Scaling with Most Important Features\n",
    "The model was fit on the top 20 features and then additional features were added to the subset one at a time and the subset with the top CV score was chosen as the final model. This included the top 71 features from the baseline model and showed 0.5% improvement in accuracy.  \n",
    "  \n",
    "The reduction in features will hopefully decrease the risk of over-fitting which was observed through the high training scores when the model was fit to the entirety of the training data."
   ]
  },
  {
   "cell_type": "code",
   "execution_count": 67,
   "metadata": {
    "ExecuteTime": {
     "end_time": "2019-11-11T15:27:20.640778Z",
     "start_time": "2019-11-11T15:27:20.629810Z"
    }
   },
   "outputs": [],
   "source": [
    "impt_pipe = Pipeline([(\"scaler\", StandardScaler()),\n",
    "                      (\"xgb\", XGBClassifier(random_state=SEED,\n",
    "                                            scale_pos_weight=class_pos_rate))])\n",
    "\n",
    "# The original parameter grid is replaced with its resulting selection to speed up the notebook\n",
    "# param_grid = {'xgb__learning_rate': [0.1, 0.15, 0.2],\n",
    "#               'xgb__max_depth': [3, 6, 9],\n",
    "#               'xgb__min_child_weight': [1, 2, 3],\n",
    "#               'xgb__subsample': [0.75, 0.85, 1],\n",
    "#               'xgb__n_estimators': [100, 150, 200]}\n",
    "\n",
    "param_grid = {'xgb__learning_rate': [0.1],\n",
    "              'xgb__max_depth': [9],\n",
    "              'xgb__min_child_weight': [1],\n",
    "              'xgb__subsample': [0.85],\n",
    "              'xgb__n_estimators': [200]}\n",
    "\n",
    "impt_clf = GridSearchCV(impt_pipe, param_grid, scoring='accuracy', cv=3)"
   ]
  },
  {
   "cell_type": "code",
   "execution_count": 68,
   "metadata": {
    "ExecuteTime": {
     "end_time": "2019-11-11T15:27:37.750723Z",
     "start_time": "2019-11-11T15:27:27.432737Z"
    }
   },
   "outputs": [],
   "source": [
    "impt_clf.fit(X_train_subset, y_train);"
   ]
  },
  {
   "cell_type": "code",
   "execution_count": 69,
   "metadata": {
    "ExecuteTime": {
     "end_time": "2019-11-11T15:27:37.764727Z",
     "start_time": "2019-11-11T15:27:37.753725Z"
    }
   },
   "outputs": [
    {
     "data": {
      "text/plain": [
       "0.7986270022883295"
      ]
     },
     "execution_count": 69,
     "metadata": {},
     "output_type": "execute_result"
    }
   ],
   "source": [
    "impt_clf_results = pd.DataFrame(impt_clf.cv_results_)\n",
    "impt_clf.best_score_"
   ]
  },
  {
   "cell_type": "code",
   "execution_count": 70,
   "metadata": {
    "ExecuteTime": {
     "end_time": "2019-11-11T15:27:42.102447Z",
     "start_time": "2019-11-11T15:27:42.028920Z"
    }
   },
   "outputs": [
    {
     "name": "stdout",
     "output_type": "stream",
     "text": [
      "Grid Search found the following optimal parameters: \n",
      "xgb__learning_rate: 0.1\n",
      "xgb__max_depth: 9\n",
      "xgb__min_child_weight: 1\n",
      "xgb__n_estimators: 200\n",
      "xgb__subsample: 0.85\n",
      "\n",
      "Training Accuracy: 99.64%\n"
     ]
    }
   ],
   "source": [
    "impt_best_parameters = impt_clf.best_params_\n",
    "\n",
    "print(\"Grid Search found the following optimal parameters: \")\n",
    "for param_name in sorted(impt_best_parameters.keys()):\n",
    "    print(\"%s: %r\" % (param_name, impt_best_parameters[param_name]))\n",
    "\n",
    "impt_training_preds = impt_clf.predict(X_train_subset)\n",
    "impt_training_accuracy = accuracy_score(y_train, impt_training_preds)\n",
    "\n",
    "print(\"\")\n",
    "print(\"Training Accuracy: {:.4}%\".format(impt_training_accuracy * 100))"
   ]
  },
  {
   "cell_type": "markdown",
   "metadata": {},
   "source": [
    "## GridSearchCV with XGBoost and Pipeline of Scaling and SMOTE with Most Important Features\n",
    "The previous model was also checked with SMOTE, but it didn't perform as well."
   ]
  },
  {
   "cell_type": "code",
   "execution_count": 71,
   "metadata": {
    "ExecuteTime": {
     "end_time": "2019-11-11T15:28:02.817398Z",
     "start_time": "2019-11-11T15:28:02.812399Z"
    }
   },
   "outputs": [],
   "source": [
    "impt_smote_pipe = Pipeline([(\"scaler\", StandardScaler()),\n",
    "                      (\"smote\", SMOTE(random_state=SEED)),\n",
    "                      (\"xgb\", XGBClassifier(random_state=SEED))])\n",
    "\n",
    "# The original parameter grid is replaced with its resulting selection to speed up the notebook\n",
    "# param_grid = {'xgb__learning_rate': [0.1, 0.15, 0.2],\n",
    "#               'xgb__max_depth': [3, 6, 9],\n",
    "#               'xgb__min_child_weight': [1, 2, 3],\n",
    "#               'xgb__subsample': [0.75, 0.85, 1],\n",
    "#               'xgb__n_estimators': [100, 150, 200]}\n",
    "\n",
    "param_grid = {'xgb__learning_rate': [0.1],\n",
    "              'xgb__max_depth': [9],\n",
    "              'xgb__min_child_weight': [1],\n",
    "              'xgb__subsample': [0.85],\n",
    "              'xgb__n_estimators': [200]}\n",
    "\n",
    "impt_smote_clf = GridSearchCV(impt_smote_pipe, param_grid, scoring='accuracy', cv=3)"
   ]
  },
  {
   "cell_type": "code",
   "execution_count": 72,
   "metadata": {
    "ExecuteTime": {
     "end_time": "2019-11-11T15:28:25.291939Z",
     "start_time": "2019-11-11T15:28:09.764912Z"
    }
   },
   "outputs": [],
   "source": [
    "impt_smote_clf.fit(X_train_subset, y_train);"
   ]
  },
  {
   "cell_type": "code",
   "execution_count": 73,
   "metadata": {
    "ExecuteTime": {
     "end_time": "2019-11-11T15:28:25.309941Z",
     "start_time": "2019-11-11T15:28:25.295943Z"
    }
   },
   "outputs": [
    {
     "data": {
      "text/plain": [
       "0.7940503432494279"
      ]
     },
     "execution_count": 73,
     "metadata": {},
     "output_type": "execute_result"
    }
   ],
   "source": [
    "impt_smote_clf_results = pd.DataFrame(impt_smote_clf.cv_results_)\n",
    "impt_smote_clf.best_score_"
   ]
  },
  {
   "cell_type": "code",
   "execution_count": 74,
   "metadata": {
    "ExecuteTime": {
     "end_time": "2019-11-11T15:28:25.378940Z",
     "start_time": "2019-11-11T15:28:25.311944Z"
    }
   },
   "outputs": [
    {
     "name": "stdout",
     "output_type": "stream",
     "text": [
      "Grid Search found the following optimal parameters: \n",
      "xgb__learning_rate: 0.1\n",
      "xgb__max_depth: 9\n",
      "xgb__min_child_weight: 1\n",
      "xgb__n_estimators: 200\n",
      "xgb__subsample: 0.85\n",
      "\n",
      "Training Accuracy: 99.67%\n"
     ]
    }
   ],
   "source": [
    "impt_smote_best_parameters = impt_clf.best_params_\n",
    "\n",
    "print(\"Grid Search found the following optimal parameters: \")\n",
    "for param_name in sorted(impt_smote_best_parameters.keys()):\n",
    "    print(\"%s: %r\" % (param_name, impt_smote_best_parameters[param_name]))\n",
    "\n",
    "impt_smote_training_preds = impt_smote_clf.predict(X_train_subset)\n",
    "impt_smote_training_accuracy = accuracy_score(y_train, impt_smote_training_preds)\n",
    "\n",
    "print(\"\")\n",
    "print(\"Training Accuracy: {:.4}%\".format(impt_smote_training_accuracy * 100))"
   ]
  },
  {
   "cell_type": "markdown",
   "metadata": {},
   "source": [
    "## Testing\n",
    "Attempts were made to optimize the model to increase the F1 score, but it was observed to significantly increase recall while also decreasing precision. While it was nice that it produced many more true positives, it did so at an unacceptable loss in precision, so accuracy was maintained as the key metric.\n",
    "\n",
    "The final model with only the important features performed best. Future efforts to improve the model should include more robust attempts at identifying the most important features, so over-fitting can be mitigated."
   ]
  },
  {
   "cell_type": "code",
   "execution_count": 75,
   "metadata": {
    "ExecuteTime": {
     "end_time": "2019-11-11T15:29:13.614354Z",
     "start_time": "2019-11-11T15:29:13.519353Z"
    }
   },
   "outputs": [
    {
     "name": "stdout",
     "output_type": "stream",
     "text": [
      "XGBoost Baseline Validation Accuracy: 80.0%\n",
      "\n",
      "XGBoost w/ PCA Validation Accuracy: 79.48%\n",
      "\n",
      "XGBoost w/ SMOTE Validation Accuracy: 79.87%\n",
      "\n",
      "XGBoost w/ Most Important Features Validation Accuracy: 81.31%\n",
      "\n",
      "XGBoost w/ Most Important Features & SMOTE Validation Accuracy: 80.26%\n",
      "\n",
      "Accuracy Assuming None Profitable: 72.16%\n"
     ]
    }
   ],
   "source": [
    "val_preds = grid_clf.predict(X_test)\n",
    "val_accuracy = accuracy_score(y_test, val_preds)\n",
    "\n",
    "pca_val_preds = pca_clf.predict(X_test)\n",
    "pca_val_accuracy = accuracy_score(y_test, pca_val_preds)\n",
    "\n",
    "smote_val_preds = smote_grid_clf.predict(X_test)\n",
    "smote_val_accuracy = accuracy_score(y_test, smote_val_preds)\n",
    "\n",
    "impt_val_preds = impt_clf.predict(X_test_subset)\n",
    "impt_val_accuracy = accuracy_score(y_test, impt_val_preds)\n",
    "\n",
    "impt_smote_val_preds = impt_smote_clf.predict(X_test_subset)\n",
    "impt_smote_val_accuracy = accuracy_score(y_test, impt_smote_val_preds)\n",
    "\n",
    "print(\"XGBoost Baseline Validation Accuracy: {:.4}%\".format(val_accuracy * 100))\n",
    "print(\"\")\n",
    "print(\"XGBoost w/ PCA Validation Accuracy: {:.4}%\".format(pca_val_accuracy * 100))\n",
    "print(\"\")\n",
    "print(\"XGBoost w/ SMOTE Validation Accuracy: {:.4}%\".format(smote_val_accuracy * 100))\n",
    "print(\"\")\n",
    "print(\"XGBoost w/ Most Important Features Validation Accuracy: {:.4}%\".format(impt_val_accuracy * 100))\n",
    "print(\"\")\n",
    "print(\"XGBoost w/ Most Important Features & SMOTE Validation Accuracy: {:.4}%\".format(impt_smote_val_accuracy * 100))\n",
    "print(\"\")\n",
    "print(\"Accuracy Assuming None Profitable: {:.4}%\".format(len(y_test[y_test==0]) / len(y_test) * 100))"
   ]
  },
  {
   "cell_type": "code",
   "execution_count": 76,
   "metadata": {
    "ExecuteTime": {
     "end_time": "2019-11-11T15:29:26.383164Z",
     "start_time": "2019-11-11T15:29:24.870170Z"
    },
    "scrolled": false
   },
   "outputs": [
    {
     "data": {
      "image/png": "[encoded data removed]",
      "text/plain": [
       "<Figure size 432x2160 with 10 Axes>"
      ]
     },
     "metadata": {
      "needs_background": "light"
     },
     "output_type": "display_data"
    }
   ],
   "source": [
    "#plotting confusion matrices\n",
    "fig, axes = plt.subplots(5, 1, figsize=(6,30))\n",
    "\n",
    "pcm.plot_confusion_matrix(y_test.astype('int64'),\n",
    "                          val_preds.astype('int64'),\n",
    "                          title=\"Confusion Matrix - XGBoost - Baseline\",\n",
    "                          classes=np.array([0,1]),\n",
    "                          figure=fig,\n",
    "                          axis=axes[0])\n",
    "\n",
    "pcm.plot_confusion_matrix(y_test.astype('int64'),\n",
    "                          pca_val_preds.astype('int64'),\n",
    "                          title=\"Confusion Matrix - XGBoost w/ PCA\",\n",
    "                          classes=np.array([0,1]),\n",
    "                          figure=fig,\n",
    "                          axis=axes[1])\n",
    "\n",
    "pcm.plot_confusion_matrix(y_test.astype('int64'),\n",
    "                          smote_val_preds.astype('int64'),\n",
    "                          title=\"Confusion Matrix - XGBoost w/ SMOTE\",\n",
    "                          classes=np.array([0,1]),\n",
    "                          figure=fig,\n",
    "                          axis=axes[2])\n",
    "\n",
    "pcm.plot_confusion_matrix(y_test.astype('int64'),\n",
    "                          impt_val_preds.astype('int64'),\n",
    "                          title=\"Confusion Matrix - XGBoost w/ Important Features\",\n",
    "                          classes=np.array([0,1]),\n",
    "                          figure=fig,\n",
    "                          axis=axes[3])\n",
    "\n",
    "pcm.plot_confusion_matrix(y_test.astype('int64'),\n",
    "                          impt_smote_val_preds.astype('int64'),\n",
    "                          title=\"Confusion Matrix - XGBoost w/ Important Feats & SMOTE\",\n",
    "                          classes=np.array([0,1]),\n",
    "                          figure=fig,\n",
    "                          axis=axes[4])\n",
    "\n",
    "# a bug in the current version of matplotlib shifts the default ylim,\n",
    "# and the code below corrects it\n",
    "axes[0].set_ylim(1.5, -0.5)\n",
    "axes[1].set_ylim(1.5, -0.5)\n",
    "axes[2].set_ylim(1.5, -0.5)\n",
    "axes[3].set_ylim(1.5, -0.5)\n",
    "axes[4].set_ylim(1.5, -0.5);"
   ]
  }
 ],
 "metadata": {
  "kernelspec": {
   "display_name": "Python 3",
   "language": "python",
   "name": "python3"
  },
  "language_info": {
   "codemirror_mode": {
    "name": "ipython",
    "version": 3
   },
   "file_extension": ".py",
   "mimetype": "text/x-python",
   "name": "python",
   "nbconvert_exporter": "python",
   "pygments_lexer": "ipython3",
   "version": "3.6.9"
  },
  "toc": {
   "base_numbering": 1,
   "nav_menu": {},
   "number_sections": true,
   "sideBar": true,
   "skip_h1_title": false,
   "title_cell": "Table of Contents",
   "title_sidebar": "Contents",
   "toc_cell": false,
   "toc_position": {},
   "toc_section_display": true,
   "toc_window_display": false
  }
 },
 "nbformat": 4,
 "nbformat_minor": 2
}
